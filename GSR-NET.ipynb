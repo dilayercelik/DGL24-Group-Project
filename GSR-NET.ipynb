{
 "cells": [
  {
   "cell_type": "code",
   "execution_count": 1,
   "metadata": {},
   "outputs": [],
   "source": [
    "from data_preparation import *"
   ]
  },
  {
   "cell_type": "code",
   "execution_count": 53,
   "metadata": {},
   "outputs": [],
   "source": [
    "import torch\n",
    "import numpy as np\n",
    "import torch.optim as optim\n",
    "from sklearn.model_selection import KFold\n",
    "from GSR_Net.preprocessing import *\n",
    "from GSR_Net.model import *\n",
    "from GSR_Net.train import *\n",
    "import argparse\n",
    "import torch\n",
    "import random\n",
    "\n",
    "seed_value = 42\n",
    "random.seed(seed_value)  # Python's built-in random\n",
    "np.random.seed(seed_value)  # NumPy\n",
    "torch.manual_seed(seed_value)  # PyTorch\n",
    "torch.cuda.manual_seed(seed_value)  # For CUDA\n",
    "torch.cuda.manual_seed_all(seed_value)  # For multi-GPU\n",
    "torch.backends.cudnn.deterministic = True\n",
    "torch.backends.cudnn.benchmark = False"
   ]
  },
  {
   "cell_type": "code",
   "execution_count": 4,
   "metadata": {},
   "outputs": [],
   "source": [
    "path_to_data = '/vol/bitbucket/km2120/DGL_Project/DGL24-Group-Project/data'\n",
    "\n",
    "x_train, x_test, y_train = load_data_tensor(path_to_data)"
   ]
  },
  {
   "cell_type": "code",
   "execution_count": 5,
   "metadata": {},
   "outputs": [],
   "source": [
    "X, Y = x_train, y_train"
   ]
  },
  {
   "cell_type": "code",
   "execution_count": 34,
   "metadata": {},
   "outputs": [],
   "source": [
    "class ModelArgs:  \n",
    "    def __init__(self, epochs, lr, splits, lmbda, lr_dim, hr_dim, hidden_dim,\n",
    "                 padding):\n",
    "        self.epochs = epochs\n",
    "        self.lr = lr\n",
    "        self.splits = splits\n",
    "        self.lmbda = lmbda\n",
    "        self.lr_dim = lr_dim\n",
    "        self.hr_dim = hr_dim\n",
    "        self.hidden_dim = hidden_dim\n",
    "        self.padding = padding\n",
    "\n",
    "args = ModelArgs(\n",
    "    epochs=200,\n",
    "    lr=0.0001,\n",
    "    splits=3,\n",
    "    lmbda=16,\n",
    "    lr_dim=160,\n",
    "    #hr_dim=320,\n",
    "    #hidden_dim=320,\n",
    "    hr_dim=320,\n",
    "    hidden_dim=320,\n",
    "    padding=26,\n",
    ")"
   ]
  },
  {
   "cell_type": "code",
   "execution_count": 11,
   "metadata": {},
   "outputs": [],
   "source": [
    "cv = KFold(n_splits=args.splits, random_state=42, shuffle=True)\n",
    "ks = [0.9, 0.7, 0.6, 0.5]\n"
   ]
  },
  {
   "cell_type": "code",
   "execution_count": 71,
   "metadata": {},
   "outputs": [
    {
     "name": "stdout",
     "output_type": "stream",
     "text": [
      "GSRNet(\n",
      "  (layer): GSRLayer()\n",
      "  (net): GraphUnet(\n",
      "    (start_gcn): GCN(\n",
      "      (proj): Linear(in_features=160, out_features=320, bias=True)\n",
      "      (drop): Dropout(p=0, inplace=False)\n",
      "    )\n",
      "    (bottom_gcn): GCN(\n",
      "      (proj): Linear(in_features=320, out_features=320, bias=True)\n",
      "      (drop): Dropout(p=0, inplace=False)\n",
      "    )\n",
      "    (end_gcn): GCN(\n",
      "      (proj): Linear(in_features=640, out_features=320, bias=True)\n",
      "      (drop): Dropout(p=0, inplace=False)\n",
      "    )\n",
      "  )\n",
      "  (gc1): GraphConvolution()\n",
      "  (gc2): GraphConvolution()\n",
      ")\n"
     ]
    }
   ],
   "source": [
    "seed_value = 42\n",
    "random.seed(seed_value)  # Python's built-in random\n",
    "np.random.seed(seed_value)  # NumPy\n",
    "torch.manual_seed(seed_value)  # PyTorch\n",
    "torch.cuda.manual_seed(seed_value)  # For CUDA\n",
    "torch.cuda.manual_seed_all(seed_value)  # For multi-GPU\n",
    "torch.backends.cudnn.deterministic = True\n",
    "torch.backends.cudnn.benchmark = False\n",
    "\n",
    "ks = [0.9, 0.7, 0.6, 0.5]\n",
    "model = GSRNet(ks, args)\n",
    "print(model)"
   ]
  },
  {
   "cell_type": "code",
   "execution_count": 55,
   "metadata": {},
   "outputs": [
    {
     "data": {
      "text/plain": [
       "torch.Size([167, 268, 268])"
      ]
     },
     "execution_count": 55,
     "metadata": {},
     "output_type": "execute_result"
    }
   ],
   "source": [
    "Y.size()"
   ]
  },
  {
   "cell_type": "code",
   "execution_count": 14,
   "metadata": {},
   "outputs": [],
   "source": [
    "def train_model():\n",
    "    optimizer = optim.Adam(model.parameters(), lr=args.lr)\n",
    "    for train_index, test_index in cv.split(X):\n",
    "        subjects_adj, test_adj, subjects_ground_truth, test_ground_truth = X[\n",
    "            train_index], X[test_index], Y[train_index], Y[test_index]\n",
    "        train(model, optimizer, subjects_adj, subjects_ground_truth, args)\n",
    "        test(model, test_adj, test_ground_truth, args)\n",
    "    "
   ]
  },
  {
   "cell_type": "code",
   "execution_count": 8,
   "metadata": {},
   "outputs": [],
   "source": [
    "from evaluations import *"
   ]
  },
  {
   "cell_type": "code",
   "execution_count": 72,
   "metadata": {},
   "outputs": [
    {
     "data": {
      "text/plain": [
       "<All keys matched successfully>"
      ]
     },
     "execution_count": 72,
     "metadata": {},
     "output_type": "execute_result"
    }
   ],
   "source": [
    "saved_state_dict = torch.load('/vol/bitbucket/km2120/DGL_Project/DGL24-Group-Project/GSR_models/vanilla_model.pth')\n",
    "model.load_state_dict(saved_state_dict, strict=True)"
   ]
  },
  {
   "cell_type": "code",
   "execution_count": 73,
   "metadata": {},
   "outputs": [],
   "source": [
    "preds_list = []\n",
    "model.eval()\n",
    "with torch.no_grad():\n",
    "    for test_data in x_test:\n",
    "        pred, _, _, _ = model(test_data)\n",
    "        pred = unpad(pred, args.padding)\n",
    "        preds_list.append(pred)\n",
    "        \n",
    "pred_tensor = torch.stack(preds_list)"
   ]
  },
  {
   "cell_type": "code",
   "execution_count": 74,
   "metadata": {},
   "outputs": [
    {
     "data": {
      "text/plain": [
       "tensor([[[1.0000, 0.7764, 0.4353,  ..., 0.0998, 0.2571, 0.1263],\n",
       "         [0.7764, 1.0000, 0.6378,  ..., 0.0980, 0.2364, 0.1093],\n",
       "         [0.4353, 0.6378, 1.0000,  ..., 0.0469, 0.2029, 0.0302],\n",
       "         ...,\n",
       "         [0.0998, 0.0980, 0.0469,  ..., 1.0000, 0.4802, 0.2537],\n",
       "         [0.2571, 0.2364, 0.2029,  ..., 0.4802, 1.0000, 0.4296],\n",
       "         [0.1263, 0.1093, 0.0302,  ..., 0.2537, 0.4296, 1.0000]],\n",
       "\n",
       "        [[1.0000, 0.8181, 0.4180,  ..., 0.0938, 0.1668, 0.1188],\n",
       "         [0.8181, 1.0000, 0.3852,  ..., 0.1116, 0.2194, 0.1468],\n",
       "         [0.4180, 0.3852, 1.0000,  ..., 0.0644, 0.1898, 0.0683],\n",
       "         ...,\n",
       "         [0.0938, 0.1116, 0.0644,  ..., 1.0000, 0.3785, 0.2183],\n",
       "         [0.1668, 0.2194, 0.1898,  ..., 0.3785, 1.0000, 0.4294],\n",
       "         [0.1188, 0.1468, 0.0683,  ..., 0.2183, 0.4294, 1.0000]],\n",
       "\n",
       "        [[1.0000, 0.4691, 0.5693,  ..., 0.2313, 0.1520, 0.1883],\n",
       "         [0.4691, 1.0000, 0.5372,  ..., 0.1575, 0.1392, 0.1954],\n",
       "         [0.5693, 0.5372, 1.0000,  ..., 0.0484, 0.0264, 0.1135],\n",
       "         ...,\n",
       "         [0.2313, 0.1575, 0.0484,  ..., 1.0000, 0.5762, 0.3600],\n",
       "         [0.1520, 0.1392, 0.0264,  ..., 0.5762, 1.0000, 0.6160],\n",
       "         [0.1883, 0.1954, 0.1135,  ..., 0.3600, 0.6160, 1.0000]],\n",
       "\n",
       "        ...,\n",
       "\n",
       "        [[1.0000, 0.7218, 0.3304,  ..., 0.1468, 0.1437, 0.0864],\n",
       "         [0.7218, 1.0000, 0.3636,  ..., 0.0940, 0.1344, 0.1283],\n",
       "         [0.3304, 0.3636, 1.0000,  ..., 0.0789, 0.1168, 0.0093],\n",
       "         ...,\n",
       "         [0.1468, 0.0940, 0.0789,  ..., 1.0000, 0.5987, 0.2942],\n",
       "         [0.1437, 0.1344, 0.1168,  ..., 0.5987, 1.0000, 0.4098],\n",
       "         [0.0864, 0.1283, 0.0093,  ..., 0.2942, 0.4098, 1.0000]],\n",
       "\n",
       "        [[1.0000, 0.6811, 0.7541,  ..., 0.3361, 0.4099, 0.2648],\n",
       "         [0.6811, 1.0000, 0.9396,  ..., 0.2335, 0.2850, 0.2304],\n",
       "         [0.7541, 0.9396, 1.0000,  ..., 0.1967, 0.2316, 0.2143],\n",
       "         ...,\n",
       "         [0.3361, 0.2335, 0.1967,  ..., 1.0000, 0.8091, 0.4887],\n",
       "         [0.4099, 0.2850, 0.2316,  ..., 0.8091, 1.0000, 0.6786],\n",
       "         [0.2648, 0.2304, 0.2143,  ..., 0.4887, 0.6786, 1.0000]],\n",
       "\n",
       "        [[1.0000, 0.7648, 0.2201,  ..., 0.2114, 0.0376, 0.0676],\n",
       "         [0.7648, 1.0000, 0.3821,  ..., 0.1301, 0.0486, 0.0977],\n",
       "         [0.2201, 0.3821, 1.0000,  ..., 0.0616, 0.0706, 0.0626],\n",
       "         ...,\n",
       "         [0.2114, 0.1301, 0.0616,  ..., 1.0000, 0.2390, 0.1390],\n",
       "         [0.0376, 0.0486, 0.0706,  ..., 0.2390, 1.0000, 0.2196],\n",
       "         [0.0676, 0.0977, 0.0626,  ..., 0.1390, 0.2196, 1.0000]]])"
      ]
     },
     "execution_count": 74,
     "metadata": {},
     "output_type": "execute_result"
    }
   ],
   "source": [
    "pred_tensor[0].max()"
   ]
  },
  {
   "cell_type": "code",
   "execution_count": 22,
   "metadata": {},
   "outputs": [
    {
     "data": {
      "text/plain": [
       "torch.Size([112, 268, 268])"
      ]
     },
     "execution_count": 22,
     "metadata": {},
     "output_type": "execute_result"
    }
   ],
   "source": [
    "pred_tensor.size()"
   ]
  },
  {
   "cell_type": "code",
   "execution_count": 23,
   "metadata": {},
   "outputs": [
    {
     "name": "stdout",
     "output_type": "stream",
     "text": [
      "0\n",
      "\n",
      "1\n",
      "\n",
      "2\n",
      "\n",
      "3\n",
      "\n",
      "4\n",
      "\n",
      "5\n",
      "\n",
      "6\n",
      "\n",
      "7\n",
      "\n",
      "8\n",
      "\n",
      "9\n",
      "\n",
      "10\n",
      "\n",
      "11\n",
      "\n"
     ]
    },
    {
     "ename": "KeyboardInterrupt",
     "evalue": "",
     "output_type": "error",
     "traceback": [
      "\u001b[0;31m---------------------------------------------------------------------------\u001b[0m",
      "\u001b[0;31mKeyboardInterrupt\u001b[0m                         Traceback (most recent call last)",
      "Cell \u001b[0;32mIn[23], line 1\u001b[0m\n\u001b[0;32m----> 1\u001b[0m \u001b[43mevaluate\u001b[49m\u001b[43m(\u001b[49m\u001b[43mpred_tensor\u001b[49m\u001b[43m,\u001b[49m\u001b[43m \u001b[49m\u001b[43mY\u001b[49m\u001b[43m)\u001b[49m\n",
      "File \u001b[0;32m/vol/bitbucket/meh23/DGL24-Group-Project/evaluations.py:44\u001b[0m, in \u001b[0;36mevaluate\u001b[0;34m(pred_matrices, gt_matrices)\u001b[0m\n\u001b[1;32m     41\u001b[0m gt_graph \u001b[38;5;241m=\u001b[39m nx\u001b[38;5;241m.\u001b[39mfrom_numpy_array(gt_matrices[i], edge_attr\u001b[38;5;241m=\u001b[39m\u001b[38;5;124m\"\u001b[39m\u001b[38;5;124mweight\u001b[39m\u001b[38;5;124m\"\u001b[39m)\n\u001b[1;32m     43\u001b[0m \u001b[38;5;66;03m# Compute centrality measures\u001b[39;00m\n\u001b[0;32m---> 44\u001b[0m pred_bc \u001b[38;5;241m=\u001b[39m \u001b[43mnx\u001b[49m\u001b[38;5;241;43m.\u001b[39;49m\u001b[43mbetweenness_centrality\u001b[49m\u001b[43m(\u001b[49m\u001b[43mpred_graph\u001b[49m\u001b[43m,\u001b[49m\u001b[43m \u001b[49m\u001b[43mweight\u001b[49m\u001b[38;5;241;43m=\u001b[39;49m\u001b[38;5;124;43m\"\u001b[39;49m\u001b[38;5;124;43mweight\u001b[39;49m\u001b[38;5;124;43m\"\u001b[39;49m\u001b[43m)\u001b[49m\n\u001b[1;32m     45\u001b[0m pred_ec \u001b[38;5;241m=\u001b[39m nx\u001b[38;5;241m.\u001b[39meigenvector_centrality(pred_graph, weight\u001b[38;5;241m=\u001b[39m\u001b[38;5;124m\"\u001b[39m\u001b[38;5;124mweight\u001b[39m\u001b[38;5;124m\"\u001b[39m)\n\u001b[1;32m     46\u001b[0m pred_pc \u001b[38;5;241m=\u001b[39m nx\u001b[38;5;241m.\u001b[39mpagerank(pred_graph, weight\u001b[38;5;241m=\u001b[39m\u001b[38;5;124m\"\u001b[39m\u001b[38;5;124mweight\u001b[39m\u001b[38;5;124m\"\u001b[39m)\n",
      "File \u001b[0;32m<class 'networkx.utils.decorators.argmap'> compilation 8:4\u001b[0m, in \u001b[0;36margmap_betweenness_centrality_5\u001b[0;34m(G, k, normalized, weight, endpoints, seed, backend, **backend_kwargs)\u001b[0m\n\u001b[1;32m      2\u001b[0m \u001b[38;5;28;01mimport\u001b[39;00m \u001b[38;5;21;01mcollections\u001b[39;00m\n\u001b[1;32m      3\u001b[0m \u001b[38;5;28;01mimport\u001b[39;00m \u001b[38;5;21;01mgzip\u001b[39;00m\n\u001b[0;32m----> 4\u001b[0m \u001b[38;5;28;01mimport\u001b[39;00m \u001b[38;5;21;01minspect\u001b[39;00m\n\u001b[1;32m      5\u001b[0m \u001b[38;5;28;01mimport\u001b[39;00m \u001b[38;5;21;01mitertools\u001b[39;00m\n\u001b[1;32m      6\u001b[0m \u001b[38;5;28;01mimport\u001b[39;00m \u001b[38;5;21;01mre\u001b[39;00m\n",
      "File \u001b[0;32m/vol/bitbucket/meh23/.venv/lib/python3.10/site-packages/networkx/utils/backends.py:412\u001b[0m, in \u001b[0;36m_dispatch.__call__\u001b[0;34m(self, backend, *args, **kwargs)\u001b[0m\n\u001b[1;32m    409\u001b[0m \u001b[38;5;28;01mdef\u001b[39;00m \u001b[38;5;21m__call__\u001b[39m(\u001b[38;5;28mself\u001b[39m, \u001b[38;5;241m/\u001b[39m, \u001b[38;5;241m*\u001b[39margs, backend\u001b[38;5;241m=\u001b[39m\u001b[38;5;28;01mNone\u001b[39;00m, \u001b[38;5;241m*\u001b[39m\u001b[38;5;241m*\u001b[39mkwargs):\n\u001b[1;32m    410\u001b[0m     \u001b[38;5;28;01mif\u001b[39;00m \u001b[38;5;129;01mnot\u001b[39;00m backends:\n\u001b[1;32m    411\u001b[0m         \u001b[38;5;66;03m# Fast path if no backends are installed\u001b[39;00m\n\u001b[0;32m--> 412\u001b[0m         \u001b[38;5;28;01mreturn\u001b[39;00m \u001b[38;5;28;43mself\u001b[39;49m\u001b[38;5;241;43m.\u001b[39;49m\u001b[43morig_func\u001b[49m\u001b[43m(\u001b[49m\u001b[38;5;241;43m*\u001b[39;49m\u001b[43margs\u001b[49m\u001b[43m,\u001b[49m\u001b[43m \u001b[49m\u001b[38;5;241;43m*\u001b[39;49m\u001b[38;5;241;43m*\u001b[39;49m\u001b[43mkwargs\u001b[49m\u001b[43m)\u001b[49m\n\u001b[1;32m    414\u001b[0m     \u001b[38;5;66;03m# Use `backend_name` in this function instead of `backend`\u001b[39;00m\n\u001b[1;32m    415\u001b[0m     backend_name \u001b[38;5;241m=\u001b[39m backend\n",
      "File \u001b[0;32m/vol/bitbucket/meh23/.venv/lib/python3.10/site-packages/networkx/algorithms/centrality/betweenness.py:138\u001b[0m, in \u001b[0;36mbetweenness_centrality\u001b[0;34m(G, k, normalized, weight, endpoints, seed)\u001b[0m\n\u001b[1;32m    136\u001b[0m     S, P, sigma, _ \u001b[38;5;241m=\u001b[39m _single_source_shortest_path_basic(G, s)\n\u001b[1;32m    137\u001b[0m \u001b[38;5;28;01melse\u001b[39;00m:  \u001b[38;5;66;03m# use Dijkstra's algorithm\u001b[39;00m\n\u001b[0;32m--> 138\u001b[0m     S, P, sigma, _ \u001b[38;5;241m=\u001b[39m \u001b[43m_single_source_dijkstra_path_basic\u001b[49m\u001b[43m(\u001b[49m\u001b[43mG\u001b[49m\u001b[43m,\u001b[49m\u001b[43m \u001b[49m\u001b[43ms\u001b[49m\u001b[43m,\u001b[49m\u001b[43m \u001b[49m\u001b[43mweight\u001b[49m\u001b[43m)\u001b[49m\n\u001b[1;32m    139\u001b[0m \u001b[38;5;66;03m# accumulation\u001b[39;00m\n\u001b[1;32m    140\u001b[0m \u001b[38;5;28;01mif\u001b[39;00m endpoints:\n",
      "File \u001b[0;32m/vol/bitbucket/meh23/.venv/lib/python3.10/site-packages/networkx/algorithms/centrality/betweenness.py:304\u001b[0m, in \u001b[0;36m_single_source_dijkstra_path_basic\u001b[0;34m(G, s, weight)\u001b[0m\n\u001b[1;32m    302\u001b[0m D[v] \u001b[38;5;241m=\u001b[39m dist\n\u001b[1;32m    303\u001b[0m \u001b[38;5;28;01mfor\u001b[39;00m w, edgedata \u001b[38;5;129;01min\u001b[39;00m G[v]\u001b[38;5;241m.\u001b[39mitems():\n\u001b[0;32m--> 304\u001b[0m     vw_dist \u001b[38;5;241m=\u001b[39m dist \u001b[38;5;241m+\u001b[39m \u001b[43mweight\u001b[49m\u001b[43m(\u001b[49m\u001b[43mv\u001b[49m\u001b[43m,\u001b[49m\u001b[43m \u001b[49m\u001b[43mw\u001b[49m\u001b[43m,\u001b[49m\u001b[43m \u001b[49m\u001b[43medgedata\u001b[49m\u001b[43m)\u001b[49m\n\u001b[1;32m    305\u001b[0m     \u001b[38;5;28;01mif\u001b[39;00m w \u001b[38;5;129;01mnot\u001b[39;00m \u001b[38;5;129;01min\u001b[39;00m D \u001b[38;5;129;01mand\u001b[39;00m (w \u001b[38;5;129;01mnot\u001b[39;00m \u001b[38;5;129;01min\u001b[39;00m seen \u001b[38;5;129;01mor\u001b[39;00m vw_dist \u001b[38;5;241m<\u001b[39m seen[w]):\n\u001b[1;32m    306\u001b[0m         seen[w] \u001b[38;5;241m=\u001b[39m vw_dist\n",
      "File \u001b[0;32m/vol/bitbucket/meh23/.venv/lib/python3.10/site-packages/networkx/algorithms/shortest_paths/weighted.py:78\u001b[0m, in \u001b[0;36m_weight_function.<locals>.<lambda>\u001b[0;34m(u, v, data)\u001b[0m\n\u001b[1;32m     76\u001b[0m \u001b[38;5;28;01mif\u001b[39;00m G\u001b[38;5;241m.\u001b[39mis_multigraph():\n\u001b[1;32m     77\u001b[0m     \u001b[38;5;28;01mreturn\u001b[39;00m \u001b[38;5;28;01mlambda\u001b[39;00m u, v, d: \u001b[38;5;28mmin\u001b[39m(attr\u001b[38;5;241m.\u001b[39mget(weight, \u001b[38;5;241m1\u001b[39m) \u001b[38;5;28;01mfor\u001b[39;00m attr \u001b[38;5;129;01min\u001b[39;00m d\u001b[38;5;241m.\u001b[39mvalues())\n\u001b[0;32m---> 78\u001b[0m \u001b[38;5;28;01mreturn\u001b[39;00m \u001b[38;5;28;01mlambda\u001b[39;00m u, v, data: data\u001b[38;5;241m.\u001b[39mget(weight, \u001b[38;5;241m1\u001b[39m)\n",
      "\u001b[0;31mKeyboardInterrupt\u001b[0m: "
     ]
    }
   ],
   "source": [
    "evaluate(pred_tensor, Y)"
   ]
  },
  {
   "cell_type": "code",
   "execution_count": 15,
   "metadata": {},
   "outputs": [],
   "source": [
    "pred = model(x_test[0])[0]"
   ]
  },
  {
   "cell_type": "code",
   "execution_count": 16,
   "metadata": {},
   "outputs": [
    {
     "data": {
      "text/plain": [
       "torch.Size([320, 320])"
      ]
     },
     "execution_count": 16,
     "metadata": {},
     "output_type": "execute_result"
    }
   ],
   "source": [
    "pred.size()"
   ]
  },
  {
   "cell_type": "code",
   "execution_count": 43,
   "metadata": {},
   "outputs": [],
   "source": [
    "from data_preparation import *"
   ]
  },
  {
   "cell_type": "code",
   "execution_count": 60,
   "metadata": {},
   "outputs": [],
   "source": [
    "def find_preds_and_convert_to_submission(file_name, model=model, test_set=x_test):\n",
    "    preds_list = []\n",
    "    with torch.no_grad():\n",
    "        for test_data in test_set:\n",
    "            pred, _, _, _ = model(test_data)\n",
    "            pred = unpad(pred, args.padding)\n",
    "            preds_list.append(pred)\n",
    "    pred_tensor = torch.stack(preds_list).cpu().numpy()\n",
    "    generate_submission_file(pred_tensor, f'/vol/bitbucket/km2120/DGL_Project/DGL24-Group-Project/submission_files/{file_name}')        "
   ]
  }
 ],
 "metadata": {
  "kernelspec": {
   "display_name": "my_env",
   "language": "python",
   "name": "python3"
  },
  "language_info": {
   "codemirror_mode": {
    "name": "ipython",
    "version": 3
   },
   "file_extension": ".py",
   "mimetype": "text/x-python",
   "name": "python",
   "nbconvert_exporter": "python",
   "pygments_lexer": "ipython3",
   "version": "3.10.12"
  }
 },
 "nbformat": 4,
 "nbformat_minor": 2
}
