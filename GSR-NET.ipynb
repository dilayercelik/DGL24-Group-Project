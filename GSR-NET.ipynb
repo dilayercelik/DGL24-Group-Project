{
 "cells": [
  {
   "cell_type": "code",
   "execution_count": 1,
   "metadata": {},
   "outputs": [],
   "source": [
    "from data_preparation import *"
   ]
  },
  {
   "cell_type": "code",
   "execution_count": 2,
   "metadata": {},
   "outputs": [],
   "source": [
    "import torch\n",
    "import numpy as np\n",
    "import torch.optim as optim\n",
    "from sklearn.model_selection import KFold\n",
    "from GSR_Net.preprocessing import *\n",
    "from GSR_Net.model import *\n",
    "from GSR_Net.train import *\n",
    "import argparse\n",
    "\n",
    "seed_value = 42\n",
    "np.random.seed(seed_value)\n"
   ]
  },
  {
   "cell_type": "code",
   "execution_count": 3,
   "metadata": {},
   "outputs": [],
   "source": [
    "path_to_data = '/vol/bitbucket/km2120/DGL_Project/DGL24-Group-Project/data'\n",
    "\n",
    "x_train, x_test, y_train = load_data_tensor(path_to_data)"
   ]
  },
  {
   "cell_type": "code",
   "execution_count": 4,
   "metadata": {},
   "outputs": [],
   "source": [
    "X, Y = x_train, y_train"
   ]
  },
  {
   "cell_type": "code",
   "execution_count": 12,
   "metadata": {},
   "outputs": [],
   "source": [
    "class ModelArgs:  \n",
    "    def __init__(self, epochs, lr, splits, lmbda, lr_dim, hr_dim, hidden_dim,\n",
    "                 padding):\n",
    "        self.epochs = epochs\n",
    "        self.lr = lr\n",
    "        self.splits = splits\n",
    "        self.lmbda = lmbda\n",
    "        self.lr_dim = lr_dim\n",
    "        self.hr_dim = hr_dim\n",
    "        self.hidden_dim = hidden_dim\n",
    "        self.padding = padding\n",
    "\n",
    "args = ModelArgs(\n",
    "    epochs=200,\n",
    "    lr=0.0001,\n",
    "    splits=3,\n",
    "    lmbda=16,\n",
    "    lr_dim=160,\n",
    "    #hr_dim=320,\n",
    "    #hidden_dim=320,\n",
    "    hr_dim=320,\n",
    "    hidden_dim=320,\n",
    "    padding=26,\n",
    ")"
   ]
  },
  {
   "cell_type": "code",
   "execution_count": 11,
   "metadata": {},
   "outputs": [],
   "source": [
    "cv = KFold(n_splits=args.splits, random_state=42, shuffle=True)\n",
    "ks = [0.9, 0.7, 0.6, 0.5]\n"
   ]
  },
  {
   "cell_type": "code",
   "execution_count": 13,
   "metadata": {},
   "outputs": [
    {
     "name": "stdout",
     "output_type": "stream",
     "text": [
      "GSRNet(\n",
      "  (layer): GSRLayer()\n",
      "  (net): GraphUnet(\n",
      "    (start_gcn): GCN(\n",
      "      (proj): Linear(in_features=160, out_features=320, bias=True)\n",
      "      (drop): Dropout(p=0, inplace=False)\n",
      "    )\n",
      "    (bottom_gcn): GCN(\n",
      "      (proj): Linear(in_features=320, out_features=320, bias=True)\n",
      "      (drop): Dropout(p=0, inplace=False)\n",
      "    )\n",
      "    (end_gcn): GCN(\n",
      "      (proj): Linear(in_features=640, out_features=320, bias=True)\n",
      "      (drop): Dropout(p=0, inplace=False)\n",
      "    )\n",
      "  )\n",
      "  (gc1): GraphConvolution()\n",
      "  (gc2): GraphConvolution()\n",
      ")\n"
     ]
    }
   ],
   "source": [
    "ks = [0.9, 0.7, 0.6, 0.5]\n",
    "model = GSRNet(ks, args)\n",
    "print(model)"
   ]
  },
  {
   "cell_type": "code",
   "execution_count": 13,
   "metadata": {},
   "outputs": [
    {
     "data": {
      "text/plain": [
       "torch.Size([167, 268, 268])"
      ]
     },
     "execution_count": 13,
     "metadata": {},
     "output_type": "execute_result"
    }
   ],
   "source": [
    "Y.size()"
   ]
  },
  {
   "cell_type": "code",
   "execution_count": 14,
   "metadata": {},
   "outputs": [],
   "source": [
    "def train_model():\n",
    "    optimizer = optim.Adam(model.parameters(), lr=args.lr)\n",
    "    for train_index, test_index in cv.split(X):\n",
    "        subjects_adj, test_adj, subjects_ground_truth, test_ground_truth = X[\n",
    "            train_index], X[test_index], Y[train_index], Y[test_index]\n",
    "        train(model, optimizer, subjects_adj, subjects_ground_truth, args)\n",
    "        test(model, test_adj, test_ground_truth, args)\n",
    "    "
   ]
  },
  {
   "cell_type": "code",
   "execution_count": 16,
   "metadata": {},
   "outputs": [],
   "source": [
    "from evaluations import *"
   ]
  },
  {
   "cell_type": "code",
   "execution_count": 14,
   "metadata": {},
   "outputs": [
    {
     "data": {
      "text/plain": [
       "<All keys matched successfully>"
      ]
     },
     "execution_count": 14,
     "metadata": {},
     "output_type": "execute_result"
    }
   ],
   "source": [
    "saved_state_dict = torch.load('/vol/bitbucket/km2120/DGL_Project/DGL24-Group-Project/GSR_models/vanilla_model.pth')\n",
    "model.load_state_dict(saved_state_dict, strict=True)"
   ]
  },
  {
   "cell_type": "code",
   "execution_count": 15,
   "metadata": {},
   "outputs": [],
   "source": [
    "preds_list = []\n",
    "model.eval()\n",
    "with torch.no_grad():\n",
    "    for test_data in x_test:\n",
    "        pred, _, _, _ = model(test_data)\n",
    "        pred = unpad(pred, args.padding)\n",
    "        preds_list.append(pred)\n",
    "        \n",
    "pred_tensor = torch.stack(preds_list)"
   ]
  },
  {
   "cell_type": "code",
   "execution_count": 16,
   "metadata": {},
   "outputs": [
    {
     "data": {
      "text/plain": [
       "tensor([[[1.0000, 0.8058, 0.8903,  ..., 0.3085, 0.2537, 0.2880],\n",
       "         [0.8058, 1.0000, 0.8490,  ..., 0.2080, 0.2125, 0.2514],\n",
       "         [0.8903, 0.8490, 1.0000,  ..., 0.0749, 0.2224, 0.0596],\n",
       "         ...,\n",
       "         [0.3085, 0.2080, 0.0749,  ..., 1.0000, 0.6083, 0.2920],\n",
       "         [0.2537, 0.2125, 0.2224,  ..., 0.6083, 1.0000, 0.4432],\n",
       "         [0.2880, 0.2514, 0.0596,  ..., 0.2920, 0.4432, 1.0000]],\n",
       "\n",
       "        [[1.0000, 0.8270, 0.6226,  ..., 0.2339, 0.1634, 0.2697],\n",
       "         [0.8270, 1.0000, 0.5198,  ..., 0.1613, 0.1646, 0.2402],\n",
       "         [0.6226, 0.5198, 1.0000,  ..., 0.0150, 0.1192, 0.0723],\n",
       "         ...,\n",
       "         [0.2339, 0.1613, 0.0150,  ..., 1.0000, 0.4230, 0.2209],\n",
       "         [0.1634, 0.1646, 0.1192,  ..., 0.4230, 1.0000, 0.3880],\n",
       "         [0.2697, 0.2402, 0.0723,  ..., 0.2209, 0.3880, 1.0000]],\n",
       "\n",
       "        [[1.0000, 0.6948, 0.5747,  ..., 0.1806, 0.2161, 0.2785],\n",
       "         [0.6948, 1.0000, 0.6767,  ..., 0.1270, 0.2012, 0.2340],\n",
       "         [0.5747, 0.6767, 1.0000,  ..., 0.0311, 0.1094, 0.1657],\n",
       "         ...,\n",
       "         [0.1806, 0.1270, 0.0311,  ..., 1.0000, 0.5046, 0.3083],\n",
       "         [0.2161, 0.2012, 0.1094,  ..., 0.5046, 1.0000, 0.6000],\n",
       "         [0.2785, 0.2340, 0.1657,  ..., 0.3083, 0.6000, 1.0000]],\n",
       "\n",
       "        ...,\n",
       "\n",
       "        [[1.0000, 0.6894, 0.5958,  ..., 0.3594, 0.1495, 0.2053],\n",
       "         [0.6894, 1.0000, 0.4553,  ..., 0.2534, 0.1242, 0.1848],\n",
       "         [0.5958, 0.4553, 1.0000,  ..., 0.2073, 0.1168, 0.0891],\n",
       "         ...,\n",
       "         [0.3594, 0.2534, 0.2073,  ..., 1.0000, 0.5762, 0.2735],\n",
       "         [0.1495, 0.1242, 0.1168,  ..., 0.5762, 1.0000, 0.2933],\n",
       "         [0.2053, 0.1848, 0.0891,  ..., 0.2735, 0.2933, 1.0000]],\n",
       "\n",
       "        [[1.0000, 0.7130, 0.7086,  ..., 0.2906, 0.2859, 0.2190],\n",
       "         [0.7130, 1.0000, 0.7834,  ..., 0.1926, 0.2457, 0.2206],\n",
       "         [0.7086, 0.7834, 1.0000,  ..., 0.0711, 0.1812, 0.1857],\n",
       "         ...,\n",
       "         [0.2906, 0.1926, 0.0711,  ..., 1.0000, 0.7323, 0.4346],\n",
       "         [0.2859, 0.2457, 0.1812,  ..., 0.7323, 1.0000, 0.6156],\n",
       "         [0.2190, 0.2206, 0.1857,  ..., 0.4346, 0.6156, 1.0000]],\n",
       "\n",
       "        [[1.0000, 0.8091, 0.5396,  ..., 0.3373, 0.0504, 0.3560],\n",
       "         [0.8091, 1.0000, 0.4629,  ..., 0.2225, 0.0581, 0.2968],\n",
       "         [0.5396, 0.4629, 1.0000,  ..., 0.1218, 0.0436, 0.0979],\n",
       "         ...,\n",
       "         [0.3373, 0.2225, 0.1218,  ..., 1.0000, 0.2255, 0.1453],\n",
       "         [0.0504, 0.0581, 0.0436,  ..., 0.2255, 1.0000, 0.2205],\n",
       "         [0.3560, 0.2968, 0.0979,  ..., 0.1453, 0.2205, 1.0000]]])"
      ]
     },
     "execution_count": 16,
     "metadata": {},
     "output_type": "execute_result"
    }
   ],
   "source": [
    "pred_tensor"
   ]
  },
  {
   "cell_type": "code",
   "execution_count": 19,
   "metadata": {},
   "outputs": [
    {
     "data": {
      "text/plain": [
       "torch.Size([112, 268, 268])"
      ]
     },
     "execution_count": 19,
     "metadata": {},
     "output_type": "execute_result"
    }
   ],
   "source": [
    "pred_tensor.size()"
   ]
  },
  {
   "cell_type": "code",
   "execution_count": 20,
   "metadata": {},
   "outputs": [
    {
     "name": "stdout",
     "output_type": "stream",
     "text": [
      "0\n",
      "\n",
      "1\n",
      "\n",
      "2\n",
      "\n",
      "3\n",
      "\n",
      "4\n",
      "\n",
      "5\n",
      "\n",
      "6\n",
      "\n",
      "7\n",
      "\n",
      "8\n",
      "\n",
      "9\n",
      "\n",
      "10\n",
      "\n",
      "11\n",
      "\n",
      "12\n",
      "\n",
      "13\n",
      "\n",
      "14\n",
      "\n",
      "15\n",
      "\n",
      "16\n",
      "\n",
      "17\n",
      "\n",
      "18\n",
      "\n",
      "19\n",
      "\n",
      "20\n",
      "\n",
      "21\n",
      "\n",
      "22\n",
      "\n",
      "23\n",
      "\n",
      "24\n",
      "\n",
      "25\n",
      "\n",
      "26\n",
      "\n",
      "27\n",
      "\n",
      "28\n",
      "\n",
      "29\n",
      "\n",
      "30\n",
      "\n",
      "31\n",
      "\n",
      "32\n",
      "\n",
      "33\n",
      "\n",
      "34\n",
      "\n",
      "35\n",
      "\n",
      "36\n",
      "\n",
      "37\n",
      "\n",
      "38\n",
      "\n",
      "39\n",
      "\n",
      "40\n",
      "\n",
      "41\n",
      "\n",
      "42\n",
      "\n",
      "43\n",
      "\n",
      "44\n",
      "\n",
      "45\n",
      "\n",
      "46\n",
      "\n",
      "47\n",
      "\n",
      "48\n",
      "\n",
      "49\n",
      "\n",
      "50\n",
      "\n",
      "51\n",
      "\n",
      "52\n",
      "\n",
      "53\n",
      "\n",
      "54\n",
      "\n",
      "55\n",
      "\n",
      "56\n",
      "\n",
      "57\n",
      "\n",
      "58\n",
      "\n",
      "59\n",
      "\n",
      "60\n",
      "\n",
      "61\n",
      "\n",
      "62\n",
      "\n",
      "63\n",
      "\n",
      "64\n",
      "\n",
      "65\n",
      "\n",
      "66\n",
      "\n",
      "67\n",
      "\n",
      "68\n",
      "\n",
      "69\n",
      "\n",
      "70\n",
      "\n",
      "71\n",
      "\n",
      "72\n",
      "\n",
      "73\n",
      "\n",
      "74\n",
      "\n",
      "75\n",
      "\n",
      "76\n",
      "\n",
      "77\n",
      "\n",
      "78\n",
      "\n",
      "79\n",
      "\n",
      "80\n",
      "\n",
      "81\n",
      "\n",
      "82\n",
      "\n",
      "83\n",
      "\n",
      "84\n",
      "\n",
      "85\n",
      "\n",
      "86\n",
      "\n",
      "87\n",
      "\n",
      "88\n",
      "\n",
      "89\n",
      "\n",
      "90\n",
      "\n",
      "91\n",
      "\n",
      "92\n",
      "\n",
      "93\n",
      "\n",
      "94\n",
      "\n",
      "95\n",
      "\n",
      "96\n",
      "\n",
      "97\n",
      "\n",
      "98\n",
      "\n",
      "99\n",
      "\n",
      "100\n",
      "\n",
      "101\n",
      "\n",
      "102\n",
      "\n",
      "103\n",
      "\n",
      "104\n",
      "\n",
      "105\n",
      "\n",
      "106\n",
      "\n",
      "107\n",
      "\n",
      "108\n",
      "\n",
      "109\n",
      "\n",
      "110\n",
      "\n",
      "111\n",
      "\n",
      "MAE:  0.17028992\n",
      "PCC:  0.4419352749875999\n",
      "Jensen-Shannon Distance:  0.3305826901548274\n",
      "Average MAE betweenness centrality: 0.022196793777044616\n",
      "Average MAE eigenvector centrality: 0.01697010370854288\n",
      "Average MAE PageRank centrality: 0.0007530632349348782\n"
     ]
    }
   ],
   "source": [
    "evaluate(pred_tensor, Y)"
   ]
  },
  {
   "cell_type": "code",
   "execution_count": 15,
   "metadata": {},
   "outputs": [],
   "source": [
    "pred = model(x_test[0])[0]"
   ]
  },
  {
   "cell_type": "code",
   "execution_count": 16,
   "metadata": {},
   "outputs": [
    {
     "data": {
      "text/plain": [
       "torch.Size([320, 320])"
      ]
     },
     "execution_count": 16,
     "metadata": {},
     "output_type": "execute_result"
    }
   ],
   "source": [
    "pred.size()"
   ]
  },
  {
   "cell_type": "code",
   "execution_count": 43,
   "metadata": {},
   "outputs": [],
   "source": [
    "from data_preparation import *"
   ]
  },
  {
   "cell_type": "code",
   "execution_count": 60,
   "metadata": {},
   "outputs": [],
   "source": [
    "def find_preds_and_convert_to_submission(file_name, model=model, test_set=x_test):\n",
    "    preds_list = []\n",
    "    with torch.no_grad():\n",
    "        for test_data in test_set:\n",
    "            pred, _, _, _ = model(test_data)\n",
    "            pred = unpad(pred, args.padding)\n",
    "            preds_list.append(pred)\n",
    "    pred_tensor = torch.stack(preds_list).cpu().numpy()\n",
    "    generate_submission_file(pred_tensor, f'/vol/bitbucket/km2120/DGL_Project/DGL24-Group-Project/submission_files/{file_name}')        "
   ]
  }
 ],
 "metadata": {
  "kernelspec": {
   "display_name": "my_env",
   "language": "python",
   "name": "python3"
  },
  "language_info": {
   "codemirror_mode": {
    "name": "ipython",
    "version": 3
   },
   "file_extension": ".py",
   "mimetype": "text/x-python",
   "name": "python",
   "nbconvert_exporter": "python",
   "pygments_lexer": "ipython3",
   "version": "3.10.12"
  }
 },
 "nbformat": 4,
 "nbformat_minor": 2
}
