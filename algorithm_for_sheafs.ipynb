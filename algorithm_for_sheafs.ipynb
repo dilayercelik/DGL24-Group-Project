{
 "cells": [
  {
   "cell_type": "code",
   "execution_count": null,
   "metadata": {},
   "outputs": [],
   "source": [
    "import torch\n",
    "from torch.linalg import svd\n",
    "\n",
    "def local_neighbourhood(X, node_index):\n",
    "    return X[node_index, :].view(1,-1)\n",
    "\n",
    "\n",
    "def pca_alignment(X, edge_index,d):\n",
    "    n = X.shape[0]\n",
    "    Q = torch.empty(n,d)\n",
    "    for i in range(n):\n",
    "        X_i = local_neighbourhood(X, i)\n",
    "        U,S,V = svd(X_i, full_matrices = False)\n",
    "        Q[i,:] = U[:,:d]\n",
    "    #Alignment\n",
    "    O = torch.empty(len(edge_index),d,d)\n",
    "    for idx, (i,j) in enumerate(edge_index):\n",
    "        U,S,V = svd(Q[i].T @ Q[i])\n",
    "        O_ij = U@V.T\n",
    "        O[idx, :,:] = O_ij\n",
    "    return Q, O\n",
    "\n",
    "\n"
   ]
  }
 ],
 "metadata": {
  "kernelspec": {
   "display_name": "venv",
   "language": "python",
   "name": "python3"
  },
  "language_info": {
   "name": "python",
   "version": "3.10.12"
  }
 },
 "nbformat": 4,
 "nbformat_minor": 2
}
