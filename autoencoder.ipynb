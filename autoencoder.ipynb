{
 "cells": [
  {
   "cell_type": "code",
   "execution_count": 2,
   "metadata": {},
   "outputs": [],
   "source": [
    "import torch\n",
    "import torch.nn as nn"
   ]
  },
  {
   "cell_type": "code",
   "execution_count": 1,
   "metadata": {},
   "outputs": [],
   "source": [
    "from data_preparation import load_data_tensor\n",
    "\n",
    "lr_train, lr_test, hr_train = load_data_tensor(\"dgl-icl\")\n"
   ]
  },
  {
   "cell_type": "code",
   "execution_count": 8,
   "metadata": {},
   "outputs": [],
   "source": [
    "A = torch.randint(0, 3, (2, 2, 2))\n",
    "B = torch.randint(0, 3, (2, 2, 2))"
   ]
  },
  {
   "cell_type": "code",
   "execution_count": 13,
   "metadata": {},
   "outputs": [
    {
     "data": {
      "text/plain": [
       "tensor([[0, 2],\n",
       "        [2, 0]])"
      ]
     },
     "execution_count": 13,
     "metadata": {},
     "output_type": "execute_result"
    }
   ],
   "source": [
    "A[1] @ B[1]"
   ]
  },
  {
   "cell_type": "code",
   "execution_count": 11,
   "metadata": {},
   "outputs": [
    {
     "data": {
      "text/plain": [
       "tensor([[[2, 1],\n",
       "         [0, 1]],\n",
       "\n",
       "        [[1, 0],\n",
       "         [0, 1]]])"
      ]
     },
     "execution_count": 11,
     "metadata": {},
     "output_type": "execute_result"
    }
   ],
   "source": [
    "B"
   ]
  },
  {
   "cell_type": "code",
   "execution_count": 9,
   "metadata": {},
   "outputs": [
    {
     "data": {
      "text/plain": [
       "tensor([[[2, 3],\n",
       "         [4, 4]],\n",
       "\n",
       "        [[0, 2],\n",
       "         [2, 0]]])"
      ]
     },
     "execution_count": 9,
     "metadata": {},
     "output_type": "execute_result"
    }
   ],
   "source": [
    "torch.bmm(A, B)"
   ]
  },
  {
   "cell_type": "code",
   "execution_count": null,
   "metadata": {},
   "outputs": [],
   "source": [
    "lr_train_2 = "
   ]
  },
  {
   "cell_type": "code",
   "execution_count": 6,
   "metadata": {},
   "outputs": [
    {
     "name": "stdout",
     "output_type": "stream",
     "text": [
      "tensor([0.0000, 0.3388, 0.2025, 0.6895, 0.6105, 0.4464, 0.6495, 0.6894, 0.4389,\n",
      "        0.5773, 0.0000, 0.4907, 0.2030, 0.5973, 0.1080, 0.5209, 0.2436, 0.3475,\n",
      "        0.3142, 0.4680, 0.4328, 0.6836, 0.1751, 0.4156, 0.2886, 0.4879, 0.5107,\n",
      "        0.0409, 0.6092, 0.3186, 0.3773, 0.5973, 0.4236, 0.5157, 0.0000, 0.2851,\n",
      "        0.0880, 0.1500, 0.0387, 0.1536, 0.3912, 0.6067, 0.0019, 0.2677, 0.3644,\n",
      "        0.1659, 0.2804, 0.0000, 0.2246, 0.0000, 0.0168, 0.0154, 0.2328, 0.1669,\n",
      "        0.3741, 0.0000, 0.0000, 0.3887, 0.5526, 0.0068, 0.5261, 0.0912, 0.3366,\n",
      "        0.1353, 0.0618, 0.1170, 0.3364, 0.1876, 0.2191, 0.0557, 0.0009, 0.1510,\n",
      "        0.0694, 0.0450, 0.2801, 0.0509, 0.0000, 0.2265, 0.2669, 0.0807, 0.7052,\n",
      "        0.1387, 0.1906, 0.3906, 0.0000, 0.2254, 0.4377, 0.2353, 0.0193, 0.2244,\n",
      "        0.0000, 0.2057, 0.0000, 0.2625, 0.2219, 0.2037, 0.3883, 0.3881, 0.2607,\n",
      "        0.1453, 0.0633, 0.1122, 0.2182, 0.0832, 0.2598, 0.3783, 0.2654, 0.1461,\n",
      "        0.1611, 0.0000, 0.2819, 0.2389, 0.0932, 0.1854, 0.1902, 0.0600, 0.1816,\n",
      "        0.1807, 0.1965, 0.0000, 0.1960, 0.0478, 0.2142, 0.1958, 0.2131, 0.2212,\n",
      "        0.3995, 0.1081, 0.1138, 0.2157, 0.5276, 0.3078, 0.5082, 0.0000, 0.3310,\n",
      "        0.0000, 0.0000, 0.0381, 0.0000, 0.3947, 0.1104, 0.0050, 0.0026, 0.0000,\n",
      "        0.3583, 0.0076, 0.0837, 0.3221, 0.0000, 0.2426, 0.0574, 0.1624, 0.3104,\n",
      "        0.0935, 0.0737, 0.0134, 0.3363, 0.6702, 0.3994, 0.1218])\n"
     ]
    }
   ],
   "source": [
    "lr_train.shape\n",
    "lr_stack = lr_train.reshape(-1, 160)\n",
    "print(lr_stack[0])"
   ]
  },
  {
   "cell_type": "code",
   "execution_count": 15,
   "metadata": {},
   "outputs": [],
   "source": [
    "lr_train2 = torch.bmm(lr_train, lr_train)\n",
    "lr_stack2 = lr_train2.reshape(-1, 160)"
   ]
  },
  {
   "cell_type": "code",
   "execution_count": 16,
   "metadata": {},
   "outputs": [],
   "source": [
    "end_dim = 16\n",
    "\n",
    "class AutoencoderLR(nn.Module):\n",
    "    def __init__(self):\n",
    "        super(AutoencoderLR, self).__init__()\n",
    "        self.encoder = nn.Sequential(nn.Linear(161, 64),\n",
    "        nn.ReLU(),\n",
    "        nn.Linear(64,32),\n",
    "        nn.ReLU(),\n",
    "        nn.Linear(32, end_dim))\n",
    "        self.decoder = nn.Sequential(nn.Linear(end_dim, 32),\n",
    "        nn.ReLU(),\n",
    "        nn.Linear(32,64),\n",
    "        nn.ReLU(),\n",
    "        nn.Linear(64,160))\n",
    "    \n",
    "    def encode(self,adj_row, hops):\n",
    "        x = torch.cat([adj_row, hops])\n",
    "        x = self.encoder(x)\n",
    "        return x\n",
    "    def decode(latent_input):\n",
    "        return self.decoder(latent_input)\n",
    "\n",
    "    def forward(self, adj_row, hoops):\n",
    "        x = self.encode(adj_row, hoops)\n",
    "        x = self.decode(x)\n",
    "        return x\n"
   ]
  },
  {
   "cell_type": "code",
   "execution_count": 17,
   "metadata": {},
   "outputs": [],
   "source": [
    "end_dim = 16\n",
    "\n",
    "class AutoencoderHR(nn.Module):\n",
    "    def __init__(self):\n",
    "        super(AutoencoderHR, self).__init__()\n",
    "        self.encoder = nn.Sequential(nn.Linear(269, 64),\n",
    "        nn.ReLU(),\n",
    "        nn.Linear(64,32),\n",
    "        nn.ReLU(),\n",
    "        nn.Linear(32, end_dim))\n",
    "        self.decoder = nn.Sequential(nn.Linear(end_dim, 32),\n",
    "        nn.ReLU(),\n",
    "        nn.Linear(32,64),\n",
    "        nn.ReLU(),\n",
    "        nn.Linear(64,160))\n",
    "    \n",
    "    def encode(self,adj_row, hops):\n",
    "        x = torch.cat([adj_row, hops])\n",
    "        x = self.encoder(x)\n",
    "        return x\n",
    "    def decode(latent_input):\n",
    "        return self.decoder(latent_input)\n",
    "\n",
    "    def forward(self, adj_row, hoops):\n",
    "        x = self.encode(adj_row, hoops)\n",
    "        x = self.decode(x)\n",
    "        return x"
   ]
  },
  {
   "cell_type": "code",
   "execution_count": null,
   "metadata": {},
   "outputs": [],
   "source": [
    "def train(criterion, model, adj_matrix, num_epoch = 50, lr = 0.01, batch_size = 16):\n",
    "    optimizer = torch.optim.Adam(model.parameters(), lr = lr)\n",
    "    for step in num_epoch:\n",
    "        for row in range(0,adj_matrix.shape[0], batch_size):\n",
    "            optimizer.zero_grad()\n",
    "            e = model(adj_matrix[row-batch_size:row], 1)\n",
    "            loss = criterion(e, adj_matrix[row-batch_size:row])\n",
    "            loss.backward()\n",
    "            print(loss)\n",
    "            optimizer.step()\n",
    "\n"
   ]
  },
  {
   "cell_type": "code",
   "execution_count": null,
   "metadata": {},
   "outputs": [],
   "source": [
    "model = AutoencoderLR()\n",
    "criterion = nn.MSELoss()\n",
    "train(criterion, model, lr_stack)"
   ]
  }
 ],
 "metadata": {
  "kernelspec": {
   "display_name": "venv",
   "language": "python",
   "name": "python3"
  },
  "language_info": {
   "codemirror_mode": {
    "name": "ipython",
    "version": 3
   },
   "file_extension": ".py",
   "mimetype": "text/x-python",
   "name": "python",
   "nbconvert_exporter": "python",
   "pygments_lexer": "ipython3",
   "version": "3.10.12"
  }
 },
 "nbformat": 4,
 "nbformat_minor": 2
}
