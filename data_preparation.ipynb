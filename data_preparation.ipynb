{
 "cells": [
  {
   "cell_type": "code",
   "execution_count": 9,
   "metadata": {},
   "outputs": [],
   "source": [
    "# import relevant packages\n",
    "import numpy as np\n",
    "import pandas as pd\n",
    "from MatrixVectorizer import MatrixVectorizer"
   ]
  },
  {
   "cell_type": "code",
   "execution_count": 31,
   "metadata": {},
   "outputs": [],
   "source": [
    "# import data from .csv file\n",
    "hr_train_raw = pd.read_csv('dgl-icl/hr_train.csv')\n",
    "lr_train_raw = pd.read_csv('dgl-icl/lr_train.csv')\n",
    "lr_test_raw = pd.read_csv('dgl-icl/lr_test.csv')"
   ]
  },
  {
   "cell_type": "code",
   "execution_count": 71,
   "metadata": {},
   "outputs": [],
   "source": [
    "def multi_anti_vectorize(arr, vectorizer, matrix_size): \n",
    "    return np.array([vectorizer.anti_vectorize(v, matrix_size) for v in arr])"
   ]
  },
  {
   "cell_type": "code",
   "execution_count": 72,
   "metadata": {},
   "outputs": [],
   "source": [
    "# anti-vectorize \n",
    "LR_N = 160\n",
    "HR_N = 268\n",
    "vectorizer = MatrixVectorizer()\n",
    "hr_train = multi_anti_vectorize(hr_train_raw.values, vectorizer, HR_N)\n",
    "lr_train = multi_anti_vectorize(lr_train_raw.values, vectorizer, LR_N)\n",
    "lr_test = multi_anti_vectorize(lr_test_raw.values, vectorizer, LR_N)"
   ]
  }
 ],
 "metadata": {
  "kernelspec": {
   "display_name": "venv",
   "language": "python",
   "name": "python3"
  },
  "language_info": {
   "codemirror_mode": {
    "name": "ipython",
    "version": 3
   },
   "file_extension": ".py",
   "mimetype": "text/x-python",
   "name": "python",
   "nbconvert_exporter": "python",
   "pygments_lexer": "ipython3",
   "version": "3.10.5"
  }
 },
 "nbformat": 4,
 "nbformat_minor": 2
}
