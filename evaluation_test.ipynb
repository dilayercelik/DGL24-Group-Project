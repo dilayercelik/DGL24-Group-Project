{
 "cells": [
  {
   "cell_type": "code",
   "execution_count": 1,
   "metadata": {},
   "outputs": [
    {
     "name": "stdout",
     "output_type": "stream",
     "text": [
      "ID           0\n",
      "Predicted    0\n",
      "dtype: int64\n",
      "ID           0\n",
      "Predicted    0\n",
      "dtype: int64\n"
     ]
    }
   ],
   "source": [
    "from data_preparation import new_generate_submission_file, generate_submission_file, alt_generate_submission_file\n",
    "import torch\n",
    "\n",
    "x = torch.randn(5,45,45)\n",
    "\n",
    "df_old = generate_submission_file(x, '.moritz_test1.csv')\n",
    "df_new = new_generate_submission_file(x, '.moritz_test2.csv')\n",
    "df_alt = alt_generate_submission_file(x, '.moritz_test3.csv')\n",
    "\n",
    "print(df_old[df_old['Predicted'] != df_new['Predicted']].count())\n",
    "print(df_old[df_old['Predicted'] != df_alt['Predicted']].count())"
   ]
  },
  {
   "cell_type": "code",
   "execution_count": 8,
   "metadata": {},
   "outputs": [
    {
     "name": "stdout",
     "output_type": "stream",
     "text": [
      "tensor([[1, 2, 3],\n",
      "        [4, 5, 6]])\n"
     ]
    }
   ],
   "source": [
    "y = torch.tensor([[1,2,3],[4,5,6]])\n",
    "\n",
    "print(y)"
   ]
  }
 ],
 "metadata": {
  "kernelspec": {
   "display_name": ".venv",
   "language": "python",
   "name": "python3"
  },
  "language_info": {
   "codemirror_mode": {
    "name": "ipython",
    "version": 3
   },
   "file_extension": ".py",
   "mimetype": "text/x-python",
   "name": "python",
   "nbconvert_exporter": "python",
   "pygments_lexer": "ipython3",
   "version": "3.10.12"
  }
 },
 "nbformat": 4,
 "nbformat_minor": 2
}
