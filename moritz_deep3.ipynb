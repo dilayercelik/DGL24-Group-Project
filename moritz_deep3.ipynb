{
 "cells": [
  {
   "cell_type": "code",
   "execution_count": 1,
   "metadata": {},
   "outputs": [],
   "source": [
    "import torch\n",
    "import torch.nn.functional as F\n",
    "import torch.nn as nn\n",
    "from torch_geometric.nn import GENConv, GATv2Conv, SSGConv\n",
    "import numpy as np\n",
    "from torch_geometric.data import Data\n",
    "from torch.utils.data import DataLoader\n",
    "import torch_geometric.utils\n",
    "\n",
    "from tqdm import tqdm\n",
    "\n",
    "from sklearn.model_selection import KFold\n",
    "import pandas as pd\n",
    "from MatrixVectorizer import MatrixVectorizer\n"
   ]
  },
  {
   "cell_type": "code",
   "execution_count": 2,
   "metadata": {},
   "outputs": [],
   "source": [
    "# set global variables\n",
    "N_SUBJECTS = 167\n",
    "\n",
    "N_LR_NODES = 160\n",
    "\n",
    "N_HR_NODES = 268\n",
    "\n",
    "DEVICE = 'cuda' if torch.cuda.is_available() else 'cpu'\n",
    "\n",
    "N_LR_NODES_F = int(N_LR_NODES * (N_LR_NODES-1) / 2)\n",
    "N_HR_NODES_F = int(N_HR_NODES * (N_HR_NODES-1) / 2)"
   ]
  },
  {
   "cell_type": "code",
   "execution_count": 3,
   "metadata": {},
   "outputs": [],
   "source": [
    "from data_preparation import load_data_tensor\n",
    "\n",
    "lr_train, lr_test, hr_train = load_data_tensor(\"dgl-icl\")\n",
    "\n",
    "lr_X_dim1 = torch.load('model_autoencoder/final_embeddings/encode_lr.pt')\n",
    "lr_X_dim3 = torch.load('model_autoencoder/final_embeddings/encode_lr_3.pt')\n",
    "hr_X_dim1 = torch.load('model_autoencoder/final_embeddings/encode_hr.pt')\n",
    "hr_X_dim3 = torch.load('model_autoencoder/final_embeddings/encode_hr_3.pt')\n",
    "lr_X_dim1_test = torch.load('model_autoencoder/final_embeddings/encode_lr_test.pt')\n",
    "hr_X_dim3_test = torch.load('model_autoencoder/final_embeddings/encode_lr_test_3.pt')"
   ]
  },
  {
   "cell_type": "markdown",
   "metadata": {},
   "source": [
    "# Model Layers"
   ]
  },
  {
   "cell_type": "code",
   "execution_count": 4,
   "metadata": {},
   "outputs": [],
   "source": [
    "def generate_steps(num_steps, low=N_LR_NODES, high=N_HR_NODES):\n",
    "    step_size = (high - low) / (num_steps - 1)\n",
    "    steps_list = [round(low + step_size * i) for i in range(num_steps)]\n",
    "    return steps_list"
   ]
  },
  {
   "cell_type": "code",
   "execution_count": 5,
   "metadata": {},
   "outputs": [],
   "source": [
    "class StackedGCN(nn.Module):\n",
    "    def __init__(self, n_nodes, channel_ls, dropout):\n",
    "        super().__init__()\n",
    "        self.n_nodes = n_nodes\n",
    "        self.gcn_layers, self.batch_norm_layers = self._init_layers(channel_ls)\n",
    "\n",
    "        # self.gcn_layers, _ = self._init_layers(channel_ls)\n",
    "        self.dropout = dropout\n",
    "        \n",
    "    \n",
    "    def forward(self, X, A):\n",
    "        for i in range(len(self.gcn_layers)):\n",
    "            gcn = self.gcn_layers[i]\n",
    "            batch_norm = self.batch_norm_layers[i]\n",
    "            graph_batch = self._create_batch(X, A)\n",
    "            \n",
    "            X = F.sigmoid(gcn(graph_batch.x, graph_batch.edge_index, graph_batch.edge_attr).reshape(*X.shape[:2], -1))\n",
    "            torch.cuda.empty_cache()\n",
    "            X = F.dropout(batch_norm(X), self.dropout, training=self.training)\n",
    "            # X = F.dropout(X, self.dropout, training=self.training)\n",
    "            torch.cuda.empty_cache()\n",
    "\n",
    "        return X\n",
    "\n",
    "    def _init_layers(self, channel_ls):\n",
    "        layers_ls = []\n",
    "        batch_norm_ls = []\n",
    "        for i in range(len(channel_ls) - 1):\n",
    "            layer = GATv2Conv(channel_ls[i], channel_ls[i], heads=2, edge_dim=1)\n",
    "            layers_ls.append(layer)\n",
    "            batch_norm_ls.append(torch_geometric.nn.norm.BatchNorm(self.n_nodes))\n",
    "        return nn.ModuleList(layers_ls), nn.ModuleList(batch_norm_ls)\n",
    "\n",
    "    def _create_batch(self, X, A):\n",
    "        data_list = []\n",
    "        for x, adj in zip(X, A):\n",
    "            edge_index = adj.nonzero().t()\n",
    "            edge_weights = adj[edge_index[0], edge_index[1]]\n",
    "            edge_index, edge_weights = torch_geometric.utils.add_self_loops(edge_index, edge_weights) # add self connections\n",
    "            data = Data(x=x, edge_index=edge_index, edge_attr=edge_weights.view(-1, 1))\n",
    "            data_list.append(data)\n",
    "        return torch_geometric.data.Batch().from_data_list(data_list)"
   ]
  },
  {
   "cell_type": "code",
   "execution_count": 6,
   "metadata": {},
   "outputs": [],
   "source": [
    "class AdjacencyStep(nn.Module):\n",
    "    def __init__(self, old_dim, new_dim, channels_ls, dt=1., alpha=0.9, gamma=0.9, dropout=0.25):\n",
    "        super().__init__()\n",
    "        self.dt = dt\n",
    "        self.alpha = alpha\n",
    "        self.gamma = gamma\n",
    "        self.gnn = StackedGCN(old_dim, channels_ls, dropout).to(DEVICE)\n",
    "        self.dropout = dropout\n",
    "        # self.dim_changer1 = nn.Parameter(torch.randn((new_dim, 1), device=DEVICE))\n",
    "        # self.dim_changer2 = nn.Parameter(torch.randn((1, old_dim), device=DEVICE))\n",
    "        self.dim_changer = nn.Parameter(torch.randn((new_dim, old_dim), device=DEVICE))\n",
    "\n",
    "        self.A_dim_changer = nn.Parameter(torch.randn((new_dim, old_dim), device=DEVICE))\n",
    "        # self.A_dim_changer1 = nn.Parameter(torch.randn((new_dim, 1), device=DEVICE))   \n",
    "        # self.A_dim_changer2 = nn.Parameter(torch.randn((1, old_dim), device=DEVICE))\n",
    "        self.A_dim_bias = nn.Parameter(torch.randn((new_dim, 1), device=DEVICE))\n",
    "\n",
    "        self.Z_dim_changer = nn.Parameter(torch.randn((channels_ls[-1], new_dim), device=DEVICE))\n",
    "        # self.Z_dim_changer1 = nn.Parameter(torch.randn((channels_ls[-1], 1), device=DEVICE))   \n",
    "        # self.Z_dim_changer2 = nn.Parameter(torch.randn((1, new_dim), device=DEVICE))\n",
    "        self.Z_dim_bias = nn.Parameter(torch.randn((new_dim, 1), device=DEVICE))\n",
    "\n",
    "        self.Z_dim_lower = nn.Conv1d(channels_ls[-1], channels_ls[0], kernel_size=1)\n",
    "\n",
    "\n",
    "        self.forget_gate = nn.Parameter(torch.randn(new_dim, device=DEVICE))\n",
    "        self.input_gate = nn.Parameter(torch.randn(new_dim, device=DEVICE))\n",
    "\n",
    "        self.batchnorm_A = torch_geometric.nn.norm.BatchNorm(new_dim)\n",
    "        self.layernorm_forget_A = torch_geometric.nn.norm.LayerNorm((new_dim, new_dim))\n",
    "        self.layernorm_input_Z = torch_geometric.nn.norm.LayerNorm((new_dim, new_dim))\n",
    "        self.batchnorm_X = torch_geometric.nn.norm.BatchNorm(new_dim)\n",
    "        self.batchnorm_Y = torch_geometric.nn.norm.BatchNorm(new_dim)\n",
    "\n",
    "\n",
    "\n",
    "    def forward(self, X, Y, A):\n",
    "        # solve ODEs using simple IMEX scheme\n",
    "        # dim_changer = self.dim_changer1 @ self.dim_changer2 \n",
    "        # A_dim_changer = self.A_dim_changer1 @ self.A_dim_changer2\n",
    "        # Z_dim_changer = self.Z_dim_changer1 @ self.Z_dim_changer2\n",
    "        dim_changer = self.dim_changer\n",
    "        A_dim_changer = self.A_dim_changer\n",
    "        Z_dim_changer = self.Z_dim_changer\n",
    "\n",
    "        # forget gate from previous adjacency\n",
    "        f = F.sigmoid(self.forget_gate)\n",
    "        i = F.sigmoid(self.input_gate)\n",
    "        forget_A = F.elu(A_dim_changer @ A @ A_dim_changer.T + self.A_dim_bias)\n",
    "        forget_A = f[:, None] * self.layernorm_forget_A(forget_A)\n",
    "        # forget_A = f[:, None] * forget_A\n",
    "        torch.cuda.empty_cache()\n",
    "\n",
    "    \n",
    "        # update node features with gcn\n",
    "        Z = self.gnn(X, A)\n",
    "        torch.cuda.empty_cache()\n",
    "        input_Z = F.elu(dim_changer @ Z @ Z_dim_changer + self.Z_dim_bias)\n",
    "        input_Z = i[:, None] * self.layernorm_input_Z(input_Z)\n",
    "        # input_Z = i[:, None] * input_Z\n",
    "        torch.cuda.empty_cache()\n",
    "\n",
    "\n",
    "\n",
    "        # get new adjacency matrix\n",
    "        new_A = forget_A + input_Z\n",
    "        new_A = self.batchnorm_A(new_A)\n",
    "        new_A = (new_A + torch.transpose(new_A, -1, -2)) / 2\n",
    "        new_A = F.tanh(F.relu(new_A))\n",
    "        #new_A = F.hardtanh(F.hardtanh(new_A, min_val=0), min_val=0)\n",
    "\n",
    "\n",
    "        torch.cuda.empty_cache()\n",
    "\n",
    "\n",
    "        # update feature embeiddings\n",
    "        Z = torch.transpose(self.Z_dim_lower(torch.transpose(Z, -1, -2)), -1, -2)\n",
    "        Y_temp = Y\n",
    "        Y = dim_changer @ (Y + self.dt * (Z - self.alpha * Y - self.gamma * X))\n",
    "        X = dim_changer @ (X + self.dt * Y_temp) \n",
    "\n",
    "        X = self.batchnorm_X(X)\n",
    "        Y = self.batchnorm_Y(Y)   \n",
    "        torch.cuda.empty_cache()\n",
    "\n",
    "\n",
    "        Y = F.dropout(Y, self.dropout, training=self.training)\n",
    "        X = F.dropout(X, self.dropout, training=self.training)\n",
    "\n",
    "        return X, Y, new_A\n",
    "\n",
    "    "
   ]
  },
  {
   "cell_type": "code",
   "execution_count": 7,
   "metadata": {},
   "outputs": [],
   "source": [
    "class AdjacencyDimChanger(nn.Module):\n",
    "\n",
    "    def __init__(self, dim_steps, channels_ls):\n",
    "        super().__init__()\n",
    "        \n",
    "        self.layers = nn.ModuleList([AdjacencyStep(dim_steps[i], dim_steps[i+1], channels_ls) for i in range(len(dim_steps)-1)])\n",
    "        # self.batchnorms = nn.ModuleList([nn.BatchNorm1d(dim_steps[i+1]) for i in range(len(dim_steps)-1)])\n",
    "        \n",
    "    def forward(self, X, Y, A):\n",
    "        adj_ls = [A]\n",
    "        x, y, adj = X, Y, A\n",
    "        \n",
    "        for layer in self.layers:\n",
    "            x, y, adj = layer(x, y, adj)\n",
    "            adj_ls.append(adj)\n",
    "            \n",
    "        return adj_ls\n",
    "        "
   ]
  },
  {
   "cell_type": "code",
   "execution_count": 8,
   "metadata": {},
   "outputs": [],
   "source": [
    "def freeze_model(model):\n",
    "    for param in model.parameters():\n",
    "        param.requires_grad = False\n",
    "\n",
    "def unfreeze_model(model):\n",
    "    for param in model.parameters():\n",
    "        param.requires_grad = True"
   ]
  },
  {
   "cell_type": "code",
   "execution_count": 9,
   "metadata": {},
   "outputs": [],
   "source": [
    "import numpy as np\n",
    "import networkx as nx\n",
    "\n",
    "def eigen_centrality(data):\n",
    "    # ROI is the number of brain regions (i.e.,35 in our case)\n",
    "    ROI = 160\n",
    "\n",
    "    topology_eigen = []\n",
    "\n",
    "    G = nx.from_numpy_array(np.absolute(data))\n",
    "    U = G.to_undirected()\n",
    "\n",
    "    # A = to_2d(data)\n",
    "    np.fill_diagonal(data, 0)\n",
    "\n",
    "    # create a graph frL2\n",
    "    # # compute egeinvector centrality and transform the output to vector\n",
    "    ec = nx.eigenvector_centrality_numpy(U)\n",
    "    \n",
    "    eigenvector_centrality = np.array([ec[g] for g in U])\n",
    "\n",
    "\n",
    "\n",
    "    topology_eigen.append(eigenvector_centrality)  # 2\n",
    "\n",
    "    return topology_eigen\n",
    "\n",
    "def pearson_coor(input, target, epsilon=1e-7):\n",
    "    vx = input - torch.mean(input, dim=(1, 2))[:, None, None]\n",
    "    vy = target - torch.mean(target, dim=(1, 2))[:, None, None]\n",
    "    cost = torch.sum(vx * vy) / (torch.sqrt(torch.sum(vx ** 2)+epsilon) * torch.sqrt(torch.sum(vy ** 2)+epsilon)+epsilon)\n",
    "    return cost\n",
    "\n",
    "def GT_loss(target, predicted):\n",
    "\n",
    "    # l1_loss\n",
    "    l1_loss = torch.nn.L1Loss()\n",
    "    # loss_pix2pix = l1_loss(target, predicted)\n",
    "\n",
    "    # topological_loss\n",
    "    target_n = target.detach().cpu().clone().numpy()\n",
    "    predicted_n = predicted.detach().cpu().clone().numpy()\n",
    "    torch.cuda.empty_cache()\n",
    "\n",
    "    topo_loss = []\n",
    "    \n",
    "\n",
    "    for i in range(len(target_n)):\n",
    "\n",
    "        cur_target = target_n[i]\n",
    "        cur_predicted = predicted_n[i]\n",
    "\n",
    "        target_t = eigen_centrality(cur_target)\n",
    "        real_topology = torch.tensor(target_t[0])\n",
    "        predicted_t = eigen_centrality(cur_predicted)\n",
    "        fake_topology = torch.tensor(predicted_t[0])\n",
    "        topo_loss.append(l1_loss(real_topology, fake_topology))\n",
    "\n",
    "    topo_loss = torch.sum(torch.stack(topo_loss))\n",
    "\n",
    "    pc_loss = pearson_coor(target, predicted).to(DEVICE)\n",
    "    torch.cuda.empty_cache()\n",
    "\n",
    "    # G_loss = loss_pix2pix + (1 - pc_loss) + topo_loss\n",
    "    G_loss = (1 - pc_loss) + topo_loss\n",
    "\n",
    "\n",
    "    return G_loss"
   ]
  },
  {
   "cell_type": "code",
   "execution_count": 10,
   "metadata": {},
   "outputs": [],
   "source": [
    "def loss_calc(adj_ls, opp_adj_ls, alpha=0.75, weights=None):\n",
    "    total_loss = torch.Tensor([0]).to(DEVICE)\n",
    "    mse_loss_fn = nn.MSELoss()\n",
    "\n",
    "    # calculate the loss for the upper traingle of the matrix because thats what we care about\n",
    "    final_dim = adj_ls[-1].shape[-1]\n",
    "    upper_tri_idx = torch.triu_indices(final_dim, final_dim, offset=1)\n",
    "    final_upper_tri_adj = adj_ls[-1][:,upper_tri_idx.unbind()[0], upper_tri_idx.unbind()[1]]\n",
    "    final_upper_tri_other_adj = opp_adj_ls[0][:,upper_tri_idx.unbind()[0], upper_tri_idx.unbind()[1]]\n",
    "    final_mse_loss = mse_loss_fn(final_upper_tri_adj, final_upper_tri_other_adj)\n",
    "\n",
    "    if weights is None:\n",
    "        n = len(adj_ls[1:-1])\n",
    "        weights = torch.Tensor([2*(i+1)/(n*(n+1)) for i in range(n)])\n",
    "    \n",
    "    # calculate the loss for the remaining intermediate adjacent matrices\n",
    "    intermediate_mse_loss = torch.Tensor([0]).to(DEVICE)\n",
    "    for i, (adj, opp_adj) in enumerate(zip(adj_ls[:-1], opp_adj_ls[1:][::-1])):\n",
    "        intermediate_mse_loss = intermediate_mse_loss + weights[i] * mse_loss_fn(adj, opp_adj)\n",
    "\n",
    "    total_loss = total_loss + alpha * final_mse_loss + (1-alpha) * intermediate_mse_loss\n",
    "    # total_loss = total_loss + alpha * final_mse_loss * (1 + intermediate_mse_loss) * (gamma ** 2)\n",
    "    # total_loss = total_loss + (1-alpha) * intermediate_mse_loss * (beta ** 2)\n",
    "        \n",
    "\n",
    "    # gt_loss = torch.Tensor([0]).to(DEVICE)\n",
    "    # for i, (adj, opp_adj) in enumerate(zip(adj_ls, opp_adj_ls[::-1])):\n",
    "\n",
    "    #     ### NOTE TEMPORARY MEASURE BECAUSE THEY TAKE IN (BATCHSIZE, xx, xx) shape ####\n",
    "    #     temp_adj = adj.reshape(1, *adj.shape)\n",
    "    #     temp_opp_adj = opp_adj.reshape(1, *opp_adj.shape)\n",
    "    #     ##########################################################\n",
    "    #     gt_loss = gt_loss + GT_loss(temp_adj, temp_opp_adj)\n",
    "\n",
    "    # gt_loss = gt_loss / n\n",
    "        \n",
    "    return total_loss\n",
    "\n",
    "def up_loss_fn(up_adj_ls, down_adj_ls,  epoch, a=0.5, b=0.95, c=0.02): #modified\n",
    "    total_loss = torch.Tensor([0]).to(DEVICE)\n",
    "    mse_loss_fn = nn.MSELoss()\n",
    "\n",
    "    # calculate the loss for the upper traingle of the matrix because thats what we care about\n",
    "    final_dim = up_adj_ls[-1].shape[-1]\n",
    "    upper_tri_idx = torch.triu_indices(final_dim, final_dim, offset=1)\n",
    "    final_upper_tri_adj = up_adj_ls[-1][:,upper_tri_idx.unbind()[0], upper_tri_idx.unbind()[1]]\n",
    "    final_upper_tri_other_adj = down_adj_ls[0][:,upper_tri_idx.unbind()[0], upper_tri_idx.unbind()[1]]\n",
    "    final_mse_loss = mse_loss_fn(final_upper_tri_adj, final_upper_tri_other_adj)\n",
    "\n",
    "    n = len(up_adj_ls[:-1])\n",
    "    weights = torch.Tensor([2*(i+1)/(n*(n+1)) for i in range(n)])\n",
    "    \n",
    "    # calculate the loss for the remaining intermediate adjacent matrices\n",
    "    intermediate_mse_loss = torch.Tensor([0]).to(DEVICE)\n",
    "    for i, (up_adj, down_adj) in enumerate(zip(up_adj_ls[:-1], down_adj_ls[1:][::-1])):\n",
    "        intermediate_mse_loss = intermediate_mse_loss + weights[i] * mse_loss_fn(up_adj, down_adj)\n",
    "\n",
    "    alpha = (1 - np.exp(-c * epoch)) * (a - b) + b #modified\n",
    "\n",
    "    total_loss = total_loss + alpha * final_mse_loss + (1-alpha) * intermediate_mse_loss #modified\n",
    "    return total_loss\n",
    "\n",
    "def down_loss_fn(down_adj_ls, up_adj_ls):\n",
    "    total_loss = torch.Tensor([0]).to(DEVICE)\n",
    "    mse_loss_fn = nn.MSELoss()\n",
    "\n",
    "    n = len(down_adj_ls[:])\n",
    "    weights = torch.Tensor([1/n for i in range(n)])\n",
    "    \n",
    "    # calculate the loss for the remaining intermediate adjacent matrices\n",
    "    for i, (down_adj, up_adj) in enumerate(zip(down_adj_ls[:], up_adj_ls[::-1])):\n",
    "        total_loss = total_loss + weights[i] * mse_loss_fn(down_adj, up_adj)\n",
    "\n",
    "    return total_loss\n",
    "    \n",
    "def reconstruction_loss_fn(gt_adj, pred_adj):\n",
    "    l1_loss_fn = nn.L1Loss()\n",
    "    return l1_loss_fn(gt_adj, pred_adj)\n",
    "\n",
    "def end_adj_loss_calc(adj, opp_adj):\n",
    "    mae_loss_fn = torch.nn.L1Loss()\n",
    "    n = len(adj)\n",
    "    upper_tri_idx = torch.triu_indices(n, n, offset=1)\n",
    "    upper_tri_adj = adj.detach()[upper_tri_idx.unbind()]\n",
    "    upper_tri_opp_adj = opp_adj.detach()[upper_tri_idx.unbind()]\n",
    "    mae_loss = mae_loss_fn(upper_tri_adj, upper_tri_opp_adj)\n",
    "    # temp_adj = adj.reshape(1, *adj.shape)\n",
    "    # temp_opp_adj = opp_adj.reshape(1, *opp_adj.shape)\n",
    "    # gt_loss = GT_loss(temp_adj, temp_opp_adj)\n",
    "    return mae_loss.detach().item()"
   ]
  },
  {
   "cell_type": "markdown",
   "metadata": {},
   "source": [
    "# Training"
   ]
  },
  {
   "cell_type": "code",
   "execution_count": 38,
   "metadata": {},
   "outputs": [
    {
     "data": {
      "text/plain": [
       "6673868"
      ]
     },
     "execution_count": 38,
     "metadata": {},
     "output_type": "execute_result"
    }
   ],
   "source": [
    "trainloader = DataLoader(list(zip(lr_X_dim1, lr_X_dim3, lr_train, hr_X_dim1, hr_X_dim3, hr_train)), shuffle=True, batch_size=16)\n",
    "testloader = DataLoader(list(zip(lr_X_dim1_test, lr_X_dim3, lr_test)), shuffle=True, batch_size=32)\n",
    "\n",
    "dim_steps = generate_steps(num_steps=12)\n",
    "channels_ls = [32, 64]\n",
    "\n",
    "up_changer = AdjacencyDimChanger(dim_steps, channels_ls).to(DEVICE)\n",
    "down_changer = AdjacencyDimChanger(dim_steps[::-1], channels_ls).to(DEVICE)\n",
    "\n",
    "up_optimizer = torch.optim.AdamW(up_changer.parameters(), lr=0.0025, betas=(0.5, 0.999))\n",
    "down_optimizer = torch.optim.AdamW(down_changer.parameters(), lr=0.0025, betas=(0.5, 0.999))\n",
    "reconstruction_optimizer = torch.optim.AdamW(list(up_changer.parameters()) + list(down_changer.parameters()), lr=0.0025, betas=(0.5, 0.999))\n",
    "\n",
    "sum(p.numel() for model in [up_changer, down_changer] for p in model.parameters())\n"
   ]
  },
  {
   "cell_type": "code",
   "execution_count": 11,
   "metadata": {},
   "outputs": [],
   "source": [
    "import gc\n",
    "\n",
    "def train(epochs, up_changer, down_changer, trainloader, up_optimizer, down_optimizer, reconstruction_optimizer, completed_epochs=0, loss_log=None):\n",
    "\n",
    "    if loss_log is None:\n",
    "        loss_log = {'up': [], 'down': [], 'up_end_mae':[], 'down_end_mae':[]}\n",
    "\n",
    "    up_changer.train()\n",
    "    down_changer.train()   \n",
    "\n",
    "    #epoch_weight = 1\n",
    "    for epoch in range(epochs):\n",
    "\n",
    "        up_losses = []\n",
    "        up_final_mae_ls = []\n",
    "        down_final_mae_ls = []\n",
    "        down_losses = []\n",
    "        reconstruction_losses = []\n",
    "            \n",
    "        #if (epoch + 1) % 10 == 0:\n",
    "        #    epoch_weight = # modified\n",
    "\n",
    "\n",
    "        for X_lr, Y_lr, adj_lr, X_hr, Y_hr, adj_hr in tqdm(trainloader):\n",
    "            gc.collect()\n",
    "            freeze_model(up_changer)\n",
    "            unfreeze_model(down_changer)\n",
    "        \n",
    "            down_optimizer.zero_grad()\n",
    "\n",
    "            \n",
    "            up_adj_ls = up_changer(X_lr.to(DEVICE), Y_lr.to(DEVICE), adj_lr.to(DEVICE))\n",
    "            torch.cuda.empty_cache()\n",
    "            down_adj_ls = down_changer(X_hr.to(DEVICE), Y_hr.to(DEVICE), adj_hr.to(DEVICE))\n",
    "            torch.cuda.empty_cache()\n",
    "\n",
    "            down_loss = down_loss_fn(down_adj_ls[1:], up_adj_ls[:-1])\n",
    "        \n",
    "            # for printing loss only\n",
    "            down_final_mae_ls.append(end_adj_loss_calc(down_adj_ls[-1].detach(), up_adj_ls[0].detach()))\n",
    "            torch.cuda.empty_cache()\n",
    "            \n",
    "            # del down_end_adj_gt_loss\n",
    "            down_loss.backward()\n",
    "            down_optimizer.step()\n",
    "\n",
    "            down_losses.append(down_loss.detach().item())\n",
    "            del down_loss\n",
    "            torch.cuda.empty_cache()\n",
    "\n",
    "            unfreeze_model(up_changer)\n",
    "            freeze_model(down_changer)\n",
    "        \n",
    "            up_optimizer.zero_grad()\n",
    "\n",
    "            up_adj_ls = up_changer(X_lr.to(DEVICE), Y_lr.to(DEVICE), adj_lr.to(DEVICE))\n",
    "            torch.cuda.empty_cache()\n",
    "            down_adj_ls = down_changer(X_hr.to(DEVICE), Y_hr.to(DEVICE), adj_hr.to(DEVICE))\n",
    "            torch.cuda.empty_cache()\n",
    "        \n",
    "            up_loss = up_loss_fn(up_adj_ls[1:], down_adj_ls[:-1], epoch=epoch)\n",
    "            \n",
    "            # for printing loss only\n",
    "            up_final_mae_ls.append(end_adj_loss_calc(up_adj_ls[-1].detach(), down_adj_ls[0].detach()))\n",
    "            torch.cuda.empty_cache()\n",
    "\n",
    "            \n",
    "            up_loss.backward()\n",
    "            up_optimizer.step()\n",
    "\n",
    "            up_losses.append(up_loss.detach().item())\n",
    "            del up_loss\n",
    "            torch.cuda.empty_cache()\n",
    "\n",
    "            unfreeze_model(up_changer)\n",
    "            unfreeze_model(down_changer)\n",
    "\n",
    "            reconstruction_optimizer.zero_grad()\n",
    "\n",
    "            down_adj_end = down_changer(X_hr.to(DEVICE), Y_hr.to(DEVICE), adj_hr.to(DEVICE))[-1]\n",
    "            torch.cuda.empty_cache()\n",
    "\n",
    "            up_adj_end = up_changer(X_lr.to(DEVICE), Y_lr.to(DEVICE), down_adj_ls[-1])[-1]\n",
    "            torch.cuda.empty_cache()\n",
    "\n",
    "            reconstruction_loss = reconstruction_loss_fn(up_adj_end, adj_hr.to(DEVICE))\n",
    "            reconstruction_loss.backward()\n",
    "            reconstruction_optimizer.step()\n",
    "            torch.cuda.empty_cache()\n",
    "\n",
    "        \n",
    "            reconstruction_losses.append(reconstruction_loss.detach().item())\n",
    "            del reconstruction_loss\n",
    "            torch.cuda.empty_cache()\n",
    "\n",
    "            gc.collect()\n",
    "        \n",
    "        epoch_up_loss = np.mean(up_losses)\n",
    "        epoch_down_loss = np.mean(down_losses)\n",
    "        epoch_reconstruction_loss = np.mean(reconstruction_losses)\n",
    "        epoch_up_final_mae = np.mean(up_final_mae_ls)\n",
    "        epoch_down_final_mae = np.mean(down_final_mae_ls)\n",
    "        \n",
    "        loss_log['up'].append(epoch_up_loss)\n",
    "        loss_log['down'].append(epoch_down_loss)\n",
    "        loss_log['up_end_mae'].append(epoch_up_final_mae)\n",
    "        loss_log['down_end_mae'].append(epoch_down_final_mae)\n",
    "\n",
    "        print(f'ep {epoch}: down loss = {epoch_down_loss}, up loss = {epoch_up_loss}, reconst.loss = {epoch_reconstruction_loss}, down adj mae = {epoch_down_final_mae}, up adj mae = {epoch_up_final_mae}')\n",
    "\n",
    "\n",
    "    return up_changer, down_changer, loss_log\n"
   ]
  },
  {
   "cell_type": "code",
   "execution_count": 28,
   "metadata": {},
   "outputs": [
    {
     "name": "stderr",
     "output_type": "stream",
     "text": [
      "100%|██████████| 11/11 [00:24<00:00,  2.21s/it]\n"
     ]
    },
    {
     "name": "stdout",
     "output_type": "stream",
     "text": [
      "ep 0: down loss = 0.19958508962934668, up loss = 0.1444329030134461, reconst.loss = 0.2873575728047978, down adj mae = 0.2550216723572124, up adj mae = 0.29841550371863623\n"
     ]
    },
    {
     "name": "stderr",
     "output_type": "stream",
     "text": [
      "100%|██████████| 11/11 [00:22<00:00,  2.03s/it]\n"
     ]
    },
    {
     "name": "stdout",
     "output_type": "stream",
     "text": [
      "ep 1: down loss = 0.17630724202502857, up loss = 0.11211663416840813, reconst.loss = 0.24656351994384418, down adj mae = 0.23042452064427463, up adj mae = 0.2583832469853488\n"
     ]
    },
    {
     "name": "stderr",
     "output_type": "stream",
     "text": [
      "100%|██████████| 11/11 [00:22<00:00,  2.00s/it]\n"
     ]
    },
    {
     "name": "stdout",
     "output_type": "stream",
     "text": [
      "ep 2: down loss = 0.16545250740918246, up loss = 0.0943763865665956, reconst.loss = 0.2195943295955658, down adj mae = 0.22246170043945312, up adj mae = 0.23123186826705933\n"
     ]
    },
    {
     "name": "stderr",
     "output_type": "stream",
     "text": [
      "100%|██████████| 11/11 [00:21<00:00,  2.00s/it]\n"
     ]
    },
    {
     "name": "stdout",
     "output_type": "stream",
     "text": [
      "ep 3: down loss = 0.15273935415528037, up loss = 0.07914493368430571, reconst.loss = 0.19602766091173346, down adj mae = 0.212913686578924, up adj mae = 0.20267604020508853\n"
     ]
    },
    {
     "name": "stderr",
     "output_type": "stream",
     "text": [
      "100%|██████████| 11/11 [00:21<00:00,  1.95s/it]\n"
     ]
    },
    {
     "name": "stdout",
     "output_type": "stream",
     "text": [
      "ep 4: down loss = 0.1457446190443906, up loss = 0.06983761218461124, reconst.loss = 0.1790506677194075, down adj mae = 0.19895157082514328, up adj mae = 0.18420512703332034\n"
     ]
    },
    {
     "name": "stderr",
     "output_type": "stream",
     "text": [
      "100%|██████████| 11/11 [00:21<00:00,  1.97s/it]\n"
     ]
    },
    {
     "name": "stdout",
     "output_type": "stream",
     "text": [
      "ep 5: down loss = 0.13923707604408264, up loss = 0.06405107846314256, reconst.loss = 0.17186274040829053, down adj mae = 0.19163602590560913, up adj mae = 0.17092024060812863\n"
     ]
    },
    {
     "name": "stderr",
     "output_type": "stream",
     "text": [
      "100%|██████████| 11/11 [00:20<00:00,  1.86s/it]\n"
     ]
    },
    {
     "name": "stdout",
     "output_type": "stream",
     "text": [
      "ep 6: down loss = 0.13149936361746353, up loss = 0.06168524717742747, reconst.loss = 0.16474448415366086, down adj mae = 0.19007838449694894, up adj mae = 0.16779828748919748\n"
     ]
    },
    {
     "name": "stderr",
     "output_type": "stream",
     "text": [
      "100%|██████████| 11/11 [00:20<00:00,  1.87s/it]\n"
     ]
    },
    {
     "name": "stdout",
     "output_type": "stream",
     "text": [
      "ep 7: down loss = 0.1271307956088673, up loss = 0.06026267903772267, reconst.loss = 0.16490484096787192, down adj mae = 0.1728405085476962, up adj mae = 0.15855771032246677\n"
     ]
    },
    {
     "name": "stderr",
     "output_type": "stream",
     "text": [
      "100%|██████████| 11/11 [00:20<00:00,  1.85s/it]\n"
     ]
    },
    {
     "name": "stdout",
     "output_type": "stream",
     "text": [
      "ep 8: down loss = 0.11846224895932457, up loss = 0.0578379211100665, reconst.loss = 0.1589286137710918, down adj mae = 0.16433664749969135, up adj mae = 0.156422113830393\n"
     ]
    },
    {
     "name": "stderr",
     "output_type": "stream",
     "text": [
      "100%|██████████| 11/11 [00:20<00:00,  1.84s/it]\n"
     ]
    },
    {
     "name": "stdout",
     "output_type": "stream",
     "text": [
      "ep 9: down loss = 0.10548177564685995, up loss = 0.05242473428899592, reconst.loss = 0.15431655672463504, down adj mae = 0.16350140354850076, up adj mae = 0.14935076236724854\n"
     ]
    },
    {
     "name": "stderr",
     "output_type": "stream",
     "text": [
      "100%|██████████| 11/11 [00:20<00:00,  1.83s/it]\n"
     ]
    },
    {
     "name": "stdout",
     "output_type": "stream",
     "text": [
      "ep 10: down loss = 0.09665599126707423, up loss = 0.05044945126230067, reconst.loss = 0.1520677168260921, down adj mae = 0.15985486859625037, up adj mae = 0.14975644648075104\n"
     ]
    },
    {
     "name": "stderr",
     "output_type": "stream",
     "text": [
      "100%|██████████| 11/11 [00:20<00:00,  1.86s/it]\n"
     ]
    },
    {
     "name": "stdout",
     "output_type": "stream",
     "text": [
      "ep 11: down loss = 0.08720507743683728, up loss = 0.04917994954369285, reconst.loss = 0.15172205458987842, down adj mae = 0.16220905834978278, up adj mae = 0.15039472011002628\n"
     ]
    },
    {
     "name": "stderr",
     "output_type": "stream",
     "text": [
      "100%|██████████| 11/11 [00:20<00:00,  1.85s/it]\n"
     ]
    },
    {
     "name": "stdout",
     "output_type": "stream",
     "text": [
      "ep 12: down loss = 0.0810599997639656, up loss = 0.048419706523418427, reconst.loss = 0.14917458322915164, down adj mae = 0.1573813720182939, up adj mae = 0.1506378244269978\n"
     ]
    },
    {
     "name": "stderr",
     "output_type": "stream",
     "text": [
      "100%|██████████| 11/11 [00:20<00:00,  1.86s/it]\n"
     ]
    },
    {
     "name": "stdout",
     "output_type": "stream",
     "text": [
      "ep 13: down loss = 0.0747999068010937, up loss = 0.045236782932823356, reconst.loss = 0.14853505383838306, down adj mae = 0.1494771824641661, up adj mae = 0.1432246376167644\n"
     ]
    },
    {
     "name": "stderr",
     "output_type": "stream",
     "text": [
      "100%|██████████| 11/11 [00:20<00:00,  1.85s/it]\n"
     ]
    },
    {
     "name": "stdout",
     "output_type": "stream",
     "text": [
      "ep 14: down loss = 0.07128007032654503, up loss = 0.04541273990815336, reconst.loss = 0.1471002237363295, down adj mae = 0.15213853256268936, up adj mae = 0.14462279189716687\n"
     ]
    },
    {
     "name": "stderr",
     "output_type": "stream",
     "text": [
      "100%|██████████| 11/11 [00:20<00:00,  1.87s/it]\n"
     ]
    },
    {
     "name": "stdout",
     "output_type": "stream",
     "text": [
      "ep 15: down loss = 0.06882819126952779, up loss = 0.043599825013767586, reconst.loss = 0.1451692987572063, down adj mae = 0.15868526832623917, up adj mae = 0.14294241097840396\n"
     ]
    },
    {
     "name": "stderr",
     "output_type": "stream",
     "text": [
      "100%|██████████| 11/11 [00:20<00:00,  1.82s/it]\n"
     ]
    },
    {
     "name": "stdout",
     "output_type": "stream",
     "text": [
      "ep 16: down loss = 0.058424523269588295, up loss = 0.04120536182414402, reconst.loss = 0.14418774978681045, down adj mae = 0.1495481770146977, up adj mae = 0.1440413838083094\n"
     ]
    },
    {
     "name": "stderr",
     "output_type": "stream",
     "text": [
      "100%|██████████| 11/11 [00:19<00:00,  1.77s/it]\n"
     ]
    },
    {
     "name": "stdout",
     "output_type": "stream",
     "text": [
      "ep 17: down loss = 0.053937025368213654, up loss = 0.041700302199883896, reconst.loss = 0.14287075129422275, down adj mae = 0.14592537690292706, up adj mae = 0.14660536023703488\n"
     ]
    },
    {
     "name": "stderr",
     "output_type": "stream",
     "text": [
      "100%|██████████| 11/11 [00:19<00:00,  1.78s/it]\n"
     ]
    },
    {
     "name": "stdout",
     "output_type": "stream",
     "text": [
      "ep 18: down loss = 0.050151440907608376, up loss = 0.03858486461368474, reconst.loss = 0.14309704574671658, down adj mae = 0.15001278573816473, up adj mae = 0.14268351143056696\n"
     ]
    },
    {
     "name": "stderr",
     "output_type": "stream",
     "text": [
      "100%|██████████| 11/11 [00:19<00:00,  1.77s/it]\n"
     ]
    },
    {
     "name": "stdout",
     "output_type": "stream",
     "text": [
      "ep 19: down loss = 0.04403211785988374, up loss = 0.03671772913499312, reconst.loss = 0.14195580915971237, down adj mae = 0.14631915498863568, up adj mae = 0.14063409783623435\n"
     ]
    },
    {
     "name": "stderr",
     "output_type": "stream",
     "text": [
      "100%|██████████| 11/11 [00:18<00:00,  1.70s/it]\n"
     ]
    },
    {
     "name": "stdout",
     "output_type": "stream",
     "text": [
      "ep 20: down loss = 0.041129063814878464, up loss = 0.03592307391491803, reconst.loss = 0.14166605337099594, down adj mae = 0.1460809368978847, up adj mae = 0.1395243609493429\n"
     ]
    },
    {
     "name": "stderr",
     "output_type": "stream",
     "text": [
      "100%|██████████| 11/11 [00:19<00:00,  1.73s/it]\n"
     ]
    },
    {
     "name": "stdout",
     "output_type": "stream",
     "text": [
      "ep 21: down loss = 0.0377562049437653, up loss = 0.03461778163909912, reconst.loss = 0.14033169502561743, down adj mae = 0.14582998373291708, up adj mae = 0.14027230983430689\n"
     ]
    },
    {
     "name": "stderr",
     "output_type": "stream",
     "text": [
      "100%|██████████| 11/11 [00:18<00:00,  1.72s/it]\n"
     ]
    },
    {
     "name": "stdout",
     "output_type": "stream",
     "text": [
      "ep 22: down loss = 0.035323194482109764, up loss = 0.033452717079357666, reconst.loss = 0.140074070204388, down adj mae = 0.14315500042655252, up adj mae = 0.1398703557523814\n"
     ]
    },
    {
     "name": "stderr",
     "output_type": "stream",
     "text": [
      "100%|██████████| 11/11 [00:19<00:00,  1.75s/it]\n"
     ]
    },
    {
     "name": "stdout",
     "output_type": "stream",
     "text": [
      "ep 23: down loss = 0.03590215132995085, up loss = 0.03550464524464174, reconst.loss = 0.14143892445347525, down adj mae = 0.14121476764028723, up adj mae = 0.14005454968322406\n"
     ]
    },
    {
     "name": "stderr",
     "output_type": "stream",
     "text": [
      "100%|██████████| 11/11 [00:19<00:00,  1.76s/it]\n"
     ]
    },
    {
     "name": "stdout",
     "output_type": "stream",
     "text": [
      "ep 24: down loss = 0.03245482830838724, up loss = 0.03307791257446462, reconst.loss = 0.13994736834005875, down adj mae = 0.14304123683409256, up adj mae = 0.13764771954579788\n"
     ]
    },
    {
     "name": "stderr",
     "output_type": "stream",
     "text": [
      "100%|██████████| 11/11 [00:19<00:00,  1.75s/it]\n"
     ]
    },
    {
     "name": "stdout",
     "output_type": "stream",
     "text": [
      "ep 25: down loss = 0.031251768666234886, up loss = 0.032237525352022865, reconst.loss = 0.13970169695940884, down adj mae = 0.1416047608310526, up adj mae = 0.13798353211446243\n"
     ]
    },
    {
     "name": "stderr",
     "output_type": "stream",
     "text": [
      "100%|██████████| 11/11 [00:19<00:00,  1.74s/it]\n"
     ]
    },
    {
     "name": "stdout",
     "output_type": "stream",
     "text": [
      "ep 26: down loss = 0.02788134664297104, up loss = 0.031460190869190476, reconst.loss = 0.1384956200014461, down adj mae = 0.13700903139331125, up adj mae = 0.13680558583953165\n"
     ]
    },
    {
     "name": "stderr",
     "output_type": "stream",
     "text": [
      "100%|██████████| 11/11 [00:18<00:00,  1.72s/it]\n"
     ]
    },
    {
     "name": "stdout",
     "output_type": "stream",
     "text": [
      "ep 27: down loss = 0.025515694679184395, up loss = 0.030474170873110943, reconst.loss = 0.13865780559453098, down adj mae = 0.13847754760222, up adj mae = 0.1375182650306008\n"
     ]
    },
    {
     "name": "stderr",
     "output_type": "stream",
     "text": [
      "100%|██████████| 11/11 [00:19<00:00,  1.76s/it]\n"
     ]
    },
    {
     "name": "stdout",
     "output_type": "stream",
     "text": [
      "ep 28: down loss = 0.023788339881734413, up loss = 0.03002386303110556, reconst.loss = 0.137612215497277, down adj mae = 0.1407063901424408, up adj mae = 0.13750491155819458\n"
     ]
    },
    {
     "name": "stderr",
     "output_type": "stream",
     "text": [
      "100%|██████████| 11/11 [00:18<00:00,  1.71s/it]\n"
     ]
    },
    {
     "name": "stdout",
     "output_type": "stream",
     "text": [
      "ep 29: down loss = 0.023291142318736423, up loss = 0.031249136917970398, reconst.loss = 0.13777280260216107, down adj mae = 0.13781531696969812, up adj mae = 0.1402121822942387\n"
     ]
    },
    {
     "name": "stderr",
     "output_type": "stream",
     "text": [
      "100%|██████████| 11/11 [00:18<00:00,  1.69s/it]\n"
     ]
    },
    {
     "name": "stdout",
     "output_type": "stream",
     "text": [
      "ep 30: down loss = 0.021763548932292244, up loss = 0.0287456348199736, reconst.loss = 0.13721214776689356, down adj mae = 0.13846195963296024, up adj mae = 0.134357174011794\n"
     ]
    },
    {
     "name": "stderr",
     "output_type": "stream",
     "text": [
      "100%|██████████| 11/11 [00:17<00:00,  1.62s/it]\n"
     ]
    },
    {
     "name": "stdout",
     "output_type": "stream",
     "text": [
      "ep 31: down loss = 0.020355066453868694, up loss = 0.028144349936734547, reconst.loss = 0.13800353895534168, down adj mae = 0.13853745636614886, up adj mae = 0.1368074898015369\n"
     ]
    },
    {
     "name": "stderr",
     "output_type": "stream",
     "text": [
      "100%|██████████| 11/11 [00:18<00:00,  1.66s/it]\n"
     ]
    },
    {
     "name": "stdout",
     "output_type": "stream",
     "text": [
      "ep 32: down loss = 0.019811202009970493, up loss = 0.029144043949517338, reconst.loss = 0.13943766734816812, down adj mae = 0.1345340203155171, up adj mae = 0.13467588817531412\n"
     ]
    },
    {
     "name": "stderr",
     "output_type": "stream",
     "text": [
      "100%|██████████| 11/11 [00:18<00:00,  1.72s/it]\n"
     ]
    },
    {
     "name": "stdout",
     "output_type": "stream",
     "text": [
      "ep 33: down loss = 0.01868289861489426, up loss = 0.027809079228477043, reconst.loss = 0.13762959973378616, down adj mae = 0.13601898063312878, up adj mae = 0.13464319299567828\n"
     ]
    },
    {
     "name": "stderr",
     "output_type": "stream",
     "text": [
      "100%|██████████| 11/11 [00:18<00:00,  1.71s/it]\n"
     ]
    },
    {
     "name": "stdout",
     "output_type": "stream",
     "text": [
      "ep 34: down loss = 0.017640001394531944, up loss = 0.02699771811338988, reconst.loss = 0.13670248335058038, down adj mae = 0.1359908411448652, up adj mae = 0.1361357576467774\n"
     ]
    },
    {
     "name": "stderr",
     "output_type": "stream",
     "text": [
      "100%|██████████| 11/11 [00:18<00:00,  1.67s/it]\n"
     ]
    },
    {
     "name": "stdout",
     "output_type": "stream",
     "text": [
      "ep 35: down loss = 0.016544193198735065, up loss = 0.02689096483994614, reconst.loss = 0.13639817048202862, down adj mae = 0.135228769345717, up adj mae = 0.13545651124282318\n"
     ]
    },
    {
     "name": "stderr",
     "output_type": "stream",
     "text": [
      "100%|██████████| 11/11 [00:18<00:00,  1.66s/it]\n"
     ]
    },
    {
     "name": "stdout",
     "output_type": "stream",
     "text": [
      "ep 36: down loss = 0.0163030657409267, up loss = 0.0262191178785129, reconst.loss = 0.13658363575285132, down adj mae = 0.136893092231317, up adj mae = 0.13381167568943717\n"
     ]
    },
    {
     "name": "stderr",
     "output_type": "stream",
     "text": [
      "100%|██████████| 11/11 [00:18<00:00,  1.69s/it]\n"
     ]
    },
    {
     "name": "stdout",
     "output_type": "stream",
     "text": [
      "ep 37: down loss = 0.015402616001665592, up loss = 0.02555289627476172, reconst.loss = 0.13551134954799304, down adj mae = 0.13788764043287796, up adj mae = 0.13617435639554804\n"
     ]
    },
    {
     "name": "stderr",
     "output_type": "stream",
     "text": [
      "100%|██████████| 11/11 [00:18<00:00,  1.67s/it]\n"
     ]
    },
    {
     "name": "stdout",
     "output_type": "stream",
     "text": [
      "ep 38: down loss = 0.014841617593033747, up loss = 0.025939817963676018, reconst.loss = 0.13670212572271173, down adj mae = 0.13855198432098736, up adj mae = 0.13720822740684857\n"
     ]
    },
    {
     "name": "stderr",
     "output_type": "stream",
     "text": [
      "100%|██████████| 11/11 [00:18<00:00,  1.68s/it]\n"
     ]
    },
    {
     "name": "stdout",
     "output_type": "stream",
     "text": [
      "ep 39: down loss = 0.01399335807020014, up loss = 0.025168206881393086, reconst.loss = 0.13598105853254144, down adj mae = 0.13662379844622177, up adj mae = 0.13381072607907382\n"
     ]
    },
    {
     "name": "stderr",
     "output_type": "stream",
     "text": [
      "100%|██████████| 11/11 [00:18<00:00,  1.69s/it]\n"
     ]
    },
    {
     "name": "stdout",
     "output_type": "stream",
     "text": [
      "ep 40: down loss = 0.013516221110793676, up loss = 0.024727446111765774, reconst.loss = 0.1350214102051475, down adj mae = 0.1353769234635613, up adj mae = 0.1344282180070877\n"
     ]
    },
    {
     "name": "stderr",
     "output_type": "stream",
     "text": [
      "100%|██████████| 11/11 [00:18<00:00,  1.69s/it]\n"
     ]
    },
    {
     "name": "stdout",
     "output_type": "stream",
     "text": [
      "ep 41: down loss = 0.012979561039669947, up loss = 0.024371796202930538, reconst.loss = 0.13488126342946832, down adj mae = 0.13781954212622208, up adj mae = 0.13531517847017807\n"
     ]
    },
    {
     "name": "stderr",
     "output_type": "stream",
     "text": [
      "100%|██████████| 11/11 [00:18<00:00,  1.71s/it]\n"
     ]
    },
    {
     "name": "stdout",
     "output_type": "stream",
     "text": [
      "ep 42: down loss = 0.012844024564732204, up loss = 0.024629830636761406, reconst.loss = 0.1364949724890969, down adj mae = 0.1369420967318795, up adj mae = 0.1367672092535279\n"
     ]
    },
    {
     "name": "stderr",
     "output_type": "stream",
     "text": [
      "100%|██████████| 11/11 [00:18<00:00,  1.65s/it]\n"
     ]
    },
    {
     "name": "stdout",
     "output_type": "stream",
     "text": [
      "ep 43: down loss = 0.012241166085004807, up loss = 0.024467126720330933, reconst.loss = 0.13634124262766403, down adj mae = 0.13891670920632102, up adj mae = 0.13611150329763239\n"
     ]
    },
    {
     "name": "stderr",
     "output_type": "stream",
     "text": [
      "100%|██████████| 11/11 [00:17<00:00,  1.62s/it]\n"
     ]
    },
    {
     "name": "stdout",
     "output_type": "stream",
     "text": [
      "ep 44: down loss = 0.012736159884794191, up loss = 0.024092521518468857, reconst.loss = 0.13574736226688733, down adj mae = 0.1425051675601439, up adj mae = 0.13586188446391712\n"
     ]
    },
    {
     "name": "stderr",
     "output_type": "stream",
     "text": [
      "100%|██████████| 11/11 [00:18<00:00,  1.69s/it]\n"
     ]
    },
    {
     "name": "stdout",
     "output_type": "stream",
     "text": [
      "ep 45: down loss = 0.01267293518917127, up loss = 0.023562794043259186, reconst.loss = 0.13486077839677985, down adj mae = 0.14216914637522263, up adj mae = 0.13495285944505173\n"
     ]
    },
    {
     "name": "stderr",
     "output_type": "stream",
     "text": [
      "100%|██████████| 11/11 [00:17<00:00,  1.63s/it]\n"
     ]
    },
    {
     "name": "stdout",
     "output_type": "stream",
     "text": [
      "ep 46: down loss = 0.011370278471572832, up loss = 0.023131693798032673, reconst.loss = 0.13394657319242304, down adj mae = 0.13555566560138355, up adj mae = 0.13200263408097354\n"
     ]
    },
    {
     "name": "stderr",
     "output_type": "stream",
     "text": [
      "100%|██████████| 11/11 [00:17<00:00,  1.61s/it]\n"
     ]
    },
    {
     "name": "stdout",
     "output_type": "stream",
     "text": [
      "ep 47: down loss = 0.01077983994036913, up loss = 0.02292442541908134, reconst.loss = 0.13412663611498746, down adj mae = 0.13683462007479233, up adj mae = 0.13337583298032935\n"
     ]
    },
    {
     "name": "stderr",
     "output_type": "stream",
     "text": [
      "100%|██████████| 11/11 [00:17<00:00,  1.61s/it]\n"
     ]
    },
    {
     "name": "stdout",
     "output_type": "stream",
     "text": [
      "ep 48: down loss = 0.010483444753018293, up loss = 0.022981197488578884, reconst.loss = 0.13471778820861469, down adj mae = 0.13768492909994992, up adj mae = 0.13446210324764252\n"
     ]
    },
    {
     "name": "stderr",
     "output_type": "stream",
     "text": [
      "100%|██████████| 11/11 [00:17<00:00,  1.60s/it]\n"
     ]
    },
    {
     "name": "stdout",
     "output_type": "stream",
     "text": [
      "ep 49: down loss = 0.010296958075328306, up loss = 0.02298876033587889, reconst.loss = 0.13457315076481213, down adj mae = 0.13609821688045154, up adj mae = 0.1339914080771533\n"
     ]
    },
    {
     "name": "stderr",
     "output_type": "stream",
     "text": [
      "100%|██████████| 11/11 [00:17<00:00,  1.61s/it]\n"
     ]
    },
    {
     "name": "stdout",
     "output_type": "stream",
     "text": [
      "ep 50: down loss = 0.010026326741684567, up loss = 0.022937346757812935, reconst.loss = 0.13506665419448505, down adj mae = 0.13624145903370596, up adj mae = 0.13458238677545029\n"
     ]
    },
    {
     "name": "stderr",
     "output_type": "stream",
     "text": [
      "100%|██████████| 11/11 [00:17<00:00,  1.63s/it]\n"
     ]
    },
    {
     "name": "stdout",
     "output_type": "stream",
     "text": [
      "ep 51: down loss = 0.009495282037691637, up loss = 0.022317519580776043, reconst.loss = 0.1342286155982451, down adj mae = 0.13433379883115942, up adj mae = 0.1351373791694641\n"
     ]
    },
    {
     "name": "stderr",
     "output_type": "stream",
     "text": [
      "100%|██████████| 11/11 [00:17<00:00,  1.58s/it]\n"
     ]
    },
    {
     "name": "stdout",
     "output_type": "stream",
     "text": [
      "ep 52: down loss = 0.009227634238248522, up loss = 0.022312126037749378, reconst.loss = 0.13464958830313248, down adj mae = 0.1367225633426146, up adj mae = 0.13540007241747595\n"
     ]
    },
    {
     "name": "stderr",
     "output_type": "stream",
     "text": [
      "100%|██████████| 11/11 [00:17<00:00,  1.63s/it]\n"
     ]
    },
    {
     "name": "stdout",
     "output_type": "stream",
     "text": [
      "ep 53: down loss = 0.008931450376456434, up loss = 0.02184240570799871, reconst.loss = 0.1340675882317803, down adj mae = 0.1351292607459155, up adj mae = 0.1344721574674953\n"
     ]
    },
    {
     "name": "stderr",
     "output_type": "stream",
     "text": [
      "100%|██████████| 11/11 [00:17<00:00,  1.57s/it]\n"
     ]
    },
    {
     "name": "stdout",
     "output_type": "stream",
     "text": [
      "ep 54: down loss = 0.008788432417945429, up loss = 0.02193684842098843, reconst.loss = 0.13381530886346643, down adj mae = 0.13974114846099506, up adj mae = 0.13738478991118344\n"
     ]
    },
    {
     "name": "stderr",
     "output_type": "stream",
     "text": [
      "100%|██████████| 11/11 [00:17<00:00,  1.62s/it]\n"
     ]
    },
    {
     "name": "stdout",
     "output_type": "stream",
     "text": [
      "ep 55: down loss = 0.008645717477933927, up loss = 0.02200887860222296, reconst.loss = 0.13444953615015204, down adj mae = 0.13526033000512558, up adj mae = 0.13399947502396323\n"
     ]
    },
    {
     "name": "stderr",
     "output_type": "stream",
     "text": [
      "100%|██████████| 11/11 [00:17<00:00,  1.60s/it]\n"
     ]
    },
    {
     "name": "stdout",
     "output_type": "stream",
     "text": [
      "ep 56: down loss = 0.008522858335213228, up loss = 0.02132270197299394, reconst.loss = 0.13338726894422012, down adj mae = 0.13567411764101547, up adj mae = 0.13368849049914966\n"
     ]
    },
    {
     "name": "stderr",
     "output_type": "stream",
     "text": [
      "100%|██████████| 11/11 [00:17<00:00,  1.57s/it]\n"
     ]
    },
    {
     "name": "stdout",
     "output_type": "stream",
     "text": [
      "ep 57: down loss = 0.008298331532966007, up loss = 0.022214213216846638, reconst.loss = 0.13456836478276687, down adj mae = 0.13264846327629956, up adj mae = 0.13420014557513324\n"
     ]
    },
    {
     "name": "stderr",
     "output_type": "stream",
     "text": [
      "100%|██████████| 11/11 [00:17<00:00,  1.59s/it]\n"
     ]
    },
    {
     "name": "stdout",
     "output_type": "stream",
     "text": [
      "ep 58: down loss = 0.008362213318998163, up loss = 0.021685391156510872, reconst.loss = 0.1350132105025378, down adj mae = 0.13461402194066482, up adj mae = 0.1326474594798955\n"
     ]
    },
    {
     "name": "stderr",
     "output_type": "stream",
     "text": [
      "100%|██████████| 11/11 [00:17<00:00,  1.60s/it]\n"
     ]
    },
    {
     "name": "stdout",
     "output_type": "stream",
     "text": [
      "ep 59: down loss = 0.00816670415753668, up loss = 0.02141731232404709, reconst.loss = 0.13399159772829575, down adj mae = 0.1362340192903172, up adj mae = 0.13579438084905798\n"
     ]
    },
    {
     "name": "stderr",
     "output_type": "stream",
     "text": [
      "100%|██████████| 11/11 [00:17<00:00,  1.59s/it]\n"
     ]
    },
    {
     "name": "stdout",
     "output_type": "stream",
     "text": [
      "ep 60: down loss = 0.0077323504638942804, up loss = 0.02086639099500396, reconst.loss = 0.13340216062285684, down adj mae = 0.13561097261580554, up adj mae = 0.13406370783394034\n"
     ]
    },
    {
     "name": "stderr",
     "output_type": "stream",
     "text": [
      "100%|██████████| 11/11 [00:17<00:00,  1.60s/it]\n"
     ]
    },
    {
     "name": "stdout",
     "output_type": "stream",
     "text": [
      "ep 61: down loss = 0.007881848607212305, up loss = 0.021080545234409245, reconst.loss = 0.13476903872056442, down adj mae = 0.1321423886851831, up adj mae = 0.13191952759569342\n"
     ]
    },
    {
     "name": "stderr",
     "output_type": "stream",
     "text": [
      "100%|██████████| 11/11 [00:17<00:00,  1.57s/it]\n"
     ]
    },
    {
     "name": "stdout",
     "output_type": "stream",
     "text": [
      "ep 62: down loss = 0.007791300431232561, up loss = 0.021605505015362392, reconst.loss = 0.13545463572848926, down adj mae = 0.13598020374774933, up adj mae = 0.1341502463275736\n"
     ]
    },
    {
     "name": "stderr",
     "output_type": "stream",
     "text": [
      "100%|██████████| 11/11 [00:17<00:00,  1.56s/it]\n"
     ]
    },
    {
     "name": "stdout",
     "output_type": "stream",
     "text": [
      "ep 63: down loss = 0.007822518490932205, up loss = 0.02098918790844354, reconst.loss = 0.13400023091923108, down adj mae = 0.13378407602960413, up adj mae = 0.13285774669863962\n"
     ]
    },
    {
     "name": "stderr",
     "output_type": "stream",
     "text": [
      "100%|██████████| 11/11 [00:17<00:00,  1.57s/it]\n"
     ]
    },
    {
     "name": "stdout",
     "output_type": "stream",
     "text": [
      "ep 64: down loss = 0.008667768487198786, up loss = 0.021239241246472706, reconst.loss = 0.13438171419230374, down adj mae = 0.13467084684155203, up adj mae = 0.13396432995796204\n"
     ]
    },
    {
     "name": "stderr",
     "output_type": "stream",
     "text": [
      "100%|██████████| 11/11 [00:17<00:00,  1.55s/it]\n"
     ]
    },
    {
     "name": "stdout",
     "output_type": "stream",
     "text": [
      "ep 65: down loss = 0.007437324109063907, up loss = 0.021049416878006676, reconst.loss = 0.13528963517058978, down adj mae = 0.13803386417302219, up adj mae = 0.13544983619993384\n"
     ]
    },
    {
     "name": "stderr",
     "output_type": "stream",
     "text": [
      "100%|██████████| 11/11 [00:17<00:00,  1.60s/it]\n"
     ]
    },
    {
     "name": "stdout",
     "output_type": "stream",
     "text": [
      "ep 66: down loss = 0.0070486686785112725, up loss = 0.020497804507613182, reconst.loss = 0.13371496444398706, down adj mae = 0.13661290569738907, up adj mae = 0.13594174520535904\n"
     ]
    },
    {
     "name": "stderr",
     "output_type": "stream",
     "text": [
      "100%|██████████| 11/11 [00:17<00:00,  1.59s/it]\n"
     ]
    },
    {
     "name": "stdout",
     "output_type": "stream",
     "text": [
      "ep 67: down loss = 0.006736220537938855, up loss = 0.020397426560521126, reconst.loss = 0.13432420519265262, down adj mae = 0.134259202263572, up adj mae = 0.1332807405428453\n"
     ]
    },
    {
     "name": "stderr",
     "output_type": "stream",
     "text": [
      "100%|██████████| 11/11 [00:17<00:00,  1.59s/it]\n"
     ]
    },
    {
     "name": "stdout",
     "output_type": "stream",
     "text": [
      "ep 68: down loss = 0.006615948609330438, up loss = 0.020062735642899166, reconst.loss = 0.13374692608009686, down adj mae = 0.13288003748113458, up adj mae = 0.1315090615640987\n"
     ]
    },
    {
     "name": "stderr",
     "output_type": "stream",
     "text": [
      "100%|██████████| 11/11 [00:17<00:00,  1.62s/it]\n"
     ]
    },
    {
     "name": "stdout",
     "output_type": "stream",
     "text": [
      "ep 69: down loss = 0.006539071232757785, up loss = 0.01987006887793541, reconst.loss = 0.1328544928268953, down adj mae = 0.13336777619340204, up adj mae = 0.1329035460948944\n"
     ]
    },
    {
     "name": "stderr",
     "output_type": "stream",
     "text": [
      "100%|██████████| 11/11 [00:17<00:00,  1.60s/it]\n"
     ]
    },
    {
     "name": "stdout",
     "output_type": "stream",
     "text": [
      "ep 70: down loss = 0.006454702678390525, up loss = 0.020133845169435848, reconst.loss = 0.13373917476697403, down adj mae = 0.13479048352349887, up adj mae = 0.13344114612449298\n"
     ]
    },
    {
     "name": "stderr",
     "output_type": "stream",
     "text": [
      "100%|██████████| 11/11 [00:17<00:00,  1.62s/it]\n"
     ]
    },
    {
     "name": "stdout",
     "output_type": "stream",
     "text": [
      "ep 71: down loss = 0.006537289528006857, up loss = 0.01995591057295149, reconst.loss = 0.13373865729028528, down adj mae = 0.13560907542705536, up adj mae = 0.13481476225636221\n"
     ]
    },
    {
     "name": "stderr",
     "output_type": "stream",
     "text": [
      "100%|██████████| 11/11 [00:17<00:00,  1.61s/it]\n"
     ]
    },
    {
     "name": "stdout",
     "output_type": "stream",
     "text": [
      "ep 72: down loss = 0.006294838830151341, up loss = 0.019592113115570763, reconst.loss = 0.13347471437670969, down adj mae = 0.1355207616632635, up adj mae = 0.13202162764289163\n"
     ]
    },
    {
     "name": "stderr",
     "output_type": "stream",
     "text": [
      "100%|██████████| 11/11 [00:17<00:00,  1.63s/it]\n"
     ]
    },
    {
     "name": "stdout",
     "output_type": "stream",
     "text": [
      "ep 73: down loss = 0.006305207667702978, up loss = 0.019583449444987557, reconst.loss = 0.13332487913695248, down adj mae = 0.13656452840024774, up adj mae = 0.13283877548846332\n"
     ]
    },
    {
     "name": "stderr",
     "output_type": "stream",
     "text": [
      "100%|██████████| 11/11 [00:17<00:00,  1.56s/it]\n"
     ]
    },
    {
     "name": "stdout",
     "output_type": "stream",
     "text": [
      "ep 74: down loss = 0.006029948126524687, up loss = 0.01946115324443037, reconst.loss = 0.13290731473402542, down adj mae = 0.1345196325670589, up adj mae = 0.13397087427702817\n"
     ]
    },
    {
     "name": "stderr",
     "output_type": "stream",
     "text": [
      "100%|██████████| 11/11 [00:16<00:00,  1.54s/it]\n"
     ]
    },
    {
     "name": "stdout",
     "output_type": "stream",
     "text": [
      "ep 75: down loss = 0.006077770482410084, up loss = 0.019370105286890812, reconst.loss = 0.13303431055762552, down adj mae = 0.1349634440107779, up adj mae = 0.13235597041520206\n"
     ]
    },
    {
     "name": "stderr",
     "output_type": "stream",
     "text": [
      "100%|██████████| 11/11 [00:17<00:00,  1.55s/it]\n"
     ]
    },
    {
     "name": "stdout",
     "output_type": "stream",
     "text": [
      "ep 76: down loss = 0.005992482204667546, up loss = 0.019110706888816574, reconst.loss = 0.1325329447334463, down adj mae = 0.13272338563745673, up adj mae = 0.13177355378866196\n"
     ]
    },
    {
     "name": "stderr",
     "output_type": "stream",
     "text": [
      "100%|██████████| 11/11 [00:16<00:00,  1.50s/it]\n"
     ]
    },
    {
     "name": "stdout",
     "output_type": "stream",
     "text": [
      "ep 77: down loss = 0.005841077263043685, up loss = 0.019544514404101807, reconst.loss = 0.13424120437015186, down adj mae = 0.1371017260984941, up adj mae = 0.1360377479683269\n"
     ]
    },
    {
     "name": "stderr",
     "output_type": "stream",
     "text": [
      "100%|██████████| 11/11 [00:17<00:00,  1.55s/it]\n"
     ]
    },
    {
     "name": "stdout",
     "output_type": "stream",
     "text": [
      "ep 78: down loss = 0.005688700909641656, up loss = 0.019076957790689034, reconst.loss = 0.13338929279284042, down adj mae = 0.13265745003115048, up adj mae = 0.13163599507375198\n"
     ]
    },
    {
     "name": "stderr",
     "output_type": "stream",
     "text": [
      "100%|██████████| 11/11 [00:17<00:00,  1.55s/it]\n"
     ]
    },
    {
     "name": "stdout",
     "output_type": "stream",
     "text": [
      "ep 79: down loss = 0.005476749883118001, up loss = 0.01895052126862786, reconst.loss = 0.13299482518976385, down adj mae = 0.13296238400719382, up adj mae = 0.1318112604997375\n"
     ]
    },
    {
     "name": "stderr",
     "output_type": "stream",
     "text": [
      "100%|██████████| 11/11 [00:16<00:00,  1.54s/it]\n"
     ]
    },
    {
     "name": "stdout",
     "output_type": "stream",
     "text": [
      "ep 80: down loss = 0.005453164181248708, up loss = 0.018959992141886192, reconst.loss = 0.13261269439350476, down adj mae = 0.13536536422642795, up adj mae = 0.13247244940562683\n"
     ]
    },
    {
     "name": "stderr",
     "output_type": "stream",
     "text": [
      "100%|██████████| 11/11 [00:16<00:00,  1.52s/it]\n"
     ]
    },
    {
     "name": "stdout",
     "output_type": "stream",
     "text": [
      "ep 81: down loss = 0.005373521580953489, up loss = 0.018768141384829174, reconst.loss = 0.13253608345985413, down adj mae = 0.13464036922563205, up adj mae = 0.13255139846693387\n"
     ]
    },
    {
     "name": "stderr",
     "output_type": "stream",
     "text": [
      "100%|██████████| 11/11 [00:16<00:00,  1.52s/it]\n"
     ]
    },
    {
     "name": "stdout",
     "output_type": "stream",
     "text": [
      "ep 82: down loss = 0.005274727051569657, up loss = 0.01871059750291434, reconst.loss = 0.1330597989938476, down adj mae = 0.13391220366412943, up adj mae = 0.132929035208442\n"
     ]
    },
    {
     "name": "stderr",
     "output_type": "stream",
     "text": [
      "100%|██████████| 11/11 [00:16<00:00,  1.48s/it]\n"
     ]
    },
    {
     "name": "stdout",
     "output_type": "stream",
     "text": [
      "ep 83: down loss = 0.005248036447235129, up loss = 0.018573924899101257, reconst.loss = 0.13284578648480502, down adj mae = 0.1326357451352206, up adj mae = 0.13103307377208362\n"
     ]
    },
    {
     "name": "stderr",
     "output_type": "stream",
     "text": [
      "100%|██████████| 11/11 [00:16<00:00,  1.51s/it]\n"
     ]
    },
    {
     "name": "stdout",
     "output_type": "stream",
     "text": [
      "ep 84: down loss = 0.005188854665241458, up loss = 0.018368397416038948, reconst.loss = 0.13250727477398785, down adj mae = 0.13431015475229782, up adj mae = 0.13159295306964355\n"
     ]
    },
    {
     "name": "stderr",
     "output_type": "stream",
     "text": [
      "100%|██████████| 11/11 [00:16<00:00,  1.50s/it]\n"
     ]
    },
    {
     "name": "stdout",
     "output_type": "stream",
     "text": [
      "ep 85: down loss = 0.005126107526435094, up loss = 0.018447723747654396, reconst.loss = 0.13261124220761386, down adj mae = 0.1307698298584331, up adj mae = 0.13049059903079813\n"
     ]
    },
    {
     "name": "stderr",
     "output_type": "stream",
     "text": [
      "100%|██████████| 11/11 [00:16<00:00,  1.54s/it]\n"
     ]
    },
    {
     "name": "stdout",
     "output_type": "stream",
     "text": [
      "ep 86: down loss = 0.004992801315066489, up loss = 0.018279559232971886, reconst.loss = 0.13244918259707364, down adj mae = 0.13258664309978485, up adj mae = 0.13126107102090662\n"
     ]
    },
    {
     "name": "stderr",
     "output_type": "stream",
     "text": [
      "100%|██████████| 11/11 [00:17<00:00,  1.55s/it]\n"
     ]
    },
    {
     "name": "stdout",
     "output_type": "stream",
     "text": [
      "ep 87: down loss = 0.0049983768893236465, up loss = 0.0181583125482906, reconst.loss = 0.1320877969264984, down adj mae = 0.13558783449909903, up adj mae = 0.1333455036986958\n"
     ]
    },
    {
     "name": "stderr",
     "output_type": "stream",
     "text": [
      "100%|██████████| 11/11 [00:17<00:00,  1.59s/it]\n"
     ]
    },
    {
     "name": "stdout",
     "output_type": "stream",
     "text": [
      "ep 88: down loss = 0.005033693826672706, up loss = 0.01843076537955891, reconst.loss = 0.13306572626937518, down adj mae = 0.1313410916111686, up adj mae = 0.13141880116679452\n"
     ]
    },
    {
     "name": "stderr",
     "output_type": "stream",
     "text": [
      "100%|██████████| 11/11 [00:17<00:00,  1.58s/it]\n"
     ]
    },
    {
     "name": "stdout",
     "output_type": "stream",
     "text": [
      "ep 89: down loss = 0.004789840006692843, up loss = 0.01803105070509694, reconst.loss = 0.13216755200516095, down adj mae = 0.1333301067352295, up adj mae = 0.132003630426797\n"
     ]
    },
    {
     "name": "stderr",
     "output_type": "stream",
     "text": [
      "100%|██████████| 11/11 [00:17<00:00,  1.58s/it]\n"
     ]
    },
    {
     "name": "stdout",
     "output_type": "stream",
     "text": [
      "ep 90: down loss = 0.00475148738107898, up loss = 0.017964974892410366, reconst.loss = 0.13198182664134286, down adj mae = 0.1324122832580046, up adj mae = 0.13046901537613434\n"
     ]
    },
    {
     "name": "stderr",
     "output_type": "stream",
     "text": [
      "100%|██████████| 11/11 [00:17<00:00,  1.55s/it]\n"
     ]
    },
    {
     "name": "stdout",
     "output_type": "stream",
     "text": [
      "ep 91: down loss = 0.004705509382554076, up loss = 0.01803158816288818, reconst.loss = 0.1323934400623495, down adj mae = 0.13406335630200125, up adj mae = 0.13231550766663117\n"
     ]
    },
    {
     "name": "stderr",
     "output_type": "stream",
     "text": [
      "100%|██████████| 11/11 [00:17<00:00,  1.56s/it]\n"
     ]
    },
    {
     "name": "stdout",
     "output_type": "stream",
     "text": [
      "ep 92: down loss = 0.004734700376337225, up loss = 0.01808955892920494, reconst.loss = 0.13266007060354407, down adj mae = 0.13331778008829465, up adj mae = 0.1316997449506413\n"
     ]
    },
    {
     "name": "stderr",
     "output_type": "stream",
     "text": [
      "100%|██████████| 11/11 [00:17<00:00,  1.56s/it]\n"
     ]
    },
    {
     "name": "stdout",
     "output_type": "stream",
     "text": [
      "ep 93: down loss = 0.004716960289938884, up loss = 0.01821188171478835, reconst.loss = 0.1333716714924032, down adj mae = 0.1365902857346968, up adj mae = 0.13320023092356595\n"
     ]
    },
    {
     "name": "stderr",
     "output_type": "stream",
     "text": [
      "100%|██████████| 11/11 [00:16<00:00,  1.52s/it]\n"
     ]
    },
    {
     "name": "stdout",
     "output_type": "stream",
     "text": [
      "ep 94: down loss = 0.004594967488876798, up loss = 0.017718302593989807, reconst.loss = 0.132146801460873, down adj mae = 0.13364112851294604, up adj mae = 0.133001908659935\n"
     ]
    },
    {
     "name": "stderr",
     "output_type": "stream",
     "text": [
      "100%|██████████| 11/11 [00:16<00:00,  1.53s/it]\n"
     ]
    },
    {
     "name": "stdout",
     "output_type": "stream",
     "text": [
      "ep 95: down loss = 0.004504131872884252, up loss = 0.017633064903996208, reconst.loss = 0.1317928826267069, down adj mae = 0.13401912288232284, up adj mae = 0.13091467049988834\n"
     ]
    },
    {
     "name": "stderr",
     "output_type": "stream",
     "text": [
      "100%|██████████| 11/11 [00:17<00:00,  1.58s/it]\n"
     ]
    },
    {
     "name": "stdout",
     "output_type": "stream",
     "text": [
      "ep 96: down loss = 0.004523160274733196, up loss = 0.017903751439668915, reconst.loss = 0.13264743983745575, down adj mae = 0.13345433229749853, up adj mae = 0.134168726476756\n"
     ]
    },
    {
     "name": "stderr",
     "output_type": "stream",
     "text": [
      "100%|██████████| 11/11 [00:17<00:00,  1.55s/it]\n"
     ]
    },
    {
     "name": "stdout",
     "output_type": "stream",
     "text": [
      "ep 97: down loss = 0.004511964973062277, up loss = 0.017827946862036533, reconst.loss = 0.13300885937430643, down adj mae = 0.13421455838463522, up adj mae = 0.13515460355715317\n"
     ]
    },
    {
     "name": "stderr",
     "output_type": "stream",
     "text": [
      "100%|██████████| 11/11 [00:17<00:00,  1.57s/it]\n"
     ]
    },
    {
     "name": "stdout",
     "output_type": "stream",
     "text": [
      "ep 98: down loss = 0.0044722854244438085, up loss = 0.01762787252664566, reconst.loss = 0.13244585015557028, down adj mae = 0.13364036516709762, up adj mae = 0.1333155781030655\n"
     ]
    },
    {
     "name": "stderr",
     "output_type": "stream",
     "text": [
      "100%|██████████| 11/11 [00:17<00:00,  1.58s/it]\n"
     ]
    },
    {
     "name": "stdout",
     "output_type": "stream",
     "text": [
      "ep 99: down loss = 0.004498395857147195, up loss = 0.0177000645886768, reconst.loss = 0.13259681381962515, down adj mae = 0.13479788195003162, up adj mae = 0.13290231607177042\n"
     ]
    },
    {
     "name": "stderr",
     "output_type": "stream",
     "text": [
      "100%|██████████| 11/11 [00:17<00:00,  1.57s/it]\n"
     ]
    },
    {
     "name": "stdout",
     "output_type": "stream",
     "text": [
      "ep 100: down loss = 0.004442152905870567, up loss = 0.017423198643055828, reconst.loss = 0.13183817944743417, down adj mae = 0.13295998221093958, up adj mae = 0.13226683979684656\n"
     ]
    },
    {
     "name": "stderr",
     "output_type": "stream",
     "text": [
      "100%|██████████| 11/11 [00:16<00:00,  1.52s/it]\n"
     ]
    },
    {
     "name": "stdout",
     "output_type": "stream",
     "text": [
      "ep 101: down loss = 0.004483821166848595, up loss = 0.017733084545894104, reconst.loss = 0.13314870541745966, down adj mae = 0.1320272900841453, up adj mae = 0.1323707259514115\n"
     ]
    },
    {
     "name": "stderr",
     "output_type": "stream",
     "text": [
      "100%|██████████| 11/11 [00:17<00:00,  1.58s/it]\n"
     ]
    },
    {
     "name": "stdout",
     "output_type": "stream",
     "text": [
      "ep 102: down loss = 0.004253183830190788, up loss = 0.01736127771437168, reconst.loss = 0.13238812170245431, down adj mae = 0.13364862041039902, up adj mae = 0.13282172585075552\n"
     ]
    },
    {
     "name": "stderr",
     "output_type": "stream",
     "text": [
      "100%|██████████| 11/11 [00:17<00:00,  1.58s/it]\n"
     ]
    },
    {
     "name": "stdout",
     "output_type": "stream",
     "text": [
      "ep 103: down loss = 0.004264608872207728, up loss = 0.017269095829264683, reconst.loss = 0.13235920803113418, down adj mae = 0.13499909232963214, up adj mae = 0.13329136236147446\n"
     ]
    },
    {
     "name": "stderr",
     "output_type": "stream",
     "text": [
      "100%|██████████| 11/11 [00:16<00:00,  1.54s/it]\n"
     ]
    },
    {
     "name": "stdout",
     "output_type": "stream",
     "text": [
      "ep 104: down loss = 0.004233879248865626, up loss = 0.017128386788747528, reconst.loss = 0.13173400001092392, down adj mae = 0.1312020786783912, up adj mae = 0.12958219376477328\n"
     ]
    },
    {
     "name": "stderr",
     "output_type": "stream",
     "text": [
      "100%|██████████| 11/11 [00:16<00:00,  1.51s/it]\n"
     ]
    },
    {
     "name": "stdout",
     "output_type": "stream",
     "text": [
      "ep 105: down loss = 0.004175819329578768, up loss = 0.017191488634456287, reconst.loss = 0.13190598650412125, down adj mae = 0.13161325454711914, up adj mae = 0.13209920782934537\n"
     ]
    },
    {
     "name": "stderr",
     "output_type": "stream",
     "text": [
      "100%|██████████| 11/11 [00:16<00:00,  1.52s/it]\n"
     ]
    },
    {
     "name": "stdout",
     "output_type": "stream",
     "text": [
      "ep 106: down loss = 0.00415631201626225, up loss = 0.01712090081789277, reconst.loss = 0.1320835528048602, down adj mae = 0.13246425308964468, up adj mae = 0.13125138729810715\n"
     ]
    },
    {
     "name": "stderr",
     "output_type": "stream",
     "text": [
      "100%|██████████| 11/11 [00:16<00:00,  1.50s/it]\n"
     ]
    },
    {
     "name": "stdout",
     "output_type": "stream",
     "text": [
      "ep 107: down loss = 0.004156384955752979, up loss = 0.017156585627658802, reconst.loss = 0.13217461921951987, down adj mae = 0.13384961810978976, up adj mae = 0.13166260787031867\n"
     ]
    },
    {
     "name": "stderr",
     "output_type": "stream",
     "text": [
      "100%|██████████| 11/11 [00:16<00:00,  1.52s/it]\n"
     ]
    },
    {
     "name": "stdout",
     "output_type": "stream",
     "text": [
      "ep 108: down loss = 0.004075017355551774, up loss = 0.017158802768046207, reconst.loss = 0.1324024796485901, down adj mae = 0.13219972903078253, up adj mae = 0.13362225957892157\n"
     ]
    },
    {
     "name": "stderr",
     "output_type": "stream",
     "text": [
      "100%|██████████| 11/11 [00:16<00:00,  1.48s/it]\n"
     ]
    },
    {
     "name": "stdout",
     "output_type": "stream",
     "text": [
      "ep 109: down loss = 0.004080400103703141, up loss = 0.017106240530582992, reconst.loss = 0.13238720866766843, down adj mae = 0.1340376924384724, up adj mae = 0.1319076818498698\n"
     ]
    },
    {
     "name": "stderr",
     "output_type": "stream",
     "text": [
      "100%|██████████| 11/11 [00:16<00:00,  1.51s/it]\n"
     ]
    },
    {
     "name": "stdout",
     "output_type": "stream",
     "text": [
      "ep 110: down loss = 0.004221674181859602, up loss = 0.01779299381781708, reconst.loss = 0.13369658995758404, down adj mae = 0.13531436703421854, up adj mae = 0.1356047053228725\n"
     ]
    },
    {
     "name": "stderr",
     "output_type": "stream",
     "text": [
      "100%|██████████| 11/11 [00:16<00:00,  1.54s/it]\n"
     ]
    },
    {
     "name": "stdout",
     "output_type": "stream",
     "text": [
      "ep 111: down loss = 0.004154191627590494, up loss = 0.017357642169703136, reconst.loss = 0.13259347866881976, down adj mae = 0.13183095848018472, up adj mae = 0.13121466609564694\n"
     ]
    },
    {
     "name": "stderr",
     "output_type": "stream",
     "text": [
      "100%|██████████| 11/11 [00:16<00:00,  1.51s/it]\n"
     ]
    },
    {
     "name": "stdout",
     "output_type": "stream",
     "text": [
      "ep 112: down loss = 0.004193297756666487, up loss = 0.01766048405658115, reconst.loss = 0.133164874532006, down adj mae = 0.13310269875959915, up adj mae = 0.13264332643964075\n"
     ]
    },
    {
     "name": "stderr",
     "output_type": "stream",
     "text": [
      "100%|██████████| 11/11 [00:16<00:00,  1.52s/it]\n"
     ]
    },
    {
     "name": "stdout",
     "output_type": "stream",
     "text": [
      "ep 113: down loss = 0.004596604923294349, up loss = 0.017960886894301933, reconst.loss = 0.13465766473249954, down adj mae = 0.13361542807383972, up adj mae = 0.1339841214093295\n"
     ]
    },
    {
     "name": "stderr",
     "output_type": "stream",
     "text": [
      "100%|██████████| 11/11 [00:16<00:00,  1.54s/it]\n"
     ]
    },
    {
     "name": "stdout",
     "output_type": "stream",
     "text": [
      "ep 114: down loss = 0.004303430545736443, up loss = 0.017383697950704532, reconst.loss = 0.13288277523084122, down adj mae = 0.13333867558024146, up adj mae = 0.1330489976839586\n"
     ]
    },
    {
     "name": "stderr",
     "output_type": "stream",
     "text": [
      "100%|██████████| 11/11 [00:16<00:00,  1.50s/it]\n"
     ]
    },
    {
     "name": "stdout",
     "output_type": "stream",
     "text": [
      "ep 115: down loss = 0.004169191466644406, up loss = 0.017868052152070133, reconst.loss = 0.13276053829626602, down adj mae = 0.13321748240427536, up adj mae = 0.13257934085347436\n"
     ]
    },
    {
     "name": "stderr",
     "output_type": "stream",
     "text": [
      "100%|██████████| 11/11 [00:17<00:00,  1.55s/it]\n"
     ]
    },
    {
     "name": "stdout",
     "output_type": "stream",
     "text": [
      "ep 116: down loss = 0.00411146534183486, up loss = 0.0170889234339649, reconst.loss = 0.1332622766494751, down adj mae = 0.13324763558127664, up adj mae = 0.13224247910759665\n"
     ]
    },
    {
     "name": "stderr",
     "output_type": "stream",
     "text": [
      "100%|██████████| 11/11 [00:16<00:00,  1.51s/it]\n"
     ]
    },
    {
     "name": "stdout",
     "output_type": "stream",
     "text": [
      "ep 117: down loss = 0.0040075821505690164, up loss = 0.016927755014462906, reconst.loss = 0.1323871219700033, down adj mae = 0.13590950586579062, up adj mae = 0.13328314640305258\n"
     ]
    },
    {
     "name": "stderr",
     "output_type": "stream",
     "text": [
      "100%|██████████| 11/11 [00:16<00:00,  1.50s/it]\n"
     ]
    },
    {
     "name": "stdout",
     "output_type": "stream",
     "text": [
      "ep 118: down loss = 0.003968379502608018, up loss = 0.016927892765538258, reconst.loss = 0.13236621699549936, down adj mae = 0.1340705562721599, up adj mae = 0.1318679709326137\n"
     ]
    },
    {
     "name": "stderr",
     "output_type": "stream",
     "text": [
      "100%|██████████| 11/11 [00:16<00:00,  1.49s/it]\n"
     ]
    },
    {
     "name": "stdout",
     "output_type": "stream",
     "text": [
      "ep 119: down loss = 0.00397936290722679, up loss = 0.01707800884138454, reconst.loss = 0.1331240263852206, down adj mae = 0.13343555141579022, up adj mae = 0.13237208940766074\n"
     ]
    },
    {
     "name": "stderr",
     "output_type": "stream",
     "text": [
      "100%|██████████| 11/11 [00:16<00:00,  1.51s/it]\n"
     ]
    },
    {
     "name": "stdout",
     "output_type": "stream",
     "text": [
      "ep 120: down loss = 0.003926594614643942, up loss = 0.016717600212855774, reconst.loss = 0.13177005404775793, down adj mae = 0.13508127358826724, up adj mae = 0.13273935968225653\n"
     ]
    },
    {
     "name": "stderr",
     "output_type": "stream",
     "text": [
      "100%|██████████| 11/11 [00:16<00:00,  1.49s/it]\n"
     ]
    },
    {
     "name": "stdout",
     "output_type": "stream",
     "text": [
      "ep 121: down loss = 0.004082975210621953, up loss = 0.01688343176448887, reconst.loss = 0.13373256407000803, down adj mae = 0.1343210285360163, up adj mae = 0.13236204399303955\n"
     ]
    },
    {
     "name": "stderr",
     "output_type": "stream",
     "text": [
      "100%|██████████| 11/11 [00:16<00:00,  1.51s/it]\n"
     ]
    },
    {
     "name": "stdout",
     "output_type": "stream",
     "text": [
      "ep 122: down loss = 0.004772462289441715, up loss = 0.018074399960989303, reconst.loss = 0.13539156317710876, down adj mae = 0.1350055838173086, up adj mae = 0.1353642838922414\n"
     ]
    },
    {
     "name": "stderr",
     "output_type": "stream",
     "text": [
      "100%|██████████| 11/11 [00:16<00:00,  1.51s/it]\n"
     ]
    },
    {
     "name": "stdout",
     "output_type": "stream",
     "text": [
      "ep 123: down loss = 0.0043206827461042185, up loss = 0.0172756165266037, reconst.loss = 0.13355006277561188, down adj mae = 0.1332076300274242, up adj mae = 0.13389172743667255\n"
     ]
    },
    {
     "name": "stderr",
     "output_type": "stream",
     "text": [
      "100%|██████████| 11/11 [00:16<00:00,  1.51s/it]\n"
     ]
    },
    {
     "name": "stdout",
     "output_type": "stream",
     "text": [
      "ep 124: down loss = 0.004435493653132157, up loss = 0.017694335600191898, reconst.loss = 0.13429443538188934, down adj mae = 0.1310991489074447, up adj mae = 0.13159575042399493\n"
     ]
    },
    {
     "name": "stderr",
     "output_type": "stream",
     "text": [
      "100%|██████████| 11/11 [00:16<00:00,  1.49s/it]\n"
     ]
    },
    {
     "name": "stdout",
     "output_type": "stream",
     "text": [
      "ep 125: down loss = 0.004171296700157903, up loss = 0.017405037344856697, reconst.loss = 0.13435937464237213, down adj mae = 0.1340073441917246, up adj mae = 0.13397125087001108\n"
     ]
    },
    {
     "name": "stderr",
     "output_type": "stream",
     "text": [
      "100%|██████████| 11/11 [00:16<00:00,  1.48s/it]\n"
     ]
    },
    {
     "name": "stdout",
     "output_type": "stream",
     "text": [
      "ep 126: down loss = 0.003997514468871735, up loss = 0.017000734636729412, reconst.loss = 0.13317068327556958, down adj mae = 0.13219443911855872, up adj mae = 0.13095874203877014\n"
     ]
    },
    {
     "name": "stderr",
     "output_type": "stream",
     "text": [
      "100%|██████████| 11/11 [00:16<00:00,  1.48s/it]\n"
     ]
    },
    {
     "name": "stdout",
     "output_type": "stream",
     "text": [
      "ep 127: down loss = 0.003928860585967248, up loss = 0.0168411774052815, reconst.loss = 0.13290942528031088, down adj mae = 0.13155654885552145, up adj mae = 0.13121000135486777\n"
     ]
    },
    {
     "name": "stderr",
     "output_type": "stream",
     "text": [
      "100%|██████████| 11/11 [00:16<00:00,  1.48s/it]\n"
     ]
    },
    {
     "name": "stdout",
     "output_type": "stream",
     "text": [
      "ep 128: down loss = 0.0038707707373594694, up loss = 0.016526008109477432, reconst.loss = 0.13206199624321677, down adj mae = 0.13167936151677911, up adj mae = 0.13169193674217572\n"
     ]
    },
    {
     "name": "stderr",
     "output_type": "stream",
     "text": [
      "100%|██████████| 11/11 [00:16<00:00,  1.50s/it]\n"
     ]
    },
    {
     "name": "stdout",
     "output_type": "stream",
     "text": [
      "ep 129: down loss = 0.0038124714681709356, up loss = 0.01643838386305354, reconst.loss = 0.13180928406390277, down adj mae = 0.13185003941709345, up adj mae = 0.13207269663160498\n"
     ]
    },
    {
     "name": "stderr",
     "output_type": "stream",
     "text": [
      "100%|██████████| 11/11 [00:16<00:00,  1.54s/it]\n"
     ]
    },
    {
     "name": "stdout",
     "output_type": "stream",
     "text": [
      "ep 130: down loss = 0.0037656040777536955, up loss = 0.016608260571956635, reconst.loss = 0.13275368782606992, down adj mae = 0.1316515342755751, up adj mae = 0.13219646296717905\n"
     ]
    },
    {
     "name": "stderr",
     "output_type": "stream",
     "text": [
      "100%|██████████| 11/11 [00:16<00:00,  1.51s/it]\n"
     ]
    },
    {
     "name": "stdout",
     "output_type": "stream",
     "text": [
      "ep 131: down loss = 0.0036862954201007433, up loss = 0.01637129866602746, reconst.loss = 0.13165483285080304, down adj mae = 0.13187547705390237, up adj mae = 0.13011533902450043\n"
     ]
    },
    {
     "name": "stderr",
     "output_type": "stream",
     "text": [
      "100%|██████████| 11/11 [00:16<00:00,  1.48s/it]\n"
     ]
    },
    {
     "name": "stdout",
     "output_type": "stream",
     "text": [
      "ep 132: down loss = 0.0036645254797556186, up loss = 0.01657230161469091, reconst.loss = 0.13237601518630981, down adj mae = 0.13368352434851907, up adj mae = 0.13290611586787485\n"
     ]
    },
    {
     "name": "stderr",
     "output_type": "stream",
     "text": [
      "100%|██████████| 11/11 [00:16<00:00,  1.48s/it]\n"
     ]
    },
    {
     "name": "stdout",
     "output_type": "stream",
     "text": [
      "ep 133: down loss = 0.0037204919340596957, up loss = 0.01644249362024394, reconst.loss = 0.13164244185794483, down adj mae = 0.13412366807460785, up adj mae = 0.13031984052874826\n"
     ]
    },
    {
     "name": "stderr",
     "output_type": "stream",
     "text": [
      "100%|██████████| 11/11 [00:16<00:00,  1.46s/it]\n"
     ]
    },
    {
     "name": "stdout",
     "output_type": "stream",
     "text": [
      "ep 134: down loss = 0.003940913487564434, up loss = 0.016727461902932686, reconst.loss = 0.133066633885557, down adj mae = 0.1335892921144312, up adj mae = 0.13225247710943222\n"
     ]
    },
    {
     "name": "stderr",
     "output_type": "stream",
     "text": [
      "100%|██████████| 11/11 [00:16<00:00,  1.48s/it]\n"
     ]
    },
    {
     "name": "stdout",
     "output_type": "stream",
     "text": [
      "ep 135: down loss = 0.003716336393898184, up loss = 0.016361174342984505, reconst.loss = 0.13207898492162878, down adj mae = 0.13537241924892773, up adj mae = 0.13092147491194986\n"
     ]
    },
    {
     "name": "stderr",
     "output_type": "stream",
     "text": [
      "100%|██████████| 11/11 [00:16<00:00,  1.46s/it]\n"
     ]
    },
    {
     "name": "stdout",
     "output_type": "stream",
     "text": [
      "ep 136: down loss = 0.0037255177528343415, up loss = 0.01630133983086456, reconst.loss = 0.13130768862637607, down adj mae = 0.13324777781963348, up adj mae = 0.1297646869312633\n"
     ]
    },
    {
     "name": "stderr",
     "output_type": "stream",
     "text": [
      "100%|██████████| 11/11 [00:16<00:00,  1.50s/it]\n"
     ]
    },
    {
     "name": "stdout",
     "output_type": "stream",
     "text": [
      "ep 137: down loss = 0.0037161966955119915, up loss = 0.016879064454273743, reconst.loss = 0.1338853890245611, down adj mae = 0.1344875232739882, up adj mae = 0.13307048989967865\n"
     ]
    },
    {
     "name": "stderr",
     "output_type": "stream",
     "text": [
      "100%|██████████| 11/11 [00:16<00:00,  1.48s/it]\n"
     ]
    },
    {
     "name": "stdout",
     "output_type": "stream",
     "text": [
      "ep 138: down loss = 0.003577022940259088, up loss = 0.016231378794393757, reconst.loss = 0.13191765614531256, down adj mae = 0.1328932507471605, up adj mae = 0.13159745728427713\n"
     ]
    },
    {
     "name": "stderr",
     "output_type": "stream",
     "text": [
      "100%|██████████| 11/11 [00:16<00:00,  1.48s/it]\n"
     ]
    },
    {
     "name": "stdout",
     "output_type": "stream",
     "text": [
      "ep 139: down loss = 0.0035390022041445427, up loss = 0.016480139626020737, reconst.loss = 0.1312960901043632, down adj mae = 0.13183896920897745, up adj mae = 0.12982838465408844\n"
     ]
    },
    {
     "name": "stderr",
     "output_type": "stream",
     "text": [
      "100%|██████████| 11/11 [00:15<00:00,  1.45s/it]\n"
     ]
    },
    {
     "name": "stdout",
     "output_type": "stream",
     "text": [
      "ep 140: down loss = 0.0036680376453494482, up loss = 0.016297041607851333, reconst.loss = 0.13202102075923572, down adj mae = 0.13306515934792432, up adj mae = 0.13252268799326636\n"
     ]
    },
    {
     "name": "stderr",
     "output_type": "stream",
     "text": [
      "100%|██████████| 11/11 [00:16<00:00,  1.47s/it]\n"
     ]
    },
    {
     "name": "stdout",
     "output_type": "stream",
     "text": [
      "ep 141: down loss = 0.0036003560632128606, up loss = 0.01609133683483709, reconst.loss = 0.13134379346262326, down adj mae = 0.13466816734183917, up adj mae = 0.1319772872057828\n"
     ]
    },
    {
     "name": "stderr",
     "output_type": "stream",
     "text": [
      "100%|██████████| 11/11 [00:16<00:00,  1.51s/it]\n"
     ]
    },
    {
     "name": "stdout",
     "output_type": "stream",
     "text": [
      "ep 142: down loss = 0.003597107800570401, up loss = 0.016075884415344757, reconst.loss = 0.13099043477665295, down adj mae = 0.13472982970151035, up adj mae = 0.13072932308370416\n"
     ]
    },
    {
     "name": "stderr",
     "output_type": "stream",
     "text": [
      "100%|██████████| 11/11 [00:16<00:00,  1.49s/it]\n"
     ]
    },
    {
     "name": "stdout",
     "output_type": "stream",
     "text": [
      "ep 143: down loss = 0.0035289930899373508, up loss = 0.016057364811951465, reconst.loss = 0.13158517669547687, down adj mae = 0.13345460255037656, up adj mae = 0.13041861761700024\n"
     ]
    },
    {
     "name": "stderr",
     "output_type": "stream",
     "text": [
      "100%|██████████| 11/11 [00:16<00:00,  1.46s/it]\n"
     ]
    },
    {
     "name": "stdout",
     "output_type": "stream",
     "text": [
      "ep 144: down loss = 0.0034727400846102023, up loss = 0.015925936908884483, reconst.loss = 0.13142433356155048, down adj mae = 0.1335235210982236, up adj mae = 0.13060060143470764\n"
     ]
    },
    {
     "name": "stderr",
     "output_type": "stream",
     "text": [
      "100%|██████████| 11/11 [00:15<00:00,  1.42s/it]\n"
     ]
    },
    {
     "name": "stdout",
     "output_type": "stream",
     "text": [
      "ep 145: down loss = 0.0034372670025649395, up loss = 0.015811629424040966, reconst.loss = 0.13094924254850906, down adj mae = 0.13323005085641687, up adj mae = 0.13173529776659879\n"
     ]
    },
    {
     "name": "stderr",
     "output_type": "stream",
     "text": [
      "100%|██████████| 11/11 [00:16<00:00,  1.46s/it]\n"
     ]
    },
    {
     "name": "stdout",
     "output_type": "stream",
     "text": [
      "ep 146: down loss = 0.0034080775327641854, up loss = 0.015889688648960808, reconst.loss = 0.1311397606676275, down adj mae = 0.13450448350472885, up adj mae = 0.13233725455674258\n"
     ]
    },
    {
     "name": "stderr",
     "output_type": "stream",
     "text": [
      "100%|██████████| 11/11 [00:15<00:00,  1.45s/it]\n"
     ]
    },
    {
     "name": "stdout",
     "output_type": "stream",
     "text": [
      "ep 147: down loss = 0.0034067392645573073, up loss = 0.015837301669473, reconst.loss = 0.13095580312338742, down adj mae = 0.13032603467052634, up adj mae = 0.13004241477359424\n"
     ]
    },
    {
     "name": "stderr",
     "output_type": "stream",
     "text": [
      "100%|██████████| 11/11 [00:16<00:00,  1.48s/it]\n"
     ]
    },
    {
     "name": "stdout",
     "output_type": "stream",
     "text": [
      "ep 148: down loss = 0.0034737555437128653, up loss = 0.01590980648655783, reconst.loss = 0.13174812224778262, down adj mae = 0.13401980223980817, up adj mae = 0.13425223326141184\n"
     ]
    },
    {
     "name": "stderr",
     "output_type": "stream",
     "text": [
      "100%|██████████| 11/11 [00:16<00:00,  1.54s/it]\n"
     ]
    },
    {
     "name": "stdout",
     "output_type": "stream",
     "text": [
      "ep 149: down loss = 0.003414940152486617, up loss = 0.015807906504381786, reconst.loss = 0.13069355894218793, down adj mae = 0.13192014463923193, up adj mae = 0.1316608569838784\n"
     ]
    },
    {
     "name": "stderr",
     "output_type": "stream",
     "text": [
      "100%|██████████| 11/11 [00:16<00:00,  1.50s/it]\n"
     ]
    },
    {
     "name": "stdout",
     "output_type": "stream",
     "text": [
      "ep 150: down loss = 0.0033511157062920656, up loss = 0.015734032727777958, reconst.loss = 0.1308933889324015, down adj mae = 0.13263585621660406, up adj mae = 0.13045417178760876\n"
     ]
    },
    {
     "name": "stderr",
     "output_type": "stream",
     "text": [
      "100%|██████████| 11/11 [00:16<00:00,  1.49s/it]\n"
     ]
    },
    {
     "name": "stdout",
     "output_type": "stream",
     "text": [
      "ep 151: down loss = 0.003308342600410635, up loss = 0.015515579503368248, reconst.loss = 0.13031712987206198, down adj mae = 0.1303476176478646, up adj mae = 0.12927491082386536\n"
     ]
    },
    {
     "name": "stderr",
     "output_type": "stream",
     "text": [
      "100%|██████████| 11/11 [00:16<00:00,  1.48s/it]\n"
     ]
    },
    {
     "name": "stdout",
     "output_type": "stream",
     "text": [
      "ep 152: down loss = 0.003316764740950682, up loss = 0.015776884996078232, reconst.loss = 0.13160847127437592, down adj mae = 0.13281060619787735, up adj mae = 0.13318133692849765\n"
     ]
    },
    {
     "name": "stderr",
     "output_type": "stream",
     "text": [
      "100%|██████████| 11/11 [00:16<00:00,  1.46s/it]\n"
     ]
    },
    {
     "name": "stdout",
     "output_type": "stream",
     "text": [
      "ep 153: down loss = 0.003344660307365385, up loss = 0.016020928678864784, reconst.loss = 0.13206223195249384, down adj mae = 0.137035841291601, up adj mae = 0.13577621226960962\n"
     ]
    },
    {
     "name": "stderr",
     "output_type": "stream",
     "text": [
      "100%|██████████| 11/11 [00:16<00:00,  1.48s/it]\n"
     ]
    },
    {
     "name": "stdout",
     "output_type": "stream",
     "text": [
      "ep 154: down loss = 0.0032748184378512883, up loss = 0.01580004148523916, reconst.loss = 0.13199868527325717, down adj mae = 0.13314595005728982, up adj mae = 0.13392589444463904\n"
     ]
    },
    {
     "name": "stderr",
     "output_type": "stream",
     "text": [
      "100%|██████████| 11/11 [00:16<00:00,  1.47s/it]\n"
     ]
    },
    {
     "name": "stdout",
     "output_type": "stream",
     "text": [
      "ep 155: down loss = 0.0032675759655169463, up loss = 0.015579179521988739, reconst.loss = 0.13085915012793106, down adj mae = 0.131257372146303, up adj mae = 0.13096074692227624\n"
     ]
    },
    {
     "name": "stderr",
     "output_type": "stream",
     "text": [
      "100%|██████████| 11/11 [00:16<00:00,  1.46s/it]\n"
     ]
    },
    {
     "name": "stdout",
     "output_type": "stream",
     "text": [
      "ep 156: down loss = 0.0032602068968117237, up loss = 0.015703611245209522, reconst.loss = 0.13153448023579337, down adj mae = 0.13069497455250134, up adj mae = 0.1293162087147886\n"
     ]
    },
    {
     "name": "stderr",
     "output_type": "stream",
     "text": [
      "100%|██████████| 11/11 [00:15<00:00,  1.43s/it]\n"
     ]
    },
    {
     "name": "stdout",
     "output_type": "stream",
     "text": [
      "ep 157: down loss = 0.0032823011914098806, up loss = 0.015840791673822838, reconst.loss = 0.13182555274529892, down adj mae = 0.1328386583111503, up adj mae = 0.13259068131446838\n"
     ]
    },
    {
     "name": "stderr",
     "output_type": "stream",
     "text": [
      "100%|██████████| 11/11 [00:15<00:00,  1.44s/it]\n"
     ]
    },
    {
     "name": "stdout",
     "output_type": "stream",
     "text": [
      "ep 158: down loss = 0.003208278382027691, up loss = 0.015394272198053923, reconst.loss = 0.1313076080246405, down adj mae = 0.1313271935690533, up adj mae = 0.13048304414207285\n"
     ]
    },
    {
     "name": "stderr",
     "output_type": "stream",
     "text": [
      "100%|██████████| 11/11 [00:15<00:00,  1.43s/it]\n"
     ]
    },
    {
     "name": "stdout",
     "output_type": "stream",
     "text": [
      "ep 159: down loss = 0.0033126791134815326, up loss = 0.015511630018326368, reconst.loss = 0.1304914436557076, down adj mae = 0.13117213411764664, up adj mae = 0.12930180064656518\n"
     ]
    },
    {
     "name": "stderr",
     "output_type": "stream",
     "text": [
      "100%|██████████| 11/11 [00:15<00:00,  1.43s/it]\n"
     ]
    },
    {
     "name": "stdout",
     "output_type": "stream",
     "text": [
      "ep 160: down loss = 0.0032499392982572317, up loss = 0.015730622986500912, reconst.loss = 0.13145154172723944, down adj mae = 0.13259282504970377, up adj mae = 0.13177418302405963\n"
     ]
    },
    {
     "name": "stderr",
     "output_type": "stream",
     "text": [
      "100%|██████████| 11/11 [00:15<00:00,  1.42s/it]\n"
     ]
    },
    {
     "name": "stdout",
     "output_type": "stream",
     "text": [
      "ep 161: down loss = 0.0031729182228446007, up loss = 0.015438154339790344, reconst.loss = 0.13063269311731512, down adj mae = 0.1304563663222573, up adj mae = 0.12914223901250146\n"
     ]
    },
    {
     "name": "stderr",
     "output_type": "stream",
     "text": [
      "100%|██████████| 11/11 [00:15<00:00,  1.44s/it]\n"
     ]
    },
    {
     "name": "stdout",
     "output_type": "stream",
     "text": [
      "ep 162: down loss = 0.003161234273151918, up loss = 0.015504799359901384, reconst.loss = 0.13086305152286182, down adj mae = 0.13135054233399304, up adj mae = 0.1293641125613993\n"
     ]
    },
    {
     "name": "stderr",
     "output_type": "stream",
     "text": [
      "100%|██████████| 11/11 [00:16<00:00,  1.53s/it]\n"
     ]
    },
    {
     "name": "stdout",
     "output_type": "stream",
     "text": [
      "ep 163: down loss = 0.0031847588252276182, up loss = 0.015834100713784046, reconst.loss = 0.13188770684328946, down adj mae = 0.1327825513753024, up adj mae = 0.13353860649195584\n"
     ]
    },
    {
     "name": "stderr",
     "output_type": "stream",
     "text": [
      "100%|██████████| 11/11 [00:16<00:00,  1.50s/it]\n"
     ]
    },
    {
     "name": "stdout",
     "output_type": "stream",
     "text": [
      "ep 164: down loss = 0.003132832363586534, up loss = 0.015317053110762075, reconst.loss = 0.13020593402060596, down adj mae = 0.13255307620221918, up adj mae = 0.13151167807253925\n"
     ]
    },
    {
     "name": "stderr",
     "output_type": "stream",
     "text": [
      "100%|██████████| 11/11 [00:16<00:00,  1.49s/it]\n"
     ]
    },
    {
     "name": "stdout",
     "output_type": "stream",
     "text": [
      "ep 165: down loss = 0.0031360713341696696, up loss = 0.015689400194043465, reconst.loss = 0.1301054913889278, down adj mae = 0.13021353022618729, up adj mae = 0.13068916513161224\n"
     ]
    },
    {
     "name": "stderr",
     "output_type": "stream",
     "text": [
      "100%|██████████| 11/11 [00:16<00:00,  1.46s/it]\n"
     ]
    },
    {
     "name": "stdout",
     "output_type": "stream",
     "text": [
      "ep 166: down loss = 0.0031958966177295556, up loss = 0.015636362220075996, reconst.loss = 0.13162257048216733, down adj mae = 0.13308910483663733, up adj mae = 0.1301241090351885\n"
     ]
    },
    {
     "name": "stderr",
     "output_type": "stream",
     "text": [
      "100%|██████████| 11/11 [00:16<00:00,  1.47s/it]\n"
     ]
    },
    {
     "name": "stdout",
     "output_type": "stream",
     "text": [
      "ep 167: down loss = 0.0031557333951985293, up loss = 0.015491626310077581, reconst.loss = 0.13105164400555872, down adj mae = 0.13095664571632037, up adj mae = 0.131032487208193\n"
     ]
    },
    {
     "name": "stderr",
     "output_type": "stream",
     "text": [
      "100%|██████████| 11/11 [00:15<00:00,  1.43s/it]\n"
     ]
    },
    {
     "name": "stdout",
     "output_type": "stream",
     "text": [
      "ep 168: down loss = 0.0031245855233547363, up loss = 0.015190600840882822, reconst.loss = 0.13066181540489197, down adj mae = 0.13010903651064093, up adj mae = 0.12906334075060757\n"
     ]
    },
    {
     "name": "stderr",
     "output_type": "stream",
     "text": [
      "100%|██████████| 11/11 [00:15<00:00,  1.44s/it]\n"
     ]
    },
    {
     "name": "stdout",
     "output_type": "stream",
     "text": [
      "ep 169: down loss = 0.0031385062558745794, up loss = 0.015479344281960617, reconst.loss = 0.13101363656195728, down adj mae = 0.13076727363196286, up adj mae = 0.13095821982080286\n"
     ]
    },
    {
     "name": "stderr",
     "output_type": "stream",
     "text": [
      "100%|██████████| 11/11 [00:16<00:00,  1.53s/it]\n"
     ]
    },
    {
     "name": "stdout",
     "output_type": "stream",
     "text": [
      "ep 170: down loss = 0.0031133620491759343, up loss = 0.015272574329918081, reconst.loss = 0.12984191219915042, down adj mae = 0.13001257384365256, up adj mae = 0.13127389482476495\n"
     ]
    },
    {
     "name": "stderr",
     "output_type": "stream",
     "text": [
      "100%|██████████| 11/11 [00:16<00:00,  1.50s/it]\n"
     ]
    },
    {
     "name": "stdout",
     "output_type": "stream",
     "text": [
      "ep 171: down loss = 0.0031059147917072883, up loss = 0.0155688470906832, reconst.loss = 0.1317054805430499, down adj mae = 0.1318249052221125, up adj mae = 0.12962398881262\n"
     ]
    },
    {
     "name": "stderr",
     "output_type": "stream",
     "text": [
      "100%|██████████| 11/11 [00:16<00:00,  1.48s/it]\n"
     ]
    },
    {
     "name": "stdout",
     "output_type": "stream",
     "text": [
      "ep 172: down loss = 0.003121425440026955, up loss = 0.01568157606842843, reconst.loss = 0.13172515684908087, down adj mae = 0.13329767097126355, up adj mae = 0.1328242062167688\n"
     ]
    },
    {
     "name": "stderr",
     "output_type": "stream",
     "text": [
      "100%|██████████| 11/11 [00:15<00:00,  1.44s/it]\n"
     ]
    },
    {
     "name": "stdout",
     "output_type": "stream",
     "text": [
      "ep 173: down loss = 0.00304293295961212, up loss = 0.015010272237387571, reconst.loss = 0.1294902109287002, down adj mae = 0.12994817305694928, up adj mae = 0.12981720471924002\n"
     ]
    },
    {
     "name": "stderr",
     "output_type": "stream",
     "text": [
      "100%|██████████| 11/11 [00:15<00:00,  1.45s/it]\n"
     ]
    },
    {
     "name": "stdout",
     "output_type": "stream",
     "text": [
      "ep 174: down loss = 0.0030541505918584085, up loss = 0.015179657885296778, reconst.loss = 0.13009451058777896, down adj mae = 0.13167145306413824, up adj mae = 0.12968689474192532\n"
     ]
    },
    {
     "name": "stderr",
     "output_type": "stream",
     "text": [
      "100%|██████████| 11/11 [00:15<00:00,  1.44s/it]\n"
     ]
    },
    {
     "name": "stdout",
     "output_type": "stream",
     "text": [
      "ep 175: down loss = 0.0030223188117485156, up loss = 0.01509556487541307, reconst.loss = 0.1297312473708933, down adj mae = 0.13041441074826501, up adj mae = 0.13042204149744727\n"
     ]
    },
    {
     "name": "stderr",
     "output_type": "stream",
     "text": [
      "100%|██████████| 11/11 [00:16<00:00,  1.46s/it]\n"
     ]
    },
    {
     "name": "stdout",
     "output_type": "stream",
     "text": [
      "ep 176: down loss = 0.003055850128558549, up loss = 0.015221849253231829, reconst.loss = 0.13082800466905942, down adj mae = 0.13153619928793472, up adj mae = 0.13073077933354812\n"
     ]
    },
    {
     "name": "stderr",
     "output_type": "stream",
     "text": [
      "100%|██████████| 11/11 [00:16<00:00,  1.46s/it]\n"
     ]
    },
    {
     "name": "stdout",
     "output_type": "stream",
     "text": [
      "ep 177: down loss = 0.0030079280576584015, up loss = 0.015123422426933592, reconst.loss = 0.13031819462776184, down adj mae = 0.13149080222303217, up adj mae = 0.13067347217689862\n"
     ]
    },
    {
     "name": "stderr",
     "output_type": "stream",
     "text": [
      "100%|██████████| 11/11 [00:16<00:00,  1.46s/it]\n"
     ]
    },
    {
     "name": "stdout",
     "output_type": "stream",
     "text": [
      "ep 178: down loss = 0.0029861907771026545, up loss = 0.015241055241362616, reconst.loss = 0.13021042943000793, down adj mae = 0.1307439160617915, up adj mae = 0.1292989653619853\n"
     ]
    },
    {
     "name": "stderr",
     "output_type": "stream",
     "text": [
      "100%|██████████| 11/11 [00:16<00:00,  1.46s/it]\n"
     ]
    },
    {
     "name": "stdout",
     "output_type": "stream",
     "text": [
      "ep 179: down loss = 0.0029711839319630103, up loss = 0.015161339362913912, reconst.loss = 0.13012056730010294, down adj mae = 0.12940730086781763, up adj mae = 0.13032811880111694\n"
     ]
    },
    {
     "name": "stderr",
     "output_type": "stream",
     "text": [
      "100%|██████████| 11/11 [00:15<00:00,  1.41s/it]\n"
     ]
    },
    {
     "name": "stdout",
     "output_type": "stream",
     "text": [
      "ep 180: down loss = 0.0029850413768806243, up loss = 0.015169128521599552, reconst.loss = 0.13017775321548636, down adj mae = 0.13292104683139108, up adj mae = 0.13050789521499115\n"
     ]
    },
    {
     "name": "stderr",
     "output_type": "stream",
     "text": [
      "100%|██████████| 11/11 [00:15<00:00,  1.43s/it]\n"
     ]
    },
    {
     "name": "stdout",
     "output_type": "stream",
     "text": [
      "ep 181: down loss = 0.0029697028115730395, up loss = 0.015001848170703108, reconst.loss = 0.12966634874994104, down adj mae = 0.12996663491834293, up adj mae = 0.1300606829198924\n"
     ]
    },
    {
     "name": "stderr",
     "output_type": "stream",
     "text": [
      "100%|██████████| 11/11 [00:16<00:00,  1.46s/it]\n"
     ]
    },
    {
     "name": "stdout",
     "output_type": "stream",
     "text": [
      "ep 182: down loss = 0.0029635289683938026, up loss = 0.015094408172775398, reconst.loss = 0.13023392178795554, down adj mae = 0.12945989790287885, up adj mae = 0.13036027212034573\n"
     ]
    },
    {
     "name": "stderr",
     "output_type": "stream",
     "text": [
      "100%|██████████| 11/11 [00:15<00:00,  1.42s/it]\n"
     ]
    },
    {
     "name": "stdout",
     "output_type": "stream",
     "text": [
      "ep 183: down loss = 0.0029565270101143556, up loss = 0.015072171406989748, reconst.loss = 0.1298686367544261, down adj mae = 0.12801701778715308, up adj mae = 0.128535350615328\n"
     ]
    },
    {
     "name": "stderr",
     "output_type": "stream",
     "text": [
      "100%|██████████| 11/11 [00:16<00:00,  1.48s/it]\n"
     ]
    },
    {
     "name": "stdout",
     "output_type": "stream",
     "text": [
      "ep 184: down loss = 0.002954555760053071, up loss = 0.015323868952691555, reconst.loss = 0.12976885112849149, down adj mae = 0.12875274094668301, up adj mae = 0.12898145886984738\n"
     ]
    },
    {
     "name": "stderr",
     "output_type": "stream",
     "text": [
      "100%|██████████| 11/11 [00:16<00:00,  1.47s/it]\n"
     ]
    },
    {
     "name": "stdout",
     "output_type": "stream",
     "text": [
      "ep 185: down loss = 0.0029326174831525846, up loss = 0.015018476003950293, reconst.loss = 0.12975404479286887, down adj mae = 0.12875188074328683, up adj mae = 0.12883268296718597\n"
     ]
    },
    {
     "name": "stderr",
     "output_type": "stream",
     "text": [
      "100%|██████████| 11/11 [00:16<00:00,  1.45s/it]\n"
     ]
    },
    {
     "name": "stdout",
     "output_type": "stream",
     "text": [
      "ep 186: down loss = 0.002926661061461676, up loss = 0.015124971555037931, reconst.loss = 0.1303698244419965, down adj mae = 0.13197515227577902, up adj mae = 0.13217693431810898\n"
     ]
    },
    {
     "name": "stderr",
     "output_type": "stream",
     "text": [
      "100%|██████████| 11/11 [00:16<00:00,  1.47s/it]\n"
     ]
    },
    {
     "name": "stdout",
     "output_type": "stream",
     "text": [
      "ep 187: down loss = 0.002942076503214511, up loss = 0.015090937726199627, reconst.loss = 0.1301680254665288, down adj mae = 0.12981604852459647, up adj mae = 0.12915303151715884\n"
     ]
    },
    {
     "name": "stderr",
     "output_type": "stream",
     "text": [
      "100%|██████████| 11/11 [00:15<00:00,  1.42s/it]\n"
     ]
    },
    {
     "name": "stdout",
     "output_type": "stream",
     "text": [
      "ep 188: down loss = 0.00293148664588278, up loss = 0.015062025832858953, reconst.loss = 0.13026172667741776, down adj mae = 0.13125433705069803, up adj mae = 0.13136286423964935\n"
     ]
    },
    {
     "name": "stderr",
     "output_type": "stream",
     "text": [
      "100%|██████████| 11/11 [00:16<00:00,  1.47s/it]\n"
     ]
    },
    {
     "name": "stdout",
     "output_type": "stream",
     "text": [
      "ep 189: down loss = 0.0029288772070272403, up loss = 0.014990954236550764, reconst.loss = 0.1297089084982872, down adj mae = 0.1303636892275377, up adj mae = 0.12945912710644983\n"
     ]
    },
    {
     "name": "stderr",
     "output_type": "stream",
     "text": [
      "100%|██████████| 11/11 [00:15<00:00,  1.44s/it]\n"
     ]
    },
    {
     "name": "stdout",
     "output_type": "stream",
     "text": [
      "ep 190: down loss = 0.002924764338372783, up loss = 0.014924957670948723, reconst.loss = 0.1297938579862768, down adj mae = 0.12878122925758362, up adj mae = 0.1299158585342494\n"
     ]
    },
    {
     "name": "stderr",
     "output_type": "stream",
     "text": [
      "100%|██████████| 11/11 [00:16<00:00,  1.46s/it]\n"
     ]
    },
    {
     "name": "stdout",
     "output_type": "stream",
     "text": [
      "ep 191: down loss = 0.002940372648564252, up loss = 0.01502163606611165, reconst.loss = 0.12987402284687216, down adj mae = 0.12775963138450275, up adj mae = 0.12925060770728372\n"
     ]
    },
    {
     "name": "stderr",
     "output_type": "stream",
     "text": [
      "100%|██████████| 11/11 [00:16<00:00,  1.47s/it]\n"
     ]
    },
    {
     "name": "stdout",
     "output_type": "stream",
     "text": [
      "ep 192: down loss = 0.0029115179045633836, up loss = 0.015087896111336622, reconst.loss = 0.13039301200346512, down adj mae = 0.13094798949631778, up adj mae = 0.13211544128981503\n"
     ]
    },
    {
     "name": "stderr",
     "output_type": "stream",
     "text": [
      "100%|██████████| 11/11 [00:15<00:00,  1.44s/it]\n"
     ]
    },
    {
     "name": "stdout",
     "output_type": "stream",
     "text": [
      "ep 193: down loss = 0.0029095079411159863, up loss = 0.014915920455347408, reconst.loss = 0.12978383763269943, down adj mae = 0.13252386383034967, up adj mae = 0.13271301713856784\n"
     ]
    },
    {
     "name": "stderr",
     "output_type": "stream",
     "text": [
      "100%|██████████| 11/11 [00:16<00:00,  1.48s/it]\n"
     ]
    },
    {
     "name": "stdout",
     "output_type": "stream",
     "text": [
      "ep 194: down loss = 0.002893725706433708, up loss = 0.014892602085389874, reconst.loss = 0.1292900334705006, down adj mae = 0.12708404050631958, up adj mae = 0.1268272338943048\n"
     ]
    },
    {
     "name": "stderr",
     "output_type": "stream",
     "text": [
      "100%|██████████| 11/11 [00:16<00:00,  1.46s/it]\n"
     ]
    },
    {
     "name": "stdout",
     "output_type": "stream",
     "text": [
      "ep 195: down loss = 0.002904907630925829, up loss = 0.014892875470898369, reconst.loss = 0.1297281946648251, down adj mae = 0.1311858973719857, up adj mae = 0.13009543987837704\n"
     ]
    },
    {
     "name": "stderr",
     "output_type": "stream",
     "text": [
      "100%|██████████| 11/11 [00:16<00:00,  1.47s/it]\n"
     ]
    },
    {
     "name": "stdout",
     "output_type": "stream",
     "text": [
      "ep 196: down loss = 0.002884777051142671, up loss = 0.014706904576583342, reconst.loss = 0.12860736386342483, down adj mae = 0.12933240966363388, up adj mae = 0.1283182610164989\n"
     ]
    },
    {
     "name": "stderr",
     "output_type": "stream",
     "text": [
      "100%|██████████| 11/11 [00:15<00:00,  1.45s/it]\n"
     ]
    },
    {
     "name": "stdout",
     "output_type": "stream",
     "text": [
      "ep 197: down loss = 0.0028939546636221085, up loss = 0.01487080083990639, reconst.loss = 0.1298379830338738, down adj mae = 0.12994324348189615, up adj mae = 0.12931451540101657\n"
     ]
    },
    {
     "name": "stderr",
     "output_type": "stream",
     "text": [
      "100%|██████████| 11/11 [00:15<00:00,  1.42s/it]\n"
     ]
    },
    {
     "name": "stdout",
     "output_type": "stream",
     "text": [
      "ep 198: down loss = 0.0028869030489162965, up loss = 0.014730048789219423, reconst.loss = 0.1290079179135236, down adj mae = 0.1294781579212709, up adj mae = 0.1301909014582634\n"
     ]
    },
    {
     "name": "stderr",
     "output_type": "stream",
     "text": [
      "100%|██████████| 11/11 [00:16<00:00,  1.47s/it]"
     ]
    },
    {
     "name": "stdout",
     "output_type": "stream",
     "text": [
      "ep 199: down loss = 0.002864070279015736, up loss = 0.014784640886566856, reconst.loss = 0.12877508320591666, down adj mae = 0.1294261576099829, up adj mae = 0.1283353492617607\n"
     ]
    },
    {
     "name": "stderr",
     "output_type": "stream",
     "text": [
      "\n"
     ]
    }
   ],
   "source": [
    "import gc\n",
    "gc.collect()\n",
    "torch.cuda.empty_cache()\n",
    "\n",
    "\n",
    "\n",
    "up_changer, down_changer, loss_log = train(200, up_changer, down_changer, trainloader, up_optimizer, down_optimizer, reconstruction_optimizer, completed_epochs=0, loss_log=None)\n"
   ]
  },
  {
   "cell_type": "code",
   "execution_count": 29,
   "metadata": {},
   "outputs": [
    {
     "data": {
      "text/plain": [
       "0.1268272338943048"
      ]
     },
     "execution_count": 29,
     "metadata": {},
     "output_type": "execute_result"
    }
   ],
   "source": [
    "min(loss_log['up_end_mae'])"
   ]
  },
  {
   "cell_type": "code",
   "execution_count": 30,
   "metadata": {},
   "outputs": [
    {
     "data": {
      "image/png": "[encoded data removed]",
      "text/plain": [
       "<Figure size 640x480 with 1 Axes>"
      ]
     },
     "metadata": {},
     "output_type": "display_data"
    }
   ],
   "source": [
    "import matplotlib.pyplot as plt\n",
    "plt.plot(np.arange(len(loss_log['up_end_mae'])), loss_log['up_end_mae'])\n",
    "plt.show()"
   ]
  },
  {
   "cell_type": "code",
   "execution_count": 17,
   "metadata": {},
   "outputs": [],
   "source": [
    "torch.save(up_changer.state_dict(), 'submission_files/moritz_deep3/new_scheduler_1_0.5_0.002.pth')"
   ]
  },
  {
   "cell_type": "code",
   "execution_count": 18,
   "metadata": {},
   "outputs": [
    {
     "name": "stderr",
     "output_type": "stream",
     "text": [
      "100%|██████████| 7/7 [00:01<00:00,  5.02it/s]\n"
     ]
    }
   ],
   "source": [
    "# to generate test predictions\n",
    "testloader = DataLoader(list(zip(lr_X_dim1_test, lr_X_dim3, lr_test)), shuffle=True, batch_size=16)\n",
    "\n",
    "up_changer.eval()\n",
    "test_predictions = []\n",
    "for X_lr, Y_lr, adj_lr in tqdm(testloader):\n",
    "    pred = up_changer(X_lr.to(DEVICE), Y_lr.to(DEVICE), adj_lr.to(DEVICE))[-1].detach()\n",
    "    test_predictions.append(pred)\n",
    "test_predictions = torch.cat(test_predictions)"
   ]
  },
  {
   "cell_type": "code",
   "execution_count": 19,
   "metadata": {},
   "outputs": [],
   "source": [
    "torch.save(test_predictions, 'submission_files/moritz_deep3/new_scheduler_1_0.5_0.002.pt')"
   ]
  },
  {
   "cell_type": "code",
   "execution_count": 20,
   "metadata": {},
   "outputs": [
    {
     "data": {
      "image/png": "[encoded data removed]",
      "text/plain": [
       "<Figure size 640x480 with 1 Axes>"
      ]
     },
     "metadata": {},
     "output_type": "display_data"
    }
   ],
   "source": [
    "from data_preparation import generate_histogram\n",
    "generate_histogram(test_predictions.cpu(), hr_train)"
   ]
  },
  {
   "cell_type": "code",
   "execution_count": 21,
   "metadata": {},
   "outputs": [
    {
     "data": {
      "image/png": "[encoded data removed]",
      "text/plain": [
       "<Figure size 640x480 with 2 Axes>"
      ]
     },
     "metadata": {},
     "output_type": "display_data"
    }
   ],
   "source": [
    "from data_preparation import generate_heatmap\n",
    "generate_heatmap(test_predictions[0].cpu())"
   ]
  },
  {
   "cell_type": "code",
   "execution_count": 22,
   "metadata": {},
   "outputs": [],
   "source": [
    "from data_preparation import generate_submission_file\n",
    "\n",
    "df = generate_submission_file(test_predictions.cpu(), 'submission_files/moritz_deep3/new_scheduler_1_0.5_0.002.csv')"
   ]
  },
  {
   "cell_type": "markdown",
   "metadata": {},
   "source": [
    "# Cross Validation"
   ]
  },
  {
   "cell_type": "code",
   "execution_count": 43,
   "metadata": {},
   "outputs": [],
   "source": [
    "from evaluation_fn import evaluate_predictions\n",
    "from data_preparation import generate_histogram, generate_heatmap\n",
    "\n",
    "def validation(up_changer, testloader, val_adj_hr, histogram=False, heatmap=False, statement=None):\n",
    "    print('begin validation')\n",
    "    up_changer.eval()\n",
    "\n",
    "    val_predictions = []\n",
    "    for X_lr, Y_lr, adj_lr in tqdm(testloader):\n",
    "        pred = up_changer(X_lr.to(DEVICE), Y_lr.to(DEVICE), adj_lr.to(DEVICE))[-1].detach()\n",
    "        val_predictions.append(pred)\n",
    "    val_predictions = torch.cat(val_predictions)\n",
    "\n",
    "    if histogram:\n",
    "        if statement:\n",
    "            print(statement)\n",
    "        else:\n",
    "            print(f'Histogram for Current Fold')\n",
    "        generate_histogram(val_predictions.cpu(), val_adj_hr.cpu())\n",
    "    if heatmap:\n",
    "        if statement:\n",
    "            print(statement)\n",
    "        else:\n",
    "            print(f'First Difference Heatmap for Current Fold')\n",
    "        generate_heatmap((val_adj_hr[0].cpu() - val_predictions[0].cpu()))\n",
    "\n",
    "    return {'eval': evaluate_predictions(val_predictions, val_adj_hr), 'preds': val_predictions}"
   ]
  },
  {
   "cell_type": "code",
   "execution_count": 12,
   "metadata": {},
   "outputs": [],
   "source": [
    "def cross_validate(epochs, early, batch_size, n_fold, X_lr, Y_lr, adj_lr, X_hr, Y_hr, adj_hr, num_steps, channels_ls = [32, 64], histogram=False, heatmap=False):\n",
    "    kf = KFold(n_fold, shuffle=True, random_state=99)\n",
    "    runs_results = []\n",
    "    for train_idx, val_idx in kf.split(X_lr):\n",
    "        train_X_lr, val_X_lr = X_lr[train_idx], X_lr[val_idx]\n",
    "        train_Y_lr, val_Y_lr = Y_lr[train_idx], Y_lr[val_idx]\n",
    "        train_adj_lr, val_adj_lr = adj_lr[train_idx], adj_lr[val_idx]\n",
    "        train_X_hr = X_hr[train_idx]\n",
    "        train_Y_hr = Y_hr[train_idx]\n",
    "        train_adj_hr, val_adj_hr = adj_hr[train_idx], adj_hr[val_idx]\n",
    "\n",
    "        trainloader = DataLoader(list(zip(train_X_lr, train_Y_lr, train_adj_lr, train_X_hr, train_Y_hr, train_adj_hr)), shuffle=True, batch_size=batch_size)\n",
    "\n",
    "        dim_steps = generate_steps(num_steps=num_steps)\n",
    "        channels_ls = channels_ls\n",
    "\n",
    "        up_changer = AdjacencyDimChanger(dim_steps, channels_ls).to(DEVICE)\n",
    "        down_changer = AdjacencyDimChanger(dim_steps[::-1], channels_ls).to(DEVICE)\n",
    "\n",
    "        up_optimizer = torch.optim.AdamW(up_changer.parameters(), lr=0.0025, betas=(0.5, 0.999))\n",
    "        down_optimizer = torch.optim.AdamW(down_changer.parameters(), lr=0.0025, betas=(0.5, 0.999))\n",
    "        reconstruction_optimizer = torch.optim.AdamW(list(up_changer.parameters()) + list(down_changer.parameters()), lr=0.0025, betas=(0.5, 0.999))\n",
    "        \n",
    "        losses = None\n",
    "        completed = 0\n",
    "        remaining = epochs\n",
    "        val_metrics = {}\n",
    "        if early>0 and early<epochs:\n",
    "            up_changer, down_changer, losses = train(epochs-early, up_changer, down_changer, trainloader, up_optimizer, down_optimizer, reconstruction_optimizer)\n",
    "\n",
    "            testloader = DataLoader(list(zip(val_X_lr, val_Y_lr, val_adj_lr)), shuffle=True, batch_size=batch_size)\n",
    "            val_metrics[f'{epochs-early}'] = validation(up_changer, testloader, val_adj_hr, histogram, heatmap, statement=f'Currrent Fold after {epochs-early}')\n",
    "            completed = epochs-early\n",
    "            remaining = early\n",
    "\n",
    "        up_changer, down_changer, losses = train(remaining, up_changer, down_changer, trainloader, up_optimizer, down_optimizer, reconstruction_optimizer, completed_epochs=completed, loss_log=losses)\n",
    "\n",
    "        testloader = DataLoader(list(zip(val_X_lr, val_Y_lr, val_adj_lr)), shuffle=True, batch_size=batch_size)\n",
    "        val_metrics[f'{epochs}'] = validation(up_changer, testloader, val_adj_hr, histogram, heatmap)\n",
    "        val_metrics['losses'] = losses\n",
    "\n",
    "\n",
    "        runs_results.append(val_metrics)\n",
    "\n",
    "    return runs_results"
   ]
  },
  {
   "cell_type": "code",
   "execution_count": 13,
   "metadata": {},
   "outputs": [
    {
     "name": "stderr",
     "output_type": "stream",
     "text": [
      "  0%|          | 0/7 [00:00<?, ?it/s]"
     ]
    },
    {
     "name": "stderr",
     "output_type": "stream",
     "text": [
      "100%|██████████| 7/7 [00:17<00:00,  2.44s/it]\n"
     ]
    },
    {
     "name": "stdout",
     "output_type": "stream",
     "text": [
      "ep 0: down loss = 0.20740320214203425, up loss = 0.1531869513647897, reconst.loss = 0.2960620607648577, down adj mae = 0.2706718700272696, up adj mae = 0.3072588103158133\n"
     ]
    },
    {
     "name": "stderr",
     "output_type": "stream",
     "text": [
      "100%|██████████| 7/7 [00:14<00:00,  2.01s/it]\n"
     ]
    },
    {
     "name": "stdout",
     "output_type": "stream",
     "text": [
      "ep 1: down loss = 0.18972609298569815, up loss = 0.12788152588265284, reconst.loss = 0.26641760979379925, down adj mae = 0.24184656143188477, up adj mae = 0.2730493630681719\n"
     ]
    },
    {
     "name": "stderr",
     "output_type": "stream",
     "text": [
      "100%|██████████| 7/7 [00:13<00:00,  1.97s/it]\n"
     ]
    },
    {
     "name": "stdout",
     "output_type": "stream",
     "text": [
      "ep 2: down loss = 0.17432564071246556, up loss = 0.11196594046694892, reconst.loss = 0.24589981990201132, down adj mae = 0.22411747915404184, up adj mae = 0.24563572023596084\n"
     ]
    },
    {
     "name": "stderr",
     "output_type": "stream",
     "text": [
      "100%|██████████| 7/7 [00:13<00:00,  1.90s/it]\n"
     ]
    },
    {
     "name": "stdout",
     "output_type": "stream",
     "text": [
      "ep 3: down loss = 0.16245171853474208, up loss = 0.09786314836570195, reconst.loss = 0.22412647945540293, down adj mae = 0.21487869322299957, up adj mae = 0.23069362768105098\n"
     ]
    },
    {
     "name": "stderr",
     "output_type": "stream",
     "text": [
      "100%|██████████| 7/7 [00:13<00:00,  1.93s/it]\n"
     ]
    },
    {
     "name": "stdout",
     "output_type": "stream",
     "text": [
      "ep 4: down loss = 0.1593577883073262, up loss = 0.08929048691477094, reconst.loss = 0.20930171651499613, down adj mae = 0.21625663552965438, up adj mae = 0.21174016382013047\n"
     ]
    },
    {
     "name": "stderr",
     "output_type": "stream",
     "text": [
      "100%|██████████| 7/7 [00:13<00:00,  1.94s/it]\n"
     ]
    },
    {
     "name": "stdout",
     "output_type": "stream",
     "text": [
      "ep 5: down loss = 0.1520877821104867, up loss = 0.08171223316873823, reconst.loss = 0.1966570679630552, down adj mae = 0.21094232159001486, up adj mae = 0.20546091667243413\n"
     ]
    },
    {
     "name": "stderr",
     "output_type": "stream",
     "text": [
      "100%|██████████| 7/7 [00:13<00:00,  1.93s/it]\n"
     ]
    },
    {
     "name": "stdout",
     "output_type": "stream",
     "text": [
      "ep 6: down loss = 0.1464266393865858, up loss = 0.07382623957736152, reconst.loss = 0.18414404349667685, down adj mae = 0.19835231133869716, up adj mae = 0.18423715020929063\n"
     ]
    },
    {
     "name": "stderr",
     "output_type": "stream",
     "text": [
      "100%|██████████| 7/7 [00:13<00:00,  1.90s/it]\n"
     ]
    },
    {
     "name": "stdout",
     "output_type": "stream",
     "text": [
      "ep 7: down loss = 0.13628169681344712, up loss = 0.06912188977003098, reconst.loss = 0.17809139617851802, down adj mae = 0.19142084462302073, up adj mae = 0.17520420040403092\n"
     ]
    },
    {
     "name": "stderr",
     "output_type": "stream",
     "text": [
      "100%|██████████| 7/7 [00:13<00:00,  1.90s/it]\n"
     ]
    },
    {
     "name": "stdout",
     "output_type": "stream",
     "text": [
      "ep 8: down loss = 0.12921957352331706, up loss = 0.06565021084887641, reconst.loss = 0.17248832540852682, down adj mae = 0.18818997272423335, up adj mae = 0.17177511964525496\n"
     ]
    },
    {
     "name": "stderr",
     "output_type": "stream",
     "text": [
      "100%|██████████| 7/7 [00:13<00:00,  1.91s/it]\n"
     ]
    },
    {
     "name": "stdout",
     "output_type": "stream",
     "text": [
      "ep 9: down loss = 0.12908997067383357, up loss = 0.0680180484695094, reconst.loss = 0.17605423714433396, down adj mae = 0.1729653307369777, up adj mae = 0.17067370670182364\n"
     ]
    },
    {
     "name": "stderr",
     "output_type": "stream",
     "text": [
      "100%|██████████| 7/7 [00:13<00:00,  1.93s/it]\n"
     ]
    },
    {
     "name": "stdout",
     "output_type": "stream",
     "text": [
      "ep 10: down loss = 0.12852807343006134, up loss = 0.06536756988082613, reconst.loss = 0.16932043433189392, down adj mae = 0.18526984325477056, up adj mae = 0.17523895416940963\n"
     ]
    },
    {
     "name": "stderr",
     "output_type": "stream",
     "text": [
      "100%|██████████| 7/7 [00:13<00:00,  1.91s/it]\n"
     ]
    },
    {
     "name": "stdout",
     "output_type": "stream",
     "text": [
      "ep 11: down loss = 0.11535176421914782, up loss = 0.06006574843611036, reconst.loss = 0.1638659941298621, down adj mae = 0.17617063224315643, up adj mae = 0.16490224216665542\n"
     ]
    },
    {
     "name": "stderr",
     "output_type": "stream",
     "text": [
      "100%|██████████| 7/7 [00:13<00:00,  1.90s/it]\n"
     ]
    },
    {
     "name": "stdout",
     "output_type": "stream",
     "text": [
      "ep 12: down loss = 0.11713238592658724, up loss = 0.06301664827125412, reconst.loss = 0.1655639750616891, down adj mae = 0.17218426721436636, up adj mae = 0.1685058729989188\n"
     ]
    },
    {
     "name": "stderr",
     "output_type": "stream",
     "text": [
      "100%|██████████| 7/7 [00:13<00:00,  1.87s/it]\n"
     ]
    },
    {
     "name": "stdout",
     "output_type": "stream",
     "text": [
      "ep 13: down loss = 0.11024295751537595, up loss = 0.0577757502240794, reconst.loss = 0.16023086862904684, down adj mae = 0.17015848840985978, up adj mae = 0.15822086589676992\n"
     ]
    },
    {
     "name": "stderr",
     "output_type": "stream",
     "text": [
      "100%|██████████| 7/7 [00:13<00:00,  1.86s/it]\n"
     ]
    },
    {
     "name": "stdout",
     "output_type": "stream",
     "text": [
      "ep 14: down loss = 0.10045431235006877, up loss = 0.05527393998844283, reconst.loss = 0.15674241312912532, down adj mae = 0.16784470421927317, up adj mae = 0.15640767557280405\n"
     ]
    },
    {
     "name": "stderr",
     "output_type": "stream",
     "text": [
      "100%|██████████| 7/7 [00:13<00:00,  1.88s/it]\n"
     ]
    },
    {
     "name": "stdout",
     "output_type": "stream",
     "text": [
      "ep 15: down loss = 0.09626189087118421, up loss = 0.05511141036237989, reconst.loss = 0.15763505228928157, down adj mae = 0.1632038652896881, up adj mae = 0.15021567898137228\n"
     ]
    },
    {
     "name": "stderr",
     "output_type": "stream",
     "text": [
      "100%|██████████| 7/7 [00:13<00:00,  1.87s/it]\n"
     ]
    },
    {
     "name": "stdout",
     "output_type": "stream",
     "text": [
      "ep 16: down loss = 0.09401947153466088, up loss = 0.0559822108064379, reconst.loss = 0.15754571769918715, down adj mae = 0.161405833704131, up adj mae = 0.16059750744274684\n"
     ]
    },
    {
     "name": "stderr",
     "output_type": "stream",
     "text": [
      "100%|██████████| 7/7 [00:12<00:00,  1.85s/it]\n"
     ]
    },
    {
     "name": "stdout",
     "output_type": "stream",
     "text": [
      "ep 17: down loss = 0.0848894938826561, up loss = 0.05119389880980764, reconst.loss = 0.15326003304549626, down adj mae = 0.15827641103948867, up adj mae = 0.15367487924439566\n"
     ]
    },
    {
     "name": "stderr",
     "output_type": "stream",
     "text": [
      "100%|██████████| 7/7 [00:12<00:00,  1.85s/it]\n"
     ]
    },
    {
     "name": "stdout",
     "output_type": "stream",
     "text": [
      "ep 18: down loss = 0.08020739363772529, up loss = 0.04889394183244024, reconst.loss = 0.15176922295774734, down adj mae = 0.15708473324775696, up adj mae = 0.14689801846231734\n"
     ]
    },
    {
     "name": "stderr",
     "output_type": "stream",
     "text": [
      "100%|██████████| 7/7 [00:12<00:00,  1.84s/it]\n"
     ]
    },
    {
     "name": "stdout",
     "output_type": "stream",
     "text": [
      "ep 19: down loss = 0.07364764277424131, up loss = 0.04714433689202581, reconst.loss = 0.14979219223771775, down adj mae = 0.1628209011895316, up adj mae = 0.15108846127986908\n"
     ]
    },
    {
     "name": "stderr",
     "output_type": "stream",
     "text": [
      "100%|██████████| 7/7 [00:12<00:00,  1.77s/it]\n"
     ]
    },
    {
     "name": "stdout",
     "output_type": "stream",
     "text": [
      "ep 20: down loss = 0.07309005090168544, up loss = 0.04656972363591194, reconst.loss = 0.1488977713244302, down adj mae = 0.16014541685581207, up adj mae = 0.14889583630221231\n"
     ]
    },
    {
     "name": "stderr",
     "output_type": "stream",
     "text": [
      "100%|██████████| 7/7 [00:12<00:00,  1.78s/it]\n"
     ]
    },
    {
     "name": "stdout",
     "output_type": "stream",
     "text": [
      "ep 21: down loss = 0.06912856336150851, up loss = 0.04586736325706754, reconst.loss = 0.148207745381764, down adj mae = 0.15697452851704188, up adj mae = 0.14646612746374948\n"
     ]
    },
    {
     "name": "stderr",
     "output_type": "stream",
     "text": [
      "100%|██████████| 7/7 [00:12<00:00,  1.75s/it]\n"
     ]
    },
    {
     "name": "stdout",
     "output_type": "stream",
     "text": [
      "ep 22: down loss = 0.06550572546465057, up loss = 0.04469187344823565, reconst.loss = 0.14755505110536302, down adj mae = 0.15660397708415985, up adj mae = 0.1468895035130637\n"
     ]
    },
    {
     "name": "stderr",
     "output_type": "stream",
     "text": [
      "100%|██████████| 7/7 [00:12<00:00,  1.77s/it]\n"
     ]
    },
    {
     "name": "stdout",
     "output_type": "stream",
     "text": [
      "ep 23: down loss = 0.07550649983542305, up loss = 0.049061269632407596, reconst.loss = 0.14907086534159525, down adj mae = 0.15743317987237657, up adj mae = 0.15103239672524588\n"
     ]
    },
    {
     "name": "stderr",
     "output_type": "stream",
     "text": [
      "100%|██████████| 7/7 [00:12<00:00,  1.75s/it]\n"
     ]
    },
    {
     "name": "stdout",
     "output_type": "stream",
     "text": [
      "ep 24: down loss = 0.06346593105367251, up loss = 0.04359367596251624, reconst.loss = 0.1460289912564414, down adj mae = 0.15802693154130662, up adj mae = 0.14816049592835562\n"
     ]
    },
    {
     "name": "stderr",
     "output_type": "stream",
     "text": [
      "100%|██████████| 7/7 [00:12<00:00,  1.76s/it]\n"
     ]
    },
    {
     "name": "stdout",
     "output_type": "stream",
     "text": [
      "ep 25: down loss = 0.059292001383645196, up loss = 0.041448315871613364, reconst.loss = 0.14549678138324193, down adj mae = 0.15207246797425406, up adj mae = 0.14344579407146998\n"
     ]
    },
    {
     "name": "stderr",
     "output_type": "stream",
     "text": [
      "100%|██████████| 7/7 [00:12<00:00,  1.72s/it]\n"
     ]
    },
    {
     "name": "stdout",
     "output_type": "stream",
     "text": [
      "ep 26: down loss = 0.05565974488854408, up loss = 0.04120993773852076, reconst.loss = 0.14423106185027532, down adj mae = 0.15108553426606314, up adj mae = 0.14284145619188035\n"
     ]
    },
    {
     "name": "stderr",
     "output_type": "stream",
     "text": [
      "100%|██████████| 7/7 [00:11<00:00,  1.70s/it]\n"
     ]
    },
    {
     "name": "stdout",
     "output_type": "stream",
     "text": [
      "ep 27: down loss = 0.05265564790793827, up loss = 0.03978253847786358, reconst.loss = 0.1438224549804415, down adj mae = 0.15215186987604415, up adj mae = 0.1456630975008011\n"
     ]
    },
    {
     "name": "stderr",
     "output_type": "stream",
     "text": [
      "100%|██████████| 7/7 [00:11<00:00,  1.64s/it]\n"
     ]
    },
    {
     "name": "stdout",
     "output_type": "stream",
     "text": [
      "ep 28: down loss = 0.046424435185534615, up loss = 0.03809158982975142, reconst.loss = 0.14239299723080226, down adj mae = 0.1469145885535649, up adj mae = 0.14274927335126059\n"
     ]
    },
    {
     "name": "stderr",
     "output_type": "stream",
     "text": [
      "100%|██████████| 7/7 [00:11<00:00,  1.63s/it]\n"
     ]
    },
    {
     "name": "stdout",
     "output_type": "stream",
     "text": [
      "ep 29: down loss = 0.04503943185721125, up loss = 0.036824913429362435, reconst.loss = 0.1420630259173257, down adj mae = 0.15054125232355936, up adj mae = 0.14371774664946965\n"
     ]
    },
    {
     "name": "stderr",
     "output_type": "stream",
     "text": [
      "100%|██████████| 7/7 [00:11<00:00,  1.63s/it]\n"
     ]
    },
    {
     "name": "stdout",
     "output_type": "stream",
     "text": [
      "ep 30: down loss = 0.04506793405328478, up loss = 0.037931950496775765, reconst.loss = 0.14252470220838273, down adj mae = 0.1495601407119206, up adj mae = 0.14277946523257665\n"
     ]
    },
    {
     "name": "stderr",
     "output_type": "stream",
     "text": [
      "100%|██████████| 7/7 [00:11<00:00,  1.61s/it]\n"
     ]
    },
    {
     "name": "stdout",
     "output_type": "stream",
     "text": [
      "ep 31: down loss = 0.04178268941385405, up loss = 0.03607041761279106, reconst.loss = 0.140962581549372, down adj mae = 0.1478975691965648, up adj mae = 0.1398820217166628\n"
     ]
    },
    {
     "name": "stderr",
     "output_type": "stream",
     "text": [
      "100%|██████████| 7/7 [00:11<00:00,  1.61s/it]\n"
     ]
    },
    {
     "name": "stdout",
     "output_type": "stream",
     "text": [
      "ep 32: down loss = 0.04086084450994219, up loss = 0.036050724663904736, reconst.loss = 0.14188772227082933, down adj mae = 0.14875646787030355, up adj mae = 0.14152737813336508\n"
     ]
    },
    {
     "name": "stderr",
     "output_type": "stream",
     "text": [
      "100%|██████████| 7/7 [00:11<00:00,  1.62s/it]\n"
     ]
    },
    {
     "name": "stdout",
     "output_type": "stream",
     "text": [
      "ep 33: down loss = 0.03798259368964604, up loss = 0.03450410174471991, reconst.loss = 0.14127246184008463, down adj mae = 0.1459162895168577, up adj mae = 0.13993112530027116\n"
     ]
    },
    {
     "name": "stderr",
     "output_type": "stream",
     "text": [
      "100%|██████████| 7/7 [00:11<00:00,  1.66s/it]\n"
     ]
    },
    {
     "name": "stdout",
     "output_type": "stream",
     "text": [
      "ep 34: down loss = 0.03923544553773744, up loss = 0.035165757473026006, reconst.loss = 0.14146883147103445, down adj mae = 0.14250819385051727, up adj mae = 0.13792261268411363\n"
     ]
    },
    {
     "name": "stderr",
     "output_type": "stream",
     "text": [
      "100%|██████████| 7/7 [00:11<00:00,  1.66s/it]\n"
     ]
    },
    {
     "name": "stdout",
     "output_type": "stream",
     "text": [
      "ep 35: down loss = 0.037769818412406106, up loss = 0.035243428711380274, reconst.loss = 0.14248894793646677, down adj mae = 0.14941175069127763, up adj mae = 0.1447171355996813\n"
     ]
    },
    {
     "name": "stderr",
     "output_type": "stream",
     "text": [
      "100%|██████████| 7/7 [00:11<00:00,  1.61s/it]\n"
     ]
    },
    {
     "name": "stdout",
     "output_type": "stream",
     "text": [
      "ep 36: down loss = 0.03689632458346231, up loss = 0.03528014144727162, reconst.loss = 0.14195158226149424, down adj mae = 0.14712245336600713, up adj mae = 0.14630875204290664\n"
     ]
    },
    {
     "name": "stderr",
     "output_type": "stream",
     "text": [
      "100%|██████████| 7/7 [00:10<00:00,  1.56s/it]\n"
     ]
    },
    {
     "name": "stdout",
     "output_type": "stream",
     "text": [
      "ep 37: down loss = 0.033050207421183586, up loss = 0.03302251414528915, reconst.loss = 0.14088098066193716, down adj mae = 0.1466011596577508, up adj mae = 0.1406387005533491\n"
     ]
    },
    {
     "name": "stderr",
     "output_type": "stream",
     "text": [
      "100%|██████████| 7/7 [00:11<00:00,  1.61s/it]\n"
     ]
    },
    {
     "name": "stdout",
     "output_type": "stream",
     "text": [
      "ep 38: down loss = 0.031902288485850604, up loss = 0.033000518434814045, reconst.loss = 0.14038615567343576, down adj mae = 0.14449623014245713, up adj mae = 0.1405093584741865\n"
     ]
    },
    {
     "name": "stderr",
     "output_type": "stream",
     "text": [
      "100%|██████████| 7/7 [00:11<00:00,  1.59s/it]\n"
     ]
    },
    {
     "name": "stdout",
     "output_type": "stream",
     "text": [
      "ep 39: down loss = 0.031887037945645194, up loss = 0.0331457605851548, reconst.loss = 0.14112031672682082, down adj mae = 0.14312625357082912, up adj mae = 0.14233794808387756\n"
     ]
    },
    {
     "name": "stderr",
     "output_type": "stream",
     "text": [
      "100%|██████████| 7/7 [00:11<00:00,  1.60s/it]\n"
     ]
    },
    {
     "name": "stdout",
     "output_type": "stream",
     "text": [
      "ep 40: down loss = 0.029282816552690098, up loss = 0.03164444092128958, reconst.loss = 0.13949862335409438, down adj mae = 0.13793109783104487, up adj mae = 0.13903739622661046\n"
     ]
    },
    {
     "name": "stderr",
     "output_type": "stream",
     "text": [
      "100%|██████████| 7/7 [00:11<00:00,  1.64s/it]\n"
     ]
    },
    {
     "name": "stdout",
     "output_type": "stream",
     "text": [
      "ep 41: down loss = 0.02750478365591594, up loss = 0.030669404992035458, reconst.loss = 0.14008834319455282, down adj mae = 0.14309048226901463, up adj mae = 0.14076614805630275\n"
     ]
    },
    {
     "name": "stderr",
     "output_type": "stream",
     "text": [
      "100%|██████████| 7/7 [00:11<00:00,  1.62s/it]\n"
     ]
    },
    {
     "name": "stdout",
     "output_type": "stream",
     "text": [
      "ep 42: down loss = 0.025849595932023867, up loss = 0.029805184475013187, reconst.loss = 0.13904911492552077, down adj mae = 0.13986354640551976, up adj mae = 0.1380313421998705\n"
     ]
    },
    {
     "name": "stderr",
     "output_type": "stream",
     "text": [
      "100%|██████████| 7/7 [00:11<00:00,  1.62s/it]\n"
     ]
    },
    {
     "name": "stdout",
     "output_type": "stream",
     "text": [
      "ep 43: down loss = 0.024485541507601738, up loss = 0.029045676280345236, reconst.loss = 0.13865933460848673, down adj mae = 0.13814354368618556, up adj mae = 0.13574371061154775\n"
     ]
    },
    {
     "name": "stderr",
     "output_type": "stream",
     "text": [
      "100%|██████████| 7/7 [00:11<00:00,  1.61s/it]\n"
     ]
    },
    {
     "name": "stdout",
     "output_type": "stream",
     "text": [
      "ep 44: down loss = 0.02480318397283554, up loss = 0.029295022998537337, reconst.loss = 0.13878770172595978, down adj mae = 0.13936927914619446, up adj mae = 0.13595991475241526\n"
     ]
    },
    {
     "name": "stderr",
     "output_type": "stream",
     "text": [
      "100%|██████████| 7/7 [00:11<00:00,  1.61s/it]\n"
     ]
    },
    {
     "name": "stdout",
     "output_type": "stream",
     "text": [
      "ep 45: down loss = 0.024172539157526835, up loss = 0.02854408456810883, reconst.loss = 0.13777315190860204, down adj mae = 0.14417397124426706, up adj mae = 0.13782234702791488\n"
     ]
    },
    {
     "name": "stderr",
     "output_type": "stream",
     "text": [
      "100%|██████████| 7/7 [00:11<00:00,  1.61s/it]\n"
     ]
    },
    {
     "name": "stdout",
     "output_type": "stream",
     "text": [
      "ep 46: down loss = 0.023426597139665058, up loss = 0.028513832816055844, reconst.loss = 0.13811449706554413, down adj mae = 0.14180964444364821, up adj mae = 0.13860095611640386\n"
     ]
    },
    {
     "name": "stderr",
     "output_type": "stream",
     "text": [
      "100%|██████████| 7/7 [00:11<00:00,  1.60s/it]\n"
     ]
    },
    {
     "name": "stdout",
     "output_type": "stream",
     "text": [
      "ep 47: down loss = 0.02457302249968052, up loss = 0.030157299978392466, reconst.loss = 0.14885140316826956, down adj mae = 0.13780795144183294, up adj mae = 0.13849274494818278\n"
     ]
    },
    {
     "name": "stderr",
     "output_type": "stream",
     "text": [
      "100%|██████████| 7/7 [00:11<00:00,  1.59s/it]\n"
     ]
    },
    {
     "name": "stdout",
     "output_type": "stream",
     "text": [
      "ep 48: down loss = 0.024232468168650354, up loss = 0.03189684450626373, reconst.loss = 0.14401977402823313, down adj mae = 0.14431714372975485, up adj mae = 0.14638906291552953\n"
     ]
    },
    {
     "name": "stderr",
     "output_type": "stream",
     "text": [
      "100%|██████████| 7/7 [00:10<00:00,  1.57s/it]\n"
     ]
    },
    {
     "name": "stdout",
     "output_type": "stream",
     "text": [
      "ep 49: down loss = 0.022595461191875593, up loss = 0.029308822538171495, reconst.loss = 0.1400883219071797, down adj mae = 0.14346845235143388, up adj mae = 0.1442845527614866\n"
     ]
    },
    {
     "name": "stderr",
     "output_type": "stream",
     "text": [
      "100%|██████████| 7/7 [00:10<00:00,  1.54s/it]\n"
     ]
    },
    {
     "name": "stdout",
     "output_type": "stream",
     "text": [
      "ep 50: down loss = 0.021340367517301014, up loss = 0.028981741783874377, reconst.loss = 0.14062584936618805, down adj mae = 0.14200867073876516, up adj mae = 0.14230140830789292\n"
     ]
    },
    {
     "name": "stderr",
     "output_type": "stream",
     "text": [
      "100%|██████████| 7/7 [00:10<00:00,  1.55s/it]\n"
     ]
    },
    {
     "name": "stdout",
     "output_type": "stream",
     "text": [
      "ep 51: down loss = 0.020356010113443648, up loss = 0.027949136282716478, reconst.loss = 0.13987741938659123, down adj mae = 0.1376146993466786, up adj mae = 0.13924225313322885\n"
     ]
    },
    {
     "name": "stderr",
     "output_type": "stream",
     "text": [
      "100%|██████████| 7/7 [00:10<00:00,  1.53s/it]\n"
     ]
    },
    {
     "name": "stdout",
     "output_type": "stream",
     "text": [
      "ep 52: down loss = 0.019299155101180077, up loss = 0.02671461126634053, reconst.loss = 0.13754439992564066, down adj mae = 0.14009115738528116, up adj mae = 0.13713089057377406\n"
     ]
    },
    {
     "name": "stderr",
     "output_type": "stream",
     "text": [
      "100%|██████████| 7/7 [00:10<00:00,  1.54s/it]\n"
     ]
    },
    {
     "name": "stdout",
     "output_type": "stream",
     "text": [
      "ep 53: down loss = 0.018382224387356212, up loss = 0.02652383063520704, reconst.loss = 0.13737282369818007, down adj mae = 0.13530078530311584, up adj mae = 0.13878257359777177\n"
     ]
    },
    {
     "name": "stderr",
     "output_type": "stream",
     "text": [
      "100%|██████████| 7/7 [00:10<00:00,  1.57s/it]\n"
     ]
    },
    {
     "name": "stdout",
     "output_type": "stream",
     "text": [
      "ep 54: down loss = 0.017812715577227727, up loss = 0.02601276391318866, reconst.loss = 0.13686298259666987, down adj mae = 0.14006483129092626, up adj mae = 0.13765952629702433\n"
     ]
    },
    {
     "name": "stderr",
     "output_type": "stream",
     "text": [
      "100%|██████████| 7/7 [00:10<00:00,  1.56s/it]\n"
     ]
    },
    {
     "name": "stdout",
     "output_type": "stream",
     "text": [
      "ep 55: down loss = 0.017876884500895227, up loss = 0.025937246158719063, reconst.loss = 0.13786393404006958, down adj mae = 0.1416538336447307, up adj mae = 0.13962664561612265\n"
     ]
    },
    {
     "name": "stderr",
     "output_type": "stream",
     "text": [
      "100%|██████████| 7/7 [00:10<00:00,  1.52s/it]\n"
     ]
    },
    {
     "name": "stdout",
     "output_type": "stream",
     "text": [
      "ep 56: down loss = 0.016813801335436956, up loss = 0.024852147858057703, reconst.loss = 0.13613753020763397, down adj mae = 0.13884135442120688, up adj mae = 0.13561293482780457\n"
     ]
    },
    {
     "name": "stderr",
     "output_type": "stream",
     "text": [
      "100%|██████████| 7/7 [00:10<00:00,  1.51s/it]\n"
     ]
    },
    {
     "name": "stdout",
     "output_type": "stream",
     "text": [
      "ep 57: down loss = 0.015900003457708017, up loss = 0.024531088237251555, reconst.loss = 0.13609868075166429, down adj mae = 0.1389376116650445, up adj mae = 0.13838899774210794\n"
     ]
    },
    {
     "name": "stderr",
     "output_type": "stream",
     "text": [
      "100%|██████████| 7/7 [00:10<00:00,  1.50s/it]\n"
     ]
    },
    {
     "name": "stdout",
     "output_type": "stream",
     "text": [
      "ep 58: down loss = 0.016608668757336482, up loss = 0.024910539388656616, reconst.loss = 0.13669560849666595, down adj mae = 0.13877893345696585, up adj mae = 0.1357781014272145\n"
     ]
    },
    {
     "name": "stderr",
     "output_type": "stream",
     "text": [
      "100%|██████████| 7/7 [00:10<00:00,  1.53s/it]\n"
     ]
    },
    {
     "name": "stdout",
     "output_type": "stream",
     "text": [
      "ep 59: down loss = 0.01640620721238, up loss = 0.024796159405793463, reconst.loss = 0.13588020418371474, down adj mae = 0.13832994444029673, up adj mae = 0.13671517159257615\n"
     ]
    },
    {
     "name": "stderr",
     "output_type": "stream",
     "text": [
      "100%|██████████| 7/7 [00:10<00:00,  1.54s/it]\n"
     ]
    },
    {
     "name": "stdout",
     "output_type": "stream",
     "text": [
      "ep 60: down loss = 0.014762196556798049, up loss = 0.02410489666674818, reconst.loss = 0.13556806530271256, down adj mae = 0.13802369577544077, up adj mae = 0.13601699045726232\n"
     ]
    },
    {
     "name": "stderr",
     "output_type": "stream",
     "text": [
      "100%|██████████| 7/7 [00:10<00:00,  1.52s/it]\n"
     ]
    },
    {
     "name": "stdout",
     "output_type": "stream",
     "text": [
      "ep 61: down loss = 0.014263121677296502, up loss = 0.023595024698546956, reconst.loss = 0.1360288986137935, down adj mae = 0.1386788295848029, up adj mae = 0.1352876786674772\n"
     ]
    },
    {
     "name": "stderr",
     "output_type": "stream",
     "text": [
      "100%|██████████| 7/7 [00:10<00:00,  1.53s/it]\n"
     ]
    },
    {
     "name": "stdout",
     "output_type": "stream",
     "text": [
      "ep 62: down loss = 0.014383385490093912, up loss = 0.023759732022881508, reconst.loss = 0.13624168719564164, down adj mae = 0.137092581817082, up adj mae = 0.1349061897822789\n"
     ]
    },
    {
     "name": "stderr",
     "output_type": "stream",
     "text": [
      "100%|██████████| 7/7 [00:10<00:00,  1.53s/it]\n"
     ]
    },
    {
     "name": "stdout",
     "output_type": "stream",
     "text": [
      "ep 63: down loss = 0.013508047775498458, up loss = 0.02351963865969862, reconst.loss = 0.136029166834695, down adj mae = 0.13786060043743678, up adj mae = 0.13663696391241892\n"
     ]
    },
    {
     "name": "stderr",
     "output_type": "stream",
     "text": [
      "100%|██████████| 7/7 [00:10<00:00,  1.51s/it]\n"
     ]
    },
    {
     "name": "stdout",
     "output_type": "stream",
     "text": [
      "ep 64: down loss = 0.01328773477247783, up loss = 0.023028980940580368, reconst.loss = 0.13597833045891353, down adj mae = 0.1351807223899024, up adj mae = 0.13517757398741587\n"
     ]
    },
    {
     "name": "stderr",
     "output_type": "stream",
     "text": [
      "100%|██████████| 7/7 [00:10<00:00,  1.51s/it]\n"
     ]
    },
    {
     "name": "stdout",
     "output_type": "stream",
     "text": [
      "ep 65: down loss = 0.012953348191721099, up loss = 0.02297243875052248, reconst.loss = 0.1357991737978799, down adj mae = 0.1369972058704921, up adj mae = 0.13573190782751357\n"
     ]
    },
    {
     "name": "stderr",
     "output_type": "stream",
     "text": [
      "100%|██████████| 7/7 [00:10<00:00,  1.48s/it]\n"
     ]
    },
    {
     "name": "stdout",
     "output_type": "stream",
     "text": [
      "ep 66: down loss = 0.012603668762104852, up loss = 0.022866315341421535, reconst.loss = 0.13533915366445268, down adj mae = 0.1368619820901326, up adj mae = 0.13413294298308237\n"
     ]
    },
    {
     "name": "stderr",
     "output_type": "stream",
     "text": [
      "100%|██████████| 7/7 [00:10<00:00,  1.46s/it]\n"
     ]
    },
    {
     "name": "stdout",
     "output_type": "stream",
     "text": [
      "ep 67: down loss = 0.012234000089977468, up loss = 0.02228327707520553, reconst.loss = 0.13513808165277755, down adj mae = 0.13913404515811376, up adj mae = 0.1382243228810174\n"
     ]
    },
    {
     "name": "stderr",
     "output_type": "stream",
     "text": [
      "100%|██████████| 7/7 [00:10<00:00,  1.48s/it]\n"
     ]
    },
    {
     "name": "stdout",
     "output_type": "stream",
     "text": [
      "ep 68: down loss = 0.011863403687519687, up loss = 0.022092411826763834, reconst.loss = 0.13470899420125143, down adj mae = 0.13795828819274902, up adj mae = 0.13608219155243464\n"
     ]
    },
    {
     "name": "stderr",
     "output_type": "stream",
     "text": [
      "100%|██████████| 7/7 [00:10<00:00,  1.51s/it]\n"
     ]
    },
    {
     "name": "stdout",
     "output_type": "stream",
     "text": [
      "ep 69: down loss = 0.01184558788580554, up loss = 0.02239473589829036, reconst.loss = 0.13595297081129892, down adj mae = 0.1369439193180629, up adj mae = 0.13741086849144526\n"
     ]
    },
    {
     "name": "stderr",
     "output_type": "stream",
     "text": [
      "100%|██████████| 7/7 [00:10<00:00,  1.51s/it]\n"
     ]
    },
    {
     "name": "stdout",
     "output_type": "stream",
     "text": [
      "ep 70: down loss = 0.011654318310320377, up loss = 0.021983941218682697, reconst.loss = 0.1355957410165242, down adj mae = 0.13657742312976293, up adj mae = 0.1359891550881522\n"
     ]
    },
    {
     "name": "stderr",
     "output_type": "stream",
     "text": [
      "100%|██████████| 7/7 [00:10<00:00,  1.50s/it]\n"
     ]
    },
    {
     "name": "stdout",
     "output_type": "stream",
     "text": [
      "ep 71: down loss = 0.012091602198779583, up loss = 0.02247304974922112, reconst.loss = 0.13574870782239096, down adj mae = 0.13794680578368052, up adj mae = 0.13712603279522487\n"
     ]
    },
    {
     "name": "stderr",
     "output_type": "stream",
     "text": [
      "100%|██████████| 7/7 [00:10<00:00,  1.48s/it]\n"
     ]
    },
    {
     "name": "stdout",
     "output_type": "stream",
     "text": [
      "ep 72: down loss = 0.011930814012885094, up loss = 0.022847078474504606, reconst.loss = 0.13800318113395146, down adj mae = 0.1377581443105425, up adj mae = 0.13970213064125606\n"
     ]
    },
    {
     "name": "stderr",
     "output_type": "stream",
     "text": [
      "100%|██████████| 7/7 [00:10<00:00,  1.48s/it]\n"
     ]
    },
    {
     "name": "stdout",
     "output_type": "stream",
     "text": [
      "ep 73: down loss = 0.01125016316239323, up loss = 0.022049366629549434, reconst.loss = 0.1365201813834054, down adj mae = 0.13460313635213034, up adj mae = 0.1352024653128215\n"
     ]
    },
    {
     "name": "stderr",
     "output_type": "stream",
     "text": [
      "100%|██████████| 7/7 [00:10<00:00,  1.51s/it]\n"
     ]
    },
    {
     "name": "stdout",
     "output_type": "stream",
     "text": [
      "ep 74: down loss = 0.011020425041871411, up loss = 0.022041834092565944, reconst.loss = 0.13617710130555288, down adj mae = 0.1338668508189065, up adj mae = 0.13488314194338663\n"
     ]
    },
    {
     "name": "stderr",
     "output_type": "stream",
     "text": [
      "100%|██████████| 7/7 [00:10<00:00,  1.47s/it]\n"
     ]
    },
    {
     "name": "stdout",
     "output_type": "stream",
     "text": [
      "ep 75: down loss = 0.01035479868629149, up loss = 0.020994866266846657, reconst.loss = 0.1347253918647766, down adj mae = 0.13540984051568167, up adj mae = 0.1347440555691719\n"
     ]
    },
    {
     "name": "stderr",
     "output_type": "stream",
     "text": [
      "100%|██████████| 7/7 [00:10<00:00,  1.49s/it]\n"
     ]
    },
    {
     "name": "stdout",
     "output_type": "stream",
     "text": [
      "ep 76: down loss = 0.010401507839560509, up loss = 0.02090522593685559, reconst.loss = 0.13436864742210933, down adj mae = 0.1352295173066003, up adj mae = 0.13461522332259587\n"
     ]
    },
    {
     "name": "stderr",
     "output_type": "stream",
     "text": [
      "100%|██████████| 7/7 [00:10<00:00,  1.49s/it]\n"
     ]
    },
    {
     "name": "stdout",
     "output_type": "stream",
     "text": [
      "ep 77: down loss = 0.010322066156991891, up loss = 0.020888837852648327, reconst.loss = 0.13490279657500132, down adj mae = 0.1337069006902831, up adj mae = 0.1329848404441561\n"
     ]
    },
    {
     "name": "stderr",
     "output_type": "stream",
     "text": [
      "100%|██████████| 7/7 [00:10<00:00,  1.49s/it]\n"
     ]
    },
    {
     "name": "stdout",
     "output_type": "stream",
     "text": [
      "ep 78: down loss = 0.01006791926920414, up loss = 0.02126679170344557, reconst.loss = 0.1355107639517103, down adj mae = 0.13901191524096898, up adj mae = 0.13771317047732218\n"
     ]
    },
    {
     "name": "stderr",
     "output_type": "stream",
     "text": [
      "100%|██████████| 7/7 [00:10<00:00,  1.49s/it]\n"
     ]
    },
    {
     "name": "stdout",
     "output_type": "stream",
     "text": [
      "ep 79: down loss = 0.009532889085156577, up loss = 0.02045795720602785, reconst.loss = 0.13409912373338426, down adj mae = 0.135319818343435, up adj mae = 0.13336190368447984\n"
     ]
    },
    {
     "name": "stderr",
     "output_type": "stream",
     "text": [
      "100%|██████████| 7/7 [00:10<00:00,  1.56s/it]\n"
     ]
    },
    {
     "name": "stdout",
     "output_type": "stream",
     "text": [
      "ep 80: down loss = 0.009258788212069444, up loss = 0.020407372021249363, reconst.loss = 0.1342906504869461, down adj mae = 0.13648891236100877, up adj mae = 0.1344065304313387\n"
     ]
    },
    {
     "name": "stderr",
     "output_type": "stream",
     "text": [
      "100%|██████████| 7/7 [00:10<00:00,  1.48s/it]\n"
     ]
    },
    {
     "name": "stdout",
     "output_type": "stream",
     "text": [
      "ep 81: down loss = 0.009155069078717912, up loss = 0.020602447912096977, reconst.loss = 0.13484303866113936, down adj mae = 0.13531330866473062, up adj mae = 0.1342452551637377\n"
     ]
    },
    {
     "name": "stderr",
     "output_type": "stream",
     "text": [
      "100%|██████████| 7/7 [00:10<00:00,  1.48s/it]\n"
     ]
    },
    {
     "name": "stdout",
     "output_type": "stream",
     "text": [
      "ep 82: down loss = 0.009093396631734712, up loss = 0.020371276353086745, reconst.loss = 0.13436773419380188, down adj mae = 0.13458582120282309, up adj mae = 0.13359396159648895\n"
     ]
    },
    {
     "name": "stderr",
     "output_type": "stream",
     "text": [
      "100%|██████████| 7/7 [00:10<00:00,  1.47s/it]\n"
     ]
    },
    {
     "name": "stdout",
     "output_type": "stream",
     "text": [
      "ep 83: down loss = 0.009145584489618028, up loss = 0.020395507237740924, reconst.loss = 0.13477722023214614, down adj mae = 0.13604294402258738, up adj mae = 0.13727821196828568\n"
     ]
    },
    {
     "name": "stderr",
     "output_type": "stream",
     "text": [
      "100%|██████████| 7/7 [00:10<00:00,  1.47s/it]\n"
     ]
    },
    {
     "name": "stdout",
     "output_type": "stream",
     "text": [
      "ep 84: down loss = 0.008804159238934517, up loss = 0.019881889756236757, reconst.loss = 0.13398448910032, down adj mae = 0.13519302223409926, up adj mae = 0.13451774950538362\n"
     ]
    },
    {
     "name": "stderr",
     "output_type": "stream",
     "text": [
      "100%|██████████| 7/7 [00:10<00:00,  1.47s/it]\n"
     ]
    },
    {
     "name": "stdout",
     "output_type": "stream",
     "text": [
      "ep 85: down loss = 0.009399370955569404, up loss = 0.02010683262986796, reconst.loss = 0.134484486920493, down adj mae = 0.1366668258394514, up adj mae = 0.13446172433240072\n"
     ]
    },
    {
     "name": "stderr",
     "output_type": "stream",
     "text": [
      "100%|██████████| 7/7 [00:10<00:00,  1.46s/it]\n"
     ]
    },
    {
     "name": "stdout",
     "output_type": "stream",
     "text": [
      "ep 86: down loss = 0.009372603281268052, up loss = 0.020459730976394246, reconst.loss = 0.13477369504315512, down adj mae = 0.13691324847085135, up adj mae = 0.1361879280635289\n"
     ]
    },
    {
     "name": "stderr",
     "output_type": "stream",
     "text": [
      "100%|██████████| 7/7 [00:10<00:00,  1.44s/it]\n"
     ]
    },
    {
     "name": "stdout",
     "output_type": "stream",
     "text": [
      "ep 87: down loss = 0.00906608479895762, up loss = 0.0202732796647719, reconst.loss = 0.13498520425387792, down adj mae = 0.13770089404923574, up adj mae = 0.13550622974123275\n"
     ]
    },
    {
     "name": "stderr",
     "output_type": "stream",
     "text": [
      "100%|██████████| 7/7 [00:10<00:00,  1.49s/it]\n"
     ]
    },
    {
     "name": "stdout",
     "output_type": "stream",
     "text": [
      "ep 88: down loss = 0.009114332630165986, up loss = 0.01975203731230327, reconst.loss = 0.13357382799897874, down adj mae = 0.13538972394806997, up adj mae = 0.1335624818290983\n"
     ]
    },
    {
     "name": "stderr",
     "output_type": "stream",
     "text": [
      "100%|██████████| 7/7 [00:10<00:00,  1.49s/it]\n"
     ]
    },
    {
     "name": "stdout",
     "output_type": "stream",
     "text": [
      "ep 89: down loss = 0.00858350404139076, up loss = 0.01952982507646084, reconst.loss = 0.13353568954127176, down adj mae = 0.1342555018407958, up adj mae = 0.13065229994910105\n"
     ]
    },
    {
     "name": "stderr",
     "output_type": "stream",
     "text": [
      "100%|██████████| 7/7 [00:10<00:00,  1.46s/it]\n"
     ]
    },
    {
     "name": "stdout",
     "output_type": "stream",
     "text": [
      "ep 90: down loss = 0.00838329323700496, up loss = 0.019654888925807818, reconst.loss = 0.13420765953404562, down adj mae = 0.13490601309708186, up adj mae = 0.13454638634409224\n"
     ]
    },
    {
     "name": "stderr",
     "output_type": "stream",
     "text": [
      "100%|██████████| 7/7 [00:10<00:00,  1.45s/it]\n"
     ]
    },
    {
     "name": "stdout",
     "output_type": "stream",
     "text": [
      "ep 91: down loss = 0.008256840386560984, up loss = 0.019452261605433056, reconst.loss = 0.134302590574537, down adj mae = 0.13838282014642442, up adj mae = 0.13677207486970083\n"
     ]
    },
    {
     "name": "stderr",
     "output_type": "stream",
     "text": [
      "100%|██████████| 7/7 [00:10<00:00,  1.44s/it]\n"
     ]
    },
    {
     "name": "stdout",
     "output_type": "stream",
     "text": [
      "ep 92: down loss = 0.007997792679816484, up loss = 0.019302516111305783, reconst.loss = 0.1337601797921317, down adj mae = 0.13244321942329407, up adj mae = 0.13087575882673264\n"
     ]
    },
    {
     "name": "stderr",
     "output_type": "stream",
     "text": [
      "100%|██████████| 7/7 [00:10<00:00,  1.44s/it]\n"
     ]
    },
    {
     "name": "stdout",
     "output_type": "stream",
     "text": [
      "ep 93: down loss = 0.008397537682737623, up loss = 0.019325960693614825, reconst.loss = 0.13417684393269674, down adj mae = 0.1380906105041504, up adj mae = 0.1361584429230009\n"
     ]
    },
    {
     "name": "stderr",
     "output_type": "stream",
     "text": [
      "100%|██████████| 7/7 [00:10<00:00,  1.47s/it]\n"
     ]
    },
    {
     "name": "stdout",
     "output_type": "stream",
     "text": [
      "ep 94: down loss = 0.008541283064654894, up loss = 0.019586897854294096, reconst.loss = 0.1340761525290353, down adj mae = 0.13846187080655778, up adj mae = 0.13577071257999965\n"
     ]
    },
    {
     "name": "stderr",
     "output_type": "stream",
     "text": [
      "100%|██████████| 7/7 [00:10<00:00,  1.46s/it]\n"
     ]
    },
    {
     "name": "stdout",
     "output_type": "stream",
     "text": [
      "ep 95: down loss = 0.008156648171799523, up loss = 0.019192938027637347, reconst.loss = 0.1333745058093752, down adj mae = 0.13614611753395625, up adj mae = 0.13285896607807704\n"
     ]
    },
    {
     "name": "stderr",
     "output_type": "stream",
     "text": [
      "100%|██████████| 7/7 [00:10<00:00,  1.44s/it]\n"
     ]
    },
    {
     "name": "stdout",
     "output_type": "stream",
     "text": [
      "ep 96: down loss = 0.007889703714421816, up loss = 0.01922843019877161, reconst.loss = 0.1333952077797481, down adj mae = 0.13799704611301422, up adj mae = 0.13297164972339356\n"
     ]
    },
    {
     "name": "stderr",
     "output_type": "stream",
     "text": [
      "  0%|          | 0/7 [00:00<?, ?it/s]"
     ]
    }
   ],
   "source": [
    "import gc\n",
    "\n",
    "# del up_changer\n",
    "# del down_changer\n",
    "# del test_predictions\n",
    "gc.collect()\n",
    "\n",
    "torch.cuda.empty_cache()\n",
    "\n",
    "results = cross_validate(200,50,16, 3, lr_X_dim1, lr_X_dim3, lr_train, hr_X_dim1, hr_X_dim3, hr_train, num_steps=12, histogram=True, heatmap=True)"
   ]
  }
 ],
 "metadata": {
  "kernelspec": {
   "display_name": "venv",
   "language": "python",
   "name": "python3"
  },
  "language_info": {
   "codemirror_mode": {
    "name": "ipython",
    "version": 3
   },
   "file_extension": ".py",
   "mimetype": "text/x-python",
   "name": "python",
   "nbconvert_exporter": "python",
   "pygments_lexer": "ipython3",
   "version": "3.10.12"
  }
 },
 "nbformat": 4,
 "nbformat_minor": 2
}
