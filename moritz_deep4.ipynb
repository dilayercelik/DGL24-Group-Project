{
 "cells": [
  {
   "cell_type": "code",
   "execution_count": 1,
   "metadata": {},
   "outputs": [],
   "source": [
    "import torch\n",
    "import torch.nn.functional as F\n",
    "import torch.nn as nn\n",
    "from torch_geometric.nn import GENConv, GATv2Conv, SSGConv\n",
    "import numpy as np\n",
    "from torch_geometric.data import Data\n",
    "from torch.utils.data import DataLoader\n",
    "import torch_geometric.utils\n",
    "\n",
    "from tqdm import tqdm\n",
    "\n",
    "from sklearn.model_selection import KFold\n",
    "import pandas as pd\n",
    "from MatrixVectorizer import MatrixVectorizer\n"
   ]
  },
  {
   "cell_type": "code",
   "execution_count": 2,
   "metadata": {},
   "outputs": [],
   "source": [
    "# set global variables\n",
    "N_SUBJECTS = 167\n",
    "\n",
    "N_LR_NODES = 160\n",
    "\n",
    "N_HR_NODES = 268\n",
    "\n",
    "DEVICE = 'cuda' if torch.cuda.is_available() else 'cpu'\n",
    "\n",
    "N_LR_NODES_F = int(N_LR_NODES * (N_LR_NODES-1) / 2)\n",
    "N_HR_NODES_F = int(N_HR_NODES * (N_HR_NODES-1) / 2)"
   ]
  },
  {
   "cell_type": "code",
   "execution_count": 3,
   "metadata": {},
   "outputs": [],
   "source": [
    "from data_preparation import load_data_tensor\n",
    "\n",
    "lr_train, lr_test, hr_train = load_data_tensor(\"dgl-icl\")\n",
    "\n",
    "lr_X_dim1 = torch.load('model_autoencoder/final_embeddings/encode_lr.pt')\n",
    "lr_X_dim3 = torch.load('model_autoencoder/final_embeddings/encode_lr_3.pt')\n",
    "hr_X_dim1 = torch.load('model_autoencoder/final_embeddings/encode_hr.pt')\n",
    "hr_X_dim3 = torch.load('model_autoencoder/final_embeddings/encode_hr_3.pt')\n",
    "lr_X_dim1_test = torch.load('model_autoencoder/final_embeddings/encode_lr_test.pt')\n",
    "hr_X_dim3_test = torch.load('model_autoencoder/final_embeddings/encode_lr_test_3.pt')"
   ]
  },
  {
   "cell_type": "markdown",
   "metadata": {},
   "source": [
    "# Model Layers"
   ]
  },
  {
   "cell_type": "code",
   "execution_count": 4,
   "metadata": {},
   "outputs": [],
   "source": [
    "def generate_steps(num_steps, low=N_LR_NODES, high=N_HR_NODES):\n",
    "    step_size = (high - low) / (num_steps - 1)\n",
    "    steps_list = [round(low + step_size * i) for i in range(num_steps)]\n",
    "    return steps_list"
   ]
  },
  {
   "cell_type": "code",
   "execution_count": 5,
   "metadata": {},
   "outputs": [],
   "source": [
    "class StackedGCN(nn.Module):\n",
    "    def __init__(self, n_nodes, channel_ls, dropout):\n",
    "        super().__init__()\n",
    "        self.n_nodes = n_nodes\n",
    "        self.gcn_layers, self.batch_norm_layers = self._init_layers(channel_ls)\n",
    "\n",
    "        # self.gcn_layers, _ = self._init_layers(channel_ls)\n",
    "        self.dropout = dropout\n",
    "        \n",
    "    \n",
    "    def forward(self, X, A):\n",
    "        for i in range(len(self.gcn_layers)):\n",
    "            gcn = self.gcn_layers[i]\n",
    "            batch_norm = self.batch_norm_layers[i]\n",
    "            graph_batch = self._create_batch(X, A)\n",
    "            \n",
    "            X = F.sigmoid(gcn(graph_batch.x, graph_batch.edge_index, graph_batch.edge_attr).reshape(*X.shape[:2], -1))\n",
    "            torch.cuda.empty_cache()\n",
    "            X = F.dropout(batch_norm(X), self.dropout, training=self.training)\n",
    "            # X = F.dropout(X, self.dropout, training=self.training)\n",
    "            torch.cuda.empty_cache()\n",
    "\n",
    "        return X\n",
    "\n",
    "    def _init_layers(self, channel_ls):\n",
    "        layers_ls = []\n",
    "        batch_norm_ls = []\n",
    "        for i in range(len(channel_ls) - 1):\n",
    "            layer = GATv2Conv(channel_ls[i], channel_ls[i], heads=2, edge_dim=1)\n",
    "            layers_ls.append(layer)\n",
    "            batch_norm_ls.append(torch_geometric.nn.norm.BatchNorm(self.n_nodes))\n",
    "        return nn.ModuleList(layers_ls), nn.ModuleList(batch_norm_ls)\n",
    "\n",
    "    def _create_batch(self, X, A):\n",
    "        data_list = []\n",
    "        for x, adj in zip(X, A):\n",
    "            edge_index = adj.nonzero().t()\n",
    "            edge_weights = adj[edge_index[0], edge_index[1]]\n",
    "            edge_index, edge_weights = torch_geometric.utils.add_self_loops(edge_index, edge_weights) # add self connections\n",
    "            data = Data(x=x, edge_index=edge_index, edge_attr=edge_weights.view(-1, 1))\n",
    "            data_list.append(data)\n",
    "        return torch_geometric.data.Batch().from_data_list(data_list)"
   ]
  },
  {
   "cell_type": "code",
   "execution_count": 6,
   "metadata": {},
   "outputs": [],
   "source": [
    "class AdjacencyStep(nn.Module):\n",
    "    def __init__(self, old_dim, new_dim, channels_ls, dt=1., alpha=0.9, gamma=0.9, dropout=0.25):\n",
    "        super().__init__()\n",
    "        self.dt = dt\n",
    "        self.alpha = alpha\n",
    "        self.gamma = gamma\n",
    "        self.gnn = StackedGCN(old_dim, channels_ls, dropout).to(DEVICE)\n",
    "        self.dropout = dropout\n",
    "        # self.dim_changer1 = nn.Parameter(torch.randn((new_dim, 1), device=DEVICE))\n",
    "        # self.dim_changer2 = nn.Parameter(torch.randn((1, old_dim), device=DEVICE))\n",
    "        self.dim_changer = nn.Parameter(torch.randn((new_dim, old_dim), device=DEVICE))\n",
    "\n",
    "        self.A_dim_changer = nn.Parameter(torch.randn((new_dim, old_dim), device=DEVICE))\n",
    "        # self.A_dim_changer1 = nn.Parameter(torch.randn((new_dim, 1), device=DEVICE))   \n",
    "        # self.A_dim_changer2 = nn.Parameter(torch.randn((1, old_dim), device=DEVICE))\n",
    "        self.A_dim_bias = nn.Parameter(torch.randn((new_dim, 1), device=DEVICE))\n",
    "\n",
    "        self.Z_dim_changer = nn.Parameter(torch.randn((channels_ls[-1], new_dim), device=DEVICE))\n",
    "        # self.Z_dim_changer1 = nn.Parameter(torch.randn((channels_ls[-1], 1), device=DEVICE))   \n",
    "        # self.Z_dim_changer2 = nn.Parameter(torch.randn((1, new_dim), device=DEVICE))\n",
    "        self.Z_dim_bias = nn.Parameter(torch.randn((new_dim, 1), device=DEVICE))\n",
    "\n",
    "        self.Z_dim_lower = nn.Conv1d(channels_ls[-1], channels_ls[0], kernel_size=1)\n",
    "\n",
    "\n",
    "        self.forget_gate = nn.Parameter(torch.randn(new_dim, device=DEVICE))\n",
    "        self.input_gate = nn.Parameter(torch.randn(new_dim, device=DEVICE))\n",
    "\n",
    "        self.batchnorm_A = torch_geometric.nn.norm.BatchNorm(new_dim)\n",
    "        self.layernorm_forget_A = torch_geometric.nn.norm.LayerNorm((new_dim, new_dim))\n",
    "        self.layernorm_input_Z = torch_geometric.nn.norm.LayerNorm((new_dim, new_dim))\n",
    "        self.batchnorm_X = torch_geometric.nn.norm.BatchNorm(new_dim)\n",
    "        self.batchnorm_Y = torch_geometric.nn.norm.BatchNorm(new_dim)\n",
    "\n",
    "\n",
    "\n",
    "    def forward(self, X, Y, A):\n",
    "        # solve ODEs using simple IMEX scheme\n",
    "        # dim_changer = self.dim_changer1 @ self.dim_changer2 \n",
    "        # A_dim_changer = self.A_dim_changer1 @ self.A_dim_changer2\n",
    "        # Z_dim_changer = self.Z_dim_changer1 @ self.Z_dim_changer2\n",
    "        dim_changer = self.dim_changer\n",
    "        A_dim_changer = self.A_dim_changer\n",
    "        Z_dim_changer = self.Z_dim_changer\n",
    "\n",
    "        # forget gate from previous adjacency\n",
    "        f = F.sigmoid(self.forget_gate)\n",
    "        i = F.sigmoid(self.input_gate)\n",
    "        forget_A = F.elu(A_dim_changer @ A @ A_dim_changer.T + self.A_dim_bias)\n",
    "        forget_A = f[:, None] * self.layernorm_forget_A(forget_A)\n",
    "        # forget_A = f[:, None] * forget_A\n",
    "        torch.cuda.empty_cache()\n",
    "\n",
    "    \n",
    "        # update node features with gcn\n",
    "        Z = self.gnn(X, A)\n",
    "        torch.cuda.empty_cache()\n",
    "        input_Z = F.elu(dim_changer @ Z @ Z_dim_changer + self.Z_dim_bias)\n",
    "        input_Z = i[:, None] * self.layernorm_input_Z(input_Z)\n",
    "        # input_Z = i[:, None] * input_Z\n",
    "        torch.cuda.empty_cache()\n",
    "\n",
    "\n",
    "\n",
    "        # get new adjacency matrix\n",
    "        new_A = forget_A + input_Z\n",
    "        new_A = self.batchnorm_A(new_A)\n",
    "        new_A = (new_A + torch.transpose(new_A, -1, -2)) / 2\n",
    "        new_A = F.tanh(F.relu(new_A))\n",
    "        # new_A = F.hardtanh(F.hardtanh(new_A, min_val=0), min_val=0)\n",
    "\n",
    "\n",
    "        torch.cuda.empty_cache()\n",
    "\n",
    "\n",
    "        # update feature embeiddings\n",
    "        Z = torch.transpose(self.Z_dim_lower(torch.transpose(Z, -1, -2)), -1, -2)\n",
    "        Y_temp = Y\n",
    "        Y = dim_changer @ (Y + self.dt * (Z - self.alpha * Y - self.gamma * X))\n",
    "        X = dim_changer @ (X + self.dt * Y_temp) \n",
    "\n",
    "        X = self.batchnorm_X(X)\n",
    "        Y = self.batchnorm_Y(Y)   \n",
    "        torch.cuda.empty_cache()\n",
    "\n",
    "\n",
    "        Y = F.dropout(Y, self.dropout, training=self.training)\n",
    "        X = F.dropout(X, self.dropout, training=self.training)\n",
    "\n",
    "        return X, Y, new_A\n",
    "\n",
    "    "
   ]
  },
  {
   "cell_type": "code",
   "execution_count": 7,
   "metadata": {},
   "outputs": [],
   "source": [
    "class AdjacencyDimChanger(nn.Module):\n",
    "\n",
    "    def __init__(self, dim_steps, channels_ls):\n",
    "        super().__init__()\n",
    "        \n",
    "        self.layers = nn.ModuleList([AdjacencyStep(dim_steps[i], dim_steps[i+1], channels_ls) for i in range(len(dim_steps)-1)])\n",
    "        # self.batchnorms = nn.ModuleList([nn.BatchNorm1d(dim_steps[i+1]) for i in range(len(dim_steps)-1)])\n",
    "        \n",
    "    def forward(self, X, Y, A):\n",
    "        adj_ls = [A]\n",
    "        x, y, adj = X, Y, A\n",
    "        \n",
    "        for layer in self.layers:\n",
    "            x, y, adj = layer(x, y, adj)\n",
    "            adj_ls.append(adj)\n",
    "            \n",
    "        return adj_ls\n",
    "        "
   ]
  },
  {
   "cell_type": "code",
   "execution_count": 8,
   "metadata": {},
   "outputs": [],
   "source": [
    "def freeze_model(model):\n",
    "    for param in model.parameters():\n",
    "        param.requires_grad = False\n",
    "\n",
    "def unfreeze_model(model):\n",
    "    for param in model.parameters():\n",
    "        param.requires_grad = True"
   ]
  },
  {
   "cell_type": "code",
   "execution_count": 9,
   "metadata": {},
   "outputs": [],
   "source": [
    "import numpy as np\n",
    "import networkx as nx\n",
    "\n",
    "def eigen_centrality(data):\n",
    "    # ROI is the number of brain regions (i.e.,35 in our case)\n",
    "    ROI = 160\n",
    "\n",
    "    topology_eigen = []\n",
    "\n",
    "    G = nx.from_numpy_array(np.absolute(data))\n",
    "    U = G.to_undirected()\n",
    "\n",
    "    # A = to_2d(data)\n",
    "    np.fill_diagonal(data, 0)\n",
    "\n",
    "    # create a graph frL2\n",
    "    # # compute egeinvector centrality and transform the output to vector\n",
    "    ec = nx.eigenvector_centrality_numpy(U)\n",
    "    \n",
    "    eigenvector_centrality = np.array([ec[g] for g in U])\n",
    "\n",
    "\n",
    "\n",
    "    topology_eigen.append(eigenvector_centrality)  # 2\n",
    "\n",
    "    return topology_eigen\n",
    "\n",
    "def pearson_coor(input, target, epsilon=1e-7):\n",
    "    vx = input - torch.mean(input, dim=(1, 2))[:, None, None]\n",
    "    vy = target - torch.mean(target, dim=(1, 2))[:, None, None]\n",
    "    cost = torch.sum(vx * vy) / (torch.sqrt(torch.sum(vx ** 2)+epsilon) * torch.sqrt(torch.sum(vy ** 2)+epsilon)+epsilon)\n",
    "    return cost\n",
    "\n",
    "def GT_loss(target, predicted):\n",
    "\n",
    "    # l1_loss\n",
    "    l1_loss = torch.nn.L1Loss()\n",
    "    # loss_pix2pix = l1_loss(target, predicted)\n",
    "\n",
    "    # topological_loss\n",
    "    target_n = target.detach().cpu().clone().numpy()\n",
    "    predicted_n = predicted.detach().cpu().clone().numpy()\n",
    "    torch.cuda.empty_cache()\n",
    "\n",
    "    topo_loss = []\n",
    "    \n",
    "\n",
    "    for i in range(len(target_n)):\n",
    "\n",
    "        cur_target = target_n[i]\n",
    "        cur_predicted = predicted_n[i]\n",
    "\n",
    "        target_t = eigen_centrality(cur_target)\n",
    "        real_topology = torch.tensor(target_t[0])\n",
    "        predicted_t = eigen_centrality(cur_predicted)\n",
    "        fake_topology = torch.tensor(predicted_t[0])\n",
    "        topo_loss.append(l1_loss(real_topology, fake_topology))\n",
    "\n",
    "    topo_loss = torch.sum(torch.stack(topo_loss))\n",
    "\n",
    "    pc_loss = pearson_coor(target, predicted).to(DEVICE)\n",
    "    torch.cuda.empty_cache()\n",
    "\n",
    "    # G_loss = loss_pix2pix + (1 - pc_loss) + topo_loss\n",
    "    G_loss = (1 - pc_loss) + topo_loss\n",
    "\n",
    "\n",
    "    return G_loss"
   ]
  },
  {
   "cell_type": "code",
   "execution_count": 10,
   "metadata": {},
   "outputs": [],
   "source": [
    "def loss_calc(adj_ls, opp_adj_ls, alpha=0.75, weights=None):\n",
    "    total_loss = torch.Tensor([0]).to(DEVICE)\n",
    "    mse_loss_fn = nn.MSELoss()\n",
    "\n",
    "    # calculate the loss for the upper traingle of the matrix because thats what we care about\n",
    "    final_dim = adj_ls[-1].shape[-1]\n",
    "    upper_tri_idx = torch.triu_indices(final_dim, final_dim, offset=1)\n",
    "    final_upper_tri_adj = adj_ls[-1][:,upper_tri_idx.unbind()[0], upper_tri_idx.unbind()[1]]\n",
    "    final_upper_tri_other_adj = opp_adj_ls[0][:,upper_tri_idx.unbind()[0], upper_tri_idx.unbind()[1]]\n",
    "    final_mse_loss = mse_loss_fn(final_upper_tri_adj, final_upper_tri_other_adj)\n",
    "\n",
    "    if weights is None:\n",
    "        n = len(adj_ls[1:-1])\n",
    "        weights = torch.Tensor([2*(i+1)/(n*(n+1)) for i in range(n)])\n",
    "    \n",
    "    # calculate the loss for the remaining intermediate adjacent matrices\n",
    "    intermediate_mse_loss = torch.Tensor([0]).to(DEVICE)\n",
    "    for i, (adj, opp_adj) in enumerate(zip(adj_ls[:-1], opp_adj_ls[1:][::-1])):\n",
    "        intermediate_mse_loss = intermediate_mse_loss + weights[i] * mse_loss_fn(adj, opp_adj)\n",
    "\n",
    "    total_loss = total_loss + alpha * final_mse_loss + (1-alpha) * intermediate_mse_loss\n",
    "    # total_loss = total_loss + alpha * final_mse_loss * (1 + intermediate_mse_loss) * (gamma ** 2)\n",
    "    # total_loss = total_loss + (1-alpha) * intermediate_mse_loss * (beta ** 2)\n",
    "        \n",
    "\n",
    "    # gt_loss = torch.Tensor([0]).to(DEVICE)\n",
    "    # for i, (adj, opp_adj) in enumerate(zip(adj_ls, opp_adj_ls[::-1])):\n",
    "\n",
    "    #     ### NOTE TEMPORARY MEASURE BECAUSE THEY TAKE IN (BATCHSIZE, xx, xx) shape ####\n",
    "    #     temp_adj = adj.reshape(1, *adj.shape)\n",
    "    #     temp_opp_adj = opp_adj.reshape(1, *opp_adj.shape)\n",
    "    #     ##########################################################\n",
    "    #     gt_loss = gt_loss + GT_loss(temp_adj, temp_opp_adj)\n",
    "\n",
    "    # gt_loss = gt_loss / n\n",
    "        \n",
    "    return total_loss\n",
    "\n",
    "def up_loss_fn(up_adj_ls, down_adj_ls, alpha, epoch_weight):\n",
    "    total_loss = torch.Tensor([0]).to(DEVICE)\n",
    "    mse_loss_fn = nn.MSELoss()\n",
    "\n",
    "    # calculate the loss for the upper traingle of the matrix because thats what we care about\n",
    "    final_dim = up_adj_ls[-1].shape[-1]\n",
    "    upper_tri_idx = torch.triu_indices(final_dim, final_dim, offset=1)\n",
    "    final_upper_tri_adj = up_adj_ls[-1][:,upper_tri_idx.unbind()[0], upper_tri_idx.unbind()[1]]\n",
    "    final_upper_tri_other_adj = down_adj_ls[0][:,upper_tri_idx.unbind()[0], upper_tri_idx.unbind()[1]]\n",
    "    final_mse_loss = mse_loss_fn(final_upper_tri_adj, final_upper_tri_other_adj)\n",
    "\n",
    "    n = len(up_adj_ls[:-1])\n",
    "    weights = torch.Tensor([2*(i+1)/(n*(n+1)) for i in range(n)])\n",
    "    \n",
    "    # calculate the loss for the remaining intermediate adjacent matrices\n",
    "    intermediate_mse_loss = torch.Tensor([0]).to(DEVICE)\n",
    "    for i, (up_adj, down_adj) in enumerate(zip(up_adj_ls[:-1], down_adj_ls[1:][::-1])):\n",
    "        intermediate_mse_loss = intermediate_mse_loss + weights[i] * mse_loss_fn(up_adj, down_adj)\n",
    "\n",
    "\n",
    "    total_loss = total_loss + alpha * final_mse_loss + (1-alpha) * intermediate_mse_loss * epoch_weight\n",
    "    return total_loss\n",
    "\n",
    "def down_loss_fn(down_adj_ls, up_adj_ls):\n",
    "    total_loss = torch.Tensor([0]).to(DEVICE)\n",
    "    mse_loss_fn = nn.MSELoss()\n",
    "\n",
    "    n = len(down_adj_ls[:])\n",
    "    weights = torch.Tensor([1/n for i in range(n)])\n",
    "    \n",
    "    # calculate the loss for the remaining intermediate adjacent matrices\n",
    "    for i, (down_adj, up_adj) in enumerate(zip(down_adj_ls[:], up_adj_ls[::-1])):\n",
    "        total_loss = total_loss + weights[i] * mse_loss_fn(down_adj, up_adj)\n",
    "\n",
    "    return total_loss\n",
    "    \n",
    "def reconstruction_loss_fn(gt_adj, pred_adj):\n",
    "    l1_loss_fn = nn.L1Loss()\n",
    "    return l1_loss_fn(gt_adj, pred_adj)\n",
    "\n",
    "def end_adj_loss_calc(adj, opp_adj):\n",
    "    mae_loss_fn = torch.nn.L1Loss()\n",
    "    n = len(adj)\n",
    "    upper_tri_idx = torch.triu_indices(n, n, offset=1)\n",
    "    upper_tri_adj = adj.detach()[upper_tri_idx.unbind()]\n",
    "    upper_tri_opp_adj = opp_adj.detach()[upper_tri_idx.unbind()]\n",
    "    mae_loss = mae_loss_fn(upper_tri_adj, upper_tri_opp_adj)\n",
    "    # temp_adj = adj.reshape(1, *adj.shape)\n",
    "    # temp_opp_adj = opp_adj.reshape(1, *opp_adj.shape)\n",
    "    # gt_loss = GT_loss(temp_adj, temp_opp_adj)\n",
    "    return mae_loss.detach().item()"
   ]
  },
  {
   "cell_type": "markdown",
   "metadata": {},
   "source": [
    "# Training"
   ]
  },
  {
   "cell_type": "code",
   "execution_count": 11,
   "metadata": {},
   "outputs": [
    {
     "data": {
      "text/plain": [
       "6673868"
      ]
     },
     "execution_count": 11,
     "metadata": {},
     "output_type": "execute_result"
    }
   ],
   "source": [
    "trainloader = DataLoader(list(zip(lr_X_dim1, lr_X_dim3, lr_train, hr_X_dim1, hr_X_dim3, hr_train)), shuffle=True, batch_size=16)\n",
    "testloader = DataLoader(list(zip(lr_X_dim1_test, lr_X_dim3, lr_test)), shuffle=True, batch_size=32)\n",
    "\n",
    "dim_steps = generate_steps(num_steps=12)\n",
    "channels_ls = [32, 64]\n",
    "\n",
    "up_changer = AdjacencyDimChanger(dim_steps, channels_ls).to(DEVICE)\n",
    "down_changer = AdjacencyDimChanger(dim_steps[::-1], channels_ls).to(DEVICE)\n",
    "\n",
    "up_optimizer = torch.optim.AdamW(up_changer.parameters(), lr=0.0025, betas=(0.5, 0.999))\n",
    "down_optimizer = torch.optim.AdamW(down_changer.parameters(), lr=0.0025, betas=(0.5, 0.999))\n",
    "reconstruction_optimizer = torch.optim.AdamW(list(up_changer.parameters()) + list(down_changer.parameters()), lr=0.0025, betas=(0.5, 0.999))\n",
    "\n",
    "sum(p.numel() for model in [up_changer, down_changer] for p in model.parameters())\n"
   ]
  },
  {
   "cell_type": "code",
   "execution_count": 12,
   "metadata": {},
   "outputs": [],
   "source": [
    "import gc\n",
    "\n",
    "def train(epochs, up_changer, down_changer, trainloader, up_optimizer, down_optimizer, completed_epochs=0, loss_log=None):\n",
    "\n",
    "    if loss_log is None:\n",
    "        loss_log = {'up': [], 'down': [], 'up_end_mae':[], 'down_end_mae':[]}\n",
    "\n",
    "    up_changer.train()\n",
    "    down_changer.train()   \n",
    "\n",
    "    epoch_weight = 1\n",
    "    for epoch in range(epochs):\n",
    "\n",
    "        up_losses = []\n",
    "        up_final_mae_ls = []\n",
    "        down_final_mae_ls = []\n",
    "        down_losses = []\n",
    "        reconstruction_losses = []\n",
    "            \n",
    "        if (epoch + 1) % 10 == 0:\n",
    "            epoch_weight = 1 / (2 ** (0.8 * (epoch + completed_epochs + 1)))\n",
    "\n",
    "\n",
    "        for X_lr, Y_lr, adj_lr, X_hr, Y_hr, adj_hr in tqdm(trainloader):\n",
    "            gc.collect()\n",
    "            freeze_model(up_changer)\n",
    "            unfreeze_model(down_changer)\n",
    "        \n",
    "            down_optimizer.zero_grad()\n",
    "\n",
    "            \n",
    "            up_adj_ls = up_changer(X_lr.to(DEVICE), Y_lr.to(DEVICE), adj_lr.to(DEVICE))\n",
    "            torch.cuda.empty_cache()\n",
    "            down_adj_ls = down_changer(X_hr.to(DEVICE), Y_hr.to(DEVICE), adj_hr.to(DEVICE))\n",
    "            torch.cuda.empty_cache()\n",
    "\n",
    "            down_loss = down_loss_fn(down_adj_ls[1:], up_adj_ls[:-1])\n",
    "        \n",
    "            # for printing loss only\n",
    "            down_final_mae_ls.append(end_adj_loss_calc(down_adj_ls[-1].detach(), up_adj_ls[0].detach()))\n",
    "            torch.cuda.empty_cache()\n",
    "            \n",
    "            # del down_end_adj_gt_loss\n",
    "            down_loss.backward()\n",
    "            down_optimizer.step()\n",
    "\n",
    "            down_losses.append(down_loss.detach().item())\n",
    "            del down_loss\n",
    "            torch.cuda.empty_cache()\n",
    "\n",
    "            unfreeze_model(up_changer)\n",
    "            freeze_model(down_changer)\n",
    "        \n",
    "            up_optimizer.zero_grad()\n",
    "\n",
    "            up_adj_ls = up_changer(X_lr.to(DEVICE), Y_lr.to(DEVICE), adj_lr.to(DEVICE))\n",
    "            torch.cuda.empty_cache()\n",
    "            down_adj_ls = down_changer(X_hr.to(DEVICE), Y_hr.to(DEVICE), adj_hr.to(DEVICE))\n",
    "            torch.cuda.empty_cache()\n",
    "        \n",
    "            up_loss = up_loss_fn(up_adj_ls[1:], down_adj_ls[:-1], alpha=0.75, epoch_weight=epoch_weight)\n",
    "            \n",
    "            # for printing loss only\n",
    "            up_final_mae_ls.append(end_adj_loss_calc(up_adj_ls[-1].detach(), down_adj_ls[0].detach()))\n",
    "            torch.cuda.empty_cache()\n",
    "\n",
    "            \n",
    "            up_loss.backward()\n",
    "            up_optimizer.step()\n",
    "\n",
    "            up_losses.append(up_loss.detach().item())\n",
    "            del up_loss\n",
    "            torch.cuda.empty_cache()\n",
    "\n",
    "            unfreeze_model(up_changer)\n",
    "            unfreeze_model(down_changer)\n",
    "\n",
    "            reconstruction_optimizer.zero_grad()\n",
    "\n",
    "            down_adj_end = down_changer(X_hr.to(DEVICE), Y_hr.to(DEVICE), adj_hr.to(DEVICE))[-1]\n",
    "            torch.cuda.empty_cache()\n",
    "\n",
    "            up_adj_end = up_changer(X_lr.to(DEVICE), Y_lr.to(DEVICE), down_adj_ls[-1])[-1]\n",
    "            torch.cuda.empty_cache()\n",
    "\n",
    "            reconstruction_loss = reconstruction_loss_fn(up_adj_end, adj_hr.to(DEVICE))\n",
    "            reconstruction_loss.backward()\n",
    "            reconstruction_optimizer.step()\n",
    "            torch.cuda.empty_cache()\n",
    "\n",
    "        \n",
    "            reconstruction_losses.append(reconstruction_loss.detach().item())\n",
    "            del reconstruction_loss\n",
    "            torch.cuda.empty_cache()\n",
    "\n",
    "        \n",
    "        epoch_up_loss = np.mean(up_losses)\n",
    "        epoch_down_loss = np.mean(down_losses)\n",
    "        epoch_reconstruction_loss = np.mean(reconstruction_losses)\n",
    "        epoch_up_final_mae = np.mean(up_final_mae_ls)\n",
    "        epoch_down_final_mae = np.mean(down_final_mae_ls)\n",
    "        \n",
    "        loss_log['up'].append(epoch_up_loss)\n",
    "        loss_log['down'].append(epoch_down_loss)\n",
    "        loss_log['up_end_mae'].append(epoch_up_final_mae)\n",
    "        loss_log['down_end_mae'].append(epoch_down_final_mae)\n",
    "\n",
    "        print(f'ep {epoch}: down loss = {epoch_down_loss}, up loss = {epoch_up_loss}, reconst.loss = {epoch_reconstruction_loss}, down adj mae = {epoch_down_final_mae}, up adj mae = {epoch_up_final_mae}')\n",
    "\n",
    "\n",
    "    return up_changer, down_changer, loss_log\n"
   ]
  },
  {
   "cell_type": "code",
   "execution_count": 13,
   "metadata": {},
   "outputs": [
    {
     "name": "stderr",
     "output_type": "stream",
     "text": [
      "100%|██████████| 11/11 [00:22<00:00,  2.03s/it]\n"
     ]
    },
    {
     "name": "stdout",
     "output_type": "stream",
     "text": [
      "ep 0: down loss = 0.19565032422542572, up loss = 0.15023772553964096, reconst.loss = 0.2808538485657085, down adj mae = 0.2586880854584954, up adj mae = 0.28874450651082123\n"
     ]
    },
    {
     "name": "stderr",
     "output_type": "stream",
     "text": [
      "100%|██████████| 11/11 [00:19<00:00,  1.74s/it]\n"
     ]
    },
    {
     "name": "stdout",
     "output_type": "stream",
     "text": [
      "ep 1: down loss = 0.16343759406696667, up loss = 0.12074285610155626, reconst.loss = 0.24453130228952927, down adj mae = 0.2386215396902778, up adj mae = 0.26138207045468415\n"
     ]
    },
    {
     "name": "stderr",
     "output_type": "stream",
     "text": [
      "100%|██████████| 11/11 [00:19<00:00,  1.80s/it]\n"
     ]
    },
    {
     "name": "stdout",
     "output_type": "stream",
     "text": [
      "ep 2: down loss = 0.15230515599250793, up loss = 0.10448252680626782, reconst.loss = 0.22025027871131897, down adj mae = 0.2207829843867909, up adj mae = 0.22590356252410196\n"
     ]
    },
    {
     "name": "stderr",
     "output_type": "stream",
     "text": [
      "100%|██████████| 11/11 [00:19<00:00,  1.76s/it]\n"
     ]
    },
    {
     "name": "stdout",
     "output_type": "stream",
     "text": [
      "ep 3: down loss = 0.14425126937302676, up loss = 0.09391878748481924, reconst.loss = 0.20254754478281195, down adj mae = 0.21218456327915192, up adj mae = 0.21055971086025238\n"
     ]
    },
    {
     "name": "stderr",
     "output_type": "stream",
     "text": [
      "100%|██████████| 11/11 [00:18<00:00,  1.72s/it]\n"
     ]
    },
    {
     "name": "stdout",
     "output_type": "stream",
     "text": [
      "ep 4: down loss = 0.13034955818544736, up loss = 0.07898092879490419, reconst.loss = 0.18188065425916153, down adj mae = 0.20468326183882626, up adj mae = 0.1909351430156014\n"
     ]
    },
    {
     "name": "stderr",
     "output_type": "stream",
     "text": [
      "100%|██████████| 11/11 [00:18<00:00,  1.67s/it]\n"
     ]
    },
    {
     "name": "stdout",
     "output_type": "stream",
     "text": [
      "ep 5: down loss = 0.11510880833322351, up loss = 0.07154636152765968, reconst.loss = 0.1729053191163323, down adj mae = 0.19997055422176013, up adj mae = 0.18654896996238016\n"
     ]
    },
    {
     "name": "stderr",
     "output_type": "stream",
     "text": [
      "100%|██████████| 11/11 [00:17<00:00,  1.61s/it]\n"
     ]
    },
    {
     "name": "stdout",
     "output_type": "stream",
     "text": [
      "ep 6: down loss = 0.10321936282244595, up loss = 0.06487529961900278, reconst.loss = 0.16614394160834225, down adj mae = 0.1865433630618182, up adj mae = 0.17667697776447644\n"
     ]
    },
    {
     "name": "stderr",
     "output_type": "stream",
     "text": [
      "100%|██████████| 11/11 [00:17<00:00,  1.61s/it]\n"
     ]
    },
    {
     "name": "stdout",
     "output_type": "stream",
     "text": [
      "ep 7: down loss = 0.09620376269925725, up loss = 0.05980237471786412, reconst.loss = 0.16175240142778916, down adj mae = 0.17839520492336966, up adj mae = 0.16890567947517743\n"
     ]
    },
    {
     "name": "stderr",
     "output_type": "stream",
     "text": [
      "100%|██████████| 11/11 [00:17<00:00,  1.60s/it]\n"
     ]
    },
    {
     "name": "stdout",
     "output_type": "stream",
     "text": [
      "ep 8: down loss = 0.09039505367929285, up loss = 0.055583484809507026, reconst.loss = 0.15762316503308035, down adj mae = 0.1742188117720864, up adj mae = 0.16264492544260892\n"
     ]
    },
    {
     "name": "stderr",
     "output_type": "stream",
     "text": [
      "100%|██████████| 11/11 [00:17<00:00,  1.60s/it]\n"
     ]
    },
    {
     "name": "stdout",
     "output_type": "stream",
     "text": [
      "ep 9: down loss = 0.0804266706109047, up loss = 0.031850950623100456, reconst.loss = 0.15192750638181513, down adj mae = 0.17159417136148972, up adj mae = 0.1599247631701556\n"
     ]
    },
    {
     "name": "stderr",
     "output_type": "stream",
     "text": [
      "100%|██████████| 11/11 [00:17<00:00,  1.57s/it]\n"
     ]
    },
    {
     "name": "stdout",
     "output_type": "stream",
     "text": [
      "ep 10: down loss = 0.07609266550703482, up loss = 0.03134921684183858, reconst.loss = 0.15154601633548737, down adj mae = 0.1638843999667601, up adj mae = 0.15765586224469272\n"
     ]
    },
    {
     "name": "stderr",
     "output_type": "stream",
     "text": [
      "100%|██████████| 11/11 [00:17<00:00,  1.56s/it]\n"
     ]
    },
    {
     "name": "stdout",
     "output_type": "stream",
     "text": [
      "ep 11: down loss = 0.07836626131426204, up loss = 0.02921059812334451, reconst.loss = 0.14821010286157782, down adj mae = 0.16580149260434238, up adj mae = 0.15192954377694565\n"
     ]
    },
    {
     "name": "stderr",
     "output_type": "stream",
     "text": [
      "100%|██████████| 11/11 [00:16<00:00,  1.54s/it]\n"
     ]
    },
    {
     "name": "stdout",
     "output_type": "stream",
     "text": [
      "ep 12: down loss = 0.07392159070480954, up loss = 0.028721637685190548, reconst.loss = 0.14729181744835593, down adj mae = 0.16159439899704672, up adj mae = 0.15013663470745087\n"
     ]
    },
    {
     "name": "stderr",
     "output_type": "stream",
     "text": [
      "100%|██████████| 11/11 [00:16<00:00,  1.53s/it]\n"
     ]
    },
    {
     "name": "stdout",
     "output_type": "stream",
     "text": [
      "ep 13: down loss = 0.07080133868889375, up loss = 0.029728626324371857, reconst.loss = 0.14636083353649487, down adj mae = 0.15707855197516354, up adj mae = 0.15222345157103104\n"
     ]
    },
    {
     "name": "stderr",
     "output_type": "stream",
     "text": [
      "100%|██████████| 11/11 [00:16<00:00,  1.53s/it]\n"
     ]
    },
    {
     "name": "stdout",
     "output_type": "stream",
     "text": [
      "ep 14: down loss = 0.06711474602872675, up loss = 0.02760239080949263, reconst.loss = 0.14485371654683893, down adj mae = 0.1535615406253121, up adj mae = 0.14978193017569455\n"
     ]
    },
    {
     "name": "stderr",
     "output_type": "stream",
     "text": [
      "100%|██████████| 11/11 [00:16<00:00,  1.54s/it]\n"
     ]
    },
    {
     "name": "stdout",
     "output_type": "stream",
     "text": [
      "ep 15: down loss = 0.0629972636022351, up loss = 0.026762353764338928, reconst.loss = 0.14207390763542868, down adj mae = 0.15461649136109787, up adj mae = 0.14708370376716962\n"
     ]
    },
    {
     "name": "stderr",
     "output_type": "stream",
     "text": [
      "100%|██████████| 11/11 [00:16<00:00,  1.54s/it]\n"
     ]
    },
    {
     "name": "stdout",
     "output_type": "stream",
     "text": [
      "ep 16: down loss = 0.06308397142724557, up loss = 0.027004590596665035, reconst.loss = 0.1430913440205834, down adj mae = 0.15416746789758856, up adj mae = 0.1466324044899507\n"
     ]
    },
    {
     "name": "stderr",
     "output_type": "stream",
     "text": [
      "100%|██████████| 11/11 [00:17<00:00,  1.55s/it]\n"
     ]
    },
    {
     "name": "stdout",
     "output_type": "stream",
     "text": [
      "ep 17: down loss = 0.06048277122053233, up loss = 0.027168545533310284, reconst.loss = 0.1436637355522676, down adj mae = 0.14965066449208694, up adj mae = 0.1469670615412972\n"
     ]
    },
    {
     "name": "stderr",
     "output_type": "stream",
     "text": [
      "100%|██████████| 11/11 [00:17<00:00,  1.57s/it]\n"
     ]
    },
    {
     "name": "stdout",
     "output_type": "stream",
     "text": [
      "ep 18: down loss = 0.06372895362702283, up loss = 0.0277764191004363, reconst.loss = 0.14430456405336206, down adj mae = 0.15364016592502594, up adj mae = 0.1506448428739201\n"
     ]
    },
    {
     "name": "stderr",
     "output_type": "stream",
     "text": [
      "100%|██████████| 11/11 [00:17<00:00,  1.55s/it]\n"
     ]
    },
    {
     "name": "stdout",
     "output_type": "stream",
     "text": [
      "ep 19: down loss = 0.06052861362695694, up loss = 0.02674642171372067, reconst.loss = 0.1421519707549702, down adj mae = 0.1498869007283991, up adj mae = 0.14525977996262637\n"
     ]
    },
    {
     "name": "stderr",
     "output_type": "stream",
     "text": [
      "100%|██████████| 11/11 [00:17<00:00,  1.55s/it]\n"
     ]
    },
    {
     "name": "stdout",
     "output_type": "stream",
     "text": [
      "ep 20: down loss = 0.061572063375603066, up loss = 0.02751921574500474, reconst.loss = 0.14396389777010138, down adj mae = 0.14789395169778305, up adj mae = 0.14656825770031323\n"
     ]
    },
    {
     "name": "stderr",
     "output_type": "stream",
     "text": [
      "100%|██████████| 11/11 [00:17<00:00,  1.56s/it]\n"
     ]
    },
    {
     "name": "stdout",
     "output_type": "stream",
     "text": [
      "ep 21: down loss = 0.057938063009218735, up loss = 0.02626694586466659, reconst.loss = 0.14209769395264712, down adj mae = 0.1461418799378655, up adj mae = 0.14435011961243369\n"
     ]
    },
    {
     "name": "stderr",
     "output_type": "stream",
     "text": [
      "100%|██████████| 11/11 [00:17<00:00,  1.59s/it]\n"
     ]
    },
    {
     "name": "stdout",
     "output_type": "stream",
     "text": [
      "ep 22: down loss = 0.05583880266005343, up loss = 0.026802854781801052, reconst.loss = 0.14296766302802347, down adj mae = 0.14865931462157855, up adj mae = 0.14523772759871048\n"
     ]
    },
    {
     "name": "stderr",
     "output_type": "stream",
     "text": [
      "100%|██████████| 11/11 [00:17<00:00,  1.55s/it]\n"
     ]
    },
    {
     "name": "stdout",
     "output_type": "stream",
     "text": [
      "ep 23: down loss = 0.0543468255888332, up loss = 0.02642851136624813, reconst.loss = 0.1419602930545807, down adj mae = 0.1470325602726503, up adj mae = 0.14503814009102908\n"
     ]
    },
    {
     "name": "stderr",
     "output_type": "stream",
     "text": [
      "100%|██████████| 11/11 [00:17<00:00,  1.55s/it]\n"
     ]
    },
    {
     "name": "stdout",
     "output_type": "stream",
     "text": [
      "ep 24: down loss = 0.05380874398079785, up loss = 0.02645074406808073, reconst.loss = 0.14137866686690936, down adj mae = 0.14517151361162012, up adj mae = 0.14373572035269302\n"
     ]
    },
    {
     "name": "stderr",
     "output_type": "stream",
     "text": [
      "100%|██████████| 11/11 [00:17<00:00,  1.56s/it]\n"
     ]
    },
    {
     "name": "stdout",
     "output_type": "stream",
     "text": [
      "ep 25: down loss = 0.055496385490352455, up loss = 0.025952774354002693, reconst.loss = 0.14106339080767197, down adj mae = 0.14953904124823483, up adj mae = 0.14347204566001892\n"
     ]
    },
    {
     "name": "stderr",
     "output_type": "stream",
     "text": [
      "100%|██████████| 11/11 [00:16<00:00,  1.53s/it]\n"
     ]
    },
    {
     "name": "stdout",
     "output_type": "stream",
     "text": [
      "ep 26: down loss = 0.05267169868404215, up loss = 0.025716400959274986, reconst.loss = 0.13945418731732803, down adj mae = 0.143715193325823, up adj mae = 0.141320448030125\n"
     ]
    },
    {
     "name": "stderr",
     "output_type": "stream",
     "text": [
      "100%|██████████| 11/11 [00:16<00:00,  1.54s/it]\n"
     ]
    },
    {
     "name": "stdout",
     "output_type": "stream",
     "text": [
      "ep 27: down loss = 0.05163545703346079, up loss = 0.025277795778079468, reconst.loss = 0.13936934958804736, down adj mae = 0.14575779844414105, up adj mae = 0.14353913475166669\n"
     ]
    },
    {
     "name": "stderr",
     "output_type": "stream",
     "text": [
      "100%|██████████| 11/11 [00:16<00:00,  1.54s/it]\n"
     ]
    },
    {
     "name": "stdout",
     "output_type": "stream",
     "text": [
      "ep 28: down loss = 0.05034131793813272, up loss = 0.02475934644991701, reconst.loss = 0.13929289850321683, down adj mae = 0.14570083672350104, up adj mae = 0.14008098163387991\n"
     ]
    },
    {
     "name": "stderr",
     "output_type": "stream",
     "text": [
      "100%|██████████| 11/11 [00:17<00:00,  1.57s/it]\n"
     ]
    },
    {
     "name": "stdout",
     "output_type": "stream",
     "text": [
      "ep 29: down loss = 0.050613563169132576, up loss = 0.024612540379166603, reconst.loss = 0.13852459192276, down adj mae = 0.14318472011522812, up adj mae = 0.137917314063419\n"
     ]
    },
    {
     "name": "stderr",
     "output_type": "stream",
     "text": [
      "100%|██████████| 11/11 [00:17<00:00,  1.55s/it]\n"
     ]
    },
    {
     "name": "stdout",
     "output_type": "stream",
     "text": [
      "ep 30: down loss = 0.0498301816934889, up loss = 0.024454399435357613, reconst.loss = 0.13719728724523025, down adj mae = 0.14026373353871432, up adj mae = 0.13824963163245807\n"
     ]
    },
    {
     "name": "stderr",
     "output_type": "stream",
     "text": [
      "100%|██████████| 11/11 [00:16<00:00,  1.54s/it]\n"
     ]
    },
    {
     "name": "stdout",
     "output_type": "stream",
     "text": [
      "ep 31: down loss = 0.05039952153509313, up loss = 0.024435165253552524, reconst.loss = 0.13720646771517667, down adj mae = 0.1405834840102629, up adj mae = 0.13859167153185065\n"
     ]
    },
    {
     "name": "stderr",
     "output_type": "stream",
     "text": [
      "100%|██████████| 11/11 [00:16<00:00,  1.54s/it]\n"
     ]
    },
    {
     "name": "stdout",
     "output_type": "stream",
     "text": [
      "ep 32: down loss = 0.05290858515284278, up loss = 0.025801642374558884, reconst.loss = 0.13876439360055057, down adj mae = 0.14120563187382437, up adj mae = 0.13780101050030102\n"
     ]
    },
    {
     "name": "stderr",
     "output_type": "stream",
     "text": [
      "100%|██████████| 11/11 [00:17<00:00,  1.56s/it]\n"
     ]
    },
    {
     "name": "stdout",
     "output_type": "stream",
     "text": [
      "ep 33: down loss = 0.05595073137771, up loss = 0.02935599061575803, reconst.loss = 0.14260319552638315, down adj mae = 0.14482104100964285, up adj mae = 0.14849932898174634\n"
     ]
    },
    {
     "name": "stderr",
     "output_type": "stream",
     "text": [
      "100%|██████████| 11/11 [00:16<00:00,  1.55s/it]\n"
     ]
    },
    {
     "name": "stdout",
     "output_type": "stream",
     "text": [
      "ep 34: down loss = 0.05453034219416705, up loss = 0.02473268454725092, reconst.loss = 0.13879453458569266, down adj mae = 0.1402554132721641, up adj mae = 0.14050132848999716\n"
     ]
    },
    {
     "name": "stderr",
     "output_type": "stream",
     "text": [
      "100%|██████████| 11/11 [00:17<00:00,  1.57s/it]\n"
     ]
    },
    {
     "name": "stdout",
     "output_type": "stream",
     "text": [
      "ep 35: down loss = 0.05297125740484758, up loss = 0.02434966696256941, reconst.loss = 0.13685849038037387, down adj mae = 0.13930469209497626, up adj mae = 0.14014196395874023\n"
     ]
    },
    {
     "name": "stderr",
     "output_type": "stream",
     "text": [
      "100%|██████████| 11/11 [00:18<00:00,  1.65s/it]\n"
     ]
    },
    {
     "name": "stdout",
     "output_type": "stream",
     "text": [
      "ep 36: down loss = 0.05192421478303996, up loss = 0.026197331703521988, reconst.loss = 0.1430184759876945, down adj mae = 0.14209004152904858, up adj mae = 0.14361398870294745\n"
     ]
    },
    {
     "name": "stderr",
     "output_type": "stream",
     "text": [
      "100%|██████████| 11/11 [00:17<00:00,  1.60s/it]\n"
     ]
    },
    {
     "name": "stdout",
     "output_type": "stream",
     "text": [
      "ep 37: down loss = 0.050313963131471115, up loss = 0.024556607685305855, reconst.loss = 0.13793094049800525, down adj mae = 0.13893473012880844, up adj mae = 0.1376594833352349\n"
     ]
    },
    {
     "name": "stderr",
     "output_type": "stream",
     "text": [
      "100%|██████████| 11/11 [00:18<00:00,  1.66s/it]\n"
     ]
    },
    {
     "name": "stdout",
     "output_type": "stream",
     "text": [
      "ep 38: down loss = 0.04991229555823586, up loss = 0.024254872378977863, reconst.loss = 0.13698372515765103, down adj mae = 0.14530788632956418, up adj mae = 0.13967018506743692\n"
     ]
    },
    {
     "name": "stderr",
     "output_type": "stream",
     "text": [
      "100%|██████████| 11/11 [00:17<00:00,  1.62s/it]\n"
     ]
    },
    {
     "name": "stdout",
     "output_type": "stream",
     "text": [
      "ep 39: down loss = 0.049660786309025505, up loss = 0.0238380300050432, reconst.loss = 0.13604007796807724, down adj mae = 0.14229132776910608, up adj mae = 0.13911417397585782\n"
     ]
    },
    {
     "name": "stderr",
     "output_type": "stream",
     "text": [
      "100%|██████████| 11/11 [00:17<00:00,  1.61s/it]\n"
     ]
    },
    {
     "name": "stdout",
     "output_type": "stream",
     "text": [
      "ep 40: down loss = 0.04941763220862909, up loss = 0.024048123847354542, reconst.loss = 0.1365034742788835, down adj mae = 0.1402050649577921, up adj mae = 0.13619877939874475\n"
     ]
    },
    {
     "name": "stderr",
     "output_type": "stream",
     "text": [
      "100%|██████████| 11/11 [00:17<00:00,  1.63s/it]\n"
     ]
    },
    {
     "name": "stdout",
     "output_type": "stream",
     "text": [
      "ep 41: down loss = 0.046430804512717506, up loss = 0.023992002857002346, reconst.loss = 0.13544816726988013, down adj mae = 0.1388393207029863, up adj mae = 0.13604278997941452\n"
     ]
    },
    {
     "name": "stderr",
     "output_type": "stream",
     "text": [
      "100%|██████████| 11/11 [00:18<00:00,  1.64s/it]\n"
     ]
    },
    {
     "name": "stdout",
     "output_type": "stream",
     "text": [
      "ep 42: down loss = 0.04783393002369187, up loss = 0.024646643379872494, reconst.loss = 0.13661166348240592, down adj mae = 0.14007833735509354, up adj mae = 0.13961363651535727\n"
     ]
    },
    {
     "name": "stderr",
     "output_type": "stream",
     "text": [
      "100%|██████████| 11/11 [00:18<00:00,  1.67s/it]\n"
     ]
    },
    {
     "name": "stdout",
     "output_type": "stream",
     "text": [
      "ep 43: down loss = 0.04485283656553789, up loss = 0.02490556968206709, reconst.loss = 0.137238778851249, down adj mae = 0.13674602860754187, up adj mae = 0.13738305324857886\n"
     ]
    },
    {
     "name": "stderr",
     "output_type": "stream",
     "text": [
      "100%|██████████| 11/11 [00:18<00:00,  1.68s/it]\n"
     ]
    },
    {
     "name": "stdout",
     "output_type": "stream",
     "text": [
      "ep 44: down loss = 0.04458544301715764, up loss = 0.02413071421059695, reconst.loss = 0.13586815107952466, down adj mae = 0.13923630660230463, up adj mae = 0.13463933765888214\n"
     ]
    },
    {
     "name": "stderr",
     "output_type": "stream",
     "text": [
      "100%|██████████| 11/11 [00:18<00:00,  1.69s/it]\n"
     ]
    },
    {
     "name": "stdout",
     "output_type": "stream",
     "text": [
      "ep 45: down loss = 0.04386123235930096, up loss = 0.02338628928092393, reconst.loss = 0.1349782022562894, down adj mae = 0.1352725015445189, up adj mae = 0.13427057591351596\n"
     ]
    },
    {
     "name": "stderr",
     "output_type": "stream",
     "text": [
      "100%|██████████| 11/11 [00:18<00:00,  1.71s/it]\n"
     ]
    },
    {
     "name": "stdout",
     "output_type": "stream",
     "text": [
      "ep 46: down loss = 0.04217467490922321, up loss = 0.023000564087520946, reconst.loss = 0.13373623517426578, down adj mae = 0.13714966042475266, up adj mae = 0.13470287079160864\n"
     ]
    },
    {
     "name": "stderr",
     "output_type": "stream",
     "text": [
      "100%|██████████| 11/11 [00:18<00:00,  1.68s/it]\n"
     ]
    },
    {
     "name": "stdout",
     "output_type": "stream",
     "text": [
      "ep 47: down loss = 0.04338950731537559, up loss = 0.023437937213615936, reconst.loss = 0.1344694955782457, down adj mae = 0.13523583859205246, up adj mae = 0.13549422134052624\n"
     ]
    },
    {
     "name": "stderr",
     "output_type": "stream",
     "text": [
      "100%|██████████| 11/11 [00:18<00:00,  1.66s/it]\n"
     ]
    },
    {
     "name": "stdout",
     "output_type": "stream",
     "text": [
      "ep 48: down loss = 0.04437955807555805, up loss = 0.02357747033238411, reconst.loss = 0.1355272815986113, down adj mae = 0.1398694014007395, up adj mae = 0.136341162703254\n"
     ]
    },
    {
     "name": "stderr",
     "output_type": "stream",
     "text": [
      "100%|██████████| 11/11 [00:18<00:00,  1.68s/it]\n"
     ]
    },
    {
     "name": "stdout",
     "output_type": "stream",
     "text": [
      "ep 49: down loss = 0.042481374334205284, up loss = 0.023105819286270576, reconst.loss = 0.13391065868464383, down adj mae = 0.13489568504420194, up adj mae = 0.13344118270007047\n"
     ]
    },
    {
     "name": "stderr",
     "output_type": "stream",
     "text": [
      "100%|██████████| 11/11 [00:18<00:00,  1.72s/it]\n"
     ]
    },
    {
     "name": "stdout",
     "output_type": "stream",
     "text": [
      "ep 50: down loss = 0.042978059500455856, up loss = 0.02287807163189758, reconst.loss = 0.13410124724561517, down adj mae = 0.13796184144236825, up adj mae = 0.1361934312365272\n"
     ]
    },
    {
     "name": "stderr",
     "output_type": "stream",
     "text": [
      "100%|██████████| 11/11 [00:17<00:00,  1.63s/it]\n"
     ]
    },
    {
     "name": "stdout",
     "output_type": "stream",
     "text": [
      "ep 51: down loss = 0.040664581073956055, up loss = 0.02268313616514206, reconst.loss = 0.13256993347948248, down adj mae = 0.13604919612407684, up adj mae = 0.13558924401348288\n"
     ]
    },
    {
     "name": "stderr",
     "output_type": "stream",
     "text": [
      "100%|██████████| 11/11 [00:18<00:00,  1.66s/it]\n"
     ]
    },
    {
     "name": "stdout",
     "output_type": "stream",
     "text": [
      "ep 52: down loss = 0.04076868735931136, up loss = 0.0229079510000619, reconst.loss = 0.13350402360612695, down adj mae = 0.13612189211628653, up adj mae = 0.1356023441661488\n"
     ]
    },
    {
     "name": "stderr",
     "output_type": "stream",
     "text": [
      "100%|██████████| 11/11 [00:18<00:00,  1.68s/it]\n"
     ]
    },
    {
     "name": "stdout",
     "output_type": "stream",
     "text": [
      "ep 53: down loss = 0.040897701951590454, up loss = 0.023080212995409966, reconst.loss = 0.13406392119147562, down adj mae = 0.13590487905523993, up adj mae = 0.13529864156788046\n"
     ]
    },
    {
     "name": "stderr",
     "output_type": "stream",
     "text": [
      "100%|██████████| 11/11 [00:18<00:00,  1.67s/it]\n"
     ]
    },
    {
     "name": "stdout",
     "output_type": "stream",
     "text": [
      "ep 54: down loss = 0.041376997462727806, up loss = 0.023117825050245632, reconst.loss = 0.13470142537897284, down adj mae = 0.13762786848978562, up adj mae = 0.1362078474326567\n"
     ]
    },
    {
     "name": "stderr",
     "output_type": "stream",
     "text": [
      "100%|██████████| 11/11 [00:18<00:00,  1.65s/it]\n"
     ]
    },
    {
     "name": "stdout",
     "output_type": "stream",
     "text": [
      "ep 55: down loss = 0.04586961797692559, up loss = 0.023610266264189373, reconst.loss = 0.1350741765715859, down adj mae = 0.13725192709402603, up adj mae = 0.1378273679451509\n"
     ]
    },
    {
     "name": "stderr",
     "output_type": "stream",
     "text": [
      "100%|██████████| 11/11 [00:18<00:00,  1.67s/it]\n"
     ]
    },
    {
     "name": "stdout",
     "output_type": "stream",
     "text": [
      "ep 56: down loss = 0.0420542796227065, up loss = 0.022709395736455917, reconst.loss = 0.1325589120388031, down adj mae = 0.13951987569982355, up adj mae = 0.13757469776001843\n"
     ]
    },
    {
     "name": "stderr",
     "output_type": "stream",
     "text": [
      "100%|██████████| 11/11 [00:18<00:00,  1.68s/it]\n"
     ]
    },
    {
     "name": "stdout",
     "output_type": "stream",
     "text": [
      "ep 57: down loss = 0.04168314825404774, up loss = 0.02279757809909907, reconst.loss = 0.1335372884165157, down adj mae = 0.13406433436003598, up adj mae = 0.13378091021017594\n"
     ]
    },
    {
     "name": "stderr",
     "output_type": "stream",
     "text": [
      "100%|██████████| 11/11 [00:18<00:00,  1.68s/it]\n"
     ]
    },
    {
     "name": "stdout",
     "output_type": "stream",
     "text": [
      "ep 58: down loss = 0.04209590838714079, up loss = 0.022631205110387367, reconst.loss = 0.13372533294287595, down adj mae = 0.13479184833439914, up adj mae = 0.13459664583206177\n"
     ]
    },
    {
     "name": "stderr",
     "output_type": "stream",
     "text": [
      "100%|██████████| 11/11 [00:18<00:00,  1.70s/it]\n"
     ]
    },
    {
     "name": "stdout",
     "output_type": "stream",
     "text": [
      "ep 59: down loss = 0.0424661555073478, up loss = 0.022847567600282757, reconst.loss = 0.1334772069345821, down adj mae = 0.13306296752257782, up adj mae = 0.13316988267681815\n"
     ]
    },
    {
     "name": "stderr",
     "output_type": "stream",
     "text": [
      "100%|██████████| 11/11 [00:18<00:00,  1.69s/it]\n"
     ]
    },
    {
     "name": "stdout",
     "output_type": "stream",
     "text": [
      "ep 60: down loss = 0.04107377034696666, up loss = 0.022507081654938785, reconst.loss = 0.13318665732036938, down adj mae = 0.1351310502399098, up adj mae = 0.13187605278058487\n"
     ]
    },
    {
     "name": "stderr",
     "output_type": "stream",
     "text": [
      "100%|██████████| 11/11 [00:18<00:00,  1.67s/it]\n"
     ]
    },
    {
     "name": "stdout",
     "output_type": "stream",
     "text": [
      "ep 61: down loss = 0.04150276360186664, up loss = 0.02284757454286922, reconst.loss = 0.13268990137360312, down adj mae = 0.13667527518489145, up adj mae = 0.13564708557995883\n"
     ]
    },
    {
     "name": "stderr",
     "output_type": "stream",
     "text": [
      "100%|██████████| 11/11 [00:18<00:00,  1.69s/it]\n"
     ]
    },
    {
     "name": "stdout",
     "output_type": "stream",
     "text": [
      "ep 62: down loss = 0.04057387838309461, up loss = 0.02267848395488479, reconst.loss = 0.1328319636258212, down adj mae = 0.13932972198182886, up adj mae = 0.13471563837744974\n"
     ]
    },
    {
     "name": "stderr",
     "output_type": "stream",
     "text": [
      "100%|██████████| 11/11 [00:18<00:00,  1.72s/it]\n"
     ]
    },
    {
     "name": "stdout",
     "output_type": "stream",
     "text": [
      "ep 63: down loss = 0.041600778698921204, up loss = 0.022881634533405304, reconst.loss = 0.1332154409451918, down adj mae = 0.1369778500361876, up adj mae = 0.13590679249980234\n"
     ]
    },
    {
     "name": "stderr",
     "output_type": "stream",
     "text": [
      "100%|██████████| 11/11 [00:19<00:00,  1.73s/it]\n"
     ]
    },
    {
     "name": "stdout",
     "output_type": "stream",
     "text": [
      "ep 64: down loss = 0.04073435135863044, up loss = 0.022207217968323013, reconst.loss = 0.13210742311044174, down adj mae = 0.1400740539485758, up adj mae = 0.13423669744621625\n"
     ]
    },
    {
     "name": "stderr",
     "output_type": "stream",
     "text": [
      "100%|██████████| 11/11 [00:19<00:00,  1.75s/it]\n"
     ]
    },
    {
     "name": "stdout",
     "output_type": "stream",
     "text": [
      "ep 65: down loss = 0.041123694655570114, up loss = 0.022761288352987984, reconst.loss = 0.13229379870674826, down adj mae = 0.1365725641900843, up adj mae = 0.1349803696979176\n"
     ]
    },
    {
     "name": "stderr",
     "output_type": "stream",
     "text": [
      "100%|██████████| 11/11 [00:18<00:00,  1.70s/it]\n"
     ]
    },
    {
     "name": "stdout",
     "output_type": "stream",
     "text": [
      "ep 66: down loss = 0.0405472188510678, up loss = 0.022940910336646168, reconst.loss = 0.13353869183496994, down adj mae = 0.13573960824446243, up adj mae = 0.13490266285159372\n"
     ]
    },
    {
     "name": "stderr",
     "output_type": "stream",
     "text": [
      "100%|██████████| 11/11 [00:19<00:00,  1.74s/it]\n"
     ]
    },
    {
     "name": "stdout",
     "output_type": "stream",
     "text": [
      "ep 67: down loss = 0.04053028571334752, up loss = 0.022230777381495995, reconst.loss = 0.1320356699553403, down adj mae = 0.1373885070735758, up adj mae = 0.13580491867932407\n"
     ]
    },
    {
     "name": "stderr",
     "output_type": "stream",
     "text": [
      "  9%|▉         | 1/11 [00:01<00:17,  1.76s/it]"
     ]
    }
   ],
   "source": [
    "gc.collect()\n",
    "up_changer, down_changer, loss_log = train(200, up_changer, down_changer, trainloader, up_optimizer, down_optimizer, completed_epochs=0, loss_log=None)"
   ]
  },
  {
   "cell_type": "code",
   "execution_count": 19,
   "metadata": {},
   "outputs": [
    {
     "ename": "NameError",
     "evalue": "name 'loss_log' is not defined",
     "output_type": "error",
     "traceback": [
      "\u001b[0;31m---------------------------------------------------------------------------\u001b[0m",
      "\u001b[0;31mNameError\u001b[0m                                 Traceback (most recent call last)",
      "Cell \u001b[0;32mIn[19], line 1\u001b[0m\n\u001b[0;32m----> 1\u001b[0m \u001b[38;5;28mmin\u001b[39m(\u001b[43mloss_log\u001b[49m[\u001b[38;5;124m'\u001b[39m\u001b[38;5;124mup_end_mae\u001b[39m\u001b[38;5;124m'\u001b[39m])\n",
      "\u001b[0;31mNameError\u001b[0m: name 'loss_log' is not defined"
     ]
    }
   ],
   "source": [
    "min(loss_log['up_end_mae'])"
   ]
  },
  {
   "cell_type": "code",
   "execution_count": 27,
   "metadata": {},
   "outputs": [
    {
     "data": {
      "image/png": "[encoded data removed]",
      "text/plain": [
       "<Figure size 640x480 with 1 Axes>"
      ]
     },
     "metadata": {},
     "output_type": "display_data"
    }
   ],
   "source": [
    "import matplotlib.pyplot as plt\n",
    "plt.plot(np.arange(len(loss_log['up_end_mae'])), loss_log['up_end_mae'])\n",
    "plt.show()"
   ]
  },
  {
   "cell_type": "code",
   "execution_count": 28,
   "metadata": {},
   "outputs": [],
   "source": [
    "torch.save(up_changer.state_dict(), 'submission_files/submitme.pth')"
   ]
  },
  {
   "cell_type": "code",
   "execution_count": 17,
   "metadata": {},
   "outputs": [
    {
     "name": "stderr",
     "output_type": "stream",
     "text": [
      "100%|██████████| 7/7 [00:01<00:00,  4.96it/s]\n"
     ]
    }
   ],
   "source": [
    "# to generate test predictions\n",
    "testloader = DataLoader(list(zip(lr_X_dim1_test, lr_X_dim3, lr_test)), shuffle=True, batch_size=16)\n",
    "\n",
    "up_changer.eval()\n",
    "test_predictions = []\n",
    "for X_lr, Y_lr, adj_lr in tqdm(testloader):\n",
    "    pred = up_changer(X_lr.to(DEVICE), Y_lr.to(DEVICE), adj_lr.to(DEVICE))[-1].detach()\n",
    "    test_predictions.append(pred)\n",
    "test_predictions = torch.cat(test_predictions)"
   ]
  },
  {
   "cell_type": "code",
   "execution_count": 30,
   "metadata": {},
   "outputs": [],
   "source": [
    "torch.save(test_predictions, 'submission_files/tim_deep3_reconstr/tim_deep3_reconstr_pred250.pt')"
   ]
  },
  {
   "cell_type": "code",
   "execution_count": 20,
   "metadata": {},
   "outputs": [
    {
     "data": {
      "image/png": "[encoded data removed]",
      "text/plain": [
       "<Figure size 640x480 with 1 Axes>"
      ]
     },
     "metadata": {},
     "output_type": "display_data"
    }
   ],
   "source": [
    "from data_preparation import generate_histogram\n",
    "generate_histogram(test_predictions.cpu(), hr_train)"
   ]
  },
  {
   "cell_type": "code",
   "execution_count": 21,
   "metadata": {},
   "outputs": [
    {
     "data": {
      "image/png": "[encoded data removed]",
      "text/plain": [
       "<Figure size 640x480 with 2 Axes>"
      ]
     },
     "metadata": {},
     "output_type": "display_data"
    }
   ],
   "source": [
    "from data_preparation import generate_heatmap\n",
    "generate_heatmap(test_predictions[0].cpu())"
   ]
  },
  {
   "cell_type": "code",
   "execution_count": 18,
   "metadata": {},
   "outputs": [],
   "source": [
    "from data_preparation import generate_submission_file\n",
    "\n",
    "df = generate_submission_file(test_predictions.cpu(), 'submission_files/submitme.csv')"
   ]
  },
  {
   "cell_type": "markdown",
   "metadata": {},
   "source": [
    "# Cross Validation"
   ]
  },
  {
   "cell_type": "code",
   "execution_count": 11,
   "metadata": {},
   "outputs": [],
   "source": [
    "from evaluation_fn import evaluate_predictions\n",
    "\n",
    "def validation(up_changer, testloader, val_adj_hr):\n",
    "    print('begin validation')\n",
    "    up_changer.eval()\n",
    "\n",
    "    val_predictions = []\n",
    "    for X_lr, Y_lr, adj_lr in tqdm(testloader):\n",
    "        pred = up_changer(X_lr.to(DEVICE), Y_lr.to(DEVICE), adj_lr.to(DEVICE))[-1].detach()\n",
    "        val_predictions.append(pred)\n",
    "    val_predictions = torch.cat(val_predictions)\n",
    "\n",
    "    return evaluate_predictions(val_predictions, val_adj_hr)"
   ]
  },
  {
   "cell_type": "code",
   "execution_count": 12,
   "metadata": {},
   "outputs": [],
   "source": [
    "def cross_validate(epochs, batch_size, n_fold, X_lr, Y_lr, adj_lr, X_hr, Y_hr, adj_hr, num_steps, f=32):\n",
    "    kf = KFold(n_fold, shuffle=True, random_state=99)\n",
    "    runs_results = []\n",
    "    for train_idx, val_idx in kf.split(X_lr):\n",
    "        train_X_lr, val_X_lr = X_lr[train_idx], X_lr[val_idx]\n",
    "        train_Y_lr, val_Y_lr = Y_lr[train_idx], Y_lr[val_idx]\n",
    "        train_adj_lr, val_adj_lr = adj_lr[train_idx], adj_lr[val_idx]\n",
    "        train_X_hr = X_hr[train_idx]\n",
    "        train_Y_hr = Y_hr[train_idx]\n",
    "        train_adj_hr, val_adj_hr = adj_hr[train_idx], adj_hr[val_idx]\n",
    "\n",
    "        trainloader = DataLoader(list(zip(train_X_lr, train_Y_lr, train_adj_lr, train_X_hr, train_Y_hr, train_adj_hr)), shuffle=True, batch_size=batch_size)\n",
    "\n",
    "        dim_steps = generate_steps(num_steps=10)\n",
    "\n",
    "        up_changer = AdjacencyDimChanger(dim_steps, f=f).to(DEVICE)\n",
    "        down_changer = AdjacencyDimChanger(dim_steps[::-1], f=f).to(DEVICE)\n",
    "\n",
    "        up_optimizer = torch.optim.AdamW(up_changer.parameters(), lr=0.001, betas=(0.5, 0.999))\n",
    "        down_optimizer = torch.optim.AdamW(down_changer.parameters(), lr=0.001, betas=(0.5, 0.999))    \n",
    "        \n",
    "        up_changer, down_changer, _ = train(epochs, up_changer, down_changer, trainloader, up_optimizer, down_optimizer)\n",
    "\n",
    "        testloader = DataLoader(list(zip(val_X_lr, val_Y_lr, val_adj_lr)), shuffle=True, batch_size=batch_size)\n",
    "        val_metrics = validation(up_changer, testloader, val_adj_hr)\n",
    "        runs_results.append(val_metrics)\n",
    "\n",
    "    return runs_results"
   ]
  },
  {
   "cell_type": "code",
   "execution_count": 15,
   "metadata": {},
   "outputs": [
    {
     "name": "stderr",
     "output_type": "stream",
     "text": [
      "100%|██████████| 4/4 [00:05<00:00,  1.46s/it]\n"
     ]
    },
    {
     "name": "stdout",
     "output_type": "stream",
     "text": [
      "epoch 0: down loss = 0.16564956307411194, up loss = 0.17200086265802383\n",
      "Down end adj mae 0.28989551216363907\n",
      "Up end adj mae 0.30541523545980453\n"
     ]
    },
    {
     "name": "stderr",
     "output_type": "stream",
     "text": [
      "100%|██████████| 4/4 [00:04<00:00,  1.23s/it]\n"
     ]
    },
    {
     "name": "stdout",
     "output_type": "stream",
     "text": [
      "epoch 1: down loss = 0.1615280844271183, up loss = 0.16848218068480492\n",
      "Down end adj mae 0.2799903079867363\n",
      "Up end adj mae 0.29920385777950287\n"
     ]
    },
    {
     "name": "stderr",
     "output_type": "stream",
     "text": [
      "100%|██████████| 4/4 [00:04<00:00,  1.22s/it]\n"
     ]
    },
    {
     "name": "stdout",
     "output_type": "stream",
     "text": [
      "epoch 2: down loss = 0.1559770405292511, up loss = 0.16499020531773567\n",
      "Down end adj mae 0.27102500945329666\n",
      "Up end adj mae 0.29710303246974945\n"
     ]
    },
    {
     "name": "stderr",
     "output_type": "stream",
     "text": [
      "100%|██████████| 4/4 [00:04<00:00,  1.21s/it]\n"
     ]
    },
    {
     "name": "stdout",
     "output_type": "stream",
     "text": [
      "epoch 3: down loss = 0.15054432675242424, up loss = 0.16159073635935783\n",
      "Down end adj mae 0.2658237814903259\n",
      "Up end adj mae 0.28980008512735367\n"
     ]
    },
    {
     "name": "stderr",
     "output_type": "stream",
     "text": [
      "100%|██████████| 4/4 [00:04<00:00,  1.21s/it]\n"
     ]
    },
    {
     "name": "stdout",
     "output_type": "stream",
     "text": [
      "epoch 4: down loss = 0.14580555632710457, up loss = 0.15819920599460602\n",
      "Down end adj mae 0.24981610849499702\n",
      "Up end adj mae 0.2819031700491905\n",
      "begin validation\n"
     ]
    },
    {
     "name": "stderr",
     "output_type": "stream",
     "text": [
      "100%|██████████| 2/2 [00:00<00:00,  4.53it/s]\n"
     ]
    }
   ],
   "source": [
    "cross_validate(5, 32, 3, lr_X_dim1, lr_X_dim3, lr_train, hr_X_dim1, hr_X_dim3, hr_train, num_steps=10)"
   ]
  }
 ],
 "metadata": {
  "kernelspec": {
   "display_name": "venv",
   "language": "python",
   "name": "python3"
  },
  "language_info": {
   "codemirror_mode": {
    "name": "ipython",
    "version": 3
   },
   "file_extension": ".py",
   "mimetype": "text/x-python",
   "name": "python",
   "nbconvert_exporter": "python",
   "pygments_lexer": "ipython3",
   "version": "3.10.12"
  }
 },
 "nbformat": 4,
 "nbformat_minor": 2
}
