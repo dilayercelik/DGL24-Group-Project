{
 "cells": [
  {
   "cell_type": "code",
   "execution_count": 7,
   "metadata": {},
   "outputs": [],
   "source": [
    "import torch\n",
    "import torch.nn.functional as F\n",
    "import torch.nn as nn\n",
    "from torch_geometric.nn import GENConv, GATv2Conv, SSGConv\n",
    "import numpy as np\n",
    "from torch_geometric.data import Data\n",
    "from torch.utils.data import DataLoader\n",
    "import torch_geometric.utils\n",
    "\n",
    "from tqdm import tqdm\n",
    "\n",
    "from sklearn.model_selection import KFold\n",
    "import pandas as pd\n",
    "from MatrixVectorizer import MatrixVectorizer\n"
   ]
  },
  {
   "cell_type": "code",
   "execution_count": 8,
   "metadata": {},
   "outputs": [],
   "source": [
    "# set global variables\n",
    "N_SUBJECTS = 167\n",
    "\n",
    "N_LR_NODES = 160\n",
    "\n",
    "N_HR_NODES = 268\n",
    "\n",
    "DEVICE = 'cuda' if torch.cuda.is_available() else 'cpu'\n",
    "\n",
    "N_LR_NODES_F = int(N_LR_NODES * (N_LR_NODES-1) / 2)\n",
    "N_HR_NODES_F = int(N_HR_NODES * (N_HR_NODES-1) / 2)"
   ]
  },
  {
   "cell_type": "code",
   "execution_count": 9,
   "metadata": {},
   "outputs": [],
   "source": [
    "from data_preparation import load_data_tensor\n",
    "\n",
    "lr_train, lr_test, hr_train = load_data_tensor(\"dgl-icl\")\n",
    "\n",
    "lr_X_dim1 = torch.load('model_autoencoder/final_embeddings/encode_lr.pt')\n",
    "lr_X_dim3 = torch.load('model_autoencoder/final_embeddings/encode_lr_3.pt')\n",
    "hr_X_dim1 = torch.load('model_autoencoder/final_embeddings/encode_hr.pt')\n",
    "hr_X_dim3 = torch.load('model_autoencoder/final_embeddings/encode_hr_3.pt')\n",
    "lr_X_dim1_test = torch.load('model_autoencoder/final_embeddings/encode_lr_test.pt')\n",
    "hr_X_dim3_test = torch.load('model_autoencoder/final_embeddings/encode_lr_test_3.pt')\n",
    "\n",
    "\n",
    "# lr_X_dim1 = torch.ones((167, 160, 32))\n",
    "# lr_X_dim3 = torch.ones((167, 160, 32))\n",
    "# hr_X_dim1 = torch.ones((167, 268, 32))\n",
    "# hr_X_dim3 = torch.ones((167, 268, 32))\n",
    "# lr_X_dim1_test = torch.ones((167, 160, 32))\n",
    "# hr_X_dim3_test = torch.ones((167, 268, 32))\n"
   ]
  },
  {
   "cell_type": "code",
   "execution_count": 10,
   "metadata": {},
   "outputs": [
    {
     "name": "stdout",
     "output_type": "stream",
     "text": [
      "torch.Size([167, 160, 32])\n",
      "torch.Size([167, 160, 32])\n"
     ]
    }
   ],
   "source": [
    "print(lr_X_dim1.shape)\n",
    "print(lr_X_dim1.shape)\n",
    "\n"
   ]
  },
  {
   "cell_type": "markdown",
   "metadata": {},
   "source": [
    "# Model Layers"
   ]
  },
  {
   "cell_type": "code",
   "execution_count": 11,
   "metadata": {},
   "outputs": [],
   "source": [
    "def generate_steps(num_steps, low=N_LR_NODES, high=N_HR_NODES):\n",
    "    step_size = (high - low) / (num_steps - 1)\n",
    "    steps_list = [round(low + step_size * i) for i in range(num_steps)]\n",
    "    return steps_list"
   ]
  },
  {
   "cell_type": "code",
   "execution_count": 12,
   "metadata": {},
   "outputs": [],
   "source": [
    "class StackedGCN(nn.Module):\n",
    "    def __init__(self, n_nodes, channel_ls, dropout):\n",
    "        super().__init__()\n",
    "        self.n_nodes = n_nodes\n",
    "        self.gcn_layers, self.batch_norm_layers = self._init_layers(channel_ls)\n",
    "\n",
    "        # self.gcn_layers, _ = self._init_layers(channel_ls)\n",
    "        self.dropout = dropout\n",
    "        \n",
    "    \n",
    "    def forward(self, X, A):\n",
    "        for i in range(len(self.gcn_layers)):\n",
    "            gcn = self.gcn_layers[i]\n",
    "            batch_norm = self.batch_norm_layers[i]\n",
    "            graph_batch = self._create_batch(X, A)\n",
    "            \n",
    "            X = F.sigmoid(gcn(graph_batch.x, graph_batch.edge_index, graph_batch.edge_attr).reshape(*X.shape[:2], -1))\n",
    "            torch.cuda.empty_cache()\n",
    "            X = F.dropout(batch_norm(X), self.dropout, training=self.training)\n",
    "            # X = F.dropout(X, self.dropout, training=self.training)\n",
    "            torch.cuda.empty_cache()\n",
    "\n",
    "        return X\n",
    "\n",
    "    def _init_layers(self, channel_ls):\n",
    "        layers_ls = []\n",
    "        batch_norm_ls = []\n",
    "        for i in range(len(channel_ls) - 1):\n",
    "            layer = GATv2Conv(channel_ls[i], channel_ls[i], heads=2, edge_dim=1)\n",
    "            layers_ls.append(layer)\n",
    "            batch_norm_ls.append(torch_geometric.nn.norm.BatchNorm(self.n_nodes))\n",
    "        return nn.ModuleList(layers_ls), nn.ModuleList(batch_norm_ls)\n",
    "\n",
    "    def _create_batch(self, X, A):\n",
    "        data_list = []\n",
    "        for x, adj in zip(X, A):\n",
    "            edge_index = adj.nonzero().t()\n",
    "            edge_weights = adj[edge_index[0], edge_index[1]]\n",
    "            edge_index, edge_weights = torch_geometric.utils.add_self_loops(edge_index, edge_weights) # add self connections\n",
    "            data = Data(x=x, edge_index=edge_index, edge_attr=edge_weights.view(-1, 1))\n",
    "            data_list.append(data)\n",
    "        return torch_geometric.data.Batch().from_data_list(data_list)"
   ]
  },
  {
   "cell_type": "code",
   "execution_count": 13,
   "metadata": {},
   "outputs": [],
   "source": [
    "class AdjacencyStep(nn.Module):\n",
    "    def __init__(self, old_dim, new_dim, channels_ls, dt=1., alpha=0.9, gamma=0.9, dropout=0.25):\n",
    "        super().__init__()\n",
    "        self.dt = dt\n",
    "        self.alpha = alpha\n",
    "        self.gamma = gamma\n",
    "        self.gnn = StackedGCN(old_dim, channels_ls, dropout).to(DEVICE)\n",
    "        self.dropout = dropout\n",
    "        # self.dim_changer1 = nn.Parameter(torch.randn((new_dim, 1), device=DEVICE))\n",
    "        # self.dim_changer2 = nn.Parameter(torch.randn((1, old_dim), device=DEVICE))\n",
    "        self.dim_changer = nn.Parameter(torch.randn((new_dim, old_dim), device=DEVICE))\n",
    "\n",
    "        self.A_dim_changer = nn.Parameter(torch.randn((new_dim, old_dim), device=DEVICE))\n",
    "        # self.A_dim_changer1 = nn.Parameter(torch.randn((new_dim, 1), device=DEVICE))   \n",
    "        # self.A_dim_changer2 = nn.Parameter(torch.randn((1, old_dim), device=DEVICE))\n",
    "        self.A_dim_bias = nn.Parameter(torch.randn((new_dim, 1), device=DEVICE))\n",
    "\n",
    "        self.Z_dim_changer = nn.Parameter(torch.randn((channels_ls[-1], new_dim), device=DEVICE))\n",
    "        # self.Z_dim_changer1 = nn.Parameter(torch.randn((channels_ls[-1], 1), device=DEVICE))   \n",
    "        # self.Z_dim_changer2 = nn.Parameter(torch.randn((1, new_dim), device=DEVICE))\n",
    "        self.Z_dim_bias = nn.Parameter(torch.randn((new_dim, 1), device=DEVICE))\n",
    "\n",
    "        self.Z_dim_lower = nn.Conv1d(channels_ls[-1], channels_ls[0], kernel_size=1)\n",
    "\n",
    "\n",
    "        self.forget_gate = nn.Parameter(torch.randn(new_dim, device=DEVICE))\n",
    "        self.input_gate = nn.Parameter(torch.randn(new_dim, device=DEVICE))\n",
    "\n",
    "        self.batchnorm_A = torch_geometric.nn.norm.BatchNorm(new_dim)\n",
    "        self.layernorm_forget_A = torch_geometric.nn.norm.LayerNorm((new_dim, new_dim))\n",
    "        self.layernorm_input_Z = torch_geometric.nn.norm.LayerNorm((new_dim, new_dim))\n",
    "        self.batchnorm_X = torch_geometric.nn.norm.BatchNorm(new_dim)\n",
    "        self.batchnorm_Y = torch_geometric.nn.norm.BatchNorm(new_dim)\n",
    "\n",
    "\n",
    "\n",
    "    def forward(self, X, Y, A):\n",
    "        # solve ODEs using simple IMEX scheme\n",
    "        # dim_changer = self.dim_changer1 @ self.dim_changer2 \n",
    "        # A_dim_changer = self.A_dim_changer1 @ self.A_dim_changer2\n",
    "        # Z_dim_changer = self.Z_dim_changer1 @ self.Z_dim_changer2\n",
    "        dim_changer = self.dim_changer\n",
    "        A_dim_changer = self.A_dim_changer\n",
    "        Z_dim_changer = self.Z_dim_changer\n",
    "\n",
    "        # forget gate from previous adjacency\n",
    "        f = F.sigmoid(self.forget_gate)\n",
    "        i = F.sigmoid(self.input_gate)\n",
    "        forget_A = F.elu(A_dim_changer @ A @ A_dim_changer.T + self.A_dim_bias)\n",
    "        forget_A = f[:, None] * self.layernorm_forget_A(forget_A)\n",
    "        # forget_A = f[:, None] * forget_A\n",
    "        torch.cuda.empty_cache()\n",
    "\n",
    "    \n",
    "        # update node features with gcn\n",
    "        Z = self.gnn(X, A)\n",
    "        torch.cuda.empty_cache()\n",
    "        input_Z = F.elu(dim_changer @ Z @ Z_dim_changer + self.Z_dim_bias)\n",
    "        input_Z = i[:, None] * self.layernorm_input_Z(input_Z)\n",
    "        # input_Z = i[:, None] * input_Z\n",
    "        torch.cuda.empty_cache()\n",
    "\n",
    "\n",
    "\n",
    "        # get new adjacency matrix\n",
    "        new_A = forget_A + input_Z\n",
    "        new_A = self.batchnorm_A(new_A)\n",
    "        new_A = (new_A + torch.transpose(new_A, -1, -2)) / 2\n",
    "        #new_A = F.relu(custom_activation(new_A))\n",
    "        new_A = F.tanh(F.relu(new_A))\n",
    "        # new_A = F.hardtanh(F.hardtanh(new_A, min_val=0), min_val=0)\n",
    "\n",
    "\n",
    "        torch.cuda.empty_cache()\n",
    "\n",
    "\n",
    "        # update feature embeiddings\n",
    "        Z = torch.transpose(self.Z_dim_lower(torch.transpose(Z, -1, -2)), -1, -2)\n",
    "        Y_temp = Y\n",
    "        Y = dim_changer @ (Y + self.dt * (Z - self.alpha * Y - self.gamma * X))\n",
    "        X = dim_changer @ (X + self.dt * Y_temp) \n",
    "\n",
    "        X = self.batchnorm_X(X)\n",
    "        Y = self.batchnorm_Y(Y)   \n",
    "        torch.cuda.empty_cache()\n",
    "\n",
    "\n",
    "        Y = F.dropout(Y, self.dropout, training=self.training)\n",
    "        X = F.dropout(X, self.dropout, training=self.training)\n",
    "\n",
    "        return X, Y, new_A\n",
    "\n",
    "def custom_activation(x):\n",
    "    return (torch.exp(x) - torch.exp(-x)) / (torch.exp(x) + torch.exp(-5*x))\n",
    "\n",
    "    "
   ]
  },
  {
   "cell_type": "code",
   "execution_count": 14,
   "metadata": {},
   "outputs": [],
   "source": [
    "class embedder(torch.nn.Module):\n",
    "    def __init__(self, in_dim, hidden, out_dim):\n",
    "        super(embedder, self).__init__()\n",
    "        self.omega1 = nn.Parameter(torch.randn((hidden, in_dim), device=DEVICE))\n",
    "        self.beta1 = nn.Parameter(torch.zeros((hidden, 1), device=DEVICE))\n",
    "        self.omega2 = nn.Parameter(torch.randn((out_dim, hidden), device=DEVICE))\n",
    "        self.beta2 = nn.Parameter(torch.zeros((out_dim, 1), device=DEVICE))\n",
    "\n",
    "    def forward(self, A):\n",
    "        X = F.elu(self.beta1 + self.omega1 @ A)\n",
    "        X = F.elu(self.beta2 + self.omega2 @ X)\n",
    "        \n",
    "        return torch.transpose(X,-1,-2)\n"
   ]
  },
  {
   "cell_type": "code",
   "execution_count": 29,
   "metadata": {},
   "outputs": [],
   "source": [
    "class AdjacencyDimChanger(nn.Module):\n",
    "\n",
    "    def __init__(self, dim_steps, channels_ls, embedding_dims_ls=None):\n",
    "        super().__init__()\n",
    "\n",
    "        self.has_embedding_layer = False\n",
    "        if embedding_dims_ls:\n",
    "            self.has_embedding_layer = True\n",
    "            assert len(embedding_dims_ls) == 3, 'Embedding dim list must be exactly 3'\n",
    "            assert channels_ls[0] == embedding_dims_ls[-1], f'Last embedding dim must match first channel dim. Received {channels_ls[0]} and {embedding_dims_ls[-1]}'\n",
    "            self.embedder = embedder(embedding_dims_ls[0], embedding_dims_ls[1], embedding_dims_ls[2])\n",
    "\n",
    "        self.layers = nn.ModuleList([AdjacencyStep(dim_steps[i], dim_steps[i+1], channels_ls) for i in range(len(dim_steps)-1)])\n",
    "        # self.batchnorms = nn.ModuleList([nn.BatchNorm1d(dim_steps[i+1]) for i in range(len(dim_steps)-1)])\n",
    "        \n",
    "    def forward(self, X, Y, A):\n",
    "\n",
    "        if self.has_embedding_layer:\n",
    "            X = self.embedder(A)\n",
    "            Y = X\n",
    "\n",
    "        adj_ls = [A]\n",
    "        x, y, adj = X, Y, A\n",
    "        \n",
    "        for layer in self.layers:\n",
    "            x, y, adj = layer(x, y, adj)\n",
    "            adj_ls.append(adj)\n",
    "            \n",
    "        return adj_ls\n",
    "        "
   ]
  },
  {
   "cell_type": "code",
   "execution_count": 16,
   "metadata": {},
   "outputs": [],
   "source": [
    "def freeze_model(model):\n",
    "    for param in model.parameters():\n",
    "        param.requires_grad = False\n",
    "\n",
    "def unfreeze_model(model):\n",
    "    for param in model.parameters():\n",
    "        param.requires_grad = True"
   ]
  },
  {
   "cell_type": "code",
   "execution_count": 17,
   "metadata": {},
   "outputs": [],
   "source": [
    "import numpy as np\n",
    "import networkx as nx\n",
    "\n",
    "def eigen_centrality(data):\n",
    "    # ROI is the number of brain regions (i.e.,35 in our case)\n",
    "    ROI = 160\n",
    "\n",
    "    topology_eigen = []\n",
    "\n",
    "    G = nx.from_numpy_array(np.absolute(data))\n",
    "    U = G.to_undirected()\n",
    "\n",
    "    # A = to_2d(data)\n",
    "    np.fill_diagonal(data, 0)\n",
    "\n",
    "    # create a graph frL2\n",
    "    # # compute egeinvector centrality and transform the output to vector\n",
    "    ec = nx.eigenvector_centrality_numpy(U)\n",
    "    \n",
    "    eigenvector_centrality = np.array([ec[g] for g in U])\n",
    "\n",
    "\n",
    "\n",
    "    topology_eigen.append(eigenvector_centrality)  # 2\n",
    "\n",
    "    return topology_eigen\n",
    "\n",
    "def pearson_coor(input, target, epsilon=1e-7):\n",
    "    vx = input - torch.mean(input, dim=(1, 2))[:, None, None]\n",
    "    vy = target - torch.mean(target, dim=(1, 2))[:, None, None]\n",
    "    cost = torch.sum(vx * vy) / (torch.sqrt(torch.sum(vx ** 2)+epsilon) * torch.sqrt(torch.sum(vy ** 2)+epsilon)+epsilon)\n",
    "    return cost\n",
    "\n",
    "def GT_loss(target, predicted):\n",
    "\n",
    "    # l1_loss\n",
    "    l1_loss = torch.nn.L1Loss()\n",
    "    # loss_pix2pix = l1_loss(target, predicted)\n",
    "\n",
    "    # topological_loss\n",
    "    target_n = target.detach().cpu().clone().numpy()\n",
    "    predicted_n = predicted.detach().cpu().clone().numpy()\n",
    "    torch.cuda.empty_cache()\n",
    "\n",
    "    topo_loss = []\n",
    "    \n",
    "\n",
    "    for i in range(len(target_n)):\n",
    "\n",
    "        cur_target = target_n[i]\n",
    "        cur_predicted = predicted_n[i]\n",
    "\n",
    "        target_t = eigen_centrality(cur_target)\n",
    "        real_topology = torch.tensor(target_t[0])\n",
    "        predicted_t = eigen_centrality(cur_predicted)\n",
    "        fake_topology = torch.tensor(predicted_t[0])\n",
    "        topo_loss.append(l1_loss(real_topology, fake_topology))\n",
    "\n",
    "    topo_loss = torch.sum(torch.stack(topo_loss))\n",
    "\n",
    "    pc_loss = pearson_coor(target, predicted).to(DEVICE)\n",
    "    torch.cuda.empty_cache()\n",
    "\n",
    "    # G_loss = loss_pix2pix + (1 - pc_loss) + topo_loss\n",
    "    G_loss = (1 - pc_loss) + topo_loss\n",
    "\n",
    "\n",
    "    return G_loss"
   ]
  },
  {
   "cell_type": "code",
   "execution_count": 18,
   "metadata": {},
   "outputs": [],
   "source": [
    "def loss_calc(adj_ls, opp_adj_ls, alpha=0.75, weights=None):\n",
    "    total_loss = torch.Tensor([0]).to(DEVICE)\n",
    "    mse_loss_fn = nn.MSELoss()\n",
    "\n",
    "    # calculate the loss for the upper traingle of the matrix because thats what we care about\n",
    "    final_dim = adj_ls[-1].shape[-1]\n",
    "    upper_tri_idx = torch.triu_indices(final_dim, final_dim, offset=1)\n",
    "    final_upper_tri_adj = adj_ls[-1][:,upper_tri_idx.unbind()[0], upper_tri_idx.unbind()[1]]\n",
    "    final_upper_tri_other_adj = opp_adj_ls[0][:,upper_tri_idx.unbind()[0], upper_tri_idx.unbind()[1]]\n",
    "    final_mse_loss = mse_loss_fn(final_upper_tri_adj, final_upper_tri_other_adj)\n",
    "\n",
    "    if weights is None:\n",
    "        n = len(adj_ls[1:-1])\n",
    "        weights = torch.Tensor([2*(i+1)/(n*(n+1)) for i in range(n)])\n",
    "    \n",
    "    # calculate the loss for the remaining intermediate adjacent matrices\n",
    "    intermediate_mse_loss = torch.Tensor([0]).to(DEVICE)\n",
    "    for i, (adj, opp_adj) in enumerate(zip(adj_ls[:-1], opp_adj_ls[1:][::-1])):\n",
    "        intermediate_mse_loss = intermediate_mse_loss + weights[i] * mse_loss_fn(adj, opp_adj)\n",
    "\n",
    "    total_loss = total_loss + alpha * final_mse_loss + (1-alpha) * intermediate_mse_loss\n",
    "    # total_loss = total_loss + alpha * final_mse_loss * (1 + intermediate_mse_loss) * (gamma ** 2)\n",
    "    # total_loss = total_loss + (1-alpha) * intermediate_mse_loss * (beta ** 2)\n",
    "        \n",
    "\n",
    "    # gt_loss = torch.Tensor([0]).to(DEVICE)\n",
    "    # for i, (adj, opp_adj) in enumerate(zip(adj_ls, opp_adj_ls[::-1])):\n",
    "\n",
    "    #     ### NOTE TEMPORARY MEASURE BECAUSE THEY TAKE IN (BATCHSIZE, xx, xx) shape ####\n",
    "    #     temp_adj = adj.reshape(1, *adj.shape)\n",
    "    #     temp_opp_adj = opp_adj.reshape(1, *opp_adj.shape)\n",
    "    #     ##########################################################\n",
    "    #     gt_loss = gt_loss + GT_loss(temp_adj, temp_opp_adj)\n",
    "\n",
    "    # gt_loss = gt_loss / n\n",
    "        \n",
    "    return total_loss\n",
    "\n",
    "def up_loss_fn(up_adj_ls, down_adj_ls,  epoch, a=0.95, b=0.5, c=0.1): #modified\n",
    "    total_loss = torch.Tensor([0]).to(DEVICE)\n",
    "    mse_loss_fn = nn.MSELoss()\n",
    "\n",
    "    # calculate the loss for the upper traingle of the matrix because thats what we care about\n",
    "    final_dim = up_adj_ls[-1].shape[-1]\n",
    "    upper_tri_idx = torch.triu_indices(final_dim, final_dim, offset=1)\n",
    "    final_upper_tri_adj = up_adj_ls[-1][:,upper_tri_idx.unbind()[0], upper_tri_idx.unbind()[1]]\n",
    "    final_upper_tri_other_adj = down_adj_ls[0][:,upper_tri_idx.unbind()[0], upper_tri_idx.unbind()[1]]\n",
    "    final_mse_loss = mse_loss_fn(final_upper_tri_adj, final_upper_tri_other_adj)\n",
    "\n",
    "    n = len(up_adj_ls[:-1])\n",
    "    weights = torch.Tensor([2*(i+1)/(n*(n+1)) for i in range(n)])\n",
    "    \n",
    "    # calculate the loss for the remaining intermediate adjacent matrices\n",
    "    intermediate_mse_loss = torch.Tensor([0]).to(DEVICE)\n",
    "    for i, (up_adj, down_adj) in enumerate(zip(up_adj_ls[:-1], down_adj_ls[1:][::-1])):\n",
    "        intermediate_mse_loss = intermediate_mse_loss + weights[i] * mse_loss_fn(up_adj, down_adj)\n",
    "\n",
    "    alpha = (1 - np.exp(-c * epoch)) * (a - b) + b #modified\n",
    "\n",
    "    total_loss = total_loss + alpha * final_mse_loss + (1-alpha) * intermediate_mse_loss #modified\n",
    "    return total_loss\n",
    "\n",
    "def down_loss_fn(down_adj_ls, up_adj_ls):\n",
    "    total_loss = torch.Tensor([0]).to(DEVICE)\n",
    "    mse_loss_fn = nn.MSELoss()\n",
    "\n",
    "    n = len(down_adj_ls[:])\n",
    "    weights = torch.Tensor([1/n for i in range(n)])\n",
    "    \n",
    "    # calculate the loss for the remaining intermediate adjacent matrices\n",
    "    for i, (down_adj, up_adj) in enumerate(zip(down_adj_ls[:], up_adj_ls[::-1])):\n",
    "        total_loss = total_loss + weights[i] * mse_loss_fn(down_adj, up_adj)\n",
    "\n",
    "    return total_loss\n",
    "    \n",
    "def reconstruction_loss_fn(gt_adj, pred_adj):\n",
    "    l1_loss_fn = nn.L1Loss()\n",
    "    return l1_loss_fn(gt_adj, pred_adj)\n",
    "\n",
    "def end_adj_loss_calc(adj, opp_adj):\n",
    "    mae_loss_fn = torch.nn.L1Loss()\n",
    "    n = len(adj)\n",
    "    upper_tri_idx = torch.triu_indices(n, n, offset=1)\n",
    "    upper_tri_adj = adj.detach()[upper_tri_idx.unbind()]\n",
    "    upper_tri_opp_adj = opp_adj.detach()[upper_tri_idx.unbind()]\n",
    "    mae_loss = mae_loss_fn(upper_tri_adj, upper_tri_opp_adj)\n",
    "    # temp_adj = adj.reshape(1, *adj.shape)\n",
    "    # temp_opp_adj = opp_adj.reshape(1, *opp_adj.shape)\n",
    "    # gt_loss = GT_loss(temp_adj, temp_opp_adj)\n",
    "    return mae_loss.detach().item()"
   ]
  },
  {
   "cell_type": "markdown",
   "metadata": {},
   "source": [
    "# Training"
   ]
  },
  {
   "cell_type": "code",
   "execution_count": 38,
   "metadata": {},
   "outputs": [],
   "source": [
    "import gc\n",
    "\n",
    "def train(epochs, up_changer, down_changer, trainloader, up_optimizer, down_optimizer, reconstruction_optimizer, completed_epochs=0, loss_log=None):\n",
    "\n",
    "    if loss_log is None:\n",
    "        loss_log = {'up': [], 'down': [], 'up_end_mae':[], 'down_end_mae':[]}\n",
    "\n",
    "    up_changer.train()\n",
    "    down_changer.train()   \n",
    "\n",
    "    #epoch_weight = 1\n",
    "    for epoch in range(epochs):\n",
    "\n",
    "        up_losses = []\n",
    "        up_final_mae_ls = []\n",
    "        down_final_mae_ls = []\n",
    "        down_losses = []\n",
    "        reconstruction_losses = []\n",
    "            \n",
    "        #if (epoch + 1) % 10 == 0:\n",
    "        #    epoch_weight = # modified\n",
    "\n",
    "\n",
    "        for X_lr, Y_lr, adj_lr, X_hr, Y_hr, adj_hr in trainloader:\n",
    "            gc.collect()\n",
    "            freeze_model(up_changer)\n",
    "            unfreeze_model(down_changer)\n",
    "        \n",
    "            down_optimizer.zero_grad()\n",
    "\n",
    "            \n",
    "            up_adj_ls = up_changer(X_lr.to(DEVICE), Y_lr.to(DEVICE), adj_lr.to(DEVICE))\n",
    "            torch.cuda.empty_cache()\n",
    "            down_adj_ls = down_changer(X_hr.to(DEVICE), Y_hr.to(DEVICE), adj_hr.to(DEVICE))\n",
    "            torch.cuda.empty_cache()\n",
    "\n",
    "            down_loss = down_loss_fn(down_adj_ls[1:], up_adj_ls[:-1])\n",
    "        \n",
    "            # for printing loss only\n",
    "            down_final_mae_ls.append(end_adj_loss_calc(down_adj_ls[-1].detach(), up_adj_ls[0].detach()))\n",
    "            torch.cuda.empty_cache()\n",
    "            \n",
    "            # del down_end_adj_gt_loss\n",
    "            down_loss.backward()\n",
    "            down_optimizer.step()\n",
    "\n",
    "            down_losses.append(down_loss.detach().item())\n",
    "            del down_loss\n",
    "            gc.collect()\n",
    "            torch.cuda.empty_cache()\n",
    "\n",
    "            unfreeze_model(up_changer)\n",
    "            freeze_model(down_changer)\n",
    "        \n",
    "            up_optimizer.zero_grad()\n",
    "\n",
    "            up_adj_ls = up_changer(X_lr.to(DEVICE), Y_lr.to(DEVICE), adj_lr.to(DEVICE))\n",
    "            torch.cuda.empty_cache()\n",
    "            down_adj_ls = down_changer(X_hr.to(DEVICE), Y_hr.to(DEVICE), adj_hr.to(DEVICE))\n",
    "            torch.cuda.empty_cache()\n",
    "        \n",
    "            up_loss = up_loss_fn(up_adj_ls[1:], down_adj_ls[:-1], epoch=epoch)\n",
    "            \n",
    "            up_loss.backward()\n",
    "            up_optimizer.step()\n",
    "\n",
    "            up_losses.append(up_loss.detach().item())\n",
    "            del up_loss\n",
    "            gc.collect()\n",
    "            torch.cuda.empty_cache()\n",
    "\n",
    "            # for printing loss only\n",
    "            # non_neg = up_adj_ls[-1].detach().cpu()\n",
    "            # non_neg[non_neg < 0] = 0\n",
    "            torch.cuda.empty_cache()\n",
    "            up_final_mae_ls.append(end_adj_loss_calc(up_adj_ls[-1].detach(), down_adj_ls[0].detach()))\n",
    "            torch.cuda.empty_cache()\n",
    "\n",
    "            unfreeze_model(up_changer)\n",
    "            unfreeze_model(down_changer)\n",
    "\n",
    "            reconstruction_optimizer.zero_grad()\n",
    "\n",
    "            down_adj_end = down_changer(X_hr.to(DEVICE), Y_hr.to(DEVICE), adj_hr.to(DEVICE))[-1]\n",
    "            torch.cuda.empty_cache()\n",
    "\n",
    "            up_adj_end = up_changer(X_lr.to(DEVICE), Y_lr.to(DEVICE), down_adj_ls[-1])[-1]\n",
    "            torch.cuda.empty_cache()\n",
    "\n",
    "            reconstruction_loss = reconstruction_loss_fn(up_adj_end, adj_hr.to(DEVICE))\n",
    "            reconstruction_loss.backward()\n",
    "            reconstruction_optimizer.step()\n",
    "            torch.cuda.empty_cache()\n",
    "\n",
    "        \n",
    "            reconstruction_losses.append(reconstruction_loss.detach().item())\n",
    "            del reconstruction_loss\n",
    "            gc.collect()\n",
    "            torch.cuda.empty_cache()\n",
    "        \n",
    "        epoch_up_loss = np.mean(up_losses)\n",
    "        epoch_down_loss = np.mean(down_losses)\n",
    "        epoch_reconstruction_loss = np.mean(reconstruction_losses)\n",
    "        epoch_up_final_mae = np.mean(up_final_mae_ls)\n",
    "        epoch_down_final_mae = np.mean(down_final_mae_ls)\n",
    "        \n",
    "        loss_log['up'].append(epoch_up_loss)\n",
    "        loss_log['down'].append(epoch_down_loss)\n",
    "        loss_log['up_end_mae'].append(epoch_up_final_mae)\n",
    "        loss_log['down_end_mae'].append(epoch_down_final_mae)\n",
    "\n",
    "        if epoch % 5 == 0:\n",
    "            print(f'ep {epoch}: down loss = {epoch_down_loss}, up loss = {epoch_up_loss}, reconst.loss = {epoch_reconstruction_loss}, down adj mae = {epoch_down_final_mae}, up adj mae = {epoch_up_final_mae}')\n",
    "\n",
    "\n",
    "    return up_changer, down_changer, loss_log\n"
   ]
  },
  {
   "cell_type": "code",
   "execution_count": 53,
   "metadata": {},
   "outputs": [
    {
     "data": {
      "text/plain": [
       "3041132"
      ]
     },
     "execution_count": 53,
     "metadata": {},
     "output_type": "execute_result"
    }
   ],
   "source": [
    "trainloader = DataLoader(list(zip(lr_X_dim1, lr_X_dim3, lr_train, hr_X_dim1, hr_X_dim3, hr_train)), shuffle=True, batch_size=16)\n",
    "testloader = DataLoader(list(zip(lr_X_dim1_test, lr_X_dim3, lr_test)), shuffle=True, batch_size=32)\n",
    "\n",
    "dim_steps = generate_steps(num_steps=6)\n",
    "channels_ls = [32, 64]\n",
    "embedding_dims_ls_up = [160,16,32]\n",
    "embedding_dims_ls_down = [268,16,32]\n",
    "\n",
    "up_changer = AdjacencyDimChanger(dim_steps, channels_ls, embedding_dims_ls_up).to(DEVICE)\n",
    "down_changer = AdjacencyDimChanger(dim_steps[::-1], channels_ls, embedding_dims_ls_down).to(DEVICE)\n",
    "\n",
    "up_optimizer = torch.optim.AdamW(up_changer.parameters(), lr=0.0025, betas=(0.5, 0.999))\n",
    "down_optimizer = torch.optim.AdamW(down_changer.parameters(), lr=0.0025, betas=(0.5, 0.999))\n",
    "reconstruction_optimizer = torch.optim.AdamW(list(up_changer.parameters()) + list(down_changer.parameters()), lr=0.0025, betas=(0.5, 0.999))\n",
    "\n",
    "sum(p.numel() for model in [up_changer, down_changer] for p in model.parameters())\n"
   ]
  },
  {
   "cell_type": "code",
   "execution_count": 54,
   "metadata": {},
   "outputs": [
    {
     "name": "stderr",
     "output_type": "stream",
     "text": [
      "  0%|          | 0/11 [00:00<?, ?it/s]"
     ]
    },
    {
     "name": "stderr",
     "output_type": "stream",
     "text": [
      "100%|██████████| 11/11 [00:15<00:00,  1.40s/it]\n"
     ]
    },
    {
     "name": "stdout",
     "output_type": "stream",
     "text": [
      "ep 0: down loss = 0.18892769109119067, up loss = 0.16802923516793686, reconst.loss = 0.28040906109593133, down adj mae = 0.2736617353829471, up adj mae = 0.29104575514793396\n"
     ]
    },
    {
     "name": "stderr",
     "output_type": "stream",
     "text": [
      "100%|██████████| 11/11 [00:15<00:00,  1.37s/it]\n"
     ]
    },
    {
     "name": "stdout",
     "output_type": "stream",
     "text": [
      "ep 1: down loss = 0.1590344174341722, up loss = 0.13685104386373, reconst.loss = 0.2515941099687056, down adj mae = 0.24245925789529627, up adj mae = 0.2575872960415753\n"
     ]
    },
    {
     "name": "stderr",
     "output_type": "stream",
     "text": [
      "100%|██████████| 11/11 [00:14<00:00,  1.33s/it]\n"
     ]
    },
    {
     "name": "stdout",
     "output_type": "stream",
     "text": [
      "ep 2: down loss = 0.13696706972338937, up loss = 0.11632468754594977, reconst.loss = 0.2302739078348333, down adj mae = 0.2335025343027982, up adj mae = 0.24240277301181445\n"
     ]
    },
    {
     "name": "stderr",
     "output_type": "stream",
     "text": [
      "100%|██████████| 11/11 [00:14<00:00,  1.29s/it]\n"
     ]
    },
    {
     "name": "stdout",
     "output_type": "stream",
     "text": [
      "ep 3: down loss = 0.11496955427256497, up loss = 0.09442525018345226, reconst.loss = 0.20273822681470352, down adj mae = 0.21737727929245343, up adj mae = 0.21233389594338156\n"
     ]
    },
    {
     "name": "stderr",
     "output_type": "stream",
     "text": [
      "100%|██████████| 11/11 [00:13<00:00,  1.27s/it]\n"
     ]
    },
    {
     "name": "stdout",
     "output_type": "stream",
     "text": [
      "ep 4: down loss = 0.09748313982378352, up loss = 0.07919251783327623, reconst.loss = 0.18500392545353284, down adj mae = 0.21546319127082825, up adj mae = 0.19153094020756808\n"
     ]
    },
    {
     "name": "stderr",
     "output_type": "stream",
     "text": [
      "100%|██████████| 11/11 [00:14<00:00,  1.30s/it]\n"
     ]
    },
    {
     "name": "stdout",
     "output_type": "stream",
     "text": [
      "ep 5: down loss = 0.08162984251976013, up loss = 0.06820137121460655, reconst.loss = 0.17253963920203122, down adj mae = 0.20392308587377722, up adj mae = 0.1848377680236643\n"
     ]
    },
    {
     "name": "stderr",
     "output_type": "stream",
     "text": [
      "100%|██████████| 11/11 [00:14<00:00,  1.29s/it]\n"
     ]
    },
    {
     "name": "stdout",
     "output_type": "stream",
     "text": [
      "ep 6: down loss = 0.06727207214994864, up loss = 0.05917086858641018, reconst.loss = 0.16598835316571323, down adj mae = 0.18954364278099753, up adj mae = 0.1722069802609357\n"
     ]
    },
    {
     "name": "stderr",
     "output_type": "stream",
     "text": [
      "100%|██████████| 11/11 [00:14<00:00,  1.29s/it]\n"
     ]
    },
    {
     "name": "stdout",
     "output_type": "stream",
     "text": [
      "ep 7: down loss = 0.0563989095389843, up loss = 0.05499271405014125, reconst.loss = 0.16595281660556793, down adj mae = 0.18323979865420947, up adj mae = 0.1697580800815062\n"
     ]
    },
    {
     "name": "stderr",
     "output_type": "stream",
     "text": [
      "100%|██████████| 11/11 [00:14<00:00,  1.28s/it]\n"
     ]
    },
    {
     "name": "stdout",
     "output_type": "stream",
     "text": [
      "ep 8: down loss = 0.047450321980498054, up loss = 0.050555349750952286, reconst.loss = 0.16144382682713596, down adj mae = 0.17665649137713693, up adj mae = 0.16844556006518277\n"
     ]
    },
    {
     "name": "stderr",
     "output_type": "stream",
     "text": [
      "100%|██████████| 11/11 [00:14<00:00,  1.31s/it]\n"
     ]
    },
    {
     "name": "stdout",
     "output_type": "stream",
     "text": [
      "ep 9: down loss = 0.04030494527383284, up loss = 0.04706555130806836, reconst.loss = 0.15753772448409686, down adj mae = 0.1694671796126799, up adj mae = 0.16203899681568146\n"
     ]
    },
    {
     "name": "stderr",
     "output_type": "stream",
     "text": [
      "100%|██████████| 11/11 [00:14<00:00,  1.28s/it]\n"
     ]
    },
    {
     "name": "stdout",
     "output_type": "stream",
     "text": [
      "ep 10: down loss = 0.03354058753360401, up loss = 0.04139817573807456, reconst.loss = 0.15229002183133905, down adj mae = 0.16216691651127554, up adj mae = 0.15534928441047668\n"
     ]
    },
    {
     "name": "stderr",
     "output_type": "stream",
     "text": [
      "100%|██████████| 11/11 [00:14<00:00,  1.28s/it]\n"
     ]
    },
    {
     "name": "stdout",
     "output_type": "stream",
     "text": [
      "ep 11: down loss = 0.030077330429445614, up loss = 0.03976032307202166, reconst.loss = 0.151537071574818, down adj mae = 0.1627821150151166, up adj mae = 0.15412105484442276\n"
     ]
    },
    {
     "name": "stderr",
     "output_type": "stream",
     "text": [
      "100%|██████████| 11/11 [00:13<00:00,  1.26s/it]\n"
     ]
    },
    {
     "name": "stdout",
     "output_type": "stream",
     "text": [
      "ep 12: down loss = 0.027081023224375465, up loss = 0.0386722551828081, reconst.loss = 0.1497335908087817, down adj mae = 0.1519351594827392, up adj mae = 0.14857625554908405\n"
     ]
    },
    {
     "name": "stderr",
     "output_type": "stream",
     "text": [
      "100%|██████████| 11/11 [00:14<00:00,  1.28s/it]\n"
     ]
    },
    {
     "name": "stdout",
     "output_type": "stream",
     "text": [
      "ep 13: down loss = 0.024253382770852608, up loss = 0.03661515868522904, reconst.loss = 0.1474902399561622, down adj mae = 0.15129964730956338, up adj mae = 0.14773966507478195\n"
     ]
    },
    {
     "name": "stderr",
     "output_type": "stream",
     "text": [
      "100%|██████████| 11/11 [00:13<00:00,  1.27s/it]\n"
     ]
    },
    {
     "name": "stdout",
     "output_type": "stream",
     "text": [
      "ep 14: down loss = 0.022282115776430477, up loss = 0.036055208945816215, reconst.loss = 0.14565855129198593, down adj mae = 0.15421388366005637, up adj mae = 0.14922804724086414\n"
     ]
    },
    {
     "name": "stderr",
     "output_type": "stream",
     "text": [
      "100%|██████████| 11/11 [00:14<00:00,  1.28s/it]\n"
     ]
    },
    {
     "name": "stdout",
     "output_type": "stream",
     "text": [
      "ep 15: down loss = 0.020765033296563408, up loss = 0.03584767776456746, reconst.loss = 0.14456454461271112, down adj mae = 0.14831599457697434, up adj mae = 0.1478749323974956\n"
     ]
    },
    {
     "name": "stderr",
     "output_type": "stream",
     "text": [
      "100%|██████████| 11/11 [00:13<00:00,  1.24s/it]\n"
     ]
    },
    {
     "name": "stdout",
     "output_type": "stream",
     "text": [
      "ep 16: down loss = 0.019127846610817043, up loss = 0.03352843597531319, reconst.loss = 0.14211456342176956, down adj mae = 0.1448180296204307, up adj mae = 0.14147137918255545\n"
     ]
    },
    {
     "name": "stderr",
     "output_type": "stream",
     "text": [
      "100%|██████████| 11/11 [00:13<00:00,  1.24s/it]\n"
     ]
    },
    {
     "name": "stdout",
     "output_type": "stream",
     "text": [
      "ep 17: down loss = 0.018202788281169804, up loss = 0.033513493835926056, reconst.loss = 0.14120595969937064, down adj mae = 0.1460138816725124, up adj mae = 0.14318111809817227\n"
     ]
    },
    {
     "name": "stderr",
     "output_type": "stream",
     "text": [
      "100%|██████████| 11/11 [00:13<00:00,  1.26s/it]\n"
     ]
    },
    {
     "name": "stdout",
     "output_type": "stream",
     "text": [
      "ep 18: down loss = 0.01761269501664422, up loss = 0.0327677708119154, reconst.loss = 0.14056366004727103, down adj mae = 0.14970569041642276, up adj mae = 0.14324632287025452\n"
     ]
    },
    {
     "name": "stderr",
     "output_type": "stream",
     "text": [
      "100%|██████████| 11/11 [00:13<00:00,  1.23s/it]\n"
     ]
    },
    {
     "name": "stdout",
     "output_type": "stream",
     "text": [
      "ep 19: down loss = 0.017239569940350273, up loss = 0.032612997191873466, reconst.loss = 0.14038634977557443, down adj mae = 0.14414841749451376, up adj mae = 0.14054502140391956\n"
     ]
    },
    {
     "name": "stderr",
     "output_type": "stream",
     "text": [
      "100%|██████████| 11/11 [00:14<00:00,  1.28s/it]\n"
     ]
    },
    {
     "name": "stdout",
     "output_type": "stream",
     "text": [
      "ep 20: down loss = 0.016512967730787666, up loss = 0.032319600439884445, reconst.loss = 0.13943234356966885, down adj mae = 0.14544631947170605, up adj mae = 0.141255109147592\n"
     ]
    },
    {
     "name": "stderr",
     "output_type": "stream",
     "text": [
      "100%|██████████| 11/11 [00:13<00:00,  1.26s/it]\n"
     ]
    },
    {
     "name": "stdout",
     "output_type": "stream",
     "text": [
      "ep 21: down loss = 0.015584323131902651, up loss = 0.032786701382561165, reconst.loss = 0.1383361599662087, down adj mae = 0.14363687553189017, up adj mae = 0.14026435667818243\n"
     ]
    },
    {
     "name": "stderr",
     "output_type": "stream",
     "text": [
      "100%|██████████| 11/11 [00:13<00:00,  1.27s/it]\n"
     ]
    },
    {
     "name": "stdout",
     "output_type": "stream",
     "text": [
      "ep 22: down loss = 0.014853233979506926, up loss = 0.03233605944974856, reconst.loss = 0.13908259570598602, down adj mae = 0.1404147053306753, up adj mae = 0.13768226179209622\n"
     ]
    },
    {
     "name": "stderr",
     "output_type": "stream",
     "text": [
      "100%|██████████| 11/11 [00:13<00:00,  1.25s/it]\n"
     ]
    },
    {
     "name": "stdout",
     "output_type": "stream",
     "text": [
      "ep 23: down loss = 0.014941799793053757, up loss = 0.032493470067327675, reconst.loss = 0.13887834548950195, down adj mae = 0.14419479397210208, up adj mae = 0.1395204649730162\n"
     ]
    },
    {
     "name": "stderr",
     "output_type": "stream",
     "text": [
      "100%|██████████| 11/11 [00:13<00:00,  1.24s/it]\n"
     ]
    },
    {
     "name": "stdout",
     "output_type": "stream",
     "text": [
      "ep 24: down loss = 0.014552458274093542, up loss = 0.03241672112860463, reconst.loss = 0.13861993632533334, down adj mae = 0.14261508665301584, up adj mae = 0.13982462070204996\n"
     ]
    },
    {
     "name": "stderr",
     "output_type": "stream",
     "text": [
      "100%|██████████| 11/11 [00:13<00:00,  1.24s/it]\n"
     ]
    },
    {
     "name": "stdout",
     "output_type": "stream",
     "text": [
      "ep 25: down loss = 0.013756700791418552, up loss = 0.030973748727278275, reconst.loss = 0.13762267882173712, down adj mae = 0.1374657770449465, up adj mae = 0.13402726839889179\n"
     ]
    },
    {
     "name": "stderr",
     "output_type": "stream",
     "text": [
      "100%|██████████| 11/11 [00:13<00:00,  1.22s/it]\n"
     ]
    },
    {
     "name": "stdout",
     "output_type": "stream",
     "text": [
      "ep 26: down loss = 0.01336490794677626, up loss = 0.031471258368004455, reconst.loss = 0.13712397488680753, down adj mae = 0.14061814817515286, up adj mae = 0.13681405918164688\n"
     ]
    },
    {
     "name": "stderr",
     "output_type": "stream",
     "text": [
      "100%|██████████| 11/11 [00:13<00:00,  1.27s/it]\n"
     ]
    },
    {
     "name": "stdout",
     "output_type": "stream",
     "text": [
      "ep 27: down loss = 0.013340209187431768, up loss = 0.03104306130924008, reconst.loss = 0.1371160542423075, down adj mae = 0.1406170752915469, up adj mae = 0.13576652516018262\n"
     ]
    },
    {
     "name": "stderr",
     "output_type": "stream",
     "text": [
      "100%|██████████| 11/11 [00:13<00:00,  1.26s/it]\n"
     ]
    },
    {
     "name": "stdout",
     "output_type": "stream",
     "text": [
      "ep 28: down loss = 0.012998655353757467, up loss = 0.03098909929394722, reconst.loss = 0.1371820325201208, down adj mae = 0.14192483641884543, up adj mae = 0.13709778541868384\n"
     ]
    },
    {
     "name": "stderr",
     "output_type": "stream",
     "text": [
      "100%|██████████| 11/11 [00:14<00:00,  1.29s/it]\n"
     ]
    },
    {
     "name": "stdout",
     "output_type": "stream",
     "text": [
      "ep 29: down loss = 0.012570439245213161, up loss = 0.03171995807100426, reconst.loss = 0.13712751052596353, down adj mae = 0.13924387097358704, up adj mae = 0.1365919980135831\n"
     ]
    },
    {
     "name": "stderr",
     "output_type": "stream",
     "text": [
      "100%|██████████| 11/11 [00:13<00:00,  1.24s/it]\n"
     ]
    },
    {
     "name": "stdout",
     "output_type": "stream",
     "text": [
      "ep 30: down loss = 0.012382947162471035, up loss = 0.03137819485908205, reconst.loss = 0.136358304457231, down adj mae = 0.14026505567810751, up adj mae = 0.1372650997205214\n"
     ]
    },
    {
     "name": "stderr",
     "output_type": "stream",
     "text": [
      "100%|██████████| 11/11 [00:14<00:00,  1.29s/it]\n"
     ]
    },
    {
     "name": "stdout",
     "output_type": "stream",
     "text": [
      "ep 31: down loss = 0.011980065059932795, up loss = 0.030659168281338432, reconst.loss = 0.1356422481211749, down adj mae = 0.1383988532153043, up adj mae = 0.13650057397105478\n"
     ]
    },
    {
     "name": "stderr",
     "output_type": "stream",
     "text": [
      "100%|██████████| 11/11 [00:13<00:00,  1.25s/it]\n"
     ]
    },
    {
     "name": "stdout",
     "output_type": "stream",
     "text": [
      "ep 32: down loss = 0.011847239749675447, up loss = 0.030825633386319332, reconst.loss = 0.13599767874587665, down adj mae = 0.1372256800532341, up adj mae = 0.13437541980635037\n"
     ]
    },
    {
     "name": "stderr",
     "output_type": "stream",
     "text": [
      "100%|██████████| 11/11 [00:14<00:00,  1.28s/it]\n"
     ]
    },
    {
     "name": "stdout",
     "output_type": "stream",
     "text": [
      "ep 33: down loss = 0.011680029586634853, up loss = 0.030739311636848884, reconst.loss = 0.13627113808285107, down adj mae = 0.13622622869231485, up adj mae = 0.13445023244077509\n"
     ]
    },
    {
     "name": "stderr",
     "output_type": "stream",
     "text": [
      "100%|██████████| 11/11 [00:13<00:00,  1.27s/it]\n"
     ]
    },
    {
     "name": "stdout",
     "output_type": "stream",
     "text": [
      "ep 34: down loss = 0.011696761304681952, up loss = 0.030746776779944248, reconst.loss = 0.13596957921981812, down adj mae = 0.13958364860578018, up adj mae = 0.13742526959289203\n"
     ]
    },
    {
     "name": "stderr",
     "output_type": "stream",
     "text": [
      "100%|██████████| 11/11 [00:13<00:00,  1.27s/it]\n"
     ]
    },
    {
     "name": "stdout",
     "output_type": "stream",
     "text": [
      "ep 35: down loss = 0.011442910033193502, up loss = 0.030606439675797115, reconst.loss = 0.13568038696592505, down adj mae = 0.13748330690644003, up adj mae = 0.1379364701834592\n"
     ]
    },
    {
     "name": "stderr",
     "output_type": "stream",
     "text": [
      "100%|██████████| 11/11 [00:13<00:00,  1.25s/it]\n"
     ]
    },
    {
     "name": "stdout",
     "output_type": "stream",
     "text": [
      "ep 36: down loss = 0.011053215204314753, up loss = 0.030522074550390244, reconst.loss = 0.1345494484359568, down adj mae = 0.13929116590456528, up adj mae = 0.1361022103916515\n"
     ]
    },
    {
     "name": "stderr",
     "output_type": "stream",
     "text": [
      "100%|██████████| 11/11 [00:13<00:00,  1.22s/it]\n"
     ]
    },
    {
     "name": "stdout",
     "output_type": "stream",
     "text": [
      "ep 37: down loss = 0.011008915152739395, up loss = 0.0302024417641488, reconst.loss = 0.1348382221026854, down adj mae = 0.13984921100464734, up adj mae = 0.13549105552109805\n"
     ]
    },
    {
     "name": "stderr",
     "output_type": "stream",
     "text": [
      "100%|██████████| 11/11 [00:13<00:00,  1.25s/it]\n"
     ]
    },
    {
     "name": "stdout",
     "output_type": "stream",
     "text": [
      "ep 38: down loss = 0.010708469812842932, up loss = 0.030152610249140045, reconst.loss = 0.13480457121675665, down adj mae = 0.134284376420758, up adj mae = 0.1338013546033339\n"
     ]
    },
    {
     "name": "stderr",
     "output_type": "stream",
     "text": [
      "100%|██████████| 11/11 [00:13<00:00,  1.24s/it]\n"
     ]
    },
    {
     "name": "stdout",
     "output_type": "stream",
     "text": [
      "ep 39: down loss = 0.010546408000994812, up loss = 0.030048942701383072, reconst.loss = 0.134281570261175, down adj mae = 0.13922638378360055, up adj mae = 0.13644119826230136\n"
     ]
    },
    {
     "name": "stderr",
     "output_type": "stream",
     "text": [
      "100%|██████████| 11/11 [00:13<00:00,  1.23s/it]\n"
     ]
    },
    {
     "name": "stdout",
     "output_type": "stream",
     "text": [
      "ep 40: down loss = 0.01044127353551713, up loss = 0.030131954191760582, reconst.loss = 0.13475877859375693, down adj mae = 0.13692172413522546, up adj mae = 0.1350847834890539\n"
     ]
    },
    {
     "name": "stderr",
     "output_type": "stream",
     "text": [
      "100%|██████████| 11/11 [00:13<00:00,  1.26s/it]\n"
     ]
    },
    {
     "name": "stdout",
     "output_type": "stream",
     "text": [
      "ep 41: down loss = 0.010142004964026537, up loss = 0.029513798823410816, reconst.loss = 0.1337624950842424, down adj mae = 0.13759948177771134, up adj mae = 0.1354744556275281\n"
     ]
    },
    {
     "name": "stderr",
     "output_type": "stream",
     "text": [
      "100%|██████████| 11/11 [00:13<00:00,  1.23s/it]\n"
     ]
    },
    {
     "name": "stdout",
     "output_type": "stream",
     "text": [
      "ep 42: down loss = 0.010358796624297445, up loss = 0.030115314505316994, reconst.loss = 0.13506990671157837, down adj mae = 0.1369572620500218, up adj mae = 0.13357262110168283\n"
     ]
    },
    {
     "name": "stderr",
     "output_type": "stream",
     "text": [
      "100%|██████████| 11/11 [00:13<00:00,  1.26s/it]\n"
     ]
    },
    {
     "name": "stdout",
     "output_type": "stream",
     "text": [
      "ep 43: down loss = 0.010070777921514078, up loss = 0.029510670934211124, reconst.loss = 0.13410816002975812, down adj mae = 0.1391911032524976, up adj mae = 0.1343600479039279\n"
     ]
    },
    {
     "name": "stderr",
     "output_type": "stream",
     "text": [
      "100%|██████████| 11/11 [00:13<00:00,  1.25s/it]\n"
     ]
    },
    {
     "name": "stdout",
     "output_type": "stream",
     "text": [
      "ep 44: down loss = 0.01014986735853282, up loss = 0.02967824126509103, reconst.loss = 0.13411089100620963, down adj mae = 0.13672712580724197, up adj mae = 0.13276792859489267\n"
     ]
    },
    {
     "name": "stderr",
     "output_type": "stream",
     "text": [
      "100%|██████████| 11/11 [00:13<00:00,  1.24s/it]\n"
     ]
    },
    {
     "name": "stdout",
     "output_type": "stream",
     "text": [
      "ep 45: down loss = 0.010086028328673407, up loss = 0.029117941517721523, reconst.loss = 0.13332371007312427, down adj mae = 0.13553635776042938, up adj mae = 0.1312527988444675\n"
     ]
    },
    {
     "name": "stderr",
     "output_type": "stream",
     "text": [
      "100%|██████████| 11/11 [00:13<00:00,  1.25s/it]\n"
     ]
    },
    {
     "name": "stdout",
     "output_type": "stream",
     "text": [
      "ep 46: down loss = 0.010238422419537197, up loss = 0.029622842811725357, reconst.loss = 0.13448720086704602, down adj mae = 0.14052210341800342, up adj mae = 0.13674440099434418\n"
     ]
    },
    {
     "name": "stderr",
     "output_type": "stream",
     "text": [
      "100%|██████████| 11/11 [00:13<00:00,  1.26s/it]\n"
     ]
    },
    {
     "name": "stdout",
     "output_type": "stream",
     "text": [
      "ep 47: down loss = 0.009906600483439186, up loss = 0.02933419580486688, reconst.loss = 0.13382817804813385, down adj mae = 0.13649387251247058, up adj mae = 0.13368576561862772\n"
     ]
    },
    {
     "name": "stderr",
     "output_type": "stream",
     "text": [
      "100%|██████████| 11/11 [00:14<00:00,  1.29s/it]\n"
     ]
    },
    {
     "name": "stdout",
     "output_type": "stream",
     "text": [
      "ep 48: down loss = 0.009805967269295996, up loss = 0.028917858038436283, reconst.loss = 0.13330377502874893, down adj mae = 0.1344621628522873, up adj mae = 0.132310996001417\n"
     ]
    },
    {
     "name": "stderr",
     "output_type": "stream",
     "text": [
      "100%|██████████| 11/11 [00:13<00:00,  1.24s/it]\n"
     ]
    },
    {
     "name": "stdout",
     "output_type": "stream",
     "text": [
      "ep 49: down loss = 0.00974928443743424, up loss = 0.029109383848580448, reconst.loss = 0.1329671564427289, down adj mae = 0.1356415403160182, up adj mae = 0.13279750469056043\n"
     ]
    },
    {
     "name": "stderr",
     "output_type": "stream",
     "text": [
      "100%|██████████| 11/11 [00:13<00:00,  1.23s/it]\n"
     ]
    },
    {
     "name": "stdout",
     "output_type": "stream",
     "text": [
      "ep 50: down loss = 0.009773140349848703, up loss = 0.029041105542670597, reconst.loss = 0.1331912035291845, down adj mae = 0.13615463809533554, up adj mae = 0.13142553581432861\n"
     ]
    },
    {
     "name": "stderr",
     "output_type": "stream",
     "text": [
      "100%|██████████| 11/11 [00:13<00:00,  1.22s/it]\n"
     ]
    },
    {
     "name": "stdout",
     "output_type": "stream",
     "text": [
      "ep 51: down loss = 0.009734151969579134, up loss = 0.02891921370544217, reconst.loss = 0.1333649144931273, down adj mae = 0.13624592802741312, up adj mae = 0.1335518861358816\n"
     ]
    },
    {
     "name": "stderr",
     "output_type": "stream",
     "text": [
      "100%|██████████| 11/11 [00:13<00:00,  1.26s/it]\n"
     ]
    },
    {
     "name": "stdout",
     "output_type": "stream",
     "text": [
      "ep 52: down loss = 0.009742571972310543, up loss = 0.029000597243959255, reconst.loss = 0.1332106346433813, down adj mae = 0.1372617076743733, up adj mae = 0.1344173178076744\n"
     ]
    },
    {
     "name": "stderr",
     "output_type": "stream",
     "text": [
      "100%|██████████| 11/11 [00:13<00:00,  1.26s/it]\n"
     ]
    },
    {
     "name": "stdout",
     "output_type": "stream",
     "text": [
      "ep 53: down loss = 0.009638030335984447, up loss = 0.02900177849964662, reconst.loss = 0.13342259688810867, down adj mae = 0.13591914285313, up adj mae = 0.13201156597245822\n"
     ]
    },
    {
     "name": "stderr",
     "output_type": "stream",
     "text": [
      "100%|██████████| 11/11 [00:13<00:00,  1.24s/it]\n"
     ]
    },
    {
     "name": "stdout",
     "output_type": "stream",
     "text": [
      "ep 54: down loss = 0.009553150104528124, up loss = 0.02839326672255993, reconst.loss = 0.13230515203692697, down adj mae = 0.13687276975675064, up adj mae = 0.1331358253955841\n"
     ]
    },
    {
     "name": "stderr",
     "output_type": "stream",
     "text": [
      "100%|██████████| 11/11 [00:13<00:00,  1.25s/it]\n"
     ]
    },
    {
     "name": "stdout",
     "output_type": "stream",
     "text": [
      "ep 55: down loss = 0.00958609479394826, up loss = 0.02872102250429717, reconst.loss = 0.1330771337855946, down adj mae = 0.13676851445978339, up adj mae = 0.13365956260399384\n"
     ]
    },
    {
     "name": "stderr",
     "output_type": "stream",
     "text": [
      "100%|██████████| 11/11 [00:13<00:00,  1.25s/it]\n"
     ]
    },
    {
     "name": "stdout",
     "output_type": "stream",
     "text": [
      "ep 56: down loss = 0.009684121574867855, up loss = 0.029076769440011543, reconst.loss = 0.13369885222478348, down adj mae = 0.13911403851075607, up adj mae = 0.1313038251616738\n"
     ]
    },
    {
     "name": "stderr",
     "output_type": "stream",
     "text": [
      "100%|██████████| 11/11 [00:13<00:00,  1.25s/it]\n"
     ]
    },
    {
     "name": "stdout",
     "output_type": "stream",
     "text": [
      "ep 57: down loss = 0.00964837758378549, up loss = 0.028655132786794144, reconst.loss = 0.13345820118080487, down adj mae = 0.13713525912978433, up adj mae = 0.13303522901101547\n"
     ]
    },
    {
     "name": "stderr",
     "output_type": "stream",
     "text": [
      "100%|██████████| 11/11 [00:13<00:00,  1.24s/it]\n"
     ]
    },
    {
     "name": "stdout",
     "output_type": "stream",
     "text": [
      "ep 58: down loss = 0.009661883539096876, up loss = 0.028491629456931896, reconst.loss = 0.13279141892086377, down adj mae = 0.13360574570569125, up adj mae = 0.13134497200900858\n"
     ]
    },
    {
     "name": "stderr",
     "output_type": "stream",
     "text": [
      "100%|██████████| 11/11 [00:13<00:00,  1.25s/it]\n"
     ]
    },
    {
     "name": "stdout",
     "output_type": "stream",
     "text": [
      "ep 59: down loss = 0.009538415396078066, up loss = 0.02830561436712742, reconst.loss = 0.13242554664611816, down adj mae = 0.13423041999340057, up adj mae = 0.13106385686180808\n"
     ]
    },
    {
     "name": "stderr",
     "output_type": "stream",
     "text": [
      "100%|██████████| 11/11 [00:13<00:00,  1.26s/it]\n"
     ]
    },
    {
     "name": "stdout",
     "output_type": "stream",
     "text": [
      "ep 60: down loss = 0.00982579571956938, up loss = 0.028790641406720333, reconst.loss = 0.13363275744698264, down adj mae = 0.13624184985052457, up adj mae = 0.13348520276221362\n"
     ]
    },
    {
     "name": "stderr",
     "output_type": "stream",
     "text": [
      "100%|██████████| 11/11 [00:13<00:00,  1.26s/it]\n"
     ]
    },
    {
     "name": "stdout",
     "output_type": "stream",
     "text": [
      "ep 61: down loss = 0.01015056771310893, up loss = 0.02799485759301619, reconst.loss = 0.13281972299922595, down adj mae = 0.13479988683353772, up adj mae = 0.1321076683022759\n"
     ]
    },
    {
     "name": "stderr",
     "output_type": "stream",
     "text": [
      "100%|██████████| 11/11 [00:13<00:00,  1.24s/it]\n"
     ]
    },
    {
     "name": "stdout",
     "output_type": "stream",
     "text": [
      "ep 62: down loss = 0.009974731809713623, up loss = 0.027913693169301205, reconst.loss = 0.13182925974780862, down adj mae = 0.137145611372861, up adj mae = 0.13206829875707626\n"
     ]
    },
    {
     "name": "stderr",
     "output_type": "stream",
     "text": [
      "100%|██████████| 11/11 [00:13<00:00,  1.22s/it]\n"
     ]
    },
    {
     "name": "stdout",
     "output_type": "stream",
     "text": [
      "ep 63: down loss = 0.009707615880126303, up loss = 0.028098901903087444, reconst.loss = 0.13231145387346094, down adj mae = 0.13291517170992764, up adj mae = 0.13136822391640057\n"
     ]
    },
    {
     "name": "stderr",
     "output_type": "stream",
     "text": [
      "100%|██████████| 11/11 [00:13<00:00,  1.24s/it]\n"
     ]
    },
    {
     "name": "stdout",
     "output_type": "stream",
     "text": [
      "ep 64: down loss = 0.009750525721094826, up loss = 0.02768016623502428, reconst.loss = 0.13214755058288574, down adj mae = 0.1352772279219194, up adj mae = 0.13267014920711517\n"
     ]
    },
    {
     "name": "stderr",
     "output_type": "stream",
     "text": [
      "100%|██████████| 11/11 [00:13<00:00,  1.23s/it]\n"
     ]
    },
    {
     "name": "stdout",
     "output_type": "stream",
     "text": [
      "ep 65: down loss = 0.009782187809998339, up loss = 0.027953227304599503, reconst.loss = 0.13259802487763492, down adj mae = 0.1359333951364864, up adj mae = 0.1327052576975389\n"
     ]
    },
    {
     "name": "stderr",
     "output_type": "stream",
     "text": [
      "100%|██████████| 11/11 [00:13<00:00,  1.23s/it]\n"
     ]
    },
    {
     "name": "stdout",
     "output_type": "stream",
     "text": [
      "ep 66: down loss = 0.009665135548196056, up loss = 0.02804837240414186, reconst.loss = 0.13268145715648477, down adj mae = 0.13453382118181748, up adj mae = 0.13126148689876904\n"
     ]
    },
    {
     "name": "stderr",
     "output_type": "stream",
     "text": [
      "100%|██████████| 11/11 [00:13<00:00,  1.25s/it]\n"
     ]
    },
    {
     "name": "stdout",
     "output_type": "stream",
     "text": [
      "ep 67: down loss = 0.009528343650427732, up loss = 0.027754368768496948, reconst.loss = 0.13242225484414535, down adj mae = 0.13475540686737408, up adj mae = 0.13155232234434647\n"
     ]
    },
    {
     "name": "stderr",
     "output_type": "stream",
     "text": [
      "100%|██████████| 11/11 [00:13<00:00,  1.22s/it]\n"
     ]
    },
    {
     "name": "stdout",
     "output_type": "stream",
     "text": [
      "ep 68: down loss = 0.009530839086933569, up loss = 0.02759292924946005, reconst.loss = 0.1322570795362646, down adj mae = 0.13564442910931326, up adj mae = 0.13049784370444037\n"
     ]
    },
    {
     "name": "stderr",
     "output_type": "stream",
     "text": [
      "100%|██████████| 11/11 [00:13<00:00,  1.24s/it]\n"
     ]
    },
    {
     "name": "stdout",
     "output_type": "stream",
     "text": [
      "ep 69: down loss = 0.009608429517935623, up loss = 0.027718619866804642, reconst.loss = 0.1320031244646419, down adj mae = 0.1361266239122911, up adj mae = 0.1314642388712276\n"
     ]
    },
    {
     "name": "stderr",
     "output_type": "stream",
     "text": [
      "100%|██████████| 11/11 [00:13<00:00,  1.22s/it]\n"
     ]
    },
    {
     "name": "stdout",
     "output_type": "stream",
     "text": [
      "ep 70: down loss = 0.009425070221451197, up loss = 0.027603114701130173, reconst.loss = 0.13232566009868274, down adj mae = 0.1360305195504969, up adj mae = 0.13173377513885498\n"
     ]
    },
    {
     "name": "stderr",
     "output_type": "stream",
     "text": [
      "100%|██████████| 11/11 [00:13<00:00,  1.22s/it]\n"
     ]
    },
    {
     "name": "stdout",
     "output_type": "stream",
     "text": [
      "ep 71: down loss = 0.009602031331848015, up loss = 0.02743021043186838, reconst.loss = 0.13225384124300696, down adj mae = 0.13456392830068414, up adj mae = 0.13005440004847266\n"
     ]
    },
    {
     "name": "stderr",
     "output_type": "stream",
     "text": [
      "100%|██████████| 11/11 [00:13<00:00,  1.22s/it]\n"
     ]
    },
    {
     "name": "stdout",
     "output_type": "stream",
     "text": [
      "ep 72: down loss = 0.009692435999485579, up loss = 0.02721947550096295, reconst.loss = 0.13173008439215747, down adj mae = 0.13480382480404593, up adj mae = 0.1302784965796904\n"
     ]
    },
    {
     "name": "stderr",
     "output_type": "stream",
     "text": [
      "100%|██████████| 11/11 [00:13<00:00,  1.22s/it]\n"
     ]
    },
    {
     "name": "stdout",
     "output_type": "stream",
     "text": [
      "ep 73: down loss = 0.009628766978328878, up loss = 0.02701327797364105, reconst.loss = 0.13157453794371, down adj mae = 0.1329550566998395, up adj mae = 0.12889504500410773\n"
     ]
    },
    {
     "name": "stderr",
     "output_type": "stream",
     "text": [
      "100%|██████████| 11/11 [00:13<00:00,  1.24s/it]\n"
     ]
    },
    {
     "name": "stdout",
     "output_type": "stream",
     "text": [
      "ep 74: down loss = 0.009678481824018738, up loss = 0.027047391642223705, reconst.loss = 0.13157639584758066, down adj mae = 0.13277387551286005, up adj mae = 0.12585345926609906\n"
     ]
    },
    {
     "name": "stderr",
     "output_type": "stream",
     "text": [
      "100%|██████████| 11/11 [00:13<00:00,  1.26s/it]\n"
     ]
    },
    {
     "name": "stdout",
     "output_type": "stream",
     "text": [
      "ep 75: down loss = 0.009649055755951187, up loss = 0.02726172621954571, reconst.loss = 0.13175726478750055, down adj mae = 0.13293997740203684, up adj mae = 0.1275725303725763\n"
     ]
    },
    {
     "name": "stderr",
     "output_type": "stream",
     "text": [
      "100%|██████████| 11/11 [00:13<00:00,  1.26s/it]\n"
     ]
    },
    {
     "name": "stdout",
     "output_type": "stream",
     "text": [
      "ep 76: down loss = 0.009859380566261032, up loss = 0.02741003171964125, reconst.loss = 0.13242599232630295, down adj mae = 0.13257480751384387, up adj mae = 0.12918041240085254\n"
     ]
    },
    {
     "name": "stderr",
     "output_type": "stream",
     "text": [
      "100%|██████████| 11/11 [00:13<00:00,  1.22s/it]\n"
     ]
    },
    {
     "name": "stdout",
     "output_type": "stream",
     "text": [
      "ep 77: down loss = 0.00971054175699299, up loss = 0.026946842839772053, reconst.loss = 0.13170341199094598, down adj mae = 0.1331022408875552, up adj mae = 0.12854093448682266\n"
     ]
    },
    {
     "name": "stderr",
     "output_type": "stream",
     "text": [
      "100%|██████████| 11/11 [00:13<00:00,  1.24s/it]\n"
     ]
    },
    {
     "name": "stdout",
     "output_type": "stream",
     "text": [
      "ep 78: down loss = 0.009635989977554842, up loss = 0.026733493093739857, reconst.loss = 0.13137731904333289, down adj mae = 0.13502417775717648, up adj mae = 0.12813204526901245\n"
     ]
    },
    {
     "name": "stderr",
     "output_type": "stream",
     "text": [
      "100%|██████████| 11/11 [00:13<00:00,  1.20s/it]\n"
     ]
    },
    {
     "name": "stdout",
     "output_type": "stream",
     "text": [
      "ep 79: down loss = 0.009771982885219833, up loss = 0.026741251349449158, reconst.loss = 0.131331514228474, down adj mae = 0.13668609342791818, up adj mae = 0.130613043226979\n"
     ]
    },
    {
     "name": "stderr",
     "output_type": "stream",
     "text": [
      "100%|██████████| 11/11 [00:13<00:00,  1.25s/it]\n"
     ]
    },
    {
     "name": "stdout",
     "output_type": "stream",
     "text": [
      "ep 80: down loss = 0.009650413962927732, up loss = 0.027134823189540344, reconst.loss = 0.13263599980961194, down adj mae = 0.13352929733016275, up adj mae = 0.1297942501577464\n"
     ]
    },
    {
     "name": "stderr",
     "output_type": "stream",
     "text": [
      "100%|██████████| 11/11 [00:13<00:00,  1.24s/it]\n"
     ]
    },
    {
     "name": "stdout",
     "output_type": "stream",
     "text": [
      "ep 81: down loss = 0.009790580042383888, up loss = 0.026657024229114704, reconst.loss = 0.1317782374945554, down adj mae = 0.1335758553309874, up adj mae = 0.12769446047869595\n"
     ]
    },
    {
     "name": "stderr",
     "output_type": "stream",
     "text": [
      "100%|██████████| 11/11 [00:13<00:00,  1.22s/it]\n"
     ]
    },
    {
     "name": "stdout",
     "output_type": "stream",
     "text": [
      "ep 82: down loss = 0.009713218039409681, up loss = 0.026489642533389004, reconst.loss = 0.13141342997550964, down adj mae = 0.13280819153243845, up adj mae = 0.12741967832500284\n"
     ]
    },
    {
     "name": "stderr",
     "output_type": "stream",
     "text": [
      "100%|██████████| 11/11 [00:13<00:00,  1.23s/it]\n"
     ]
    },
    {
     "name": "stdout",
     "output_type": "stream",
     "text": [
      "ep 83: down loss = 0.00975933527065949, up loss = 0.02617648768831383, reconst.loss = 0.1306588419459083, down adj mae = 0.13450384614142505, up adj mae = 0.12636074017394672\n"
     ]
    },
    {
     "name": "stderr",
     "output_type": "stream",
     "text": [
      "100%|██████████| 11/11 [00:13<00:00,  1.22s/it]\n"
     ]
    },
    {
     "name": "stdout",
     "output_type": "stream",
     "text": [
      "ep 84: down loss = 0.009792754087935795, up loss = 0.026099953800439835, reconst.loss = 0.13064428080211987, down adj mae = 0.13219923729246313, up adj mae = 0.12786949155005542\n"
     ]
    },
    {
     "name": "stderr",
     "output_type": "stream",
     "text": [
      "100%|██████████| 11/11 [00:13<00:00,  1.24s/it]\n"
     ]
    },
    {
     "name": "stdout",
     "output_type": "stream",
     "text": [
      "ep 85: down loss = 0.009971906007690863, up loss = 0.02653388458896767, reconst.loss = 0.13179109584201465, down adj mae = 0.13321165875955063, up adj mae = 0.12749192186377264\n"
     ]
    },
    {
     "name": "stderr",
     "output_type": "stream",
     "text": [
      "100%|██████████| 11/11 [00:13<00:00,  1.25s/it]\n"
     ]
    },
    {
     "name": "stdout",
     "output_type": "stream",
     "text": [
      "ep 86: down loss = 0.009791461242870851, up loss = 0.02583028714765202, reconst.loss = 0.1309174976565621, down adj mae = 0.1353411701592532, up adj mae = 0.1269301636652513\n"
     ]
    },
    {
     "name": "stderr",
     "output_type": "stream",
     "text": [
      "100%|██████████| 11/11 [00:13<00:00,  1.26s/it]\n"
     ]
    },
    {
     "name": "stdout",
     "output_type": "stream",
     "text": [
      "ep 87: down loss = 0.009890901432795958, up loss = 0.026102461090142078, reconst.loss = 0.13162051886320114, down adj mae = 0.1340469094839963, up adj mae = 0.1285069395195354\n"
     ]
    },
    {
     "name": "stderr",
     "output_type": "stream",
     "text": [
      "100%|██████████| 11/11 [00:13<00:00,  1.22s/it]\n"
     ]
    },
    {
     "name": "stdout",
     "output_type": "stream",
     "text": [
      "ep 88: down loss = 0.009797704914076761, up loss = 0.025683022358200767, reconst.loss = 0.13081299581310965, down adj mae = 0.13370405002073807, up adj mae = 0.12581338056109168\n"
     ]
    },
    {
     "name": "stderr",
     "output_type": "stream",
     "text": [
      "100%|██████████| 11/11 [00:13<00:00,  1.23s/it]\n"
     ]
    },
    {
     "name": "stdout",
     "output_type": "stream",
     "text": [
      "ep 89: down loss = 0.009836177934299816, up loss = 0.02577277950265191, reconst.loss = 0.1308114786039699, down adj mae = 0.13704841990362515, up adj mae = 0.12793902985074304\n"
     ]
    },
    {
     "name": "stderr",
     "output_type": "stream",
     "text": [
      "100%|██████████| 11/11 [00:13<00:00,  1.25s/it]\n"
     ]
    },
    {
     "name": "stdout",
     "output_type": "stream",
     "text": [
      "ep 90: down loss = 0.009815644049509005, up loss = 0.02551288614896211, reconst.loss = 0.13054802742871371, down adj mae = 0.13224796612154355, up adj mae = 0.12453585118055344\n"
     ]
    },
    {
     "name": "stderr",
     "output_type": "stream",
     "text": [
      "100%|██████████| 11/11 [00:13<00:00,  1.22s/it]\n"
     ]
    },
    {
     "name": "stdout",
     "output_type": "stream",
     "text": [
      "ep 91: down loss = 0.009982252832163464, up loss = 0.025702693584290417, reconst.loss = 0.13133360648697073, down adj mae = 0.1345741247588938, up adj mae = 0.125324892049486\n"
     ]
    },
    {
     "name": "stderr",
     "output_type": "stream",
     "text": [
      "100%|██████████| 11/11 [00:13<00:00,  1.24s/it]\n"
     ]
    },
    {
     "name": "stdout",
     "output_type": "stream",
     "text": [
      "ep 92: down loss = 0.009900096888569269, up loss = 0.025596498427065937, reconst.loss = 0.13121041520075363, down adj mae = 0.13351305370981043, up adj mae = 0.12530085308985275\n"
     ]
    },
    {
     "name": "stderr",
     "output_type": "stream",
     "text": [
      "100%|██████████| 11/11 [00:13<00:00,  1.22s/it]\n"
     ]
    },
    {
     "name": "stdout",
     "output_type": "stream",
     "text": [
      "ep 93: down loss = 0.010031429881399328, up loss = 0.025613856755874374, reconst.loss = 0.13136501678011633, down adj mae = 0.13485691357742657, up adj mae = 0.12528604065830057\n"
     ]
    },
    {
     "name": "stderr",
     "output_type": "stream",
     "text": [
      "100%|██████████| 11/11 [00:13<00:00,  1.22s/it]\n"
     ]
    },
    {
     "name": "stdout",
     "output_type": "stream",
     "text": [
      "ep 94: down loss = 0.009960950521582907, up loss = 0.025606759908524426, reconst.loss = 0.1319579089229757, down adj mae = 0.1337481371381066, up adj mae = 0.126150444149971\n"
     ]
    },
    {
     "name": "stderr",
     "output_type": "stream",
     "text": [
      "100%|██████████| 11/11 [00:13<00:00,  1.25s/it]\n"
     ]
    },
    {
     "name": "stdout",
     "output_type": "stream",
     "text": [
      "ep 95: down loss = 0.009867908179082653, up loss = 0.02512328936295076, reconst.loss = 0.1302894949913025, down adj mae = 0.13045303388075394, up adj mae = 0.12307115779681639\n"
     ]
    },
    {
     "name": "stderr",
     "output_type": "stream",
     "text": [
      "100%|██████████| 11/11 [00:13<00:00,  1.21s/it]\n"
     ]
    },
    {
     "name": "stdout",
     "output_type": "stream",
     "text": [
      "ep 96: down loss = 0.009905045090073889, up loss = 0.02505085989832878, reconst.loss = 0.13053303550590167, down adj mae = 0.13537335260347885, up adj mae = 0.12473987923427061\n"
     ]
    },
    {
     "name": "stderr",
     "output_type": "stream",
     "text": [
      "100%|██████████| 11/11 [00:13<00:00,  1.23s/it]\n"
     ]
    },
    {
     "name": "stdout",
     "output_type": "stream",
     "text": [
      "ep 97: down loss = 0.009875065477734262, up loss = 0.02510806630280885, reconst.loss = 0.13067816536534915, down adj mae = 0.13240291042761368, up adj mae = 0.12345565652305429\n"
     ]
    },
    {
     "name": "stderr",
     "output_type": "stream",
     "text": [
      "100%|██████████| 11/11 [00:13<00:00,  1.23s/it]\n"
     ]
    },
    {
     "name": "stdout",
     "output_type": "stream",
     "text": [
      "ep 98: down loss = 0.009895132600583813, up loss = 0.025218260389837353, reconst.loss = 0.13084432956847278, down adj mae = 0.13644940947944467, up adj mae = 0.12716067175973544\n"
     ]
    },
    {
     "name": "stderr",
     "output_type": "stream",
     "text": [
      "100%|██████████| 11/11 [00:13<00:00,  1.26s/it]\n"
     ]
    },
    {
     "name": "stdout",
     "output_type": "stream",
     "text": [
      "ep 99: down loss = 0.009926898150958798, up loss = 0.024804380976340988, reconst.loss = 0.13050601292740216, down adj mae = 0.13296248425136914, up adj mae = 0.12283065711910074\n"
     ]
    },
    {
     "name": "stderr",
     "output_type": "stream",
     "text": [
      "100%|██████████| 11/11 [00:13<00:00,  1.26s/it]\n"
     ]
    },
    {
     "name": "stdout",
     "output_type": "stream",
     "text": [
      "ep 100: down loss = 0.009816870516674086, up loss = 0.024633313783190468, reconst.loss = 0.12974826517430219, down adj mae = 0.13067340579899875, up adj mae = 0.12163991074670445\n"
     ]
    },
    {
     "name": "stderr",
     "output_type": "stream",
     "text": [
      "100%|██████████| 11/11 [00:13<00:00,  1.24s/it]\n"
     ]
    },
    {
     "name": "stdout",
     "output_type": "stream",
     "text": [
      "ep 101: down loss = 0.009929598224433985, up loss = 0.02511359988288446, reconst.loss = 0.13105423545295541, down adj mae = 0.1332412978464907, up adj mae = 0.12335611473430287\n"
     ]
    },
    {
     "name": "stderr",
     "output_type": "stream",
     "text": [
      "100%|██████████| 11/11 [00:13<00:00,  1.22s/it]\n"
     ]
    },
    {
     "name": "stdout",
     "output_type": "stream",
     "text": [
      "ep 102: down loss = 0.009910524907437239, up loss = 0.024774475192481823, reconst.loss = 0.13038160651922226, down adj mae = 0.13390280306339264, up adj mae = 0.12384487417611209\n"
     ]
    },
    {
     "name": "stderr",
     "output_type": "stream",
     "text": [
      "100%|██████████| 11/11 [00:13<00:00,  1.24s/it]\n"
     ]
    },
    {
     "name": "stdout",
     "output_type": "stream",
     "text": [
      "ep 103: down loss = 0.00995447901500897, up loss = 0.024877931414680046, reconst.loss = 0.13104674355550247, down adj mae = 0.1337976184758273, up adj mae = 0.12344396182081917\n"
     ]
    },
    {
     "name": "stderr",
     "output_type": "stream",
     "text": [
      "100%|██████████| 11/11 [00:13<00:00,  1.24s/it]\n"
     ]
    },
    {
     "name": "stdout",
     "output_type": "stream",
     "text": [
      "ep 104: down loss = 0.00998392142355442, up loss = 0.024744794619354336, reconst.loss = 0.13083136623555963, down adj mae = 0.13348353925076398, up adj mae = 0.122044100002809\n"
     ]
    },
    {
     "name": "stderr",
     "output_type": "stream",
     "text": [
      "100%|██████████| 11/11 [00:13<00:00,  1.24s/it]\n"
     ]
    },
    {
     "name": "stdout",
     "output_type": "stream",
     "text": [
      "ep 105: down loss = 0.010090213861655106, up loss = 0.024391320449384777, reconst.loss = 0.13018291646784003, down adj mae = 0.13242792134935205, up adj mae = 0.12143946913155643\n"
     ]
    },
    {
     "name": "stderr",
     "output_type": "stream",
     "text": [
      "100%|██████████| 11/11 [00:13<00:00,  1.22s/it]\n"
     ]
    },
    {
     "name": "stdout",
     "output_type": "stream",
     "text": [
      "ep 106: down loss = 0.010108212347735058, up loss = 0.02473169616000219, reconst.loss = 0.13076910986141724, down adj mae = 0.1309076283465732, up adj mae = 0.12109906361861662\n"
     ]
    },
    {
     "name": "stderr",
     "output_type": "stream",
     "text": [
      "100%|██████████| 11/11 [00:13<00:00,  1.26s/it]\n"
     ]
    },
    {
     "name": "stdout",
     "output_type": "stream",
     "text": [
      "ep 107: down loss = 0.010285454632883722, up loss = 0.025077929212288422, reconst.loss = 0.13143980909477582, down adj mae = 0.13703726096586746, up adj mae = 0.12490352446382696\n"
     ]
    },
    {
     "name": "stderr",
     "output_type": "stream",
     "text": [
      "100%|██████████| 11/11 [00:13<00:00,  1.24s/it]\n"
     ]
    },
    {
     "name": "stdout",
     "output_type": "stream",
     "text": [
      "ep 108: down loss = 0.010182898576286707, up loss = 0.024603708223863083, reconst.loss = 0.13052219152450562, down adj mae = 0.133233135396784, up adj mae = 0.11995101245966824\n"
     ]
    },
    {
     "name": "stderr",
     "output_type": "stream",
     "text": [
      "100%|██████████| 11/11 [00:13<00:00,  1.24s/it]\n"
     ]
    },
    {
     "name": "stdout",
     "output_type": "stream",
     "text": [
      "ep 109: down loss = 0.010103561407463118, up loss = 0.02430510859597813, reconst.loss = 0.12991721318526703, down adj mae = 0.13049485331231897, up adj mae = 0.11874171143228357\n"
     ]
    },
    {
     "name": "stderr",
     "output_type": "stream",
     "text": [
      "100%|██████████| 11/11 [00:13<00:00,  1.23s/it]\n"
     ]
    },
    {
     "name": "stdout",
     "output_type": "stream",
     "text": [
      "ep 110: down loss = 0.010190674696456303, up loss = 0.02424211563034491, reconst.loss = 0.13008833608844064, down adj mae = 0.13187784295190463, up adj mae = 0.12040287933566353\n"
     ]
    },
    {
     "name": "stderr",
     "output_type": "stream",
     "text": [
      "100%|██████████| 11/11 [00:13<00:00,  1.21s/it]\n"
     ]
    },
    {
     "name": "stdout",
     "output_type": "stream",
     "text": [
      "ep 111: down loss = 0.010089741511778398, up loss = 0.024148723449219357, reconst.loss = 0.1297998990524899, down adj mae = 0.13417600366202267, up adj mae = 0.12156910449266434\n"
     ]
    },
    {
     "name": "stderr",
     "output_type": "stream",
     "text": [
      "100%|██████████| 11/11 [00:13<00:00,  1.25s/it]\n"
     ]
    },
    {
     "name": "stdout",
     "output_type": "stream",
     "text": [
      "ep 112: down loss = 0.010335460305213928, up loss = 0.024614020843397488, reconst.loss = 0.1313839934088967, down adj mae = 0.13528720086271112, up adj mae = 0.12260988219217821\n"
     ]
    },
    {
     "name": "stderr",
     "output_type": "stream",
     "text": [
      "100%|██████████| 11/11 [00:13<00:00,  1.24s/it]\n"
     ]
    },
    {
     "name": "stdout",
     "output_type": "stream",
     "text": [
      "ep 113: down loss = 0.010197358713908629, up loss = 0.02384230816228823, reconst.loss = 0.12997486713257703, down adj mae = 0.13302664932879535, up adj mae = 0.11973320083184676\n"
     ]
    },
    {
     "name": "stderr",
     "output_type": "stream",
     "text": [
      "100%|██████████| 11/11 [00:13<00:00,  1.22s/it]\n"
     ]
    },
    {
     "name": "stdout",
     "output_type": "stream",
     "text": [
      "ep 114: down loss = 0.010354611175981436, up loss = 0.023900515992533077, reconst.loss = 0.13030634143135764, down adj mae = 0.13264411213723096, up adj mae = 0.11965958435427058\n"
     ]
    },
    {
     "name": "stderr",
     "output_type": "stream",
     "text": [
      "100%|██████████| 11/11 [00:13<00:00,  1.21s/it]\n"
     ]
    },
    {
     "name": "stdout",
     "output_type": "stream",
     "text": [
      "ep 115: down loss = 0.010207145136188377, up loss = 0.023944009095430374, reconst.loss = 0.13036210157654501, down adj mae = 0.1303165243430571, up adj mae = 0.11840555613691156\n"
     ]
    },
    {
     "name": "stderr",
     "output_type": "stream",
     "text": [
      "100%|██████████| 11/11 [00:13<00:00,  1.23s/it]\n"
     ]
    },
    {
     "name": "stdout",
     "output_type": "stream",
     "text": [
      "ep 116: down loss = 0.010276238942010836, up loss = 0.02390566806901585, reconst.loss = 0.1304529905319214, down adj mae = 0.1338070515881885, up adj mae = 0.12115522880445827\n"
     ]
    },
    {
     "name": "stderr",
     "output_type": "stream",
     "text": [
      "100%|██████████| 11/11 [00:13<00:00,  1.21s/it]\n"
     ]
    },
    {
     "name": "stdout",
     "output_type": "stream",
     "text": [
      "ep 117: down loss = 0.010446474633433601, up loss = 0.023649475621906193, reconst.loss = 0.12980414994738318, down adj mae = 0.13267944075844504, up adj mae = 0.12106226791035045\n"
     ]
    },
    {
     "name": "stderr",
     "output_type": "stream",
     "text": [
      "100%|██████████| 11/11 [00:13<00:00,  1.23s/it]\n"
     ]
    },
    {
     "name": "stdout",
     "output_type": "stream",
     "text": [
      "ep 118: down loss = 0.010426747358658096, up loss = 0.024006071415814487, reconst.loss = 0.13059401444413446, down adj mae = 0.1309757950631055, up adj mae = 0.11793358420783823\n"
     ]
    },
    {
     "name": "stderr",
     "output_type": "stream",
     "text": [
      "100%|██████████| 11/11 [00:13<00:00,  1.24s/it]\n"
     ]
    },
    {
     "name": "stdout",
     "output_type": "stream",
     "text": [
      "ep 119: down loss = 0.010417150248858061, up loss = 0.02361248890784654, reconst.loss = 0.1301394213329662, down adj mae = 0.13387861170551993, up adj mae = 0.1210183860226111\n"
     ]
    },
    {
     "name": "stderr",
     "output_type": "stream",
     "text": [
      "100%|██████████| 11/11 [00:13<00:00,  1.21s/it]\n"
     ]
    },
    {
     "name": "stdout",
     "output_type": "stream",
     "text": [
      "ep 120: down loss = 0.010479326698590408, up loss = 0.023555391214110634, reconst.loss = 0.1303908716548573, down adj mae = 0.1337461986325004, up adj mae = 0.12076744843613017\n"
     ]
    },
    {
     "name": "stderr",
     "output_type": "stream",
     "text": [
      "100%|██████████| 11/11 [00:13<00:00,  1.22s/it]\n"
     ]
    },
    {
     "name": "stdout",
     "output_type": "stream",
     "text": [
      "ep 121: down loss = 0.010488736612552946, up loss = 0.02350559322671457, reconst.loss = 0.1301356784322045, down adj mae = 0.13280578634955667, up adj mae = 0.1187843768434091\n"
     ]
    },
    {
     "name": "stderr",
     "output_type": "stream",
     "text": [
      "100%|██████████| 11/11 [00:13<00:00,  1.24s/it]\n"
     ]
    },
    {
     "name": "stdout",
     "output_type": "stream",
     "text": [
      "ep 122: down loss = 0.01052809718318961, up loss = 0.02339232594452121, reconst.loss = 0.13016052476384424, down adj mae = 0.13167145983739334, up adj mae = 0.11736539073965767\n"
     ]
    },
    {
     "name": "stderr",
     "output_type": "stream",
     "text": [
      "100%|██████████| 11/11 [00:13<00:00,  1.24s/it]\n"
     ]
    },
    {
     "name": "stdout",
     "output_type": "stream",
     "text": [
      "ep 123: down loss = 0.01056587238880721, up loss = 0.02338360995054245, reconst.loss = 0.13012706217440692, down adj mae = 0.13366948880932547, up adj mae = 0.1178904189304872\n"
     ]
    },
    {
     "name": "stderr",
     "output_type": "stream",
     "text": [
      "100%|██████████| 11/11 [00:13<00:00,  1.25s/it]\n"
     ]
    },
    {
     "name": "stdout",
     "output_type": "stream",
     "text": [
      "ep 124: down loss = 0.010605332187630913, up loss = 0.023356242782690308, reconst.loss = 0.1300563785162839, down adj mae = 0.13120919330553574, up adj mae = 0.1166908937421712\n"
     ]
    },
    {
     "name": "stderr",
     "output_type": "stream",
     "text": [
      "100%|██████████| 11/11 [00:13<00:00,  1.19s/it]\n"
     ]
    },
    {
     "name": "stdout",
     "output_type": "stream",
     "text": [
      "ep 125: down loss = 0.01062816787849773, up loss = 0.023316275836391884, reconst.loss = 0.13013663346117194, down adj mae = 0.13188799267465418, up adj mae = 0.11733166873455048\n"
     ]
    },
    {
     "name": "stderr",
     "output_type": "stream",
     "text": [
      "100%|██████████| 11/11 [00:13<00:00,  1.24s/it]\n"
     ]
    },
    {
     "name": "stdout",
     "output_type": "stream",
     "text": [
      "ep 126: down loss = 0.010642156343568455, up loss = 0.023166276514530182, reconst.loss = 0.12994737516749988, down adj mae = 0.1331094286658547, up adj mae = 0.11743213778192346\n"
     ]
    },
    {
     "name": "stderr",
     "output_type": "stream",
     "text": [
      "100%|██████████| 11/11 [00:13<00:00,  1.24s/it]\n"
     ]
    },
    {
     "name": "stdout",
     "output_type": "stream",
     "text": [
      "ep 127: down loss = 0.010813484053042803, up loss = 0.023078275675123387, reconst.loss = 0.129841955547983, down adj mae = 0.13209892267530615, up adj mae = 0.11748947745019739\n"
     ]
    },
    {
     "name": "stderr",
     "output_type": "stream",
     "text": [
      "100%|██████████| 11/11 [00:13<00:00,  1.23s/it]\n"
     ]
    },
    {
     "name": "stdout",
     "output_type": "stream",
     "text": [
      "ep 128: down loss = 0.010851923291656103, up loss = 0.023174633864652027, reconst.loss = 0.13027933646332135, down adj mae = 0.13319485160437497, up adj mae = 0.11805986816232855\n"
     ]
    },
    {
     "name": "stderr",
     "output_type": "stream",
     "text": [
      "100%|██████████| 11/11 [00:13<00:00,  1.21s/it]\n"
     ]
    },
    {
     "name": "stdout",
     "output_type": "stream",
     "text": [
      "ep 129: down loss = 0.010900762863457203, up loss = 0.022978752682154827, reconst.loss = 0.1295758600939404, down adj mae = 0.1319082189689983, up adj mae = 0.1162147664211013\n"
     ]
    },
    {
     "name": "stderr",
     "output_type": "stream",
     "text": [
      "100%|██████████| 11/11 [00:13<00:00,  1.25s/it]\n"
     ]
    },
    {
     "name": "stdout",
     "output_type": "stream",
     "text": [
      "ep 130: down loss = 0.010907663963735104, up loss = 0.02303942817855965, reconst.loss = 0.13044023513793945, down adj mae = 0.13393745639107443, up adj mae = 0.11830865930427205\n"
     ]
    },
    {
     "name": "stderr",
     "output_type": "stream",
     "text": [
      "100%|██████████| 11/11 [00:13<00:00,  1.22s/it]\n"
     ]
    },
    {
     "name": "stdout",
     "output_type": "stream",
     "text": [
      "ep 131: down loss = 0.01088890941305594, up loss = 0.02291371961208907, reconst.loss = 0.13007360696792603, down adj mae = 0.13266999409957367, up adj mae = 0.11620025878602808\n"
     ]
    },
    {
     "name": "stderr",
     "output_type": "stream",
     "text": [
      "100%|██████████| 11/11 [00:13<00:00,  1.21s/it]\n"
     ]
    },
    {
     "name": "stdout",
     "output_type": "stream",
     "text": [
      "ep 132: down loss = 0.010961646044796164, up loss = 0.022865041921084576, reconst.loss = 0.13034827600825916, down adj mae = 0.1325873393904079, up adj mae = 0.1158325888893821\n"
     ]
    },
    {
     "name": "stderr",
     "output_type": "stream",
     "text": [
      "100%|██████████| 11/11 [00:13<00:00,  1.22s/it]\n"
     ]
    },
    {
     "name": "stdout",
     "output_type": "stream",
     "text": [
      "ep 133: down loss = 0.010963212444700977, up loss = 0.022515546530485153, reconst.loss = 0.12940202924338254, down adj mae = 0.13009813224727457, up adj mae = 0.1137488613074476\n"
     ]
    },
    {
     "name": "stderr",
     "output_type": "stream",
     "text": [
      "100%|██████████| 11/11 [00:13<00:00,  1.24s/it]\n"
     ]
    },
    {
     "name": "stdout",
     "output_type": "stream",
     "text": [
      "ep 134: down loss = 0.01110342534428293, up loss = 0.022843044251203537, reconst.loss = 0.13054591010917316, down adj mae = 0.13330549949949438, up adj mae = 0.11549380760301244\n"
     ]
    },
    {
     "name": "stderr",
     "output_type": "stream",
     "text": [
      "100%|██████████| 11/11 [00:13<00:00,  1.22s/it]\n"
     ]
    },
    {
     "name": "stdout",
     "output_type": "stream",
     "text": [
      "ep 135: down loss = 0.011092917401004921, up loss = 0.022617465393109756, reconst.loss = 0.13021701709790665, down adj mae = 0.13130594112656332, up adj mae = 0.11442444405772469\n"
     ]
    },
    {
     "name": "stderr",
     "output_type": "stream",
     "text": [
      "100%|██████████| 11/11 [00:13<00:00,  1.24s/it]\n"
     ]
    },
    {
     "name": "stdout",
     "output_type": "stream",
     "text": [
      "ep 136: down loss = 0.011098201979290356, up loss = 0.02232714742422104, reconst.loss = 0.13011834973638708, down adj mae = 0.1340578239072453, up adj mae = 0.11561400172385303\n"
     ]
    },
    {
     "name": "stderr",
     "output_type": "stream",
     "text": [
      "100%|██████████| 11/11 [00:13<00:00,  1.21s/it]\n"
     ]
    },
    {
     "name": "stdout",
     "output_type": "stream",
     "text": [
      "ep 137: down loss = 0.011115882376378233, up loss = 0.02238534763455391, reconst.loss = 0.13014664907347073, down adj mae = 0.13312207162380219, up adj mae = 0.11486218598755923\n"
     ]
    },
    {
     "name": "stderr",
     "output_type": "stream",
     "text": [
      "100%|██████████| 11/11 [00:13<00:00,  1.20s/it]\n"
     ]
    },
    {
     "name": "stdout",
     "output_type": "stream",
     "text": [
      "ep 138: down loss = 0.011102968488227238, up loss = 0.022195502438328484, reconst.loss = 0.12977950004014102, down adj mae = 0.13361831957643683, up adj mae = 0.1147108247334307\n"
     ]
    },
    {
     "name": "stderr",
     "output_type": "stream",
     "text": [
      "100%|██████████| 11/11 [00:13<00:00,  1.24s/it]\n"
     ]
    },
    {
     "name": "stdout",
     "output_type": "stream",
     "text": [
      "ep 139: down loss = 0.011149281551214781, up loss = 0.02224406989460642, reconst.loss = 0.12998306954448874, down adj mae = 0.13172012161124835, up adj mae = 0.11570969359441237\n"
     ]
    },
    {
     "name": "stderr",
     "output_type": "stream",
     "text": [
      "100%|██████████| 11/11 [00:13<00:00,  1.26s/it]\n"
     ]
    },
    {
     "name": "stdout",
     "output_type": "stream",
     "text": [
      "ep 140: down loss = 0.011116505007852207, up loss = 0.022025433961640705, reconst.loss = 0.12975181503729386, down adj mae = 0.13288724016059528, up adj mae = 0.11386178433895111\n"
     ]
    },
    {
     "name": "stderr",
     "output_type": "stream",
     "text": [
      "100%|██████████| 11/11 [00:13<00:00,  1.22s/it]\n"
     ]
    },
    {
     "name": "stdout",
     "output_type": "stream",
     "text": [
      "ep 141: down loss = 0.011191802607341246, up loss = 0.022012645717371594, reconst.loss = 0.12987854805859653, down adj mae = 0.13211774758317255, up adj mae = 0.11504696174101396\n"
     ]
    },
    {
     "name": "stderr",
     "output_type": "stream",
     "text": [
      "100%|██████████| 11/11 [00:13<00:00,  1.20s/it]\n"
     ]
    },
    {
     "name": "stdout",
     "output_type": "stream",
     "text": [
      "ep 142: down loss = 0.011142357252538204, up loss = 0.02177619713951241, reconst.loss = 0.129408251832832, down adj mae = 0.13128993186083707, up adj mae = 0.11391308361833746\n"
     ]
    },
    {
     "name": "stderr",
     "output_type": "stream",
     "text": [
      "100%|██████████| 11/11 [00:13<00:00,  1.22s/it]\n"
     ]
    },
    {
     "name": "stdout",
     "output_type": "stream",
     "text": [
      "ep 143: down loss = 0.011304627087983217, up loss = 0.022105600176887077, reconst.loss = 0.13017712194811215, down adj mae = 0.13340807096524673, up adj mae = 0.11346092820167542\n"
     ]
    },
    {
     "name": "stderr",
     "output_type": "stream",
     "text": [
      "100%|██████████| 11/11 [00:13<00:00,  1.27s/it]\n"
     ]
    },
    {
     "name": "stdout",
     "output_type": "stream",
     "text": [
      "ep 144: down loss = 0.011318683454936201, up loss = 0.02185972153463147, reconst.loss = 0.13031049072742462, down adj mae = 0.13188424029133536, up adj mae = 0.11377755755727942\n"
     ]
    },
    {
     "name": "stderr",
     "output_type": "stream",
     "text": [
      "100%|██████████| 11/11 [00:13<00:00,  1.24s/it]\n"
     ]
    },
    {
     "name": "stdout",
     "output_type": "stream",
     "text": [
      "ep 145: down loss = 0.011333593929355795, up loss = 0.021818317811597477, reconst.loss = 0.13016136329282413, down adj mae = 0.13132520765066147, up adj mae = 0.11242111162705855\n"
     ]
    },
    {
     "name": "stderr",
     "output_type": "stream",
     "text": [
      "100%|██████████| 11/11 [00:13<00:00,  1.21s/it]\n"
     ]
    },
    {
     "name": "stdout",
     "output_type": "stream",
     "text": [
      "ep 146: down loss = 0.011468680321492931, up loss = 0.021957705982706764, reconst.loss = 0.13028796762228012, down adj mae = 0.1347686289386316, up adj mae = 0.11352265829389746\n"
     ]
    },
    {
     "name": "stderr",
     "output_type": "stream",
     "text": [
      "100%|██████████| 11/11 [00:13<00:00,  1.23s/it]\n"
     ]
    },
    {
     "name": "stdout",
     "output_type": "stream",
     "text": [
      "ep 147: down loss = 0.011472332460636442, up loss = 0.02188685400919481, reconst.loss = 0.13086885958909988, down adj mae = 0.135807833888314, up adj mae = 0.11436477980830452\n"
     ]
    },
    {
     "name": "stderr",
     "output_type": "stream",
     "text": [
      "100%|██████████| 11/11 [00:13<00:00,  1.24s/it]\n"
     ]
    },
    {
     "name": "stdout",
     "output_type": "stream",
     "text": [
      "ep 148: down loss = 0.01136978097598661, up loss = 0.021479161456227303, reconst.loss = 0.12957784872163425, down adj mae = 0.13156936114484613, up adj mae = 0.11281862448562276\n"
     ]
    },
    {
     "name": "stderr",
     "output_type": "stream",
     "text": [
      "100%|██████████| 11/11 [00:13<00:00,  1.23s/it]\n"
     ]
    },
    {
     "name": "stdout",
     "output_type": "stream",
     "text": [
      "ep 149: down loss = 0.011484017764980143, up loss = 0.02125222710045901, reconst.loss = 0.1295464878732508, down adj mae = 0.1321697092869065, up adj mae = 0.11120775138789957\n"
     ]
    },
    {
     "name": "stderr",
     "output_type": "stream",
     "text": [
      "100%|██████████| 11/11 [00:13<00:00,  1.21s/it]\n"
     ]
    },
    {
     "name": "stdout",
     "output_type": "stream",
     "text": [
      "ep 150: down loss = 0.011512004008347338, up loss = 0.021651684899221767, reconst.loss = 0.13064648075537247, down adj mae = 0.13146331025795502, up adj mae = 0.11255626041780818\n"
     ]
    },
    {
     "name": "stderr",
     "output_type": "stream",
     "text": [
      "100%|██████████| 11/11 [00:13<00:00,  1.25s/it]\n"
     ]
    },
    {
     "name": "stdout",
     "output_type": "stream",
     "text": [
      "ep 151: down loss = 0.011567072773521597, up loss = 0.02158055573024533, reconst.loss = 0.1301620528101921, down adj mae = 0.13269558413462204, up adj mae = 0.112516426904635\n"
     ]
    },
    {
     "name": "stderr",
     "output_type": "stream",
     "text": [
      "100%|██████████| 11/11 [00:13<00:00,  1.21s/it]\n"
     ]
    },
    {
     "name": "stdout",
     "output_type": "stream",
     "text": [
      "ep 152: down loss = 0.011497097005220976, up loss = 0.021346693858504295, reconst.loss = 0.13004772703755985, down adj mae = 0.13124236193570224, up adj mae = 0.11095664582469246\n"
     ]
    },
    {
     "name": "stderr",
     "output_type": "stream",
     "text": [
      "100%|██████████| 11/11 [00:13<00:00,  1.25s/it]\n"
     ]
    },
    {
     "name": "stdout",
     "output_type": "stream",
     "text": [
      "ep 153: down loss = 0.011458871039477262, up loss = 0.021196158264170994, reconst.loss = 0.12987875938415527, down adj mae = 0.1324843235991218, up adj mae = 0.111142866990783\n"
     ]
    },
    {
     "name": "stderr",
     "output_type": "stream",
     "text": [
      "100%|██████████| 11/11 [00:13<00:00,  1.26s/it]\n"
     ]
    },
    {
     "name": "stdout",
     "output_type": "stream",
     "text": [
      "ep 154: down loss = 0.011534668928520246, up loss = 0.021375610408457844, reconst.loss = 0.1304546811363914, down adj mae = 0.13198077272285114, up adj mae = 0.1117219552397728\n"
     ]
    },
    {
     "name": "stderr",
     "output_type": "stream",
     "text": [
      "100%|██████████| 11/11 [00:13<00:00,  1.24s/it]\n"
     ]
    },
    {
     "name": "stdout",
     "output_type": "stream",
     "text": [
      "ep 155: down loss = 0.011453297920525074, up loss = 0.021204374561255627, reconst.loss = 0.12989389219067313, down adj mae = 0.13243671777573499, up adj mae = 0.11172624745152214\n"
     ]
    },
    {
     "name": "stderr",
     "output_type": "stream",
     "text": [
      "100%|██████████| 11/11 [00:13<00:00,  1.20s/it]\n"
     ]
    },
    {
     "name": "stdout",
     "output_type": "stream",
     "text": [
      "ep 156: down loss = 0.011648430319672281, up loss = 0.020824753933332184, reconst.loss = 0.12973727421327072, down adj mae = 0.13382235846736215, up adj mae = 0.11201401190324263\n"
     ]
    },
    {
     "name": "stderr",
     "output_type": "stream",
     "text": [
      "100%|██████████| 11/11 [00:13<00:00,  1.25s/it]\n"
     ]
    },
    {
     "name": "stdout",
     "output_type": "stream",
     "text": [
      "ep 157: down loss = 0.011703844859518787, up loss = 0.02125656469301744, reconst.loss = 0.1308042278343981, down adj mae = 0.13052190230651337, up adj mae = 0.11324491825970737\n"
     ]
    },
    {
     "name": "stderr",
     "output_type": "stream",
     "text": [
      "100%|██████████| 11/11 [00:13<00:00,  1.23s/it]\n"
     ]
    },
    {
     "name": "stdout",
     "output_type": "stream",
     "text": [
      "ep 158: down loss = 0.011641071516681801, up loss = 0.021126061169938606, reconst.loss = 0.13014004040848126, down adj mae = 0.13034619323231958, up adj mae = 0.1103461974046447\n"
     ]
    },
    {
     "name": "stderr",
     "output_type": "stream",
     "text": [
      "100%|██████████| 11/11 [00:13<00:00,  1.23s/it]\n"
     ]
    },
    {
     "name": "stdout",
     "output_type": "stream",
     "text": [
      "ep 159: down loss = 0.011633120223202488, up loss = 0.020602030340920795, reconst.loss = 0.12913475998423316, down adj mae = 0.12989637729796497, up adj mae = 0.10899448597973044\n"
     ]
    },
    {
     "name": "stderr",
     "output_type": "stream",
     "text": [
      "100%|██████████| 11/11 [00:13<00:00,  1.26s/it]\n"
     ]
    },
    {
     "name": "stdout",
     "output_type": "stream",
     "text": [
      "ep 160: down loss = 0.011726001108234579, up loss = 0.020714957775040108, reconst.loss = 0.12994589724323966, down adj mae = 0.13080342994494873, up adj mae = 0.11010372232307088\n"
     ]
    },
    {
     "name": "stderr",
     "output_type": "stream",
     "text": [
      "100%|██████████| 11/11 [00:13<00:00,  1.24s/it]\n"
     ]
    },
    {
     "name": "stdout",
     "output_type": "stream",
     "text": [
      "ep 161: down loss = 0.011596708897162567, up loss = 0.020739794116128574, reconst.loss = 0.1293192600662058, down adj mae = 0.13195147771726956, up adj mae = 0.10979511588811874\n"
     ]
    },
    {
     "name": "stderr",
     "output_type": "stream",
     "text": [
      "100%|██████████| 11/11 [00:13<00:00,  1.23s/it]\n"
     ]
    },
    {
     "name": "stdout",
     "output_type": "stream",
     "text": [
      "ep 162: down loss = 0.011768052777783438, up loss = 0.02044600908729163, reconst.loss = 0.12964942848140543, down adj mae = 0.1295621320605278, up adj mae = 0.10876611484722658\n"
     ]
    },
    {
     "name": "stderr",
     "output_type": "stream",
     "text": [
      "100%|██████████| 11/11 [00:13<00:00,  1.26s/it]\n"
     ]
    },
    {
     "name": "stdout",
     "output_type": "stream",
     "text": [
      "ep 163: down loss = 0.011732201599939302, up loss = 0.020494309507987717, reconst.loss = 0.12938513471321625, down adj mae = 0.13263287327506326, up adj mae = 0.10953058911995454\n"
     ]
    },
    {
     "name": "stderr",
     "output_type": "stream",
     "text": [
      "100%|██████████| 11/11 [00:13<00:00,  1.20s/it]\n"
     ]
    },
    {
     "name": "stdout",
     "output_type": "stream",
     "text": [
      "ep 164: down loss = 0.01177652654322711, up loss = 0.02038066986609589, reconst.loss = 0.12988926402547143, down adj mae = 0.13121416216546838, up adj mae = 0.10817188024520874\n"
     ]
    },
    {
     "name": "stderr",
     "output_type": "stream",
     "text": [
      "100%|██████████| 11/11 [00:13<00:00,  1.23s/it]\n"
     ]
    },
    {
     "name": "stdout",
     "output_type": "stream",
     "text": [
      "ep 165: down loss = 0.011782937090505253, up loss = 0.020363813943483612, reconst.loss = 0.1293609230355783, down adj mae = 0.1338976580988277, up adj mae = 0.1096139286052097\n"
     ]
    },
    {
     "name": "stderr",
     "output_type": "stream",
     "text": [
      "100%|██████████| 11/11 [00:13<00:00,  1.21s/it]\n"
     ]
    },
    {
     "name": "stdout",
     "output_type": "stream",
     "text": [
      "ep 166: down loss = 0.011769631962207231, up loss = 0.020325619050047615, reconst.loss = 0.12955276397141544, down adj mae = 0.13182058930397034, up adj mae = 0.11000427400523966\n"
     ]
    },
    {
     "name": "stderr",
     "output_type": "stream",
     "text": [
      "100%|██████████| 11/11 [00:13<00:00,  1.23s/it]\n"
     ]
    },
    {
     "name": "stdout",
     "output_type": "stream",
     "text": [
      "ep 167: down loss = 0.011964008974080736, up loss = 0.02041062204675241, reconst.loss = 0.1300557635047219, down adj mae = 0.13292410156943582, up adj mae = 0.10822622003880414\n"
     ]
    },
    {
     "name": "stderr",
     "output_type": "stream",
     "text": [
      "100%|██████████| 11/11 [00:13<00:00,  1.25s/it]\n"
     ]
    },
    {
     "name": "stdout",
     "output_type": "stream",
     "text": [
      "ep 168: down loss = 0.011797064830633726, up loss = 0.020061460746960205, reconst.loss = 0.12878942083228717, down adj mae = 0.1318307031284679, up adj mae = 0.10767833617600528\n"
     ]
    },
    {
     "name": "stderr",
     "output_type": "stream",
     "text": [
      "100%|██████████| 11/11 [00:13<00:00,  1.23s/it]\n"
     ]
    },
    {
     "name": "stdout",
     "output_type": "stream",
     "text": [
      "ep 169: down loss = 0.01183076228269122, up loss = 0.020102119411934505, reconst.loss = 0.12907810712402518, down adj mae = 0.13128209520470013, up adj mae = 0.10741700028831308\n"
     ]
    },
    {
     "name": "stderr",
     "output_type": "stream",
     "text": [
      "100%|██████████| 11/11 [00:13<00:00,  1.22s/it]\n"
     ]
    },
    {
     "name": "stdout",
     "output_type": "stream",
     "text": [
      "ep 170: down loss = 0.011922265572304075, up loss = 0.01994970373132012, reconst.loss = 0.12929388135671616, down adj mae = 0.1321095810695128, up adj mae = 0.10888517580249092\n"
     ]
    },
    {
     "name": "stderr",
     "output_type": "stream",
     "text": [
      "100%|██████████| 11/11 [00:13<00:00,  1.23s/it]\n"
     ]
    },
    {
     "name": "stdout",
     "output_type": "stream",
     "text": [
      "ep 171: down loss = 0.01182270244779912, up loss = 0.019822219217365437, reconst.loss = 0.12897580387917432, down adj mae = 0.13347167521715164, up adj mae = 0.10669699649919163\n"
     ]
    },
    {
     "name": "stderr",
     "output_type": "stream",
     "text": [
      "100%|██████████| 11/11 [00:13<00:00,  1.25s/it]\n"
     ]
    },
    {
     "name": "stdout",
     "output_type": "stream",
     "text": [
      "ep 172: down loss = 0.011912953785874626, up loss = 0.020137022334066303, reconst.loss = 0.12973721054467288, down adj mae = 0.12986494329842654, up adj mae = 0.10720735720612785\n"
     ]
    },
    {
     "name": "stderr",
     "output_type": "stream",
     "text": [
      "100%|██████████| 11/11 [00:13<00:00,  1.23s/it]\n"
     ]
    },
    {
     "name": "stdout",
     "output_type": "stream",
     "text": [
      "ep 173: down loss = 0.01185678131878376, up loss = 0.019674623554403133, reconst.loss = 0.12852491438388824, down adj mae = 0.13044846667484802, up adj mae = 0.10670254244045778\n"
     ]
    },
    {
     "name": "stderr",
     "output_type": "stream",
     "text": [
      "100%|██████████| 11/11 [00:13<00:00,  1.25s/it]\n"
     ]
    },
    {
     "name": "stdout",
     "output_type": "stream",
     "text": [
      "ep 174: down loss = 0.01196665960279378, up loss = 0.01981601914898916, reconst.loss = 0.12925428355282004, down adj mae = 0.13069327852942728, up adj mae = 0.10712959956039082\n"
     ]
    },
    {
     "name": "stderr",
     "output_type": "stream",
     "text": [
      "100%|██████████| 11/11 [00:13<00:00,  1.23s/it]\n"
     ]
    },
    {
     "name": "stdout",
     "output_type": "stream",
     "text": [
      "ep 175: down loss = 0.011942753314294598, up loss = 0.01976342617788098, reconst.loss = 0.1289154358885505, down adj mae = 0.13097932934761047, up adj mae = 0.10605856031179428\n"
     ]
    },
    {
     "name": "stderr",
     "output_type": "stream",
     "text": [
      "100%|██████████| 11/11 [00:13<00:00,  1.26s/it]\n"
     ]
    },
    {
     "name": "stdout",
     "output_type": "stream",
     "text": [
      "ep 176: down loss = 0.012024882672862574, up loss = 0.019753097302534363, reconst.loss = 0.1292813860557296, down adj mae = 0.1292180371555415, up adj mae = 0.10572742738507011\n"
     ]
    },
    {
     "name": "stderr",
     "output_type": "stream",
     "text": [
      "100%|██████████| 11/11 [00:13<00:00,  1.26s/it]\n"
     ]
    },
    {
     "name": "stdout",
     "output_type": "stream",
     "text": [
      "ep 177: down loss = 0.011925145983695984, up loss = 0.019738143987276337, reconst.loss = 0.12975924123417248, down adj mae = 0.13409791344946081, up adj mae = 0.10743050683628429\n"
     ]
    },
    {
     "name": "stderr",
     "output_type": "stream",
     "text": [
      "100%|██████████| 11/11 [00:13<00:00,  1.23s/it]\n"
     ]
    },
    {
     "name": "stdout",
     "output_type": "stream",
     "text": [
      "ep 178: down loss = 0.01198649550364776, up loss = 0.019831022078340702, reconst.loss = 0.12981189855120398, down adj mae = 0.13154925947839563, up adj mae = 0.10659436204216698\n"
     ]
    },
    {
     "name": "stderr",
     "output_type": "stream",
     "text": [
      "100%|██████████| 11/11 [00:13<00:00,  1.23s/it]\n"
     ]
    },
    {
     "name": "stdout",
     "output_type": "stream",
     "text": [
      "ep 179: down loss = 0.01195991344072602, up loss = 0.01943724128333005, reconst.loss = 0.12886984578587793, down adj mae = 0.1303880207917907, up adj mae = 0.10597396303306926\n"
     ]
    },
    {
     "name": "stderr",
     "output_type": "stream",
     "text": [
      "100%|██████████| 11/11 [00:14<00:00,  1.28s/it]\n"
     ]
    },
    {
     "name": "stdout",
     "output_type": "stream",
     "text": [
      "ep 180: down loss = 0.012076839127323845, up loss = 0.019269413060762665, reconst.loss = 0.1291582923043858, down adj mae = 0.13037489422342993, up adj mae = 0.10564040460369804\n"
     ]
    },
    {
     "name": "stderr",
     "output_type": "stream",
     "text": [
      "100%|██████████| 11/11 [00:13<00:00,  1.25s/it]\n"
     ]
    },
    {
     "name": "stdout",
     "output_type": "stream",
     "text": [
      "ep 181: down loss = 0.012033540078184822, up loss = 0.019551017067649147, reconst.loss = 0.12928261066024954, down adj mae = 0.13102540576999838, up adj mae = 0.10694688761776144\n"
     ]
    },
    {
     "name": "stderr",
     "output_type": "stream",
     "text": [
      "100%|██████████| 11/11 [00:13<00:00,  1.25s/it]\n"
     ]
    },
    {
     "name": "stdout",
     "output_type": "stream",
     "text": [
      "ep 182: down loss = 0.012035241689194332, up loss = 0.019412390887737274, reconst.loss = 0.1295744079080495, down adj mae = 0.13058811968023126, up adj mae = 0.10563298585740002\n"
     ]
    },
    {
     "name": "stderr",
     "output_type": "stream",
     "text": [
      "100%|██████████| 11/11 [00:13<00:00,  1.25s/it]\n"
     ]
    },
    {
     "name": "stdout",
     "output_type": "stream",
     "text": [
      "ep 183: down loss = 0.011982817626134916, up loss = 0.019146900116042656, reconst.loss = 0.12886740402741867, down adj mae = 0.13169700720093466, up adj mae = 0.106056540527127\n"
     ]
    },
    {
     "name": "stderr",
     "output_type": "stream",
     "text": [
      "100%|██████████| 11/11 [00:13<00:00,  1.24s/it]\n"
     ]
    },
    {
     "name": "stdout",
     "output_type": "stream",
     "text": [
      "ep 184: down loss = 0.012260910292918032, up loss = 0.020082538947463036, reconst.loss = 0.1310749812559648, down adj mae = 0.12931377508423544, up adj mae = 0.10514734211293134\n"
     ]
    },
    {
     "name": "stderr",
     "output_type": "stream",
     "text": [
      "100%|██████████| 11/11 [00:13<00:00,  1.26s/it]\n"
     ]
    },
    {
     "name": "stdout",
     "output_type": "stream",
     "text": [
      "ep 185: down loss = 0.012304351072419773, up loss = 0.019454242661595345, reconst.loss = 0.12973220578648828, down adj mae = 0.1313746991482648, up adj mae = 0.1049754186110063\n"
     ]
    },
    {
     "name": "stderr",
     "output_type": "stream",
     "text": [
      "100%|██████████| 11/11 [00:13<00:00,  1.23s/it]\n"
     ]
    },
    {
     "name": "stdout",
     "output_type": "stream",
     "text": [
      "ep 186: down loss = 0.012222461741078983, up loss = 0.019032284448092632, reconst.loss = 0.1289764649488709, down adj mae = 0.13310081240805713, up adj mae = 0.10690952769734642\n"
     ]
    },
    {
     "name": "stderr",
     "output_type": "stream",
     "text": [
      "100%|██████████| 11/11 [00:13<00:00,  1.25s/it]\n"
     ]
    },
    {
     "name": "stdout",
     "output_type": "stream",
     "text": [
      "ep 187: down loss = 0.012109308249571106, up loss = 0.019238876856186173, reconst.loss = 0.12909033352678473, down adj mae = 0.13042715191841125, up adj mae = 0.10477065904573961\n"
     ]
    },
    {
     "name": "stderr",
     "output_type": "stream",
     "text": [
      "100%|██████████| 11/11 [00:13<00:00,  1.24s/it]\n"
     ]
    },
    {
     "name": "stdout",
     "output_type": "stream",
     "text": [
      "ep 188: down loss = 0.01218812582506375, up loss = 0.019121939316391945, reconst.loss = 0.1286368654532866, down adj mae = 0.13016947494311767, up adj mae = 0.10496206649325111\n"
     ]
    },
    {
     "name": "stderr",
     "output_type": "stream",
     "text": [
      "100%|██████████| 11/11 [00:13<00:00,  1.24s/it]\n"
     ]
    },
    {
     "name": "stdout",
     "output_type": "stream",
     "text": [
      "ep 189: down loss = 0.012300297533246603, up loss = 0.019039408896457066, reconst.loss = 0.1289974959059195, down adj mae = 0.1305121366273273, up adj mae = 0.10409699651328\n"
     ]
    },
    {
     "name": "stderr",
     "output_type": "stream",
     "text": [
      "100%|██████████| 11/11 [00:13<00:00,  1.23s/it]\n"
     ]
    },
    {
     "name": "stdout",
     "output_type": "stream",
     "text": [
      "ep 190: down loss = 0.012148026800291105, up loss = 0.018754583021456547, reconst.loss = 0.12776413221250882, down adj mae = 0.13155509937893262, up adj mae = 0.1038623723116788\n"
     ]
    },
    {
     "name": "stderr",
     "output_type": "stream",
     "text": [
      "100%|██████████| 11/11 [00:13<00:00,  1.23s/it]\n"
     ]
    },
    {
     "name": "stdout",
     "output_type": "stream",
     "text": [
      "ep 191: down loss = 0.012229003012180328, up loss = 0.0189103191210465, reconst.loss = 0.12890790809284558, down adj mae = 0.1318269128149206, up adj mae = 0.10650798678398132\n"
     ]
    },
    {
     "name": "stderr",
     "output_type": "stream",
     "text": [
      "100%|██████████| 11/11 [00:14<00:00,  1.28s/it]\n"
     ]
    },
    {
     "name": "stdout",
     "output_type": "stream",
     "text": [
      "ep 192: down loss = 0.012189623307098042, up loss = 0.018677661872722885, reconst.loss = 0.12747778472575275, down adj mae = 0.1300014149058949, up adj mae = 0.10235501419414174\n"
     ]
    },
    {
     "name": "stderr",
     "output_type": "stream",
     "text": [
      "100%|██████████| 11/11 [00:14<00:00,  1.28s/it]\n"
     ]
    },
    {
     "name": "stdout",
     "output_type": "stream",
     "text": [
      "ep 193: down loss = 0.012355562468821352, up loss = 0.018533318557522514, reconst.loss = 0.1276753998615525, down adj mae = 0.13051825152202087, up adj mae = 0.10209540006789294\n"
     ]
    },
    {
     "name": "stderr",
     "output_type": "stream",
     "text": [
      "100%|██████████| 11/11 [00:14<00:00,  1.27s/it]\n"
     ]
    },
    {
     "name": "stdout",
     "output_type": "stream",
     "text": [
      "ep 194: down loss = 0.012307053770531307, up loss = 0.018508766185153614, reconst.loss = 0.1276946643536741, down adj mae = 0.13349608399651267, up adj mae = 0.10325802930376747\n"
     ]
    },
    {
     "name": "stderr",
     "output_type": "stream",
     "text": [
      "100%|██████████| 11/11 [00:13<00:00,  1.26s/it]\n"
     ]
    },
    {
     "name": "stdout",
     "output_type": "stream",
     "text": [
      "ep 195: down loss = 0.012418964623727581, up loss = 0.019569053399291905, reconst.loss = 0.12970817224545914, down adj mae = 0.1330086128278212, up adj mae = 0.10529537905346263\n"
     ]
    },
    {
     "name": "stderr",
     "output_type": "stream",
     "text": [
      "100%|██████████| 11/11 [00:13<00:00,  1.22s/it]\n"
     ]
    },
    {
     "name": "stdout",
     "output_type": "stream",
     "text": [
      "ep 196: down loss = 0.012653964063660665, up loss = 0.018864903768355198, reconst.loss = 0.12839926914735275, down adj mae = 0.13293780115517703, up adj mae = 0.10521699420430443\n"
     ]
    },
    {
     "name": "stderr",
     "output_type": "stream",
     "text": [
      "100%|██████████| 11/11 [00:13<00:00,  1.23s/it]\n"
     ]
    },
    {
     "name": "stdout",
     "output_type": "stream",
     "text": [
      "ep 197: down loss = 0.012296410023488781, up loss = 0.01835009049285542, reconst.loss = 0.1269700899720192, down adj mae = 0.129450416023081, up adj mae = 0.10226549004966562\n"
     ]
    },
    {
     "name": "stderr",
     "output_type": "stream",
     "text": [
      "100%|██████████| 11/11 [00:13<00:00,  1.25s/it]\n"
     ]
    },
    {
     "name": "stdout",
     "output_type": "stream",
     "text": [
      "ep 198: down loss = 0.012531329200349071, up loss = 0.01886941340159286, reconst.loss = 0.1286506551233205, down adj mae = 0.13096332008188422, up adj mae = 0.10277471352707256\n"
     ]
    },
    {
     "name": "stderr",
     "output_type": "stream",
     "text": [
      "100%|██████████| 11/11 [00:13<00:00,  1.23s/it]"
     ]
    },
    {
     "name": "stdout",
     "output_type": "stream",
     "text": [
      "ep 199: down loss = 0.01253178089179776, up loss = 0.018611254678531128, reconst.loss = 0.12759157608855853, down adj mae = 0.13047644157301297, up adj mae = 0.10148387199098413\n"
     ]
    },
    {
     "name": "stderr",
     "output_type": "stream",
     "text": [
      "\n"
     ]
    }
   ],
   "source": [
    "gc.collect()\n",
    "up_changer, down_changer, loss_log = train(200, up_changer, down_changer, trainloader, up_optimizer, down_optimizer, reconstruction_optimizer, completed_epochs=0, loss_log=None)"
   ]
  },
  {
   "cell_type": "code",
   "execution_count": 4,
   "metadata": {},
   "outputs": [
    {
     "ename": "NameError",
     "evalue": "name 'loss_log' is not defined",
     "output_type": "error",
     "traceback": [
      "\u001b[0;31m---------------------------------------------------------------------------\u001b[0m",
      "\u001b[0;31mNameError\u001b[0m                                 Traceback (most recent call last)",
      "Cell \u001b[0;32mIn[4], line 1\u001b[0m\n\u001b[0;32m----> 1\u001b[0m \u001b[43mloss_log\u001b[49m[\u001b[38;5;124m'\u001b[39m\u001b[38;5;124mup_end_mae\u001b[39m\u001b[38;5;124m'\u001b[39m][\u001b[38;5;241m-\u001b[39m\u001b[38;5;241m1\u001b[39m]\n",
      "\u001b[0;31mNameError\u001b[0m: name 'loss_log' is not defined"
     ]
    }
   ],
   "source": [
    "loss_log['up_end_mae'][-1]"
   ]
  },
  {
   "cell_type": "code",
   "execution_count": 56,
   "metadata": {},
   "outputs": [
    {
     "data": {
      "image/png": "[encoded data removed]",
      "text/plain": [
       "<Figure size 640x480 with 1 Axes>"
      ]
     },
     "metadata": {},
     "output_type": "display_data"
    }
   ],
   "source": [
    "import matplotlib.pyplot as plt\n",
    "plt.plot(np.arange(len(loss_log['up_end_mae'])), loss_log['up_end_mae'])\n",
    "plt.show()"
   ]
  },
  {
   "cell_type": "code",
   "execution_count": 27,
   "metadata": {},
   "outputs": [],
   "source": [
    "torch.save(up_changer.state_dict(), 'submission_files/moritz_deep6/model_new_scheduler_0.95_0.1_0.1_newact.pth')"
   ]
  },
  {
   "cell_type": "code",
   "execution_count": null,
   "metadata": {},
   "outputs": [],
   "source": []
  },
  {
   "cell_type": "code",
   "execution_count": 5,
   "metadata": {},
   "outputs": [
    {
     "ename": "NameError",
     "evalue": "name 'DataLoader' is not defined",
     "output_type": "error",
     "traceback": [
      "\u001b[0;31m---------------------------------------------------------------------------\u001b[0m",
      "\u001b[0;31mNameError\u001b[0m                                 Traceback (most recent call last)",
      "Cell \u001b[0;32mIn[5], line 2\u001b[0m\n\u001b[1;32m      1\u001b[0m \u001b[38;5;66;03m# to generate test predictions\u001b[39;00m\n\u001b[0;32m----> 2\u001b[0m testloader \u001b[38;5;241m=\u001b[39m \u001b[43mDataLoader\u001b[49m(\u001b[38;5;28mlist\u001b[39m(\u001b[38;5;28mzip\u001b[39m(lr_X_dim1_test, lr_X_dim3_test, lr_test)), shuffle\u001b[38;5;241m=\u001b[39m\u001b[38;5;28;01mFalse\u001b[39;00m, batch_size\u001b[38;5;241m=\u001b[39m\u001b[38;5;241m16\u001b[39m)\n\u001b[1;32m      4\u001b[0m up_changer\u001b[38;5;241m.\u001b[39meval()\n\u001b[1;32m      5\u001b[0m test_predictions \u001b[38;5;241m=\u001b[39m []\n",
      "\u001b[0;31mNameError\u001b[0m: name 'DataLoader' is not defined"
     ]
    }
   ],
   "source": [
    "# to generate test predictions\n",
    "testloader = DataLoader(list(zip(lr_X_dim1_test, lr_X_dim3_test, lr_test)), shuffle=False, batch_size=16)\n",
    "\n",
    "up_changer.eval()\n",
    "test_predictions = []\n",
    "for X_lr, Y_lr, adj_lr in tqdm(testloader):\n",
    "    pred = up_changer(X_lr.to(DEVICE), Y_lr.to(DEVICE), adj_lr.to(DEVICE))[-1].detach()\n",
    "    test_predictions.append(pred)\n",
    "test_predictions = torch.cat(test_predictions)"
   ]
  },
  {
   "cell_type": "code",
   "execution_count": 29,
   "metadata": {},
   "outputs": [],
   "source": [
    "torch.save(test_predictions, 'submission_files/moritz_deep6/model_new_scheduler_0.95_0.1_0.1_newact.pt')"
   ]
  },
  {
   "cell_type": "code",
   "execution_count": 58,
   "metadata": {},
   "outputs": [
    {
     "data": {
      "image/png": "[encoded data removed]",
      "text/plain": [
       "<Figure size 640x480 with 1 Axes>"
      ]
     },
     "metadata": {},
     "output_type": "display_data"
    }
   ],
   "source": [
    "from data_preparation import generate_histogram\n",
    "generate_histogram(test_predictions.cpu(), hr_train)"
   ]
  },
  {
   "cell_type": "code",
   "execution_count": 61,
   "metadata": {},
   "outputs": [
    {
     "name": "stderr",
     "output_type": "stream",
     "text": [
      "100%|██████████| 11/11 [00:01<00:00,  9.71it/s]\n"
     ]
    }
   ],
   "source": [
    "# to generate train predictions\n",
    "new_trainloader = DataLoader(list(zip(lr_X_dim1, lr_X_dim3, lr_train)), shuffle=True, batch_size=16)\n",
    "\n",
    "up_changer.eval()\n",
    "train_predictions = []\n",
    "for X_lr, Y_lr, adj_lr in tqdm(new_trainloader):\n",
    "    pred = up_changer(X_lr.to(DEVICE), Y_lr.to(DEVICE), adj_lr.to(DEVICE))[-1].detach()\n",
    "    train_predictions.append(pred)\n",
    "train_predictions = torch.cat(train_predictions)"
   ]
  },
  {
   "cell_type": "code",
   "execution_count": 62,
   "metadata": {},
   "outputs": [
    {
     "data": {
      "image/png": "[encoded data removed]",
      "text/plain": [
       "<Figure size 640x480 with 1 Axes>"
      ]
     },
     "metadata": {},
     "output_type": "display_data"
    }
   ],
   "source": [
    "from data_preparation import generate_histogram\n",
    "generate_histogram(train_predictions.cpu(), hr_train)"
   ]
  },
  {
   "cell_type": "code",
   "execution_count": 26,
   "metadata": {},
   "outputs": [
    {
     "data": {
      "image/png": "[encoded data removed]",
      "text/plain": [
       "<Figure size 640x480 with 2 Axes>"
      ]
     },
     "metadata": {},
     "output_type": "display_data"
    }
   ],
   "source": [
    "from data_preparation import generate_heatmap\n",
    "generate_heatmap(test_predictions[0].cpu())"
   ]
  },
  {
   "cell_type": "code",
   "execution_count": 24,
   "metadata": {},
   "outputs": [],
   "source": [
    "from data_preparation import generate_submission_file\n",
    "\n",
    "df = generate_submission_file(test_predictions.cpu(), 'submission_files/moritz_deep6/new_scheduler_0.95_0.5_0.1_tanhrelu.csv')"
   ]
  },
  {
   "cell_type": "markdown",
   "metadata": {},
   "source": [
    "# Cross Validation"
   ]
  },
  {
   "cell_type": "code",
   "execution_count": 39,
   "metadata": {},
   "outputs": [],
   "source": [
    "from evaluation_fn import evaluate_predictions\n",
    "from data_preparation import generate_histogram, generate_heatmap\n",
    "\n",
    "def validation(up_changer, testloader, val_adj_hr, histogram=False, heatmap=False, statement=None):\n",
    "    print('begin validation')\n",
    "    up_changer.eval()\n",
    "\n",
    "    val_predictions = []\n",
    "    for X_lr, Y_lr, adj_lr in tqdm(testloader):\n",
    "        pred = up_changer(X_lr.to(DEVICE), Y_lr.to(DEVICE), adj_lr.to(DEVICE))[-1].detach()\n",
    "        val_predictions.append(pred)\n",
    "    val_predictions = torch.cat(val_predictions)\n",
    "\n",
    "    if histogram:\n",
    "        if statement:\n",
    "            print(statement)\n",
    "        else:\n",
    "            print(f'Histogram for Current Fold')\n",
    "        generate_histogram(val_predictions.cpu(), val_adj_hr.cpu())\n",
    "    if heatmap:\n",
    "        if statement:\n",
    "            print(statement)\n",
    "        else:\n",
    "            print(f'First Difference Heatmap for Current Fold')\n",
    "        generate_heatmap((val_adj_hr[0].cpu() - val_predictions[0].cpu()))\n",
    "\n",
    "    return {'eval': evaluate_predictions(val_predictions, val_adj_hr), 'preds': val_predictions}"
   ]
  },
  {
   "cell_type": "code",
   "execution_count": 40,
   "metadata": {},
   "outputs": [],
   "source": [
    "def cross_validate(epochs, eval_step, batch_size, n_fold, X_lr, Y_lr, adj_lr, X_hr, Y_hr, adj_hr, num_steps, channels_ls = [32, 64], histogram=False, heatmap=False):\n",
    "    kf = KFold(n_fold, shuffle=True, random_state=99)\n",
    "    runs_results = []\n",
    "    for train_idx, val_idx in kf.split(X_lr):\n",
    "        train_X_lr, val_X_lr = X_lr[train_idx], X_lr[val_idx]\n",
    "        train_Y_lr, val_Y_lr = Y_lr[train_idx], Y_lr[val_idx]\n",
    "        train_adj_lr, val_adj_lr = adj_lr[train_idx], adj_lr[val_idx]\n",
    "        train_X_hr = X_hr[train_idx]\n",
    "        train_Y_hr = Y_hr[train_idx]\n",
    "        train_adj_hr, val_adj_hr = adj_hr[train_idx], adj_hr[val_idx]\n",
    "\n",
    "        trainloader = DataLoader(list(zip(train_X_lr, train_Y_lr, train_adj_lr, train_X_hr, train_Y_hr, train_adj_hr)), shuffle=False, batch_size=batch_size)\n",
    "\n",
    "        dim_steps = generate_steps(num_steps=num_steps)\n",
    "        channels_ls = [32, 64]\n",
    "        embedding_dims_ls_up = [160,16,32]\n",
    "        embedding_dims_ls_down = [268,16,32]\n",
    "\n",
    "        up_changer = AdjacencyDimChanger(dim_steps, channels_ls, embedding_dims_ls_up).to(DEVICE)\n",
    "        down_changer = AdjacencyDimChanger(dim_steps[::-1], channels_ls, embedding_dims_ls_down).to(DEVICE)\n",
    "\n",
    "        up_optimizer = torch.optim.AdamW(up_changer.parameters(), lr=0.0025, betas=(0.5, 0.999))\n",
    "        down_optimizer = torch.optim.AdamW(down_changer.parameters(), lr=0.0025, betas=(0.5, 0.999))\n",
    "        reconstruction_optimizer = torch.optim.AdamW(list(up_changer.parameters()) + list(down_changer.parameters()), lr=0.0025, betas=(0.5, 0.999))\n",
    "        \n",
    "        losses = None\n",
    "        completed = 0\n",
    "        val_metrics = {}\n",
    "        for i in range(0,epochs,eval_step):\n",
    "            up_changer, down_changer, losses = train(eval_step, up_changer, down_changer, trainloader, up_optimizer, down_optimizer, reconstruction_optimizer, completed_epochs=completed, loss_log=losses)\n",
    "\n",
    "            \n",
    "            testloader = DataLoader(list(zip(val_X_lr, val_Y_lr, val_adj_lr)), shuffle=False, batch_size=batch_size)\n",
    "            val_metrics[f'{i}'] = validation(up_changer, testloader, val_adj_hr, histogram, heatmap, statement=f'Currrent Fold after {i}')\n",
    "            completed = i\n",
    "\n",
    "        testloader = DataLoader(list(zip(val_X_lr, val_Y_lr, val_adj_lr)), shuffle=True, batch_size=batch_size)\n",
    "        val_metrics[f'{epochs}'] = validation(up_changer, testloader, val_adj_hr, histogram, heatmap)\n",
    "        val_metrics['losses'] = losses\n",
    "\n",
    "\n",
    "        runs_results.append(val_metrics)\n",
    "\n",
    "    return runs_results"
   ]
  },
  {
   "cell_type": "code",
   "execution_count": 41,
   "metadata": {},
   "outputs": [
    {
     "name": "stdout",
     "output_type": "stream",
     "text": [
      "ep 0: down loss = 0.19519715436867305, up loss = 0.17617509194782802, reconst.loss = 0.287555102791105, down adj mae = 0.2831381687096187, up adj mae = 0.29902770689555574\n",
      "ep 5: down loss = 0.11665437689849309, up loss = 0.09248206445149013, reconst.loss = 0.2021049473966871, down adj mae = 0.22834016808441707, up adj mae = 0.20541547664574214\n",
      "begin validation\n"
     ]
    },
    {
     "name": "stderr",
     "output_type": "stream",
     "text": [
      "100%|██████████| 4/4 [00:00<00:00,  9.17it/s]\n"
     ]
    },
    {
     "name": "stdout",
     "output_type": "stream",
     "text": [
      "Currrent Fold after 0\n"
     ]
    },
    {
     "data": {
      "image/png": "[encoded data removed]",
      "text/plain": [
       "<Figure size 640x480 with 1 Axes>"
      ]
     },
     "metadata": {},
     "output_type": "display_data"
    },
    {
     "name": "stderr",
     "output_type": "stream",
     "text": [
      "Evaluating Predictions (Can be Slow):  38%|███▊      | 21/56 [04:27<07:37, 13.07s/it]"
     ]
    }
   ],
   "source": [
    "import gc\n",
    "\n",
    "#a=0.95\n",
    "\n",
    "# del up_changer\n",
    "# del down_changer\n",
    "# del test_predictions\n",
    "gc.collect()\n",
    "\n",
    "torch.cuda.empty_cache()\n",
    "\n",
    "results = cross_validate(200,10,16,3, lr_X_dim1, lr_X_dim3, lr_train, hr_X_dim1, hr_X_dim3, hr_train, num_steps=6, histogram=True, heatmap=False)"
   ]
  },
  {
   "cell_type": "code",
   "execution_count": 22,
   "metadata": {},
   "outputs": [],
   "source": [
    "torch.save(results, 'submission_files/moritz_deep4/results_cv_0.95_0.5_0.002.pt')"
   ]
  },
  {
   "cell_type": "code",
   "execution_count": 21,
   "metadata": {},
   "outputs": [
    {
     "name": "stdout",
     "output_type": "stream",
     "text": [
      "[0.174918104495321, 0.14589284786156245, 0.13297852448054723, 0.1157514431646892, 0.11879795576844897, 0.09736089089087077, 0.09180118249995368, 0.07724575911249433, 0.07172081300190516, 0.06377226699675832, 0.06226235681346485, 0.05623753368854523, 0.05499196265425001, 0.049235813851867406, 0.04681469979030745, 0.047092964074441364, 0.04726385910596166, 0.04551862818854196, 0.04462029252733503, 0.044704081756728034, 0.041797696479729245, 0.04611229630453246, 0.04122467126165118, 0.03694302908011845, 0.038037094686712535, 0.038510719048125405, 0.036916004227740426, 0.034729884671313424, 0.03297500471983637, 0.03236655651458672, 0.030656782111951282, 0.03342040787850108, 0.03392957363809858, 0.034473877134067674, 0.031896590920431275, 0.02974186385316508, 0.03049686098737376, 0.029269389808177948, 0.029803482283438956, 0.031253284375582426, 0.030472446765218462, 0.030452542273061618, 0.02947984396346978, 0.030058702720063075, 0.030580019312245504, 0.02869851514697075, 0.02831371793789523, 0.02740354516676494, 0.030558988451957703, 0.029532631326998984, 0.02966335868196828, 0.028055432917816297, 0.031159362090485438, 0.02792427529181753, 0.02818877888577325, 0.02730234047131879, 0.027475214430264065, 0.026914398052862713, 0.027230221245970045, 0.027348495753748075, 0.027786760457924435, 0.027351140177675655, 0.02744388367448534, 0.026219375963721956, 0.026306715926953723, 0.02692937744515283, 0.026946001819201877, 0.026396998603429114, 0.026191081319536482, 0.026206394657492638, 0.02612573334148952, 0.02586121883775507, 0.026536491300378526, 0.027548607970987047, 0.02593744413128921, 0.026584944554737637, 0.027444530810628618, 0.029335219146949903, 0.027120104059576988, 0.02708430029451847, 0.02629602061850684, 0.0270366868270295, 0.0287321111453431, 0.032219854316541126, 0.03169042457427297, 0.028216511543307985, 0.02788543328642845, 0.02750725911131927, 0.026898832459534918, 0.026467785771403993, 0.026153566581862315, 0.026608799717256, 0.026410885953477452, 0.026047756895422935, 0.026466795642461096, 0.026741576780165945, 0.026077579174722944, 0.0261046223874603, 0.027950638372983252, 0.027379331045917103, 0.0270445423999003, 0.026306963924850737, 0.02907289085643632, 0.028830878968749727, 0.02745487993316991, 0.02653819402413709, 0.02668269510780062, 0.026445227276001657, 0.026190906763076782, 0.02603458666375705, 0.028830645073737417, 0.026989707191075598, 0.027347160503268242, 0.026970009984714643, 0.026644460058638027, 0.026776034651058062, 0.02752219486449446, 0.027451883469309126, 0.02752100596470492, 0.027383027598261833, 0.02735390673790659, 0.027193910841430937, 0.02606091515294143, 0.027733831533363888, 0.026496577209659984, 0.02676886399941785, 0.026241657457181385, 0.026502647304109166, 0.026222145184874535, 0.02601125916200025, 0.025925296491810253, 0.025861947664192746, 0.02602663849081312, 0.025947736310107366, 0.026442164555191994, 0.025842548481055667, 0.026099864127380506, 0.02604737744799682, 0.02601325325667858, 0.02635708451271057, 0.025832684710621834, 0.025961796353970255, 0.02556963451206684, 0.025781657014574324, 0.02627889545900481, 0.025929691536085948, 0.025762307590671947, 0.025680941928710257, 0.02660504249589784, 0.02578997745045594, 0.015552881839019912, 0.01581414629306112, 0.016089297831058502, 0.01594004673617227, 0.01573877196226801, 0.016229661447661265, 0.016249387924160277, 0.01652483469141381, 0.016436775348016193, 0.0166129380730646, 0.01721616674746786, 0.017672879887478694, 0.017567951498287066, 0.018062724864908626, 0.017475879352007593, 0.01786910928785801, 0.018126776974116052, 0.018233948786343847, 0.01845125002520425, 0.0182184563683612, 0.018470192860279764, 0.01848879243646349, 0.01897394736962659, 0.019335753683532988, 0.019298450223037174, 0.019208799515451704, 0.019474903919867108, 0.019284536795956746, 0.0195779808397804, 0.019835494990859712, 0.019674994849732945, 0.020058036914893558, 0.020044349133968353, 0.019929692947438786, 0.020361261708395823, 0.02064447264586176, 0.02053243454013552, 0.02059596058513437, 0.020584062806197574, 0.021101528512580053, 0.0214179948504482, 0.020934047177433968, 0.02137433072285993, 0.021420872637203763, 0.021122988845620836, 0.021116690444094793, 0.021391921809741428, 0.021586726552673748, 0.02174440079501697, 0.021559485101274083]\n"
     ]
    },
    {
     "data": {
      "image/png": "[encoded data removed]",
      "text/plain": [
       "<Figure size 640x480 with 1 Axes>"
      ]
     },
     "metadata": {},
     "output_type": "display_data"
    }
   ],
   "source": [
    "import matplotlib.pyplot as plt\n",
    "\n",
    "losses_fold1 = results[2]['losses']['up']\n",
    "\n",
    "print(losses_fold1)\n",
    "\n",
    "plt.plot(losses_fold1)\n",
    "plt.title('Loss Curve')\n",
    "plt.xlabel('Epoch')\n",
    "plt.ylabel('Loss')\n",
    "plt.grid(True)\n",
    "plt.show()\n"
   ]
  }
 ],
 "metadata": {
  "kernelspec": {
   "display_name": "venv",
   "language": "python",
   "name": "python3"
  },
  "language_info": {
   "codemirror_mode": {
    "name": "ipython",
    "version": 3
   },
   "file_extension": ".py",
   "mimetype": "text/x-python",
   "name": "python",
   "nbconvert_exporter": "python",
   "pygments_lexer": "ipython3",
   "version": "3.10.12"
  }
 },
 "nbformat": 4,
 "nbformat_minor": 2
}
