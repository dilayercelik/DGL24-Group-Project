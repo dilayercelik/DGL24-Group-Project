{
 "cells": [
  {
   "cell_type": "code",
   "execution_count": 41,
   "metadata": {},
   "outputs": [],
   "source": [
    "import torch\n",
    "import torch.nn as nn\n",
    "import torch.nn.functional as F\n",
    "from data_preparation import load_data_tensor\n"
   ]
  },
  {
   "cell_type": "code",
   "execution_count": 43,
   "metadata": {},
   "outputs": [],
   "source": [
    "lr_train, lr_test, hr_train = load_data_tensor('dgl-icl')"
   ]
  },
  {
   "cell_type": "markdown",
   "metadata": {},
   "source": [
    "# Sheaf Neural Diffusion"
   ]
  },
  {
   "cell_type": "code",
   "execution_count": 15,
   "metadata": {},
   "outputs": [],
   "source": [
    "# ignore this for now\n",
    "class Laplacian_MLP(nn.Module):\n",
    "    def __init__(self, d):\n",
    "        super().__init__()\n",
    "        self.layer = nn.Linear(2*d, d)\n",
    "\n",
    "    def forward(self, own_node, other_node):\n",
    "        x = torch.concat((own_node, other_node))\n",
    "        return F.relu(self.layer(x))\n"
   ]
  },
  {
   "cell_type": "code",
   "execution_count": 71,
   "metadata": {},
   "outputs": [],
   "source": [
    "class SheafConvLayer(nn.Module):\n",
    "    def __init__(self, n_nodes, d, f):\n",
    "        super().__init__()\n",
    "        self.d = d\n",
    "        self.n_nodes = n_nodes\n",
    "        # random init weight matrices\n",
    "        self.weight1 = nn.Parameter(torch.randn((d, d)))\n",
    "        self.weight2 = nn.Parameter(torch.randn((f, f)))\n",
    "        self.edge_weights = nn.Parameter(torch.randn((d*n_nodes,2*d*n_nodes)))\n",
    "\n",
    "\n",
    "    def forward(self, X, adj):\n",
    "        kron_prod = torch.kron(torch.eye(self.n_nodes), self.weight1)\n",
    "        L = self.sheaf_laplacian(X, adj)\n",
    "        return X - F.relu(L @ kron_prod @ X @ self.weight2) \n",
    "\n",
    "\n",
    "    def sheaf_laplacian(self, X, adj):\n",
    "        laplacian_ls = []\n",
    "        for v in range(self.n_nodes):\n",
    "            L_v = torch.zeros((self.d, self.d))\n",
    "            for u in range(self.n_nodes):\n",
    "                edge_weight = self.edge_weights[v][u]\n",
    "                stacked_features = torch.concat((X[v*self.d:(v+1)*self.d], X[u*self.d:(u+1)*self.d]))\n",
    "                lin_trans = F.relu(edge_weight @ stacked_features)\n",
    "                L_v += adj[v, u] * lin_trans @ lin_trans.T\n",
    "            laplacian_ls.append(L_v / torch.sum(adj[v]))\n",
    "        return torch.block_diag(*laplacian_ls)\n"
   ]
  },
  {
   "cell_type": "code",
   "execution_count": 82,
   "metadata": {},
   "outputs": [
    {
     "data": {
      "text/plain": [
       "56474"
      ]
     },
     "execution_count": 82,
     "metadata": {},
     "output_type": "execute_result"
    }
   ],
   "source": [
    "sum(p.numel() for p in SheafConvLayer(168, 1, 5).parameters())\n"
   ]
  }
 ],
 "metadata": {
  "kernelspec": {
   "display_name": "venv",
   "language": "python",
   "name": "python3"
  },
  "language_info": {
   "codemirror_mode": {
    "name": "ipython",
    "version": 3
   },
   "file_extension": ".py",
   "mimetype": "text/x-python",
   "name": "python",
   "nbconvert_exporter": "python",
   "pygments_lexer": "ipython3",
   "version": "3.10.5"
  }
 },
 "nbformat": 4,
 "nbformat_minor": 2
}
