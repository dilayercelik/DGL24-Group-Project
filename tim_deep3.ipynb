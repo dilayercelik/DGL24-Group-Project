{
 "cells": [
  {
   "cell_type": "code",
   "execution_count": 1,
   "metadata": {},
   "outputs": [],
   "source": [
    "import torch\n",
    "import torch.nn.functional as F\n",
    "import torch.nn as nn\n",
    "from torch_geometric.nn import GENConv, GATv2Conv, SSGConv\n",
    "import numpy as np\n",
    "from torch_geometric.data import Data\n",
    "from torch.utils.data import DataLoader\n",
    "import torch_geometric.utils\n",
    "\n",
    "from tqdm import tqdm\n",
    "\n",
    "from sklearn.model_selection import KFold\n",
    "import pandas as pd\n",
    "from MatrixVectorizer import MatrixVectorizer\n"
   ]
  },
  {
   "cell_type": "code",
   "execution_count": 2,
   "metadata": {},
   "outputs": [],
   "source": [
    "# set global variables\n",
    "N_SUBJECTS = 167\n",
    "\n",
    "N_LR_NODES = 160\n",
    "\n",
    "N_HR_NODES = 268\n",
    "\n",
    "DEVICE = 'cuda' if torch.cuda.is_available() else 'cpu'\n",
    "\n",
    "N_LR_NODES_F = int(N_LR_NODES * (N_LR_NODES-1) / 2)\n",
    "N_HR_NODES_F = int(N_HR_NODES * (N_HR_NODES-1) / 2)"
   ]
  },
  {
   "cell_type": "code",
   "execution_count": 3,
   "metadata": {},
   "outputs": [],
   "source": [
    "from data_preparation import load_data_tensor\n",
    "\n",
    "lr_train, lr_test, hr_train = load_data_tensor(\"dgl-icl\")\n",
    "\n",
    "lr_X_dim1 = torch.load('model_autoencoder/final_embeddings/encode_lr.pt')\n",
    "lr_X_dim3 = torch.load('model_autoencoder/final_embeddings/encode_lr_3.pt')\n",
    "hr_X_dim1 = torch.load('model_autoencoder/final_embeddings/encode_hr.pt')\n",
    "hr_X_dim3 = torch.load('model_autoencoder/final_embeddings/encode_hr_3.pt')\n",
    "lr_X_dim1_test = torch.load('model_autoencoder/final_embeddings/encode_lr_test.pt')\n",
    "hr_X_dim3_test = torch.load('model_autoencoder/final_embeddings/encode_lr_test_3.pt')"
   ]
  },
  {
   "cell_type": "markdown",
   "metadata": {},
   "source": [
    "# Model Layers"
   ]
  },
  {
   "cell_type": "code",
   "execution_count": 4,
   "metadata": {},
   "outputs": [],
   "source": [
    "def generate_steps(num_steps, low=N_LR_NODES, high=N_HR_NODES):\n",
    "    step_size = (high - low) / (num_steps - 1)\n",
    "    steps_list = [round(low + step_size * i) for i in range(num_steps)]\n",
    "    return steps_list"
   ]
  },
  {
   "cell_type": "code",
   "execution_count": 5,
   "metadata": {},
   "outputs": [],
   "source": [
    "class StackedGCN(nn.Module):\n",
    "    def __init__(self, n_nodes, channel_ls, dropout):\n",
    "        super().__init__()\n",
    "        self.n_nodes = n_nodes\n",
    "        self.gcn_layers, self.batch_norm_layers = self._init_layers(channel_ls)\n",
    "\n",
    "        # self.gcn_layers, _ = self._init_layers(channel_ls)\n",
    "        self.dropout = dropout\n",
    "        \n",
    "    \n",
    "    def forward(self, X, A):\n",
    "        for i in range(len(self.gcn_layers)):\n",
    "            gcn = self.gcn_layers[i]\n",
    "            batch_norm = self.batch_norm_layers[i]\n",
    "            graph_batch = self._create_batch(X, A)\n",
    "            \n",
    "            X = F.sigmoid(gcn(graph_batch.x, graph_batch.edge_index, graph_batch.edge_attr).reshape(*X.shape[:2], -1))\n",
    "            torch.cuda.empty_cache()\n",
    "            X = F.dropout(batch_norm(X), self.dropout, training=self.training)\n",
    "            # X = F.dropout(X, self.dropout, training=self.training)\n",
    "            torch.cuda.empty_cache()\n",
    "\n",
    "        return X\n",
    "\n",
    "    def _init_layers(self, channel_ls):\n",
    "        layers_ls = []\n",
    "        batch_norm_ls = []\n",
    "        for i in range(len(channel_ls) - 1):\n",
    "            layer = GATv2Conv(channel_ls[i], channel_ls[i], heads=2, edge_dim=1)\n",
    "            layers_ls.append(layer)\n",
    "            batch_norm_ls.append(torch_geometric.nn.norm.BatchNorm(self.n_nodes))\n",
    "        return nn.ModuleList(layers_ls), nn.ModuleList(batch_norm_ls)\n",
    "\n",
    "    def _create_batch(self, X, A):\n",
    "        data_list = []\n",
    "        for x, adj in zip(X, A):\n",
    "            edge_index = adj.nonzero().t()\n",
    "            edge_weights = adj[edge_index[0], edge_index[1]]\n",
    "            edge_index, edge_weights = torch_geometric.utils.add_self_loops(edge_index, edge_weights) # add self connections\n",
    "            data = Data(x=x, edge_index=edge_index, edge_attr=edge_weights.view(-1, 1))\n",
    "            data_list.append(data)\n",
    "        return torch_geometric.data.Batch().from_data_list(data_list)"
   ]
  },
  {
   "cell_type": "code",
   "execution_count": 6,
   "metadata": {},
   "outputs": [],
   "source": [
    "class AdjacencyStep(nn.Module):\n",
    "    def __init__(self, old_dim, new_dim, channels_ls, dt=1., alpha=0.9, gamma=0.9, dropout=0.25):\n",
    "        super().__init__()\n",
    "        self.dt = dt\n",
    "        self.alpha = alpha\n",
    "        self.gamma = gamma\n",
    "        self.gnn = StackedGCN(old_dim, channels_ls, dropout).to(DEVICE)\n",
    "        self.dropout = dropout\n",
    "        # self.dim_changer1 = nn.Parameter(torch.randn((new_dim, 1), device=DEVICE))\n",
    "        # self.dim_changer2 = nn.Parameter(torch.randn((1, old_dim), device=DEVICE))\n",
    "        self.dim_changer = nn.Parameter(torch.randn((new_dim, old_dim), device=DEVICE))\n",
    "\n",
    "        self.A_dim_changer = nn.Parameter(torch.randn((new_dim, old_dim), device=DEVICE))\n",
    "        # self.A_dim_changer1 = nn.Parameter(torch.randn((new_dim, 1), device=DEVICE))   \n",
    "        # self.A_dim_changer2 = nn.Parameter(torch.randn((1, old_dim), device=DEVICE))\n",
    "        self.A_dim_bias = nn.Parameter(torch.randn((new_dim, 1), device=DEVICE))\n",
    "\n",
    "        self.Z_dim_changer = nn.Parameter(torch.randn((channels_ls[-1], new_dim), device=DEVICE))\n",
    "        # self.Z_dim_changer1 = nn.Parameter(torch.randn((channels_ls[-1], 1), device=DEVICE))   \n",
    "        # self.Z_dim_changer2 = nn.Parameter(torch.randn((1, new_dim), device=DEVICE))\n",
    "        self.Z_dim_bias = nn.Parameter(torch.randn((new_dim, 1), device=DEVICE))\n",
    "\n",
    "        self.Z_dim_lower = nn.Conv1d(channels_ls[-1], channels_ls[0], kernel_size=1)\n",
    "\n",
    "\n",
    "        self.forget_gate = nn.Parameter(torch.randn(new_dim, device=DEVICE))\n",
    "        self.input_gate = nn.Parameter(torch.randn(new_dim, device=DEVICE))\n",
    "\n",
    "        self.batchnorm_A = torch_geometric.nn.norm.BatchNorm(new_dim)\n",
    "        self.layernorm_forget_A = torch_geometric.nn.norm.LayerNorm((new_dim, new_dim))\n",
    "        self.layernorm_input_Z = torch_geometric.nn.norm.LayerNorm((new_dim, new_dim))\n",
    "        self.batchnorm_X = torch_geometric.nn.norm.BatchNorm(new_dim)\n",
    "        self.batchnorm_Y = torch_geometric.nn.norm.BatchNorm(new_dim)\n",
    "\n",
    "\n",
    "\n",
    "    def forward(self, X, Y, A):\n",
    "        # solve ODEs using simple IMEX scheme\n",
    "        # dim_changer = self.dim_changer1 @ self.dim_changer2 \n",
    "        # A_dim_changer = self.A_dim_changer1 @ self.A_dim_changer2\n",
    "        # Z_dim_changer = self.Z_dim_changer1 @ self.Z_dim_changer2\n",
    "        dim_changer = self.dim_changer\n",
    "        A_dim_changer = self.A_dim_changer\n",
    "        Z_dim_changer = self.Z_dim_changer\n",
    "\n",
    "        # forget gate from previous adjacency\n",
    "        f = F.sigmoid(self.forget_gate)\n",
    "        i = F.sigmoid(self.input_gate)\n",
    "        forget_A = F.elu(A_dim_changer @ A @ A_dim_changer.T + self.A_dim_bias)\n",
    "        forget_A = f[:, None] * self.layernorm_forget_A(forget_A)\n",
    "        # forget_A = f[:, None] * forget_A\n",
    "        torch.cuda.empty_cache()\n",
    "\n",
    "    \n",
    "        # update node features with gcn\n",
    "        Z = self.gnn(X, A)\n",
    "        torch.cuda.empty_cache()\n",
    "        input_Z = F.elu(dim_changer @ Z @ Z_dim_changer + self.Z_dim_bias)\n",
    "        input_Z = i[:, None] * self.layernorm_input_Z(input_Z)\n",
    "        # input_Z = i[:, None] * input_Z\n",
    "        torch.cuda.empty_cache()\n",
    "\n",
    "\n",
    "\n",
    "        # get new adjacency matrix\n",
    "        new_A = forget_A + input_Z\n",
    "        new_A = self.batchnorm_A(new_A)\n",
    "        new_A = (new_A + torch.transpose(new_A, -1, -2)) / 2\n",
    "        # new_A = F.tanh(F.relu(new_A))\n",
    "        new_A = F.hardtanh(F.hardtanh(new_A, min_val=0), min_val=0)\n",
    "\n",
    "\n",
    "        torch.cuda.empty_cache()\n",
    "\n",
    "\n",
    "        # update feature embeiddings\n",
    "        Z = torch.transpose(self.Z_dim_lower(torch.transpose(Z, -1, -2)), -1, -2)\n",
    "        Y_temp = Y\n",
    "        Y = dim_changer @ (Y + self.dt * (Z - self.alpha * Y - self.gamma * X))\n",
    "        X = dim_changer @ (X + self.dt * Y_temp) \n",
    "\n",
    "        X = self.batchnorm_X(X)\n",
    "        Y = self.batchnorm_Y(Y)   \n",
    "        torch.cuda.empty_cache()\n",
    "\n",
    "\n",
    "        Y = F.dropout(Y, self.dropout, training=self.training)\n",
    "        X = F.dropout(X, self.dropout, training=self.training)\n",
    "\n",
    "        return X, Y, new_A\n",
    "\n",
    "    "
   ]
  },
  {
   "cell_type": "code",
   "execution_count": 7,
   "metadata": {},
   "outputs": [],
   "source": [
    "class AdjacencyDimChanger(nn.Module):\n",
    "\n",
    "    def __init__(self, dim_steps, channels_ls):\n",
    "        super().__init__()\n",
    "        \n",
    "        self.layers = nn.ModuleList([AdjacencyStep(dim_steps[i], dim_steps[i+1], channels_ls) for i in range(len(dim_steps)-1)])\n",
    "        # self.batchnorms = nn.ModuleList([nn.BatchNorm1d(dim_steps[i+1]) for i in range(len(dim_steps)-1)])\n",
    "        \n",
    "    def forward(self, X, Y, A):\n",
    "        adj_ls = [A]\n",
    "        x, y, adj = X, Y, A\n",
    "        \n",
    "        for layer in self.layers:\n",
    "            x, y, adj = layer(x, y, adj)\n",
    "            adj_ls.append(adj)\n",
    "            \n",
    "        return adj_ls\n",
    "        "
   ]
  },
  {
   "cell_type": "code",
   "execution_count": 8,
   "metadata": {},
   "outputs": [],
   "source": [
    "def freeze_model(model):\n",
    "    for param in model.parameters():\n",
    "        param.requires_grad = False\n",
    "\n",
    "def unfreeze_model(model):\n",
    "    for param in model.parameters():\n",
    "        param.requires_grad = True"
   ]
  },
  {
   "cell_type": "code",
   "execution_count": 9,
   "metadata": {},
   "outputs": [],
   "source": [
    "import numpy as np\n",
    "import networkx as nx\n",
    "\n",
    "def eigen_centrality(data):\n",
    "    # ROI is the number of brain regions (i.e.,35 in our case)\n",
    "    ROI = 160\n",
    "\n",
    "    topology_eigen = []\n",
    "\n",
    "    G = nx.from_numpy_array(np.absolute(data))\n",
    "    U = G.to_undirected()\n",
    "\n",
    "    # A = to_2d(data)\n",
    "    np.fill_diagonal(data, 0)\n",
    "\n",
    "    # create a graph frL2\n",
    "    # # compute egeinvector centrality and transform the output to vector\n",
    "    ec = nx.eigenvector_centrality_numpy(U)\n",
    "    \n",
    "    eigenvector_centrality = np.array([ec[g] for g in U])\n",
    "\n",
    "\n",
    "\n",
    "    topology_eigen.append(eigenvector_centrality)  # 2\n",
    "\n",
    "    return topology_eigen\n",
    "\n",
    "def pearson_coor(input, target, epsilon=1e-7):\n",
    "    vx = input - torch.mean(input, dim=(1, 2))[:, None, None]\n",
    "    vy = target - torch.mean(target, dim=(1, 2))[:, None, None]\n",
    "    cost = torch.sum(vx * vy) / (torch.sqrt(torch.sum(vx ** 2)+epsilon) * torch.sqrt(torch.sum(vy ** 2)+epsilon)+epsilon)\n",
    "    return cost\n",
    "\n",
    "def GT_loss(target, predicted):\n",
    "\n",
    "    # l1_loss\n",
    "    l1_loss = torch.nn.L1Loss()\n",
    "    # loss_pix2pix = l1_loss(target, predicted)\n",
    "\n",
    "    # topological_loss\n",
    "    target_n = target.detach().cpu().clone().numpy()\n",
    "    predicted_n = predicted.detach().cpu().clone().numpy()\n",
    "    torch.cuda.empty_cache()\n",
    "\n",
    "    topo_loss = []\n",
    "    \n",
    "\n",
    "    for i in range(len(target_n)):\n",
    "\n",
    "        cur_target = target_n[i]\n",
    "        cur_predicted = predicted_n[i]\n",
    "\n",
    "        target_t = eigen_centrality(cur_target)\n",
    "        real_topology = torch.tensor(target_t[0])\n",
    "        predicted_t = eigen_centrality(cur_predicted)\n",
    "        fake_topology = torch.tensor(predicted_t[0])\n",
    "        topo_loss.append(l1_loss(real_topology, fake_topology))\n",
    "\n",
    "    topo_loss = torch.sum(torch.stack(topo_loss))\n",
    "\n",
    "    pc_loss = pearson_coor(target, predicted).to(DEVICE)\n",
    "    torch.cuda.empty_cache()\n",
    "\n",
    "    # G_loss = loss_pix2pix + (1 - pc_loss) + topo_loss\n",
    "    G_loss = (1 - pc_loss) + topo_loss\n",
    "\n",
    "\n",
    "    return G_loss"
   ]
  },
  {
   "cell_type": "code",
   "execution_count": 10,
   "metadata": {},
   "outputs": [],
   "source": [
    "def loss_calc(adj_ls, opp_adj_ls, alpha=0.75, weights=None):\n",
    "    total_loss = torch.Tensor([0]).to(DEVICE)\n",
    "    mse_loss_fn = nn.MSELoss()\n",
    "\n",
    "    # calculate the loss for the upper traingle of the matrix because thats what we care about\n",
    "    final_dim = adj_ls[-1].shape[-1]\n",
    "    upper_tri_idx = torch.triu_indices(final_dim, final_dim, offset=1)\n",
    "    final_upper_tri_adj = adj_ls[-1][:,upper_tri_idx.unbind()[0], upper_tri_idx.unbind()[1]]\n",
    "    final_upper_tri_other_adj = opp_adj_ls[0][:,upper_tri_idx.unbind()[0], upper_tri_idx.unbind()[1]]\n",
    "    final_mse_loss = mse_loss_fn(final_upper_tri_adj, final_upper_tri_other_adj)\n",
    "\n",
    "    if weights is None:\n",
    "        n = len(adj_ls[1:-1])\n",
    "        weights = torch.Tensor([2*(i+1)/(n*(n+1)) for i in range(n)])\n",
    "    \n",
    "    # calculate the loss for the remaining intermediate adjacent matrices\n",
    "    intermediate_mse_loss = torch.Tensor([0]).to(DEVICE)\n",
    "    for i, (adj, opp_adj) in enumerate(zip(adj_ls[:-1], opp_adj_ls[1:][::-1])):\n",
    "        intermediate_mse_loss = intermediate_mse_loss + weights[i] * mse_loss_fn(adj, opp_adj)\n",
    "\n",
    "    total_loss = total_loss + alpha * final_mse_loss + (1-alpha) * intermediate_mse_loss\n",
    "    # total_loss = total_loss + alpha * final_mse_loss * (1 + intermediate_mse_loss) * (gamma ** 2)\n",
    "    # total_loss = total_loss + (1-alpha) * intermediate_mse_loss * (beta ** 2)\n",
    "        \n",
    "\n",
    "    # gt_loss = torch.Tensor([0]).to(DEVICE)\n",
    "    # for i, (adj, opp_adj) in enumerate(zip(adj_ls, opp_adj_ls[::-1])):\n",
    "\n",
    "    #     ### NOTE TEMPORARY MEASURE BECAUSE THEY TAKE IN (BATCHSIZE, xx, xx) shape ####\n",
    "    #     temp_adj = adj.reshape(1, *adj.shape)\n",
    "    #     temp_opp_adj = opp_adj.reshape(1, *opp_adj.shape)\n",
    "    #     ##########################################################\n",
    "    #     gt_loss = gt_loss + GT_loss(temp_adj, temp_opp_adj)\n",
    "\n",
    "    # gt_loss = gt_loss / n\n",
    "        \n",
    "    return total_loss\n",
    "\n",
    "def up_loss_fn(up_adj_ls, down_adj_ls, alpha, epoch_weight):\n",
    "    total_loss = torch.Tensor([0]).to(DEVICE)\n",
    "    mse_loss_fn = nn.MSELoss()\n",
    "\n",
    "    # calculate the loss for the upper traingle of the matrix because thats what we care about\n",
    "    final_dim = up_adj_ls[-1].shape[-1]\n",
    "    upper_tri_idx = torch.triu_indices(final_dim, final_dim, offset=1)\n",
    "    final_upper_tri_adj = up_adj_ls[-1][:,upper_tri_idx.unbind()[0], upper_tri_idx.unbind()[1]]\n",
    "    final_upper_tri_other_adj = down_adj_ls[0][:,upper_tri_idx.unbind()[0], upper_tri_idx.unbind()[1]]\n",
    "    final_mse_loss = mse_loss_fn(final_upper_tri_adj, final_upper_tri_other_adj)\n",
    "\n",
    "    n = len(up_adj_ls[:-1])\n",
    "    weights = torch.Tensor([2*(i+1)/(n*(n+1)) for i in range(n)])\n",
    "    \n",
    "    # calculate the loss for the remaining intermediate adjacent matrices\n",
    "    intermediate_mse_loss = torch.Tensor([0]).to(DEVICE)\n",
    "    for i, (up_adj, down_adj) in enumerate(zip(up_adj_ls[:-1], down_adj_ls[1:][::-1])):\n",
    "        intermediate_mse_loss = intermediate_mse_loss + weights[i] * mse_loss_fn(up_adj, down_adj)\n",
    "\n",
    "\n",
    "    total_loss = total_loss + alpha * final_mse_loss + (1-alpha) * intermediate_mse_loss * epoch_weight\n",
    "    return total_loss\n",
    "\n",
    "def down_loss_fn(down_adj_ls, up_adj_ls):\n",
    "    total_loss = torch.Tensor([0]).to(DEVICE)\n",
    "    mse_loss_fn = nn.MSELoss()\n",
    "\n",
    "    n = len(down_adj_ls[:])\n",
    "    weights = torch.Tensor([1/n for i in range(n)])\n",
    "    \n",
    "    # calculate the loss for the remaining intermediate adjacent matrices\n",
    "    for i, (down_adj, up_adj) in enumerate(zip(down_adj_ls[:], up_adj_ls[::-1])):\n",
    "        total_loss = total_loss + weights[i] * mse_loss_fn(down_adj, up_adj)\n",
    "\n",
    "    return total_loss\n",
    "    \n",
    "def reconstruction_loss_fn(gt_adj, pred_adj):\n",
    "    l1_loss_fn = nn.L1Loss()\n",
    "    return l1_loss_fn(gt_adj, pred_adj)\n",
    "\n",
    "def end_adj_loss_calc(adj, opp_adj):\n",
    "    mae_loss_fn = torch.nn.L1Loss()\n",
    "    n = len(adj)\n",
    "    upper_tri_idx = torch.triu_indices(n, n, offset=1)\n",
    "    upper_tri_adj = adj.detach()[upper_tri_idx.unbind()]\n",
    "    upper_tri_opp_adj = opp_adj.detach()[upper_tri_idx.unbind()]\n",
    "    mae_loss = mae_loss_fn(upper_tri_adj, upper_tri_opp_adj)\n",
    "    # temp_adj = adj.reshape(1, *adj.shape)\n",
    "    # temp_opp_adj = opp_adj.reshape(1, *opp_adj.shape)\n",
    "    # gt_loss = GT_loss(temp_adj, temp_opp_adj)\n",
    "    return mae_loss.detach().item()"
   ]
  },
  {
   "cell_type": "markdown",
   "metadata": {},
   "source": [
    "# Training"
   ]
  },
  {
   "cell_type": "code",
   "execution_count": 11,
   "metadata": {},
   "outputs": [
    {
     "data": {
      "text/plain": [
       "6673868"
      ]
     },
     "execution_count": 11,
     "metadata": {},
     "output_type": "execute_result"
    }
   ],
   "source": [
    "trainloader = DataLoader(list(zip(lr_X_dim1, lr_X_dim3, lr_train, hr_X_dim1, hr_X_dim3, hr_train)), shuffle=True, batch_size=16)\n",
    "testloader = DataLoader(list(zip(lr_X_dim1_test, lr_X_dim3, lr_test)), shuffle=True, batch_size=32)\n",
    "\n",
    "dim_steps = generate_steps(num_steps=12)\n",
    "channels_ls = [32, 64]\n",
    "\n",
    "up_changer = AdjacencyDimChanger(dim_steps, channels_ls).to(DEVICE)\n",
    "down_changer = AdjacencyDimChanger(dim_steps[::-1], channels_ls).to(DEVICE)\n",
    "\n",
    "up_optimizer = torch.optim.AdamW(up_changer.parameters(), lr=0.0025, betas=(0.5, 0.999))\n",
    "down_optimizer = torch.optim.AdamW(down_changer.parameters(), lr=0.0025, betas=(0.5, 0.999))\n",
    "reconstruction_optimizer = torch.optim.AdamW(list(up_changer.parameters()) + list(down_changer.parameters()), lr=0.0025, betas=(0.5, 0.999))\n",
    "\n",
    "sum(p.numel() for model in [up_changer, down_changer] for p in model.parameters())\n"
   ]
  },
  {
   "cell_type": "code",
   "execution_count": 12,
   "metadata": {},
   "outputs": [],
   "source": [
    "def train(epochs, up_changer, down_changer, trainloader, up_optimizer, down_optimizer, completed_epochs=0, loss_log=None):\n",
    "\n",
    "    if loss_log is None:\n",
    "        loss_log = {'up': [], 'down': [], 'up_end_mae':[], 'down_end_mae':[]}\n",
    "\n",
    "    up_changer.train()\n",
    "    down_changer.train()   \n",
    "\n",
    "    epoch_weight = 1\n",
    "    for epoch in range(epochs):\n",
    "\n",
    "        up_losses = []\n",
    "        up_final_mae_ls = []\n",
    "        down_final_mae_ls = []\n",
    "        down_losses = []\n",
    "        reconstruction_losses = []\n",
    "            \n",
    "        if (epoch + 1) % 10 == 0:\n",
    "            epoch_weight = 1 / (2 ** (0.8 * (epoch + completed_epochs + 1)))\n",
    "\n",
    "\n",
    "        for X_lr, Y_lr, adj_lr, X_hr, Y_hr, adj_hr in tqdm(trainloader):\n",
    "\n",
    "            freeze_model(up_changer)\n",
    "            unfreeze_model(down_changer)\n",
    "        \n",
    "            down_optimizer.zero_grad()\n",
    "\n",
    "            \n",
    "            up_adj_ls = up_changer(X_lr.to(DEVICE), Y_lr.to(DEVICE), adj_lr.to(DEVICE))\n",
    "            torch.cuda.empty_cache()\n",
    "            down_adj_ls = down_changer(X_hr.to(DEVICE), Y_hr.to(DEVICE), adj_hr.to(DEVICE))\n",
    "            torch.cuda.empty_cache()\n",
    "\n",
    "            down_loss = down_loss_fn(down_adj_ls[1:], up_adj_ls[:-1]))\n",
    "        \n",
    "            # for printing loss only\n",
    "            down_final_mae_ls.append(end_adj_loss_calc(down_adj_ls[-1].detach(), up_adj_ls[0].detach()))\n",
    "            torch.cuda.empty_cache()\n",
    "            \n",
    "            # del down_end_adj_gt_loss\n",
    "            down_loss.backward()\n",
    "            down_optimizer.step()\n",
    "\n",
    "            down_losses.append(down_loss.detach().item())\n",
    "            del down_loss\n",
    "            torch.cuda.empty_cache()\n",
    "\n",
    "            unfreeze_model(up_changer)\n",
    "            freeze_model(down_changer)\n",
    "        \n",
    "            up_optimizer.zero_grad()\n",
    "\n",
    "            up_adj_ls = up_changer(X_lr.to(DEVICE), Y_lr.to(DEVICE), adj_lr.to(DEVICE))\n",
    "            torch.cuda.empty_cache()\n",
    "            down_adj_ls = down_changer(X_hr.to(DEVICE), Y_hr.to(DEVICE), adj_hr.to(DEVICE))\n",
    "            torch.cuda.empty_cache()\n",
    "        \n",
    "            up_loss = up_loss_fn(up_adj_ls[1:], down_adj_ls[:-1], alpha=0.75, epoch_weight=epoch_weight)\n",
    "            \n",
    "            # for printing loss only\n",
    "            up_final_mae_ls.append(end_adj_loss_calc(up_adj_ls[-1].detach(), down_adj_ls[0].detach()))\n",
    "            torch.cuda.empty_cache()\n",
    "\n",
    "            \n",
    "            up_loss.backward()\n",
    "            up_optimizer.step()\n",
    "\n",
    "            up_losses.append(up_loss.detach().item())\n",
    "            del up_loss\n",
    "            torch.cuda.empty_cache()\n",
    "\n",
    "            unfreeze_model(up_changer)\n",
    "            unfreeze_model(down_changer)\n",
    "\n",
    "            reconstruction_optimizer.zero_grad()\n",
    "\n",
    "            down_adj_end = down_changer(X_hr.to(DEVICE), Y_hr.to(DEVICE), adj_hr.to(DEVICE))[-1]\n",
    "            torch.cuda.empty_cache()\n",
    "\n",
    "            up_adj_end = up_changer(X_lr.to(DEVICE), Y_lr.to(DEVICE), down_adj_ls[-1])[-1]\n",
    "            torch.cuda.empty_cache()\n",
    "\n",
    "            reconstruction_loss = reconstruction_loss_fn(up_adj_end, adj_hr.to(DEVICE))\n",
    "            reconstruction_loss.backward()\n",
    "            reconstruction_optimizer.step()\n",
    "            torch.cuda.empty_cache()\n",
    "\n",
    "        \n",
    "            reconstruction_losses.append(reconstruction_loss.detach().item())\n",
    "            del reconstruction_loss\n",
    "            torch.cuda.empty_cache()\n",
    "\n",
    "        \n",
    "        epoch_up_loss = np.mean(up_losses)\n",
    "        epoch_down_loss = np.mean(down_losses)\n",
    "        epoch_reconstruction_loss = np.mean(reconstruction_losses)\n",
    "        epoch_up_final_mae = np.mean(up_final_mae_ls)\n",
    "        epoch_down_final_mae = np.mean(down_final_mae_ls)\n",
    "        \n",
    "        loss_log['up'].append(epoch_up_loss)\n",
    "        loss_log['down'].append(epoch_down_loss)\n",
    "        loss_log['up_end_mae'].append(epoch_up_final_mae)\n",
    "        loss_log['down_end_mae'].append(epoch_down_final_mae)\n",
    "\n",
    "        print(f'ep {epoch}: down loss = {epoch_down_loss}, up loss = {epoch_up_loss}, reconst.loss = {epoch_reconstruction_loss}, down adj mae = {epoch_down_final_mae}, up adj mae = {epoch_up_final_mae}')\n",
    "\n",
    "\n",
    "    return up_changer, down_changer, loss_log\n"
   ]
  },
  {
   "cell_type": "code",
   "execution_count": 25,
   "metadata": {},
   "outputs": [
    {
     "name": "stderr",
     "output_type": "stream",
     "text": [
      "100%|██████████| 11/11 [00:15<00:00,  1.41s/it]\n"
     ]
    },
    {
     "name": "stdout",
     "output_type": "stream",
     "text": [
      "ep 0: down loss = 0.016745973547751255, up loss = 0.022313648665493183, reconst.loss = 0.1272947293790904, down adj mae = 0.13315637545152145, up adj mae = 0.12955082749778574\n"
     ]
    },
    {
     "name": "stderr",
     "output_type": "stream",
     "text": [
      "100%|██████████| 11/11 [00:14<00:00,  1.30s/it]\n"
     ]
    },
    {
     "name": "stdout",
     "output_type": "stream",
     "text": [
      "ep 1: down loss = 0.015454924750057135, up loss = 0.021945924921469254, reconst.loss = 0.12671160697937012, down adj mae = 0.13248454237526114, up adj mae = 0.1290782629088922\n"
     ]
    },
    {
     "name": "stderr",
     "output_type": "stream",
     "text": [
      "100%|██████████| 11/11 [00:13<00:00,  1.27s/it]\n"
     ]
    },
    {
     "name": "stdout",
     "output_type": "stream",
     "text": [
      "ep 2: down loss = 0.014258466491645033, up loss = 0.021940735253420742, reconst.loss = 0.12699199874292721, down adj mae = 0.13188081708821384, up adj mae = 0.12776785885745828\n"
     ]
    },
    {
     "name": "stderr",
     "output_type": "stream",
     "text": [
      "100%|██████████| 11/11 [00:14<00:00,  1.28s/it]\n"
     ]
    },
    {
     "name": "stdout",
     "output_type": "stream",
     "text": [
      "ep 3: down loss = 0.013428987681188366, up loss = 0.021710764278065075, reconst.loss = 0.12715644592588599, down adj mae = 0.13413367081772198, up adj mae = 0.12943802299824628\n"
     ]
    },
    {
     "name": "stderr",
     "output_type": "stream",
     "text": [
      "100%|██████████| 11/11 [00:13<00:00,  1.23s/it]\n"
     ]
    },
    {
     "name": "stdout",
     "output_type": "stream",
     "text": [
      "ep 4: down loss = 0.012913237495178526, up loss = 0.021615362641486256, reconst.loss = 0.12709615515037018, down adj mae = 0.1343903880227696, up adj mae = 0.12982847067442807\n"
     ]
    },
    {
     "name": "stderr",
     "output_type": "stream",
     "text": [
      "100%|██████████| 11/11 [00:13<00:00,  1.20s/it]\n"
     ]
    },
    {
     "name": "stdout",
     "output_type": "stream",
     "text": [
      "ep 5: down loss = 0.01220211386680603, up loss = 0.021908445791764694, reconst.loss = 0.1275694194165143, down adj mae = 0.13357923247597434, up adj mae = 0.12910005111585965\n"
     ]
    },
    {
     "name": "stderr",
     "output_type": "stream",
     "text": [
      "100%|██████████| 11/11 [00:13<00:00,  1.20s/it]\n"
     ]
    },
    {
     "name": "stdout",
     "output_type": "stream",
     "text": [
      "ep 6: down loss = 0.011831813576546583, up loss = 0.02160496637225151, reconst.loss = 0.12734937125986273, down adj mae = 0.13655366477641193, up adj mae = 0.13140782442959872\n"
     ]
    },
    {
     "name": "stderr",
     "output_type": "stream",
     "text": [
      "100%|██████████| 11/11 [00:13<00:00,  1.20s/it]\n"
     ]
    },
    {
     "name": "stdout",
     "output_type": "stream",
     "text": [
      "ep 7: down loss = 0.01141947169195522, up loss = 0.021278966556895863, reconst.loss = 0.1267805343324488, down adj mae = 0.13421676511114294, up adj mae = 0.1311809610236775\n"
     ]
    },
    {
     "name": "stderr",
     "output_type": "stream",
     "text": [
      "100%|██████████| 11/11 [00:13<00:00,  1.24s/it]\n"
     ]
    },
    {
     "name": "stdout",
     "output_type": "stream",
     "text": [
      "ep 8: down loss = 0.011057408865202557, up loss = 0.021205700425939125, reconst.loss = 0.1265689046545462, down adj mae = 0.13525786183097147, up adj mae = 0.1304292001507499\n"
     ]
    },
    {
     "name": "stderr",
     "output_type": "stream",
     "text": [
      "100%|██████████| 11/11 [00:13<00:00,  1.19s/it]\n"
     ]
    },
    {
     "name": "stdout",
     "output_type": "stream",
     "text": [
      "ep 9: down loss = 0.010764882222495296, up loss = 0.02024022320454771, reconst.loss = 0.12684749540957538, down adj mae = 0.13346164199438962, up adj mae = 0.1300257993015376\n"
     ]
    },
    {
     "name": "stderr",
     "output_type": "stream",
     "text": [
      "100%|██████████| 11/11 [00:13<00:00,  1.20s/it]\n"
     ]
    },
    {
     "name": "stdout",
     "output_type": "stream",
     "text": [
      "ep 10: down loss = 0.011062889613888481, up loss = 0.020278097892349415, reconst.loss = 0.12690867957743732, down adj mae = 0.13163811374794354, up adj mae = 0.1286593885584311\n"
     ]
    },
    {
     "name": "stderr",
     "output_type": "stream",
     "text": [
      "100%|██████████| 11/11 [00:13<00:00,  1.20s/it]\n"
     ]
    },
    {
     "name": "stdout",
     "output_type": "stream",
     "text": [
      "ep 11: down loss = 0.011209325018254194, up loss = 0.01997702399438078, reconst.loss = 0.12574767050417987, down adj mae = 0.13295079564506357, up adj mae = 0.12726802582090552\n"
     ]
    },
    {
     "name": "stderr",
     "output_type": "stream",
     "text": [
      "100%|██████████| 11/11 [00:13<00:00,  1.22s/it]\n"
     ]
    },
    {
     "name": "stdout",
     "output_type": "stream",
     "text": [
      "ep 12: down loss = 0.011151302775198763, up loss = 0.019923509352586487, reconst.loss = 0.12572836537252774, down adj mae = 0.132198303937912, up adj mae = 0.12797809256748718\n"
     ]
    },
    {
     "name": "stderr",
     "output_type": "stream",
     "text": [
      "100%|██████████| 11/11 [00:13<00:00,  1.21s/it]\n"
     ]
    },
    {
     "name": "stdout",
     "output_type": "stream",
     "text": [
      "ep 13: down loss = 0.011595388789745894, up loss = 0.019955694844776935, reconst.loss = 0.1261437338861552, down adj mae = 0.13294777545061978, up adj mae = 0.12899729406291788\n"
     ]
    },
    {
     "name": "stderr",
     "output_type": "stream",
     "text": [
      "100%|██████████| 11/11 [00:13<00:00,  1.20s/it]\n"
     ]
    },
    {
     "name": "stdout",
     "output_type": "stream",
     "text": [
      "ep 14: down loss = 0.011387531222267584, up loss = 0.01983889988200231, reconst.loss = 0.12566114352508026, down adj mae = 0.13302210650660776, up adj mae = 0.1283100186423822\n"
     ]
    },
    {
     "name": "stderr",
     "output_type": "stream",
     "text": [
      "100%|██████████| 11/11 [00:13<00:00,  1.24s/it]\n"
     ]
    },
    {
     "name": "stdout",
     "output_type": "stream",
     "text": [
      "ep 15: down loss = 0.011590176600624214, up loss = 0.02009935880249197, reconst.loss = 0.12605739384889603, down adj mae = 0.12984018908305603, up adj mae = 0.12636220116506924\n"
     ]
    },
    {
     "name": "stderr",
     "output_type": "stream",
     "text": [
      "100%|██████████| 11/11 [00:13<00:00,  1.22s/it]\n"
     ]
    },
    {
     "name": "stdout",
     "output_type": "stream",
     "text": [
      "ep 16: down loss = 0.011768389323895628, up loss = 0.019954740662466396, reconst.loss = 0.12588554688475348, down adj mae = 0.13146332719109274, up adj mae = 0.12648562341928482\n"
     ]
    },
    {
     "name": "stderr",
     "output_type": "stream",
     "text": [
      "100%|██████████| 11/11 [00:13<00:00,  1.20s/it]\n"
     ]
    },
    {
     "name": "stdout",
     "output_type": "stream",
     "text": [
      "ep 17: down loss = 0.011815758083354343, up loss = 0.02010924250564792, reconst.loss = 0.12622637098485773, down adj mae = 0.1331104724244638, up adj mae = 0.12745979157361118\n"
     ]
    },
    {
     "name": "stderr",
     "output_type": "stream",
     "text": [
      "100%|██████████| 11/11 [00:13<00:00,  1.21s/it]\n"
     ]
    },
    {
     "name": "stdout",
     "output_type": "stream",
     "text": [
      "ep 18: down loss = 0.011928749186071482, up loss = 0.01975005661899393, reconst.loss = 0.12517423792318863, down adj mae = 0.1336152987046675, up adj mae = 0.1290188032117757\n"
     ]
    },
    {
     "name": "stderr",
     "output_type": "stream",
     "text": [
      "100%|██████████| 11/11 [00:12<00:00,  1.15s/it]\n"
     ]
    },
    {
     "name": "stdout",
     "output_type": "stream",
     "text": [
      "ep 19: down loss = 0.012011364864354784, up loss = 0.019702779467810284, reconst.loss = 0.1250329322435639, down adj mae = 0.12950851971452887, up adj mae = 0.12441335076635535\n"
     ]
    },
    {
     "name": "stderr",
     "output_type": "stream",
     "text": [
      "100%|██████████| 11/11 [00:12<00:00,  1.18s/it]\n"
     ]
    },
    {
     "name": "stdout",
     "output_type": "stream",
     "text": [
      "ep 20: down loss = 0.012066212990744547, up loss = 0.020092563703656197, reconst.loss = 0.12599249996922232, down adj mae = 0.13284594091502103, up adj mae = 0.1278791684995998\n"
     ]
    },
    {
     "name": "stderr",
     "output_type": "stream",
     "text": [
      "100%|██████████| 11/11 [00:13<00:00,  1.20s/it]\n"
     ]
    },
    {
     "name": "stdout",
     "output_type": "stream",
     "text": [
      "ep 21: down loss = 0.012176384641365572, up loss = 0.01968005384233865, reconst.loss = 0.12503522769971329, down adj mae = 0.13153868913650513, up adj mae = 0.12675267390229486\n"
     ]
    },
    {
     "name": "stderr",
     "output_type": "stream",
     "text": [
      "100%|██████████| 11/11 [00:12<00:00,  1.18s/it]\n"
     ]
    },
    {
     "name": "stdout",
     "output_type": "stream",
     "text": [
      "ep 22: down loss = 0.012399214827878908, up loss = 0.020025967027653347, reconst.loss = 0.1259491193023595, down adj mae = 0.13083709979599173, up adj mae = 0.12706643275239252\n"
     ]
    },
    {
     "name": "stderr",
     "output_type": "stream",
     "text": [
      "100%|██████████| 11/11 [00:13<00:00,  1.19s/it]\n"
     ]
    },
    {
     "name": "stdout",
     "output_type": "stream",
     "text": [
      "ep 23: down loss = 0.012329841117289934, up loss = 0.019564369524067097, reconst.loss = 0.12434373931451277, down adj mae = 0.130582448433746, up adj mae = 0.12651236964897675\n"
     ]
    },
    {
     "name": "stderr",
     "output_type": "stream",
     "text": [
      "100%|██████████| 11/11 [00:12<00:00,  1.18s/it]\n"
     ]
    },
    {
     "name": "stdout",
     "output_type": "stream",
     "text": [
      "ep 24: down loss = 0.012499014508317818, up loss = 0.019941238009116867, reconst.loss = 0.1255392229015177, down adj mae = 0.1328724812377583, up adj mae = 0.12837540967897934\n"
     ]
    },
    {
     "name": "stderr",
     "output_type": "stream",
     "text": [
      "100%|██████████| 11/11 [00:12<00:00,  1.13s/it]\n"
     ]
    },
    {
     "name": "stdout",
     "output_type": "stream",
     "text": [
      "ep 25: down loss = 0.012735560959713026, up loss = 0.019921047274361958, reconst.loss = 0.1255511478944258, down adj mae = 0.13251092013987628, up adj mae = 0.12795661593025381\n"
     ]
    },
    {
     "name": "stderr",
     "output_type": "stream",
     "text": [
      "100%|██████████| 11/11 [00:12<00:00,  1.17s/it]\n"
     ]
    },
    {
     "name": "stdout",
     "output_type": "stream",
     "text": [
      "ep 26: down loss = 0.01282470529391007, up loss = 0.019793907688422638, reconst.loss = 0.12528799745169553, down adj mae = 0.1339815543456511, up adj mae = 0.12745250355113635\n"
     ]
    },
    {
     "name": "stderr",
     "output_type": "stream",
     "text": [
      "100%|██████████| 11/11 [00:12<00:00,  1.17s/it]\n"
     ]
    },
    {
     "name": "stdout",
     "output_type": "stream",
     "text": [
      "ep 27: down loss = 0.012749350714412603, up loss = 0.019433679905804722, reconst.loss = 0.12400491806593808, down adj mae = 0.13258036564696918, up adj mae = 0.1285447891462933\n"
     ]
    },
    {
     "name": "stderr",
     "output_type": "stream",
     "text": [
      "100%|██████████| 11/11 [00:13<00:00,  1.22s/it]\n"
     ]
    },
    {
     "name": "stdout",
     "output_type": "stream",
     "text": [
      "ep 28: down loss = 0.012738830833272501, up loss = 0.019574574448845604, reconst.loss = 0.1243767806074836, down adj mae = 0.13262598013336008, up adj mae = 0.1261124604127624\n"
     ]
    },
    {
     "name": "stderr",
     "output_type": "stream",
     "text": [
      "100%|██████████| 11/11 [00:12<00:00,  1.17s/it]\n"
     ]
    },
    {
     "name": "stdout",
     "output_type": "stream",
     "text": [
      "ep 29: down loss = 0.012829578650945967, up loss = 0.01975746097212488, reconst.loss = 0.12470091472972523, down adj mae = 0.13148564235730606, up adj mae = 0.1263882185925137\n"
     ]
    },
    {
     "name": "stderr",
     "output_type": "stream",
     "text": [
      "100%|██████████| 11/11 [00:13<00:00,  1.18s/it]\n"
     ]
    },
    {
     "name": "stdout",
     "output_type": "stream",
     "text": [
      "ep 30: down loss = 0.013172863389958035, up loss = 0.019661739468574524, reconst.loss = 0.12471217052503066, down adj mae = 0.1329833905805241, up adj mae = 0.1268539706414396\n"
     ]
    },
    {
     "name": "stderr",
     "output_type": "stream",
     "text": [
      "100%|██████████| 11/11 [00:13<00:00,  1.18s/it]\n"
     ]
    },
    {
     "name": "stdout",
     "output_type": "stream",
     "text": [
      "ep 31: down loss = 0.013237839226018299, up loss = 0.01955759474499659, reconst.loss = 0.12415127185257999, down adj mae = 0.13140815428712152, up adj mae = 0.12556912953203375\n"
     ]
    },
    {
     "name": "stderr",
     "output_type": "stream",
     "text": [
      "100%|██████████| 11/11 [00:12<00:00,  1.17s/it]\n"
     ]
    },
    {
     "name": "stdout",
     "output_type": "stream",
     "text": [
      "ep 32: down loss = 0.013381988064131954, up loss = 0.019507324492389507, reconst.loss = 0.12405212020332163, down adj mae = 0.12939178130843423, up adj mae = 0.12412276864051819\n"
     ]
    },
    {
     "name": "stderr",
     "output_type": "stream",
     "text": [
      "100%|██████████| 11/11 [00:13<00:00,  1.19s/it]\n"
     ]
    },
    {
     "name": "stdout",
     "output_type": "stream",
     "text": [
      "ep 33: down loss = 0.013204109939661894, up loss = 0.019560191103003242, reconst.loss = 0.12409460138190877, down adj mae = 0.13254159756682135, up adj mae = 0.12768576903776688\n"
     ]
    },
    {
     "name": "stderr",
     "output_type": "stream",
     "text": [
      "100%|██████████| 11/11 [00:12<00:00,  1.17s/it]\n"
     ]
    },
    {
     "name": "stdout",
     "output_type": "stream",
     "text": [
      "ep 34: down loss = 0.013431372120976448, up loss = 0.019699411805380474, reconst.loss = 0.1243702694773674, down adj mae = 0.13177504729140888, up adj mae = 0.12650685080073096\n"
     ]
    },
    {
     "name": "stderr",
     "output_type": "stream",
     "text": [
      "100%|██████████| 11/11 [00:12<00:00,  1.13s/it]\n"
     ]
    },
    {
     "name": "stdout",
     "output_type": "stream",
     "text": [
      "ep 35: down loss = 0.013314606875858524, up loss = 0.019704901020635258, reconst.loss = 0.12476315213875337, down adj mae = 0.13178388435732236, up adj mae = 0.1261214790019122\n"
     ]
    },
    {
     "name": "stderr",
     "output_type": "stream",
     "text": [
      "100%|██████████| 11/11 [00:13<00:00,  1.18s/it]\n"
     ]
    },
    {
     "name": "stdout",
     "output_type": "stream",
     "text": [
      "ep 36: down loss = 0.013383283279836178, up loss = 0.019295105879957027, reconst.loss = 0.12335256758061322, down adj mae = 0.13378922844474966, up adj mae = 0.12717050110751932\n"
     ]
    },
    {
     "name": "stderr",
     "output_type": "stream",
     "text": [
      "100%|██████████| 11/11 [00:12<00:00,  1.13s/it]\n"
     ]
    },
    {
     "name": "stdout",
     "output_type": "stream",
     "text": [
      "ep 37: down loss = 0.01357183867896145, up loss = 0.019284727729179642, reconst.loss = 0.1231807612560012, down adj mae = 0.12939544360746036, up adj mae = 0.1249360977248712\n"
     ]
    },
    {
     "name": "stderr",
     "output_type": "stream",
     "text": [
      "100%|██████████| 11/11 [00:12<00:00,  1.15s/it]\n"
     ]
    },
    {
     "name": "stdout",
     "output_type": "stream",
     "text": [
      "ep 38: down loss = 0.013622922399504618, up loss = 0.019569178704511036, reconst.loss = 0.12380019643089989, down adj mae = 0.1317781223492189, up adj mae = 0.1259285814382813\n"
     ]
    },
    {
     "name": "stderr",
     "output_type": "stream",
     "text": [
      "100%|██████████| 11/11 [00:12<00:00,  1.14s/it]\n"
     ]
    },
    {
     "name": "stdout",
     "output_type": "stream",
     "text": [
      "ep 39: down loss = 0.013815863989293575, up loss = 0.019336901943791996, reconst.loss = 0.12336887216026132, down adj mae = 0.1322009888562289, up adj mae = 0.12483669885180214\n"
     ]
    },
    {
     "name": "stderr",
     "output_type": "stream",
     "text": [
      "100%|██████████| 11/11 [00:12<00:00,  1.18s/it]\n"
     ]
    },
    {
     "name": "stdout",
     "output_type": "stream",
     "text": [
      "ep 40: down loss = 0.013619080693884329, up loss = 0.01928877661173994, reconst.loss = 0.12304635752331126, down adj mae = 0.13237021321600134, up adj mae = 0.12462046606974168\n"
     ]
    },
    {
     "name": "stderr",
     "output_type": "stream",
     "text": [
      "100%|██████████| 11/11 [00:12<00:00,  1.15s/it]\n"
     ]
    },
    {
     "name": "stdout",
     "output_type": "stream",
     "text": [
      "ep 41: down loss = 0.013752045787193558, up loss = 0.019150057638233357, reconst.loss = 0.12284347279505296, down adj mae = 0.13370090248909863, up adj mae = 0.12719256634061987\n"
     ]
    },
    {
     "name": "stderr",
     "output_type": "stream",
     "text": [
      "100%|██████████| 11/11 [00:12<00:00,  1.17s/it]\n"
     ]
    },
    {
     "name": "stdout",
     "output_type": "stream",
     "text": [
      "ep 42: down loss = 0.013920223679054867, up loss = 0.019326191564852543, reconst.loss = 0.12319865755059502, down adj mae = 0.13276734203100204, up adj mae = 0.1258131367239085\n"
     ]
    },
    {
     "name": "stderr",
     "output_type": "stream",
     "text": [
      "100%|██████████| 11/11 [00:12<00:00,  1.16s/it]\n"
     ]
    },
    {
     "name": "stdout",
     "output_type": "stream",
     "text": [
      "ep 43: down loss = 0.014120003208518028, up loss = 0.01944139769131487, reconst.loss = 0.12366104871034622, down adj mae = 0.13250203295187515, up adj mae = 0.12621379779143768\n"
     ]
    },
    {
     "name": "stderr",
     "output_type": "stream",
     "text": [
      "100%|██████████| 11/11 [00:13<00:00,  1.20s/it]\n"
     ]
    },
    {
     "name": "stdout",
     "output_type": "stream",
     "text": [
      "ep 44: down loss = 0.014116967012259092, up loss = 0.019469891082156788, reconst.loss = 0.12351622974330728, down adj mae = 0.13219962472265417, up adj mae = 0.12648573179136624\n"
     ]
    },
    {
     "name": "stderr",
     "output_type": "stream",
     "text": [
      "100%|██████████| 11/11 [00:13<00:00,  1.20s/it]\n"
     ]
    },
    {
     "name": "stdout",
     "output_type": "stream",
     "text": [
      "ep 45: down loss = 0.014254591343077746, up loss = 0.019431284036148678, reconst.loss = 0.12321535294706171, down adj mae = 0.13357304984872992, up adj mae = 0.12533239749344913\n"
     ]
    },
    {
     "name": "stderr",
     "output_type": "stream",
     "text": [
      "100%|██████████| 11/11 [00:13<00:00,  1.19s/it]\n"
     ]
    },
    {
     "name": "stdout",
     "output_type": "stream",
     "text": [
      "ep 46: down loss = 0.014124194498766552, up loss = 0.018977833234451034, reconst.loss = 0.12242379852316597, down adj mae = 0.13455051522363315, up adj mae = 0.12591515210541812\n"
     ]
    },
    {
     "name": "stderr",
     "output_type": "stream",
     "text": [
      "100%|██████████| 11/11 [00:13<00:00,  1.21s/it]\n"
     ]
    },
    {
     "name": "stdout",
     "output_type": "stream",
     "text": [
      "ep 47: down loss = 0.014243331653150644, up loss = 0.019160002978010612, reconst.loss = 0.12259076671166853, down adj mae = 0.13082716410810297, up adj mae = 0.1237851611592553\n"
     ]
    },
    {
     "name": "stderr",
     "output_type": "stream",
     "text": [
      "100%|██████████| 11/11 [00:13<00:00,  1.23s/it]\n"
     ]
    },
    {
     "name": "stdout",
     "output_type": "stream",
     "text": [
      "ep 48: down loss = 0.014415343207391825, up loss = 0.01932330344888297, reconst.loss = 0.12297140603715723, down adj mae = 0.13189664686268027, up adj mae = 0.12440555204044688\n"
     ]
    },
    {
     "name": "stderr",
     "output_type": "stream",
     "text": [
      "100%|██████████| 11/11 [00:13<00:00,  1.19s/it]"
     ]
    },
    {
     "name": "stdout",
     "output_type": "stream",
     "text": [
      "ep 49: down loss = 0.014583544128320435, up loss = 0.018981170078570194, reconst.loss = 0.12219535694880919, down adj mae = 0.13277806206183, up adj mae = 0.12624186886982483\n"
     ]
    },
    {
     "name": "stderr",
     "output_type": "stream",
     "text": [
      "\n"
     ]
    }
   ],
   "source": [
    "up_changer, down_changer, loss_log = train(50, up_changer, down_changer, trainloader, up_optimizer, down_optimizer, 200, loss_log)"
   ]
  },
  {
   "cell_type": "code",
   "execution_count": 26,
   "metadata": {},
   "outputs": [
    {
     "data": {
      "text/plain": [
       "0.1237851611592553"
      ]
     },
     "execution_count": 26,
     "metadata": {},
     "output_type": "execute_result"
    }
   ],
   "source": [
    "min(loss_log['up_end_mae'])"
   ]
  },
  {
   "cell_type": "code",
   "execution_count": 27,
   "metadata": {},
   "outputs": [
    {
     "data": {
      "image/png": "[encoded data removed]",
      "text/plain": [
       "<Figure size 640x480 with 1 Axes>"
      ]
     },
     "metadata": {},
     "output_type": "display_data"
    }
   ],
   "source": [
    "import matplotlib.pyplot as plt\n",
    "plt.plot(np.arange(len(loss_log['up_end_mae'])), loss_log['up_end_mae'])\n",
    "plt.show()"
   ]
  },
  {
   "cell_type": "code",
   "execution_count": 28,
   "metadata": {},
   "outputs": [],
   "source": [
    "torch.save(up_changer.state_dict(), 'submission_files/tim_deep3_reconstr/up_changer250.pth')"
   ]
  },
  {
   "cell_type": "code",
   "execution_count": 29,
   "metadata": {},
   "outputs": [
    {
     "name": "stderr",
     "output_type": "stream",
     "text": [
      "100%|██████████| 7/7 [00:01<00:00,  4.57it/s]\n"
     ]
    }
   ],
   "source": [
    "# to generate test predictions\n",
    "testloader = DataLoader(list(zip(lr_X_dim1_test, lr_X_dim3, lr_test)), shuffle=True, batch_size=16)\n",
    "\n",
    "up_changer.eval()\n",
    "test_predictions = []\n",
    "for X_lr, Y_lr, adj_lr in tqdm(testloader):\n",
    "    pred = up_changer(X_lr.to(DEVICE), Y_lr.to(DEVICE), adj_lr.to(DEVICE))[-1].detach()\n",
    "    test_predictions.append(pred)\n",
    "test_predictions = torch.cat(test_predictions)"
   ]
  },
  {
   "cell_type": "code",
   "execution_count": 30,
   "metadata": {},
   "outputs": [],
   "source": [
    "torch.save(test_predictions, 'submission_files/tim_deep3_reconstr/tim_deep3_reconstr_pred250.pt')"
   ]
  },
  {
   "cell_type": "code",
   "execution_count": 31,
   "metadata": {},
   "outputs": [
    {
     "data": {
      "image/png": "[encoded data removed]",
      "text/plain": [
       "<Figure size 640x480 with 1 Axes>"
      ]
     },
     "metadata": {},
     "output_type": "display_data"
    }
   ],
   "source": [
    "from data_preparation import generate_histogram\n",
    "generate_histogram(test_predictions.cpu(), hr_train)"
   ]
  },
  {
   "cell_type": "code",
   "execution_count": 33,
   "metadata": {},
   "outputs": [
    {
     "data": {
      "image/png": "[encoded data removed]",
      "text/plain": [
       "<Figure size 640x480 with 2 Axes>"
      ]
     },
     "metadata": {},
     "output_type": "display_data"
    }
   ],
   "source": [
    "from data_preparation import generate_heatmap\n",
    "generate_heatmap(test_predictions[0].cpu())"
   ]
  },
  {
   "cell_type": "code",
   "execution_count": 32,
   "metadata": {},
   "outputs": [],
   "source": [
    "from data_preparation import generate_submission_file\n",
    "\n",
    "df = generate_submission_file(test_predictions.cpu(), 'submission_files/tim_deep3_reconstr/tim_deep3_reconstr_pred250.csv')"
   ]
  },
  {
   "cell_type": "markdown",
   "metadata": {},
   "source": [
    "# Cross Validation"
   ]
  },
  {
   "cell_type": "code",
   "execution_count": 11,
   "metadata": {},
   "outputs": [],
   "source": [
    "from evaluation_fn import evaluate_predictions\n",
    "\n",
    "def validation(up_changer, testloader, val_adj_hr):\n",
    "    print('begin validation')\n",
    "    up_changer.eval()\n",
    "\n",
    "    val_predictions = []\n",
    "    for X_lr, Y_lr, adj_lr in tqdm(testloader):\n",
    "        pred = up_changer(X_lr.to(DEVICE), Y_lr.to(DEVICE), adj_lr.to(DEVICE))[-1].detach()\n",
    "        val_predictions.append(pred)\n",
    "    val_predictions = torch.cat(val_predictions)\n",
    "\n",
    "    return evaluate_predictions(val_predictions, val_adj_hr)"
   ]
  },
  {
   "cell_type": "code",
   "execution_count": 12,
   "metadata": {},
   "outputs": [],
   "source": [
    "def cross_validate(epochs, batch_size, n_fold, X_lr, Y_lr, adj_lr, X_hr, Y_hr, adj_hr, num_steps, f=32):\n",
    "    kf = KFold(n_fold, shuffle=True, random_state=99)\n",
    "    runs_results = []\n",
    "    for train_idx, val_idx in kf.split(X_lr):\n",
    "        train_X_lr, val_X_lr = X_lr[train_idx], X_lr[val_idx]\n",
    "        train_Y_lr, val_Y_lr = Y_lr[train_idx], Y_lr[val_idx]\n",
    "        train_adj_lr, val_adj_lr = adj_lr[train_idx], adj_lr[val_idx]\n",
    "        train_X_hr = X_hr[train_idx]\n",
    "        train_Y_hr = Y_hr[train_idx]\n",
    "        train_adj_hr, val_adj_hr = adj_hr[train_idx], adj_hr[val_idx]\n",
    "\n",
    "        trainloader = DataLoader(list(zip(train_X_lr, train_Y_lr, train_adj_lr, train_X_hr, train_Y_hr, train_adj_hr)), shuffle=True, batch_size=batch_size)\n",
    "\n",
    "        dim_steps = generate_steps(num_steps=10)\n",
    "\n",
    "        up_changer = AdjacencyDimChanger(dim_steps, f=f).to(DEVICE)\n",
    "        down_changer = AdjacencyDimChanger(dim_steps[::-1], f=f).to(DEVICE)\n",
    "\n",
    "        up_optimizer = torch.optim.AdamW(up_changer.parameters(), lr=0.001, betas=(0.5, 0.999))\n",
    "        down_optimizer = torch.optim.AdamW(down_changer.parameters(), lr=0.001, betas=(0.5, 0.999))    \n",
    "        \n",
    "        up_changer, down_changer, _ = train(epochs, up_changer, down_changer, trainloader, up_optimizer, down_optimizer)\n",
    "\n",
    "        testloader = DataLoader(list(zip(val_X_lr, val_Y_lr, val_adj_lr)), shuffle=True, batch_size=batch_size)\n",
    "        val_metrics = validation(up_changer, testloader, val_adj_hr)\n",
    "        runs_results.append(val_metrics)\n",
    "\n",
    "    return runs_results"
   ]
  },
  {
   "cell_type": "code",
   "execution_count": 15,
   "metadata": {},
   "outputs": [
    {
     "name": "stderr",
     "output_type": "stream",
     "text": [
      "100%|██████████| 4/4 [00:05<00:00,  1.46s/it]\n"
     ]
    },
    {
     "name": "stdout",
     "output_type": "stream",
     "text": [
      "epoch 0: down loss = 0.16564956307411194, up loss = 0.17200086265802383\n",
      "Down end adj mae 0.28989551216363907\n",
      "Up end adj mae 0.30541523545980453\n"
     ]
    },
    {
     "name": "stderr",
     "output_type": "stream",
     "text": [
      "100%|██████████| 4/4 [00:04<00:00,  1.23s/it]\n"
     ]
    },
    {
     "name": "stdout",
     "output_type": "stream",
     "text": [
      "epoch 1: down loss = 0.1615280844271183, up loss = 0.16848218068480492\n",
      "Down end adj mae 0.2799903079867363\n",
      "Up end adj mae 0.29920385777950287\n"
     ]
    },
    {
     "name": "stderr",
     "output_type": "stream",
     "text": [
      "100%|██████████| 4/4 [00:04<00:00,  1.22s/it]\n"
     ]
    },
    {
     "name": "stdout",
     "output_type": "stream",
     "text": [
      "epoch 2: down loss = 0.1559770405292511, up loss = 0.16499020531773567\n",
      "Down end adj mae 0.27102500945329666\n",
      "Up end adj mae 0.29710303246974945\n"
     ]
    },
    {
     "name": "stderr",
     "output_type": "stream",
     "text": [
      "100%|██████████| 4/4 [00:04<00:00,  1.21s/it]\n"
     ]
    },
    {
     "name": "stdout",
     "output_type": "stream",
     "text": [
      "epoch 3: down loss = 0.15054432675242424, up loss = 0.16159073635935783\n",
      "Down end adj mae 0.2658237814903259\n",
      "Up end adj mae 0.28980008512735367\n"
     ]
    },
    {
     "name": "stderr",
     "output_type": "stream",
     "text": [
      "100%|██████████| 4/4 [00:04<00:00,  1.21s/it]\n"
     ]
    },
    {
     "name": "stdout",
     "output_type": "stream",
     "text": [
      "epoch 4: down loss = 0.14580555632710457, up loss = 0.15819920599460602\n",
      "Down end adj mae 0.24981610849499702\n",
      "Up end adj mae 0.2819031700491905\n",
      "begin validation\n"
     ]
    },
    {
     "name": "stderr",
     "output_type": "stream",
     "text": [
      "100%|██████████| 2/2 [00:00<00:00,  4.53it/s]\n"
     ]
    }
   ],
   "source": [
    "cross_validate(5, 32, 3, lr_X_dim1, lr_X_dim3, lr_train, hr_X_dim1, hr_X_dim3, hr_train, num_steps=10)"
   ]
  }
 ],
 "metadata": {
  "kernelspec": {
   "display_name": "venv",
   "language": "python",
   "name": "python3"
  },
  "language_info": {
   "codemirror_mode": {
    "name": "ipython",
    "version": 3
   },
   "file_extension": ".py",
   "mimetype": "text/x-python",
   "name": "python",
   "nbconvert_exporter": "python",
   "pygments_lexer": "ipython3",
   "version": "3.10.12"
  }
 },
 "nbformat": 4,
 "nbformat_minor": 2
}
